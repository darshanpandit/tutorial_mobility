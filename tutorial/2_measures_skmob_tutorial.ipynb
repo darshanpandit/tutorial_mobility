{
 "cells": [
  {
   "cell_type": "markdown",
   "metadata": {
    "slideshow": {
     "slide_type": "slide"
    }
   },
   "source": [
    "<img src=\"../logo_skmob.png\" width=250 align=\"left\"/>"
   ]
  },
  {
   "cell_type": "markdown",
   "metadata": {
    "slideshow": {
     "slide_type": "slide"
    }
   },
   "source": [
    "# Human Mobility Measures\n",
    "\n",
    "we can compute on a `TrajDataFrame` two types of measures:\n",
    "\n",
    "- **individual measures**, describing features related to the mobility patterns of a single individual\n",
    "- **collective measures**, describing the mobility patterns of an entire population of individuals"
   ]
  },
  {
   "cell_type": "code",
   "execution_count": 1,
   "metadata": {
    "slideshow": {
     "slide_type": "slide"
    }
   },
   "outputs": [],
   "source": [
    "# let's import some useful libraries\n",
    "%matplotlib inline\n",
    "import matplotlib.pyplot as plt\n",
    "from scipy.stats import gaussian_kde\n",
    "import pandas as pd\n",
    "from stats_utils import *\n",
    "from tqdm import tqdm\n",
    "import folium\n",
    "from folium.plugins import HeatMap"
   ]
  },
  {
   "cell_type": "code",
   "execution_count": 2,
   "metadata": {
    "slideshow": {
     "slide_type": "fragment"
    }
   },
   "outputs": [],
   "source": [
    "# let's import skmob's data structures\n",
    "import skmob\n",
    "from skmob import TrajDataFrame, FlowDataFrame"
   ]
  },
  {
   "cell_type": "markdown",
   "metadata": {
    "slideshow": {
     "slide_type": "slide"
    }
   },
   "source": [
    "## Loading the data\n",
    "- We load data of *checkins* made by users on **Brightkite**\n",
    "- Brightkite is a location-based social network (LBSN)\n",
    "- The dataset is freely available at the SNAP website: https://snap.stanford.edu/data/loc-brightkite.html"
   ]
  },
  {
   "cell_type": "code",
   "execution_count": 3,
   "metadata": {
    "slideshow": {
     "slide_type": "subslide"
    }
   },
   "outputs": [
    {
     "data": {
      "text/html": [
       "<div>\n",
       "<style scoped>\n",
       "    .dataframe tbody tr th:only-of-type {\n",
       "        vertical-align: middle;\n",
       "    }\n",
       "\n",
       "    .dataframe tbody tr th {\n",
       "        vertical-align: top;\n",
       "    }\n",
       "\n",
       "    .dataframe thead th {\n",
       "        text-align: right;\n",
       "    }\n",
       "</style>\n",
       "<table border=\"1\" class=\"dataframe\">\n",
       "  <thead>\n",
       "    <tr style=\"text-align: right;\">\n",
       "      <th></th>\n",
       "      <th>uid</th>\n",
       "      <th>datetime</th>\n",
       "      <th>lat</th>\n",
       "      <th>lng</th>\n",
       "      <th>location id</th>\n",
       "    </tr>\n",
       "  </thead>\n",
       "  <tbody>\n",
       "    <tr>\n",
       "      <th>0</th>\n",
       "      <td>0</td>\n",
       "      <td>2010-10-16 06:02:04+00:00</td>\n",
       "      <td>39.891383</td>\n",
       "      <td>-105.070814</td>\n",
       "      <td>7a0f88982aa015062b95e3b4843f9ca2</td>\n",
       "    </tr>\n",
       "    <tr>\n",
       "      <th>1</th>\n",
       "      <td>0</td>\n",
       "      <td>2010-10-16 03:48:54+00:00</td>\n",
       "      <td>39.891077</td>\n",
       "      <td>-105.068532</td>\n",
       "      <td>dd7cd3d264c2d063832db506fba8bf79</td>\n",
       "    </tr>\n",
       "    <tr>\n",
       "      <th>2</th>\n",
       "      <td>0</td>\n",
       "      <td>2010-10-14 18:25:51+00:00</td>\n",
       "      <td>39.750469</td>\n",
       "      <td>-104.999073</td>\n",
       "      <td>9848afcc62e500a01cf6fbf24b797732f8963683</td>\n",
       "    </tr>\n",
       "    <tr>\n",
       "      <th>3</th>\n",
       "      <td>0</td>\n",
       "      <td>2010-10-14 00:21:47+00:00</td>\n",
       "      <td>39.752713</td>\n",
       "      <td>-104.996337</td>\n",
       "      <td>2ef143e12038c870038df53e0478cefc</td>\n",
       "    </tr>\n",
       "    <tr>\n",
       "      <th>4</th>\n",
       "      <td>0</td>\n",
       "      <td>2010-10-13 23:31:51+00:00</td>\n",
       "      <td>39.752508</td>\n",
       "      <td>-104.996637</td>\n",
       "      <td>424eb3dd143292f9e013efa00486c907</td>\n",
       "    </tr>\n",
       "  </tbody>\n",
       "</table>\n",
       "</div>"
      ],
      "text/plain": [
       "   uid                  datetime        lat         lng  \\\n",
       "0    0 2010-10-16 06:02:04+00:00  39.891383 -105.070814   \n",
       "1    0 2010-10-16 03:48:54+00:00  39.891077 -105.068532   \n",
       "2    0 2010-10-14 18:25:51+00:00  39.750469 -104.999073   \n",
       "3    0 2010-10-14 00:21:47+00:00  39.752713 -104.996337   \n",
       "4    0 2010-10-13 23:31:51+00:00  39.752508 -104.996637   \n",
       "\n",
       "                                location id  \n",
       "0          7a0f88982aa015062b95e3b4843f9ca2  \n",
       "1          dd7cd3d264c2d063832db506fba8bf79  \n",
       "2  9848afcc62e500a01cf6fbf24b797732f8963683  \n",
       "3          2ef143e12038c870038df53e0478cefc  \n",
       "4          424eb3dd143292f9e013efa00486c907  "
      ]
     },
     "execution_count": 3,
     "metadata": {},
     "output_type": "execute_result"
    }
   ],
   "source": [
    "# we download the d ataset using pandas\n",
    "url = \"https://snap.stanford.edu/data/loc-brightkite_totalCheckins.txt.gz\"\n",
    "df = pd.read_csv(url, sep='\\t', header=0, nrows=500000, \n",
    "                 names=['user', 'check-in_time', \n",
    "                        \"latitude\", \"longitude\", \n",
    "                        \"location id\"])\n",
    "\n",
    "# we convert the pandas DataFrame into an skmob TrajDataFrame\n",
    "tdf = skmob.TrajDataFrame(df, latitude='latitude', \n",
    "                          longitude='longitude', \n",
    "                          datetime='check-in_time',\n",
    "                          user_id='user')\n",
    "tdf.head()"
   ]
  },
  {
   "cell_type": "code",
   "execution_count": 4,
   "metadata": {
    "slideshow": {
     "slide_type": "subslide"
    }
   },
   "outputs": [
    {
     "name": "stdout",
     "output_type": "stream",
     "text": [
      "number of users:\t 1231\n",
      "number of records:\t 500000\n"
     ]
    }
   ],
   "source": [
    "print(\"number of users:\\t\", len(tdf.uid.unique()))\n",
    "print(\"number of records:\\t\", len(tdf))"
   ]
  },
  {
   "cell_type": "markdown",
   "metadata": {
    "slideshow": {
     "slide_type": "slide"
    }
   },
   "source": [
    "# Individual measures\n",
    "\n",
    "- are computed on the trajectories of a <u>single individual</u>\n",
    "- quantify standard *mobility patterns*\n",
    "- examples: \n",
    "    - length of displacements\n",
    "    - charateristic distance\n",
    "    - visitation frequency\n",
    "    - predictability of an individual"
   ]
  },
  {
   "cell_type": "markdown",
   "metadata": {
    "slideshow": {
     "slide_type": "slide"
    }
   },
   "source": [
    "## Jump lengths\n",
    "- a jump length is is the distance between two consecutive visits of an individual\n",
    "- given a `TrajDataFrame`, skmob computes the lengths for each individual independently\n",
    "- use the `jump_lengths` function"
   ]
  },
  {
   "cell_type": "code",
   "execution_count": 5,
   "metadata": {
    "slideshow": {
     "slide_type": "slide"
    }
   },
   "outputs": [],
   "source": [
    "from skmob.measures.individual import jump_lengths"
   ]
  },
  {
   "cell_type": "code",
   "execution_count": 6,
   "metadata": {
    "scrolled": true,
    "slideshow": {
     "slide_type": "fragment"
    }
   },
   "outputs": [
    {
     "name": "stderr",
     "output_type": "stream",
     "text": [
      "100%|██████████| 1231/1231 [00:05<00:00, 215.38it/s]\n"
     ]
    },
    {
     "data": {
      "text/html": [
       "<div>\n",
       "<style scoped>\n",
       "    .dataframe tbody tr th:only-of-type {\n",
       "        vertical-align: middle;\n",
       "    }\n",
       "\n",
       "    .dataframe tbody tr th {\n",
       "        vertical-align: top;\n",
       "    }\n",
       "\n",
       "    .dataframe thead th {\n",
       "        text-align: right;\n",
       "    }\n",
       "</style>\n",
       "<table border=\"1\" class=\"dataframe\">\n",
       "  <thead>\n",
       "    <tr style=\"text-align: right;\">\n",
       "      <th></th>\n",
       "      <th>uid</th>\n",
       "      <th>jump_lengths</th>\n",
       "    </tr>\n",
       "  </thead>\n",
       "  <tbody>\n",
       "    <tr>\n",
       "      <th>0</th>\n",
       "      <td>0</td>\n",
       "      <td>[19.640467328877936, 0.0, 0.0, 1.7434311010381...</td>\n",
       "    </tr>\n",
       "    <tr>\n",
       "      <th>1</th>\n",
       "      <td>1</td>\n",
       "      <td>[6.505330424378251, 46.75436600375988, 53.9284...</td>\n",
       "    </tr>\n",
       "    <tr>\n",
       "      <th>2</th>\n",
       "      <td>2</td>\n",
       "      <td>[0.0, 0.0, 0.0, 0.0, 3.6410097195943507, 0.0, ...</td>\n",
       "    </tr>\n",
       "    <tr>\n",
       "      <th>3</th>\n",
       "      <td>3</td>\n",
       "      <td>[3861.2706300798827, 4.061631313492122, 5.9163...</td>\n",
       "    </tr>\n",
       "    <tr>\n",
       "      <th>4</th>\n",
       "      <td>4</td>\n",
       "      <td>[15511.92758595804, 0.0, 15511.92758595804, 1....</td>\n",
       "    </tr>\n",
       "  </tbody>\n",
       "</table>\n",
       "</div>"
      ],
      "text/plain": [
       "   uid                                       jump_lengths\n",
       "0    0  [19.640467328877936, 0.0, 0.0, 1.7434311010381...\n",
       "1    1  [6.505330424378251, 46.75436600375988, 53.9284...\n",
       "2    2  [0.0, 0.0, 0.0, 0.0, 3.6410097195943507, 0.0, ...\n",
       "3    3  [3861.2706300798827, 4.061631313492122, 5.9163...\n",
       "4    4  [15511.92758595804, 0.0, 15511.92758595804, 1...."
      ]
     },
     "execution_count": 6,
     "metadata": {},
     "output_type": "execute_result"
    }
   ],
   "source": [
    "# to disable the progress bar, show_progress=False\n",
    "jl_df = jump_lengths(tdf)\n",
    "jl_df.head()"
   ]
  },
  {
   "cell_type": "code",
   "execution_count": 7,
   "metadata": {
    "slideshow": {
     "slide_type": "fragment"
    }
   },
   "outputs": [
    {
     "name": "stderr",
     "output_type": "stream",
     "text": [
      "100%|██████████| 1231/1231 [00:06<00:00, 198.79it/s]\n"
     ]
    },
    {
     "data": {
      "text/plain": [
       "list"
      ]
     },
     "execution_count": 7,
     "metadata": {},
     "output_type": "execute_result"
    }
   ],
   "source": [
    "# merge=True put all distances of the individuals into a single list\n",
    "jl_list = jump_lengths(tdf, merge=True)\n",
    "type(jl_list)"
   ]
  },
  {
   "cell_type": "code",
   "execution_count": 8,
   "metadata": {
    "code_folding": [
     0
    ],
    "slideshow": {
     "slide_type": "slide"
    }
   },
   "outputs": [
    {
     "data": {
      "image/png": "[encoded data removed]",
      "text/plain": [
       "<Figure size 432x288 with 1 Axes>"
      ]
     },
     "metadata": {
      "needs_background": "light"
     },
     "output_type": "display_data"
    }
   ],
   "source": [
    "# let's plot the distribution of jump lengths\n",
    "fig = plt.figure()\n",
    "x, y = zip(*lbpdf(2.0, [dist for dist in jl_list[:10000] if dist >= 1]))\n",
    "plt.plot(x, y, marker='o')\n",
    "plt.grid(alpha=0.2) \n",
    "plt.xlabel('jump length [km]', fontsize=15)\n",
    "plt.ylabel('P(jump length)', fontsize=15)\n",
    "plt.loglog()\n",
    "plt.show()"
   ]
  },
  {
   "cell_type": "markdown",
   "metadata": {
    "slideshow": {
     "slide_type": "slide"
    }
   },
   "source": [
    "### Other types of distances\n",
    "\n",
    "- maximum distance traveled by each individual `maximum_distance`\n",
    "- sum of distances of an individual `distance_straight_line`\n",
    "- maximum distance traved by an individual for their home `max_distance_from_home`"
   ]
  },
  {
   "cell_type": "code",
   "execution_count": 9,
   "metadata": {
    "slideshow": {
     "slide_type": "slide"
    }
   },
   "outputs": [],
   "source": [
    "from skmob.measures.individual import max_distance_from_home, distance_straight_line, maximum_distance"
   ]
  },
  {
   "cell_type": "code",
   "execution_count": 10,
   "metadata": {
    "slideshow": {
     "slide_type": "fragment"
    }
   },
   "outputs": [
    {
     "name": "stderr",
     "output_type": "stream",
     "text": [
      "100%|██████████| 1231/1231 [00:05<00:00, 209.92it/s]\n"
     ]
    }
   ],
   "source": [
    "md_df = maximum_distance(tdf)"
   ]
  },
  {
   "cell_type": "code",
   "execution_count": 14,
   "metadata": {
    "slideshow": {
     "slide_type": "fragment"
    }
   },
   "outputs": [
    {
     "name": "stderr",
     "output_type": "stream",
     "text": [
      "100%|██████████| 1231/1231 [00:05<00:00, 237.40it/s]\n"
     ]
    }
   ],
   "source": [
    "sld_df = distance_straight_line(tdf)"
   ]
  },
  {
   "cell_type": "code",
   "execution_count": 11,
   "metadata": {
    "slideshow": {
     "slide_type": "fragment"
    }
   },
   "outputs": [
    {
     "name": "stderr",
     "output_type": "stream",
     "text": [
      "100%|██████████| 1231/1231 [00:30<00:00, 40.03it/s]\n"
     ]
    },
    {
     "data": {
      "text/html": [
       "<div>\n",
       "<style scoped>\n",
       "    .dataframe tbody tr th:only-of-type {\n",
       "        vertical-align: middle;\n",
       "    }\n",
       "\n",
       "    .dataframe tbody tr th {\n",
       "        vertical-align: top;\n",
       "    }\n",
       "\n",
       "    .dataframe thead th {\n",
       "        text-align: right;\n",
       "    }\n",
       "</style>\n",
       "<table border=\"1\" class=\"dataframe\">\n",
       "  <thead>\n",
       "    <tr style=\"text-align: right;\">\n",
       "      <th></th>\n",
       "      <th>uid</th>\n",
       "      <th>max_distance_from_home</th>\n",
       "    </tr>\n",
       "  </thead>\n",
       "  <tbody>\n",
       "    <tr>\n",
       "      <th>0</th>\n",
       "      <td>0</td>\n",
       "      <td>11286.942949</td>\n",
       "    </tr>\n",
       "    <tr>\n",
       "      <th>1</th>\n",
       "      <td>1</td>\n",
       "      <td>12800.547682</td>\n",
       "    </tr>\n",
       "    <tr>\n",
       "      <th>2</th>\n",
       "      <td>2</td>\n",
       "      <td>11282.748348</td>\n",
       "    </tr>\n",
       "    <tr>\n",
       "      <th>3</th>\n",
       "      <td>3</td>\n",
       "      <td>12799.754644</td>\n",
       "    </tr>\n",
       "    <tr>\n",
       "      <th>4</th>\n",
       "      <td>4</td>\n",
       "      <td>15512.788707</td>\n",
       "    </tr>\n",
       "  </tbody>\n",
       "</table>\n",
       "</div>"
      ],
      "text/plain": [
       "   uid  max_distance_from_home\n",
       "0    0            11286.942949\n",
       "1    1            12800.547682\n",
       "2    2            11282.748348\n",
       "3    3            12799.754644\n",
       "4    4            15512.788707"
      ]
     },
     "execution_count": 11,
     "metadata": {},
     "output_type": "execute_result"
    }
   ],
   "source": [
    "mdh_df = max_distance_from_home(tdf)\n",
    "mdh_df.head()"
   ]
  },
  {
   "cell_type": "code",
   "execution_count": 12,
   "metadata": {
    "slideshow": {
     "slide_type": "slide"
    }
   },
   "outputs": [
    {
     "name": "stderr",
     "output_type": "stream",
     "text": [
      "/home/lucpappalard/miniconda3/envs/skmob/lib/python3.7/site-packages/numpy-1.16.3-py3.7-linux-x86_64.egg/numpy/lib/histograms.py:824: RuntimeWarning: invalid value encountered in greater_equal\n",
      "  keep = (tmp_a >= first_edge)\n",
      "/home/lucpappalard/miniconda3/envs/skmob/lib/python3.7/site-packages/numpy-1.16.3-py3.7-linux-x86_64.egg/numpy/lib/histograms.py:825: RuntimeWarning: invalid value encountered in less_equal\n",
      "  keep &= (tmp_a <= last_edge)\n"
     ]
    },
    {
     "ename": "NameError",
     "evalue": "name 'sld_df' is not defined",
     "output_type": "error",
     "traceback": [
      "\u001b[0;31m---------------------------------------------------------------------------\u001b[0m",
      "\u001b[0;31mNameError\u001b[0m                                 Traceback (most recent call last)",
      "\u001b[0;32m<ipython-input-12-6539a35db06d>\u001b[0m in \u001b[0;36m<module>\u001b[0;34m\u001b[0m\n\u001b[1;32m      3\u001b[0m \u001b[0max1\u001b[0m\u001b[0;34m.\u001b[0m\u001b[0mhist\u001b[0m\u001b[0;34m(\u001b[0m\u001b[0mmd_df\u001b[0m\u001b[0;34m.\u001b[0m\u001b[0mmaximum_distance\u001b[0m\u001b[0;34m,\u001b[0m \u001b[0mbins\u001b[0m\u001b[0;34m=\u001b[0m\u001b[0;36m10\u001b[0m\u001b[0;34m,\u001b[0m \u001b[0mrwidth\u001b[0m\u001b[0;34m=\u001b[0m\u001b[0;36m0.8\u001b[0m\u001b[0;34m)\u001b[0m\u001b[0;34m\u001b[0m\u001b[0;34m\u001b[0m\u001b[0m\n\u001b[1;32m      4\u001b[0m \u001b[0max1\u001b[0m\u001b[0;34m.\u001b[0m\u001b[0mset_xlabel\u001b[0m\u001b[0;34m(\u001b[0m\u001b[0;34m'max'\u001b[0m\u001b[0;34m,\u001b[0m \u001b[0mfontsize\u001b[0m\u001b[0;34m=\u001b[0m\u001b[0;36m15\u001b[0m\u001b[0;34m)\u001b[0m\u001b[0;34m\u001b[0m\u001b[0;34m\u001b[0m\u001b[0m\n\u001b[0;32m----> 5\u001b[0;31m \u001b[0mx\u001b[0m\u001b[0;34m,\u001b[0m \u001b[0my\u001b[0m \u001b[0;34m=\u001b[0m \u001b[0mzip\u001b[0m\u001b[0;34m(\u001b[0m\u001b[0;34m*\u001b[0m\u001b[0mlbpdf\u001b[0m\u001b[0;34m(\u001b[0m\u001b[0;36m2.0\u001b[0m\u001b[0;34m,\u001b[0m \u001b[0mlist\u001b[0m\u001b[0;34m(\u001b[0m\u001b[0msld_df\u001b[0m\u001b[0;34m.\u001b[0m\u001b[0mdistance_straight_line\u001b[0m\u001b[0;34m)\u001b[0m\u001b[0;34m)\u001b[0m\u001b[0;34m)\u001b[0m\u001b[0;34m\u001b[0m\u001b[0;34m\u001b[0m\u001b[0m\n\u001b[0m\u001b[1;32m      6\u001b[0m \u001b[0max2\u001b[0m\u001b[0;34m.\u001b[0m\u001b[0mplot\u001b[0m\u001b[0;34m(\u001b[0m\u001b[0mx\u001b[0m\u001b[0;34m,\u001b[0m \u001b[0my\u001b[0m\u001b[0;34m,\u001b[0m \u001b[0mmarker\u001b[0m\u001b[0;34m=\u001b[0m\u001b[0;34m'o'\u001b[0m\u001b[0;34m)\u001b[0m\u001b[0;34m\u001b[0m\u001b[0;34m\u001b[0m\u001b[0m\n\u001b[1;32m      7\u001b[0m \u001b[0max2\u001b[0m\u001b[0;34m.\u001b[0m\u001b[0mloglog\u001b[0m\u001b[0;34m(\u001b[0m\u001b[0;34m)\u001b[0m\u001b[0;34m\u001b[0m\u001b[0;34m\u001b[0m\u001b[0m\n",
      "\u001b[0;31mNameError\u001b[0m: name 'sld_df' is not defined"
     ]
    },
    {
     "data": {
      "image/png": "[encoded data removed]",
      "text/plain": [
       "<Figure size 432x288 with 3 Axes>"
      ]
     },
     "metadata": {
      "needs_background": "light"
     },
     "output_type": "display_data"
    }
   ],
   "source": [
    "# let's plot the distribution of those three measures\n",
    "fig, (ax1, ax2, ax3) = plt.subplots(1, 3)\n",
    "ax1.hist(md_df.maximum_distance, bins=10, rwidth=0.8)\n",
    "ax1.set_xlabel('max', fontsize=15)\n",
    "x, y = zip(*lbpdf(2.0, list(sld_df.distance_straight_line)))\n",
    "ax2.plot(x, y, marker='o')\n",
    "ax2.loglog()\n",
    "ax2.set_xlabel('straight', fontsize=15)\n",
    "ax3.hist(mdh_df.max_distance_from_home, bins=10, rwidth=0.8)\n",
    "ax3.set_xlabel('from home', fontsize=15)\n",
    "plt.show()"
   ]
  },
  {
   "cell_type": "markdown",
   "metadata": {
    "slideshow": {
     "slide_type": "slide"
    }
   },
   "source": [
    "## Radius of gyration $r_g$\n",
    "characteristic distance traveled by an individual:\n",
    "\n",
    "$$r_g = \\sqrt{\\frac{1}{N} \\sum_{i=1}^N (\\mathbf{r}_i - \\mathbf{r}_{cm})^2}$$\n",
    "\n",
    "$r_{cm}$ is the position vector of the *center of mass* of the set of locations visited by the individual"
   ]
  },
  {
   "cell_type": "code",
   "execution_count": 18,
   "metadata": {
    "slideshow": {
     "slide_type": "slide"
    }
   },
   "outputs": [],
   "source": [
    "from skmob.measures.individual import radius_of_gyration"
   ]
  },
  {
   "cell_type": "code",
   "execution_count": 19,
   "metadata": {
    "slideshow": {
     "slide_type": "fragment"
    }
   },
   "outputs": [
    {
     "name": "stderr",
     "output_type": "stream",
     "text": [
      "100%|██████████| 1231/1231 [00:03<00:00, 317.24it/s]\n"
     ]
    },
    {
     "data": {
      "text/html": [
       "<div>\n",
       "<style scoped>\n",
       "    .dataframe tbody tr th:only-of-type {\n",
       "        vertical-align: middle;\n",
       "    }\n",
       "\n",
       "    .dataframe tbody tr th {\n",
       "        vertical-align: top;\n",
       "    }\n",
       "\n",
       "    .dataframe thead th {\n",
       "        text-align: right;\n",
       "    }\n",
       "</style>\n",
       "<table border=\"1\" class=\"dataframe\">\n",
       "  <thead>\n",
       "    <tr style=\"text-align: right;\">\n",
       "      <th></th>\n",
       "      <th>uid</th>\n",
       "      <th>radius_of_gyration</th>\n",
       "    </tr>\n",
       "  </thead>\n",
       "  <tbody>\n",
       "    <tr>\n",
       "      <th>0</th>\n",
       "      <td>0</td>\n",
       "      <td>1564.436792</td>\n",
       "    </tr>\n",
       "    <tr>\n",
       "      <th>1</th>\n",
       "      <td>1</td>\n",
       "      <td>2467.773523</td>\n",
       "    </tr>\n",
       "    <tr>\n",
       "      <th>2</th>\n",
       "      <td>2</td>\n",
       "      <td>1439.649774</td>\n",
       "    </tr>\n",
       "    <tr>\n",
       "      <th>3</th>\n",
       "      <td>3</td>\n",
       "      <td>1752.604191</td>\n",
       "    </tr>\n",
       "    <tr>\n",
       "      <th>4</th>\n",
       "      <td>4</td>\n",
       "      <td>5380.503250</td>\n",
       "    </tr>\n",
       "  </tbody>\n",
       "</table>\n",
       "</div>"
      ],
      "text/plain": [
       "   uid  radius_of_gyration\n",
       "0    0         1564.436792\n",
       "1    1         2467.773523\n",
       "2    2         1439.649774\n",
       "3    3         1752.604191\n",
       "4    4         5380.503250"
      ]
     },
     "execution_count": 19,
     "metadata": {},
     "output_type": "execute_result"
    }
   ],
   "source": [
    "rg_df = radius_of_gyration(tdf)\n",
    "rg_df.head()"
   ]
  },
  {
   "cell_type": "code",
   "execution_count": 20,
   "metadata": {
    "slideshow": {
     "slide_type": "slide"
    }
   },
   "outputs": [
    {
     "data": {
      "image/png": "[encoded data removed]",
      "text/plain": [
       "<Figure size 432x288 with 1 Axes>"
      ]
     },
     "metadata": {
      "needs_background": "light"
     },
     "output_type": "display_data"
    }
   ],
   "source": [
    "# let's plot the distribution of the radius of gyration\n",
    "fig = plt.figure()\n",
    "x, y = zip(*lbpdf(1.5, list(rg_df.radius_of_gyration[rg_df.radius_of_gyration >= 1.0])))\n",
    "plt.plot(x, y, marker='o')\n",
    "plt.xlabel('$r_g$ [km]', fontsize=20)\n",
    "plt.ylabel('P($r_g$)', fontsize=20)\n",
    "plt.loglog()\n",
    "plt.text(0.15, 0.15, '$r_g \\geq 0$', transform=ax1.transAxes, fontsize=15)\n",
    "plt.show()"
   ]
  },
  {
   "cell_type": "markdown",
   "metadata": {
    "slideshow": {
     "slide_type": "slide"
    }
   },
   "source": [
    "## $k$-radius of gyration $r_g^{(k)}$\n",
    "influence of frequency of location visits on the radius of gyration:\n",
    "$$ r_g^{(k)} = \\sqrt{\\frac{1}{N_k} \\sum_{i=1}^{k} n_i (\\mathbf{r}_i - \\mathbf{r}_{cm}^{(k)})} $$\n",
    "\n",
    "$k$ indicates the number of recurrent locations to consider"
   ]
  },
  {
   "cell_type": "code",
   "execution_count": 21,
   "metadata": {
    "slideshow": {
     "slide_type": "slide"
    }
   },
   "outputs": [],
   "source": [
    "from skmob.measures.individual import k_radius_of_gyration"
   ]
  },
  {
   "cell_type": "code",
   "execution_count": 22,
   "metadata": {
    "slideshow": {
     "slide_type": "fragment"
    }
   },
   "outputs": [
    {
     "name": "stderr",
     "output_type": "stream",
     "text": [
      "100%|██████████| 1231/1231 [00:11<00:00, 108.91it/s]\n"
     ]
    },
    {
     "data": {
      "text/html": [
       "<div>\n",
       "<style scoped>\n",
       "    .dataframe tbody tr th:only-of-type {\n",
       "        vertical-align: middle;\n",
       "    }\n",
       "\n",
       "    .dataframe tbody tr th {\n",
       "        vertical-align: top;\n",
       "    }\n",
       "\n",
       "    .dataframe thead th {\n",
       "        text-align: right;\n",
       "    }\n",
       "</style>\n",
       "<table border=\"1\" class=\"dataframe\">\n",
       "  <thead>\n",
       "    <tr style=\"text-align: right;\">\n",
       "      <th></th>\n",
       "      <th>uid</th>\n",
       "      <th>3k_radius_of_gyration</th>\n",
       "    </tr>\n",
       "  </thead>\n",
       "  <tbody>\n",
       "    <tr>\n",
       "      <th>0</th>\n",
       "      <td>0</td>\n",
       "      <td>7.730516</td>\n",
       "    </tr>\n",
       "    <tr>\n",
       "      <th>1</th>\n",
       "      <td>1</td>\n",
       "      <td>3.620671</td>\n",
       "    </tr>\n",
       "    <tr>\n",
       "      <th>2</th>\n",
       "      <td>2</td>\n",
       "      <td>6.366549</td>\n",
       "    </tr>\n",
       "    <tr>\n",
       "      <th>3</th>\n",
       "      <td>3</td>\n",
       "      <td>10.543072</td>\n",
       "    </tr>\n",
       "    <tr>\n",
       "      <th>4</th>\n",
       "      <td>4</td>\n",
       "      <td>3910.808802</td>\n",
       "    </tr>\n",
       "  </tbody>\n",
       "</table>\n",
       "</div>"
      ],
      "text/plain": [
       "   uid  3k_radius_of_gyration\n",
       "0    0               7.730516\n",
       "1    1               3.620671\n",
       "2    2               6.366549\n",
       "3    3              10.543072\n",
       "4    4            3910.808802"
      ]
     },
     "execution_count": 22,
     "metadata": {},
     "output_type": "execute_result"
    }
   ],
   "source": [
    "# compute the 3-radius of each individual\n",
    "krg_df = k_radius_of_gyration(tdf, k=3)\n",
    "krg_df.head()"
   ]
  },
  {
   "cell_type": "code",
   "execution_count": 23,
   "metadata": {
    "slideshow": {
     "slide_type": "fragment"
    }
   },
   "outputs": [
    {
     "data": {
      "text/html": [
       "<div>\n",
       "<style scoped>\n",
       "    .dataframe tbody tr th:only-of-type {\n",
       "        vertical-align: middle;\n",
       "    }\n",
       "\n",
       "    .dataframe tbody tr th {\n",
       "        vertical-align: top;\n",
       "    }\n",
       "\n",
       "    .dataframe thead th {\n",
       "        text-align: right;\n",
       "    }\n",
       "</style>\n",
       "<table border=\"1\" class=\"dataframe\">\n",
       "  <thead>\n",
       "    <tr style=\"text-align: right;\">\n",
       "      <th></th>\n",
       "      <th>uid</th>\n",
       "      <th>radius_of_gyration</th>\n",
       "      <th>3k_radius_of_gyration</th>\n",
       "    </tr>\n",
       "  </thead>\n",
       "  <tbody>\n",
       "    <tr>\n",
       "      <th>0</th>\n",
       "      <td>0</td>\n",
       "      <td>1564.436792</td>\n",
       "      <td>7.730516</td>\n",
       "    </tr>\n",
       "    <tr>\n",
       "      <th>1</th>\n",
       "      <td>1</td>\n",
       "      <td>2467.773523</td>\n",
       "      <td>3.620671</td>\n",
       "    </tr>\n",
       "    <tr>\n",
       "      <th>2</th>\n",
       "      <td>2</td>\n",
       "      <td>1439.649774</td>\n",
       "      <td>6.366549</td>\n",
       "    </tr>\n",
       "    <tr>\n",
       "      <th>3</th>\n",
       "      <td>3</td>\n",
       "      <td>1752.604191</td>\n",
       "      <td>10.543072</td>\n",
       "    </tr>\n",
       "    <tr>\n",
       "      <th>4</th>\n",
       "      <td>4</td>\n",
       "      <td>5380.503250</td>\n",
       "      <td>3910.808802</td>\n",
       "    </tr>\n",
       "  </tbody>\n",
       "</table>\n",
       "</div>"
      ],
      "text/plain": [
       "   uid  radius_of_gyration  3k_radius_of_gyration\n",
       "0    0         1564.436792               7.730516\n",
       "1    1         2467.773523               3.620671\n",
       "2    2         1439.649774               6.366549\n",
       "3    3         1752.604191              10.543072\n",
       "4    4         5380.503250            3910.808802"
      ]
     },
     "execution_count": 23,
     "metadata": {},
     "output_type": "execute_result"
    }
   ],
   "source": [
    "rg_krg_df = pd.merge(rg_df, krg_df, on='uid')\n",
    "rg_krg_df.head()"
   ]
  },
  {
   "cell_type": "code",
   "execution_count": 24,
   "metadata": {
    "slideshow": {
     "slide_type": "slide"
    }
   },
   "outputs": [
    {
     "data": {
      "image/png": "[encoded data removed]",
      "text/plain": [
       "<Figure size 432x432 with 1 Axes>"
      ]
     },
     "metadata": {
      "needs_background": "light"
     },
     "output_type": "display_data"
    }
   ],
   "source": [
    "# let's plot a scatter plot of r_g vs r_g^{(k)}\n",
    "fig = plt.figure(figsize=(6, 6))\n",
    "plt.scatter(rg_krg_df.radius_of_gyration, rg_krg_df['3k_radius_of_gyration'], alpha=0.2)\n",
    "plt.xlabel('radius of gyration [km]', fontsize=15)\n",
    "plt.ylabel('k-radius of gyration [km]', fontsize=15)\n",
    "plt.show()"
   ]
  },
  {
   "cell_type": "markdown",
   "metadata": {
    "slideshow": {
     "slide_type": "slide"
    }
   },
   "source": [
    "## Mobility Entropy\n",
    "degree of <u>predictability</u> of an individual's mobility:\n",
    "- random entropy - `random_entropy`\n",
    "- temporal uncorrelated entropy - `uncorrelated_entropy`\n",
    "- real entropy - `real_entropy`"
   ]
  },
  {
   "cell_type": "markdown",
   "metadata": {
    "slideshow": {
     "slide_type": "slide"
    }
   },
   "source": [
    "### Random entropy $S_{rand}(u)$\n",
    "predictability of $u$ if each location is visited with equal probability"
   ]
  },
  {
   "cell_type": "code",
   "execution_count": 25,
   "metadata": {
    "slideshow": {
     "slide_type": "fragment"
    }
   },
   "outputs": [],
   "source": [
    "from skmob.measures.individual import random_entropy"
   ]
  },
  {
   "cell_type": "code",
   "execution_count": 26,
   "metadata": {
    "slideshow": {
     "slide_type": "fragment"
    }
   },
   "outputs": [
    {
     "name": "stderr",
     "output_type": "stream",
     "text": [
      "100%|██████████| 1231/1231 [00:07<00:00, 161.17it/s]\n"
     ]
    },
    {
     "data": {
      "text/html": [
       "<div>\n",
       "<style scoped>\n",
       "    .dataframe tbody tr th:only-of-type {\n",
       "        vertical-align: middle;\n",
       "    }\n",
       "\n",
       "    .dataframe tbody tr th {\n",
       "        vertical-align: top;\n",
       "    }\n",
       "\n",
       "    .dataframe thead th {\n",
       "        text-align: right;\n",
       "    }\n",
       "</style>\n",
       "<table border=\"1\" class=\"dataframe\">\n",
       "  <thead>\n",
       "    <tr style=\"text-align: right;\">\n",
       "      <th></th>\n",
       "      <th>uid</th>\n",
       "      <th>random_entropy</th>\n",
       "    </tr>\n",
       "  </thead>\n",
       "  <tbody>\n",
       "    <tr>\n",
       "      <th>0</th>\n",
       "      <td>0</td>\n",
       "      <td>9.082149</td>\n",
       "    </tr>\n",
       "    <tr>\n",
       "      <th>1</th>\n",
       "      <td>1</td>\n",
       "      <td>6.599913</td>\n",
       "    </tr>\n",
       "    <tr>\n",
       "      <th>2</th>\n",
       "      <td>2</td>\n",
       "      <td>8.845490</td>\n",
       "    </tr>\n",
       "    <tr>\n",
       "      <th>3</th>\n",
       "      <td>3</td>\n",
       "      <td>9.262095</td>\n",
       "    </tr>\n",
       "    <tr>\n",
       "      <th>4</th>\n",
       "      <td>4</td>\n",
       "      <td>7.754888</td>\n",
       "    </tr>\n",
       "  </tbody>\n",
       "</table>\n",
       "</div>"
      ],
      "text/plain": [
       "   uid  random_entropy\n",
       "0    0        9.082149\n",
       "1    1        6.599913\n",
       "2    2        8.845490\n",
       "3    3        9.262095\n",
       "4    4        7.754888"
      ]
     },
     "execution_count": 26,
     "metadata": {},
     "output_type": "execute_result"
    }
   ],
   "source": [
    "e_df = random_entropy(tdf)\n",
    "e_df.head()"
   ]
  },
  {
   "cell_type": "code",
   "execution_count": 27,
   "metadata": {
    "slideshow": {
     "slide_type": "slide"
    }
   },
   "outputs": [
    {
     "data": {
      "image/png": "[encoded data removed]",
      "text/plain": [
       "<Figure size 432x288 with 1 Axes>"
      ]
     },
     "metadata": {
      "needs_background": "light"
     },
     "output_type": "display_data"
    }
   ],
   "source": [
    "fig = plt.figure()\n",
    "plt.hist(e_df.random_entropy, bins=10, rwidth=0.8, density=True)\n",
    "plt.xlabel('random entropy', fontsize=15)\n",
    "plt.ylabel('P(random entropy)', fontsize=15)\n",
    "plt.show()"
   ]
  },
  {
   "cell_type": "markdown",
   "metadata": {
    "slideshow": {
     "slide_type": "slide"
    }
   },
   "source": [
    "### Temporal-uncorrelated entropy $S_{unc}(u)$\n",
    "historical probability that a location $i$ was visited by $u$\n",
    "\n",
    "$$S_{unc}(u) = - \\sum_{i=1}^n p_i \\log_2 p_i$$\n",
    "\n",
    "$n$ is the number of location visited by $u$"
   ]
  },
  {
   "cell_type": "code",
   "execution_count": 28,
   "metadata": {
    "slideshow": {
     "slide_type": "slide"
    }
   },
   "outputs": [],
   "source": [
    "from skmob.measures.individual import uncorrelated_entropy"
   ]
  },
  {
   "cell_type": "code",
   "execution_count": 29,
   "metadata": {
    "slideshow": {
     "slide_type": "fragment"
    }
   },
   "outputs": [
    {
     "name": "stderr",
     "output_type": "stream",
     "text": [
      "100%|██████████| 1231/1231 [00:08<00:00, 138.03it/s]\n"
     ]
    },
    {
     "data": {
      "text/html": [
       "<div>\n",
       "<style scoped>\n",
       "    .dataframe tbody tr th:only-of-type {\n",
       "        vertical-align: middle;\n",
       "    }\n",
       "\n",
       "    .dataframe tbody tr th {\n",
       "        vertical-align: top;\n",
       "    }\n",
       "\n",
       "    .dataframe thead th {\n",
       "        text-align: right;\n",
       "    }\n",
       "</style>\n",
       "<table border=\"1\" class=\"dataframe\">\n",
       "  <thead>\n",
       "    <tr style=\"text-align: right;\">\n",
       "      <th></th>\n",
       "      <th>uid</th>\n",
       "      <th>norm_uncorrelated_entropy</th>\n",
       "    </tr>\n",
       "  </thead>\n",
       "  <tbody>\n",
       "    <tr>\n",
       "      <th>0</th>\n",
       "      <td>0</td>\n",
       "      <td>0.819430</td>\n",
       "    </tr>\n",
       "    <tr>\n",
       "      <th>1</th>\n",
       "      <td>1</td>\n",
       "      <td>0.552972</td>\n",
       "    </tr>\n",
       "    <tr>\n",
       "      <th>2</th>\n",
       "      <td>2</td>\n",
       "      <td>0.764304</td>\n",
       "    </tr>\n",
       "    <tr>\n",
       "      <th>3</th>\n",
       "      <td>3</td>\n",
       "      <td>0.794553</td>\n",
       "    </tr>\n",
       "    <tr>\n",
       "      <th>4</th>\n",
       "      <td>4</td>\n",
       "      <td>0.756421</td>\n",
       "    </tr>\n",
       "  </tbody>\n",
       "</table>\n",
       "</div>"
      ],
      "text/plain": [
       "   uid  norm_uncorrelated_entropy\n",
       "0    0                   0.819430\n",
       "1    1                   0.552972\n",
       "2    2                   0.764304\n",
       "3    3                   0.794553\n",
       "4    4                   0.756421"
      ]
     },
     "execution_count": 29,
     "metadata": {},
     "output_type": "execute_result"
    }
   ],
   "source": [
    "# if normalize=True the entropy is in the range [0, 1 ] \n",
    "nue_df = uncorrelated_entropy(tdf, normalize=True)\n",
    "nue_df.head()"
   ]
  },
  {
   "cell_type": "code",
   "execution_count": 30,
   "metadata": {
    "slideshow": {
     "slide_type": "slide"
    }
   },
   "outputs": [
    {
     "data": {
      "image/png": "[encoded data removed]",
      "text/plain": [
       "<Figure size 432x288 with 1 Axes>"
      ]
     },
     "metadata": {
      "needs_background": "light"
     },
     "output_type": "display_data"
    }
   ],
   "source": [
    "fig = plt.figure()\n",
    "plt.hist(nue_df.norm_uncorrelated_entropy, bins=20, rwidth=0.8, density=True)\n",
    "plt.xlabel('nurmalized $S_{unc}$', fontsize=15)\n",
    "plt.show()"
   ]
  },
  {
   "cell_type": "markdown",
   "metadata": {
    "slideshow": {
     "slide_type": "slide"
    }
   },
   "source": [
    "### Real entropy $S(u)$\n",
    "consider the order in which the nodes were visited and the time spent at each location\n",
    "\n",
    "$$ S(u) = - \\sum_{T'_i \\subset T_i} p_{T'_i} \\log_2 p_{T'_i}$$\n",
    "\n",
    "captures the full spatiotemporal order present in $u$'s mobility patterns"
   ]
  },
  {
   "cell_type": "code",
   "execution_count": 31,
   "metadata": {
    "slideshow": {
     "slide_type": "slide"
    }
   },
   "outputs": [],
   "source": [
    "from skmob.measures.individual import real_entropy"
   ]
  },
  {
   "cell_type": "code",
   "execution_count": 32,
   "metadata": {
    "slideshow": {
     "slide_type": "fragment"
    }
   },
   "outputs": [
    {
     "name": "stderr",
     "output_type": "stream",
     "text": [
      "100%|██████████| 50/50 [01:00<00:00,  1.05it/s]\n"
     ]
    },
    {
     "data": {
      "text/html": [
       "<div>\n",
       "<style scoped>\n",
       "    .dataframe tbody tr th:only-of-type {\n",
       "        vertical-align: middle;\n",
       "    }\n",
       "\n",
       "    .dataframe tbody tr th {\n",
       "        vertical-align: top;\n",
       "    }\n",
       "\n",
       "    .dataframe thead th {\n",
       "        text-align: right;\n",
       "    }\n",
       "</style>\n",
       "<table border=\"1\" class=\"dataframe\">\n",
       "  <thead>\n",
       "    <tr style=\"text-align: right;\">\n",
       "      <th></th>\n",
       "      <th>uid</th>\n",
       "      <th>real_entropy</th>\n",
       "    </tr>\n",
       "  </thead>\n",
       "  <tbody>\n",
       "    <tr>\n",
       "      <th>0</th>\n",
       "      <td>0</td>\n",
       "      <td>4.906479</td>\n",
       "    </tr>\n",
       "    <tr>\n",
       "      <th>1</th>\n",
       "      <td>1</td>\n",
       "      <td>2.207224</td>\n",
       "    </tr>\n",
       "    <tr>\n",
       "      <th>2</th>\n",
       "      <td>2</td>\n",
       "      <td>4.467225</td>\n",
       "    </tr>\n",
       "    <tr>\n",
       "      <th>3</th>\n",
       "      <td>3</td>\n",
       "      <td>4.782442</td>\n",
       "    </tr>\n",
       "    <tr>\n",
       "      <th>4</th>\n",
       "      <td>4</td>\n",
       "      <td>3.585371</td>\n",
       "    </tr>\n",
       "  </tbody>\n",
       "</table>\n",
       "</div>"
      ],
      "text/plain": [
       "   uid  real_entropy\n",
       "0    0      4.906479\n",
       "1    1      2.207224\n",
       "2    2      4.467225\n",
       "3    3      4.782442\n",
       "4    4      3.585371"
      ]
     },
     "execution_count": 32,
     "metadata": {},
     "output_type": "execute_result"
    }
   ],
   "source": [
    "re_df = real_entropy(tdf[tdf.uid < 50])\n",
    "re_df.head()"
   ]
  },
  {
   "cell_type": "code",
   "execution_count": 43,
   "metadata": {
    "slideshow": {
     "slide_type": "slide"
    }
   },
   "outputs": [
    {
     "data": {
      "image/png": "[encoded data removed]",
      "text/plain": [
       "<Figure size 432x288 with 1 Axes>"
      ]
     },
     "metadata": {
      "needs_background": "light"
     },
     "output_type": "display_data"
    }
   ],
   "source": [
    "plt.hist(re_df.real_entropy)\n",
    "plt.xlabel('real entropy', fontsize=15)\n",
    "plt.show()"
   ]
  },
  {
   "cell_type": "markdown",
   "metadata": {
    "slideshow": {
     "slide_type": "slide"
    }
   },
   "source": [
    "### Number of locations and visits\n",
    "number of distinct locations visited and the number of movements"
   ]
  },
  {
   "cell_type": "code",
   "execution_count": 44,
   "metadata": {
    "slideshow": {
     "slide_type": "fragment"
    }
   },
   "outputs": [],
   "source": [
    "from skmob.measures.individual import number_of_visits, number_of_locations"
   ]
  },
  {
   "cell_type": "code",
   "execution_count": 45,
   "metadata": {
    "slideshow": {
     "slide_type": "fragment"
    }
   },
   "outputs": [
    {
     "name": "stderr",
     "output_type": "stream",
     "text": [
      "100%|██████████| 1231/1231 [00:00<00:00, 1972.31it/s]\n",
      "100%|██████████| 1231/1231 [00:07<00:00, 164.38it/s]\n"
     ]
    },
    {
     "data": {
      "text/html": [
       "<div>\n",
       "<style scoped>\n",
       "    .dataframe tbody tr th:only-of-type {\n",
       "        vertical-align: middle;\n",
       "    }\n",
       "\n",
       "    .dataframe tbody tr th {\n",
       "        vertical-align: top;\n",
       "    }\n",
       "\n",
       "    .dataframe thead th {\n",
       "        text-align: right;\n",
       "    }\n",
       "</style>\n",
       "<table border=\"1\" class=\"dataframe\">\n",
       "  <thead>\n",
       "    <tr style=\"text-align: right;\">\n",
       "      <th></th>\n",
       "      <th>uid</th>\n",
       "      <th>number_of_visits</th>\n",
       "    </tr>\n",
       "  </thead>\n",
       "  <tbody>\n",
       "    <tr>\n",
       "      <th>0</th>\n",
       "      <td>0</td>\n",
       "      <td>2099</td>\n",
       "    </tr>\n",
       "    <tr>\n",
       "      <th>1</th>\n",
       "      <td>1</td>\n",
       "      <td>1210</td>\n",
       "    </tr>\n",
       "    <tr>\n",
       "      <th>2</th>\n",
       "      <td>2</td>\n",
       "      <td>2100</td>\n",
       "    </tr>\n",
       "    <tr>\n",
       "      <th>3</th>\n",
       "      <td>3</td>\n",
       "      <td>1807</td>\n",
       "    </tr>\n",
       "    <tr>\n",
       "      <th>4</th>\n",
       "      <td>4</td>\n",
       "      <td>779</td>\n",
       "    </tr>\n",
       "  </tbody>\n",
       "</table>\n",
       "</div>"
      ],
      "text/plain": [
       "   uid  number_of_visits\n",
       "0    0              2099\n",
       "1    1              1210\n",
       "2    2              2100\n",
       "3    3              1807\n",
       "4    4               779"
      ]
     },
     "execution_count": 45,
     "metadata": {},
     "output_type": "execute_result"
    }
   ],
   "source": [
    "nv_df = number_of_visits(tdf)\n",
    "locs_df = number_of_locations(tdf)\n",
    "nv_df.head()"
   ]
  },
  {
   "cell_type": "code",
   "execution_count": 46,
   "metadata": {
    "slideshow": {
     "slide_type": "slide"
    }
   },
   "outputs": [
    {
     "data": {
      "image/png": "[encoded data removed]",
      "text/plain": [
       "<Figure size 432x288 with 2 Axes>"
      ]
     },
     "metadata": {
      "needs_background": "light"
     },
     "output_type": "display_data"
    }
   ],
   "source": [
    "fig, (ax1, ax2) = plt.subplots(1, 2)\n",
    "ax1.hist(locs_df.number_of_locations, rwidth=0.8, bins=20)\n",
    "ax1.set_xlabel('number of locations', fontsize=15)\n",
    "ax2.hist(nv_df.number_of_visits, rwidth=0.8, bins=20)\n",
    "ax2.set_xlabel('number of visits', fontsize=15)\n",
    "plt.show()"
   ]
  },
  {
   "cell_type": "markdown",
   "metadata": {
    "slideshow": {
     "slide_type": "slide"
    }
   },
   "source": [
    "### Home location\n",
    "the location the individual visits most frequently during nighttime"
   ]
  },
  {
   "cell_type": "code",
   "execution_count": 13,
   "metadata": {
    "slideshow": {
     "slide_type": "fragment"
    }
   },
   "outputs": [],
   "source": [
    "from skmob.measures.individual import home_location"
   ]
  },
  {
   "cell_type": "code",
   "execution_count": 14,
   "metadata": {
    "slideshow": {
     "slide_type": "fragment"
    }
   },
   "outputs": [
    {
     "name": "stderr",
     "output_type": "stream",
     "text": [
      "100%|██████████| 1231/1231 [00:06<00:00, 198.77it/s]\n"
     ]
    },
    {
     "data": {
      "text/html": [
       "<div>\n",
       "<style scoped>\n",
       "    .dataframe tbody tr th:only-of-type {\n",
       "        vertical-align: middle;\n",
       "    }\n",
       "\n",
       "    .dataframe tbody tr th {\n",
       "        vertical-align: top;\n",
       "    }\n",
       "\n",
       "    .dataframe thead th {\n",
       "        text-align: right;\n",
       "    }\n",
       "</style>\n",
       "<table border=\"1\" class=\"dataframe\">\n",
       "  <thead>\n",
       "    <tr style=\"text-align: right;\">\n",
       "      <th></th>\n",
       "      <th>uid</th>\n",
       "      <th>lat</th>\n",
       "      <th>lng</th>\n",
       "    </tr>\n",
       "  </thead>\n",
       "  <tbody>\n",
       "    <tr>\n",
       "      <th>0</th>\n",
       "      <td>0</td>\n",
       "      <td>39.891077</td>\n",
       "      <td>-105.068532</td>\n",
       "    </tr>\n",
       "    <tr>\n",
       "      <th>1</th>\n",
       "      <td>1</td>\n",
       "      <td>37.630490</td>\n",
       "      <td>-122.411084</td>\n",
       "    </tr>\n",
       "    <tr>\n",
       "      <th>2</th>\n",
       "      <td>2</td>\n",
       "      <td>39.739154</td>\n",
       "      <td>-104.984703</td>\n",
       "    </tr>\n",
       "    <tr>\n",
       "      <th>3</th>\n",
       "      <td>3</td>\n",
       "      <td>37.748170</td>\n",
       "      <td>-122.459192</td>\n",
       "    </tr>\n",
       "    <tr>\n",
       "      <th>4</th>\n",
       "      <td>4</td>\n",
       "      <td>60.180171</td>\n",
       "      <td>24.949728</td>\n",
       "    </tr>\n",
       "  </tbody>\n",
       "</table>\n",
       "</div>"
      ],
      "text/plain": [
       "   uid        lat         lng\n",
       "0    0  39.891077 -105.068532\n",
       "1    1  37.630490 -122.411084\n",
       "2    2  39.739154 -104.984703\n",
       "3    3  37.748170 -122.459192\n",
       "4    4  60.180171   24.949728"
      ]
     },
     "execution_count": 14,
     "metadata": {},
     "output_type": "execute_result"
    }
   ],
   "source": [
    "hl_df = home_location(tdf)\n",
    "hl_df.head()"
   ]
  },
  {
   "cell_type": "code",
   "execution_count": 15,
   "metadata": {
    "slideshow": {
     "slide_type": "slide"
    }
   },
   "outputs": [
    {
     "data": {
      "text/html": [
       "<div style=\"width:100%;\"><div style=\"position:relative;width:100%;height:0;padding-bottom:60%;\"><iframe src=\"data:text/html;charset=utf-8;base64,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\" style=\"position:absolute;width:100%;height:100%;left:0;top:0;border:none !important;\" allowfullscreen webkitallowfullscreen mozallowfullscreen></iframe></div></div>"
      ],
      "text/plain": [
       "<folium.folium.Map at 0x7f7a6c8f1da0>"
      ]
     },
     "execution_count": 15,
     "metadata": {},
     "output_type": "execute_result"
    }
   ],
   "source": [
    "m = folium.Map(tiles = 'openstreetmap', zoom_start=10, control_scale=True)\n",
    "HeatMap(hl_df[['lat', 'lng']].values).add_to(m)\n",
    "m # Show map"
   ]
  },
  {
   "cell_type": "markdown",
   "metadata": {
    "slideshow": {
     "slide_type": "slide"
    }
   },
   "source": [
    "## Visitation frequency\n",
    "the number of visits to each location, where locations are sorted by rank\n",
    "- the most visited location has rank 1, the second most visited rank 2, etc.\n",
    "- the two most visited locations are generally home and work"
   ]
  },
  {
   "cell_type": "code",
   "execution_count": 51,
   "metadata": {
    "slideshow": {
     "slide_type": "slide"
    }
   },
   "outputs": [
    {
     "name": "stderr",
     "output_type": "stream",
     "text": [
      "100%|██████████| 1231/1231 [00:04<00:00, 282.84it/s]\n"
     ]
    },
    {
     "data": {
      "text/html": [
       "<div>\n",
       "<style scoped>\n",
       "    .dataframe tbody tr th:only-of-type {\n",
       "        vertical-align: middle;\n",
       "    }\n",
       "\n",
       "    .dataframe tbody tr th {\n",
       "        vertical-align: top;\n",
       "    }\n",
       "\n",
       "    .dataframe thead th {\n",
       "        text-align: right;\n",
       "    }\n",
       "</style>\n",
       "<table border=\"1\" class=\"dataframe\">\n",
       "  <thead>\n",
       "    <tr style=\"text-align: right;\">\n",
       "      <th></th>\n",
       "      <th>uid</th>\n",
       "      <th>lat</th>\n",
       "      <th>lng</th>\n",
       "      <th>location_frequency</th>\n",
       "    </tr>\n",
       "  </thead>\n",
       "  <tbody>\n",
       "    <tr>\n",
       "      <th>0</th>\n",
       "      <td>0</td>\n",
       "      <td>39.762146</td>\n",
       "      <td>-104.982480</td>\n",
       "      <td>214</td>\n",
       "    </tr>\n",
       "    <tr>\n",
       "      <th>1</th>\n",
       "      <td>0</td>\n",
       "      <td>39.891077</td>\n",
       "      <td>-105.068532</td>\n",
       "      <td>137</td>\n",
       "    </tr>\n",
       "    <tr>\n",
       "      <th>2</th>\n",
       "      <td>0</td>\n",
       "      <td>39.739154</td>\n",
       "      <td>-104.984703</td>\n",
       "      <td>126</td>\n",
       "    </tr>\n",
       "    <tr>\n",
       "      <th>3</th>\n",
       "      <td>0</td>\n",
       "      <td>39.891586</td>\n",
       "      <td>-105.068463</td>\n",
       "      <td>72</td>\n",
       "    </tr>\n",
       "    <tr>\n",
       "      <th>4</th>\n",
       "      <td>0</td>\n",
       "      <td>39.827022</td>\n",
       "      <td>-105.143191</td>\n",
       "      <td>53</td>\n",
       "    </tr>\n",
       "  </tbody>\n",
       "</table>\n",
       "</div>"
      ],
      "text/plain": [
       "   uid        lat         lng  location_frequency\n",
       "0    0  39.762146 -104.982480                 214\n",
       "1    0  39.891077 -105.068532                 137\n",
       "2    0  39.739154 -104.984703                 126\n",
       "3    0  39.891586 -105.068463                  72\n",
       "4    0  39.827022 -105.143191                  53"
      ]
     },
     "execution_count": 51,
     "metadata": {},
     "output_type": "execute_result"
    }
   ],
   "source": [
    "from skmob.measures.individual import location_frequency\n",
    "lf_df = location_frequency(tdf, normalize=False).reset_index()\n",
    "lf_df.head()"
   ]
  },
  {
   "cell_type": "code",
   "execution_count": 52,
   "metadata": {
    "scrolled": false,
    "slideshow": {
     "slide_type": "slide"
    }
   },
   "outputs": [
    {
     "name": "stderr",
     "output_type": "stream",
     "text": [
      "100%|██████████| 1231/1231 [00:04<00:00, 263.52it/s]\n"
     ]
    },
    {
     "data": {
      "text/plain": [
       "[0.3855048033663369,\n",
       " 0.14812392490535803,\n",
       " 0.07861157993382727,\n",
       " 0.053773415913195455,\n",
       " 0.04063414740693758]"
      ]
     },
     "execution_count": 52,
     "metadata": {},
     "output_type": "execute_result"
    }
   ],
   "source": [
    "ranks = location_frequency(tdf, as_ranks=True)\n",
    "ranks[:5]"
   ]
  },
  {
   "cell_type": "code",
   "execution_count": 53,
   "metadata": {
    "slideshow": {
     "slide_type": "slide"
    }
   },
   "outputs": [
    {
     "data": {
      "image/png": "[encoded data removed]",
      "text/plain": [
       "<Figure size 432x432 with 1 Axes>"
      ]
     },
     "metadata": {
      "needs_background": "light"
     },
     "output_type": "display_data"
    }
   ],
   "source": [
    "fig = plt.figure(figsize=(6, 6))\n",
    "plt.plot(range(len(ranks)), ranks, marker='o')\n",
    "plt.loglog()\n",
    "plt.xlabel('location rank', fontsize=15)\n",
    "plt.ylabel('location frequency', fontsize=15)\n",
    "plt.grid(alpha=0.2)\n",
    "plt.show()"
   ]
  },
  {
   "cell_type": "markdown",
   "metadata": {
    "slideshow": {
     "slide_type": "slide"
    }
   },
   "source": [
    "## Frequency and Recency ranks\n",
    "Given a location:\n",
    "- its frequency rank is 1 if it is the most frequent location, 2 if it is the second most visited, etc.\n",
    "- its recency rank is 1 if it is the last visited location, 2 if it is the second last visited, etc."
   ]
  },
  {
   "cell_type": "code",
   "execution_count": 54,
   "metadata": {
    "slideshow": {
     "slide_type": "fragment"
    }
   },
   "outputs": [],
   "source": [
    "from skmob.measures.individual import frequency_rank, recency_rank"
   ]
  },
  {
   "cell_type": "code",
   "execution_count": 60,
   "metadata": {
    "slideshow": {
     "slide_type": "slide"
    }
   },
   "outputs": [
    {
     "name": "stderr",
     "output_type": "stream",
     "text": [
      "100%|██████████| 1231/1231 [00:06<00:00, 175.95it/s]\n"
     ]
    },
    {
     "data": {
      "text/html": [
       "<div>\n",
       "<style scoped>\n",
       "    .dataframe tbody tr th:only-of-type {\n",
       "        vertical-align: middle;\n",
       "    }\n",
       "\n",
       "    .dataframe tbody tr th {\n",
       "        vertical-align: top;\n",
       "    }\n",
       "\n",
       "    .dataframe thead th {\n",
       "        text-align: right;\n",
       "    }\n",
       "</style>\n",
       "<table border=\"1\" class=\"dataframe\">\n",
       "  <thead>\n",
       "    <tr style=\"text-align: right;\">\n",
       "      <th></th>\n",
       "      <th></th>\n",
       "      <th>lat</th>\n",
       "      <th>lng</th>\n",
       "      <th>frequency_rank</th>\n",
       "    </tr>\n",
       "    <tr>\n",
       "      <th>uid</th>\n",
       "      <th></th>\n",
       "      <th></th>\n",
       "      <th></th>\n",
       "      <th></th>\n",
       "    </tr>\n",
       "  </thead>\n",
       "  <tbody>\n",
       "    <tr>\n",
       "      <th rowspan=\"5\" valign=\"top\">0</th>\n",
       "      <th>0</th>\n",
       "      <td>39.762146</td>\n",
       "      <td>-104.982480</td>\n",
       "      <td>1</td>\n",
       "    </tr>\n",
       "    <tr>\n",
       "      <th>1</th>\n",
       "      <td>39.891077</td>\n",
       "      <td>-105.068532</td>\n",
       "      <td>2</td>\n",
       "    </tr>\n",
       "    <tr>\n",
       "      <th>2</th>\n",
       "      <td>39.739154</td>\n",
       "      <td>-104.984703</td>\n",
       "      <td>3</td>\n",
       "    </tr>\n",
       "    <tr>\n",
       "      <th>3</th>\n",
       "      <td>39.891586</td>\n",
       "      <td>-105.068463</td>\n",
       "      <td>4</td>\n",
       "    </tr>\n",
       "    <tr>\n",
       "      <th>4</th>\n",
       "      <td>39.827022</td>\n",
       "      <td>-105.143191</td>\n",
       "      <td>5</td>\n",
       "    </tr>\n",
       "  </tbody>\n",
       "</table>\n",
       "</div>"
      ],
      "text/plain": [
       "             lat         lng  frequency_rank\n",
       "uid                                         \n",
       "0   0  39.762146 -104.982480               1\n",
       "    1  39.891077 -105.068532               2\n",
       "    2  39.739154 -104.984703               3\n",
       "    3  39.891586 -105.068463               4\n",
       "    4  39.827022 -105.143191               5"
      ]
     },
     "execution_count": 60,
     "metadata": {},
     "output_type": "execute_result"
    }
   ],
   "source": [
    "fr_df = frequency_rank(tdf)#.reset_index().drop('level_1', axis=1)\n",
    "fr_df.head()"
   ]
  },
  {
   "cell_type": "code",
   "execution_count": 61,
   "metadata": {
    "slideshow": {
     "slide_type": "fragment"
    }
   },
   "outputs": [
    {
     "name": "stderr",
     "output_type": "stream",
     "text": [
      "100%|██████████| 1231/1231 [00:05<00:00, 210.16it/s]\n"
     ]
    },
    {
     "data": {
      "text/html": [
       "<div>\n",
       "<style scoped>\n",
       "    .dataframe tbody tr th:only-of-type {\n",
       "        vertical-align: middle;\n",
       "    }\n",
       "\n",
       "    .dataframe tbody tr th {\n",
       "        vertical-align: top;\n",
       "    }\n",
       "\n",
       "    .dataframe thead th {\n",
       "        text-align: right;\n",
       "    }\n",
       "</style>\n",
       "<table border=\"1\" class=\"dataframe\">\n",
       "  <thead>\n",
       "    <tr style=\"text-align: right;\">\n",
       "      <th></th>\n",
       "      <th></th>\n",
       "      <th>lat</th>\n",
       "      <th>lng</th>\n",
       "      <th>recency_rank</th>\n",
       "    </tr>\n",
       "    <tr>\n",
       "      <th>uid</th>\n",
       "      <th></th>\n",
       "      <th></th>\n",
       "      <th></th>\n",
       "      <th></th>\n",
       "    </tr>\n",
       "  </thead>\n",
       "  <tbody>\n",
       "    <tr>\n",
       "      <th rowspan=\"5\" valign=\"top\">0</th>\n",
       "      <th>0</th>\n",
       "      <td>39.891383</td>\n",
       "      <td>-105.070814</td>\n",
       "      <td>1</td>\n",
       "    </tr>\n",
       "    <tr>\n",
       "      <th>1</th>\n",
       "      <td>39.891077</td>\n",
       "      <td>-105.068532</td>\n",
       "      <td>2</td>\n",
       "    </tr>\n",
       "    <tr>\n",
       "      <th>2</th>\n",
       "      <td>39.750469</td>\n",
       "      <td>-104.999073</td>\n",
       "      <td>3</td>\n",
       "    </tr>\n",
       "    <tr>\n",
       "      <th>3</th>\n",
       "      <td>39.752713</td>\n",
       "      <td>-104.996337</td>\n",
       "      <td>4</td>\n",
       "    </tr>\n",
       "    <tr>\n",
       "      <th>4</th>\n",
       "      <td>39.752508</td>\n",
       "      <td>-104.996637</td>\n",
       "      <td>5</td>\n",
       "    </tr>\n",
       "  </tbody>\n",
       "</table>\n",
       "</div>"
      ],
      "text/plain": [
       "             lat         lng  recency_rank\n",
       "uid                                       \n",
       "0   0  39.891383 -105.070814             1\n",
       "    1  39.891077 -105.068532             2\n",
       "    2  39.750469 -104.999073             3\n",
       "    3  39.752713 -104.996337             4\n",
       "    4  39.752508 -104.996637             5"
      ]
     },
     "execution_count": 61,
     "metadata": {},
     "output_type": "execute_result"
    }
   ],
   "source": [
    "rr_df = recency_rank(tdf)#.reset_index().drop('level_1', axis=1)\n",
    "rr_df.head()"
   ]
  },
  {
   "cell_type": "code",
   "execution_count": 64,
   "metadata": {
    "slideshow": {
     "slide_type": "slide"
    }
   },
   "outputs": [],
   "source": [
    "merged_df = pd.merge(fr_df, rr_df, on=['uid', 'lat', 'lng'])\n",
    "short_merged_df = merged_df[(merged_df.frequency_rank <= 50) \n",
    "                            & (merged_df.recency_rank <= 50)]\n",
    "\n",
    "# Calculate the point density\n",
    "n_rows = 100000\n",
    "xy = np.vstack([short_merged_df.frequency_rank.head(n_rows), short_merged_df.recency_rank.head(n_rows)])\n",
    "z = gaussian_kde(xy)(xy)"
   ]
  },
  {
   "cell_type": "code",
   "execution_count": 68,
   "metadata": {
    "slideshow": {
     "slide_type": "slide"
    }
   },
   "outputs": [
    {
     "data": {
      "image/png": "[encoded data removed]",
      "text/plain": [
       "<Figure size 432x432 with 1 Axes>"
      ]
     },
     "metadata": {
      "needs_background": "light"
     },
     "output_type": "display_data"
    }
   ],
   "source": [
    "fig, ax = plt.subplots(figsize=(6, 6))\n",
    "ax.scatter(short_merged_df.frequency_rank.head(n_rows), short_merged_df.recency_rank.head(n_rows), c=z, s=100)\n",
    "ax.plot([0, 50], [0, 50], color='r')\n",
    "ax.set_xlabel('$K_f$', fontsize=15)\n",
    "ax.set_ylabel('$K_s$', fontsize=15)\n",
    "plt.show()"
   ]
  },
  {
   "cell_type": "markdown",
   "metadata": {
    "slideshow": {
     "slide_type": "slide"
    }
   },
   "source": [
    "## Waiting times\n",
    "- a waiting time is the time (in seconds) between the visits to two successive locations\n",
    "- given a `TrajDataFrame`, skmob computes the waiting times for each individual independently\n",
    "- use the `waiting_times` function"
   ]
  },
  {
   "cell_type": "code",
   "execution_count": 69,
   "metadata": {
    "slideshow": {
     "slide_type": "fragment"
    }
   },
   "outputs": [],
   "source": [
    "from skmob.measures.individual import waiting_times"
   ]
  },
  {
   "cell_type": "code",
   "execution_count": 70,
   "metadata": {
    "slideshow": {
     "slide_type": "slide"
    }
   },
   "outputs": [
    {
     "name": "stderr",
     "output_type": "stream",
     "text": [
      "100%|██████████| 1231/1231 [00:02<00:00, 467.44it/s]\n"
     ]
    },
    {
     "data": {
      "text/html": [
       "<div>\n",
       "<style scoped>\n",
       "    .dataframe tbody tr th:only-of-type {\n",
       "        vertical-align: middle;\n",
       "    }\n",
       "\n",
       "    .dataframe tbody tr th {\n",
       "        vertical-align: top;\n",
       "    }\n",
       "\n",
       "    .dataframe thead th {\n",
       "        text-align: right;\n",
       "    }\n",
       "</style>\n",
       "<table border=\"1\" class=\"dataframe\">\n",
       "  <thead>\n",
       "    <tr style=\"text-align: right;\">\n",
       "      <th></th>\n",
       "      <th>uid</th>\n",
       "      <th>waiting_times</th>\n",
       "    </tr>\n",
       "  </thead>\n",
       "  <tbody>\n",
       "    <tr>\n",
       "      <th>0</th>\n",
       "      <td>0</td>\n",
       "      <td>[2358.0, 136.0, 303.0, 1836.0, 14869.0, 517.0,...</td>\n",
       "    </tr>\n",
       "    <tr>\n",
       "      <th>1</th>\n",
       "      <td>1</td>\n",
       "      <td>[43460.0, 34353.0, 8347.0, 40694.0, 281.0, 16....</td>\n",
       "    </tr>\n",
       "    <tr>\n",
       "      <th>2</th>\n",
       "      <td>2</td>\n",
       "      <td>[293.0, 308.0, 228.0, 402.0, 16086.0, 665.0, 9...</td>\n",
       "    </tr>\n",
       "    <tr>\n",
       "      <th>3</th>\n",
       "      <td>3</td>\n",
       "      <td>[10200079.0, 30864.0, 54415.0, 2135.0, 63.0, 1...</td>\n",
       "    </tr>\n",
       "    <tr>\n",
       "      <th>4</th>\n",
       "      <td>4</td>\n",
       "      <td>[82845.0, 56.0, 415156.0, 1372.0, 23.0, 42679....</td>\n",
       "    </tr>\n",
       "  </tbody>\n",
       "</table>\n",
       "</div>"
      ],
      "text/plain": [
       "   uid                                      waiting_times\n",
       "0    0  [2358.0, 136.0, 303.0, 1836.0, 14869.0, 517.0,...\n",
       "1    1  [43460.0, 34353.0, 8347.0, 40694.0, 281.0, 16....\n",
       "2    2  [293.0, 308.0, 228.0, 402.0, 16086.0, 665.0, 9...\n",
       "3    3  [10200079.0, 30864.0, 54415.0, 2135.0, 63.0, 1...\n",
       "4    4  [82845.0, 56.0, 415156.0, 1372.0, 23.0, 42679...."
      ]
     },
     "execution_count": 70,
     "metadata": {},
     "output_type": "execute_result"
    }
   ],
   "source": [
    "wt_df = waiting_times(tdf)\n",
    "wt_df.head()"
   ]
  },
  {
   "cell_type": "code",
   "execution_count": 71,
   "metadata": {
    "slideshow": {
     "slide_type": "fragment"
    }
   },
   "outputs": [
    {
     "name": "stderr",
     "output_type": "stream",
     "text": [
      "100%|██████████| 1231/1231 [00:02<00:00, 470.39it/s]\n"
     ]
    },
    {
     "data": {
      "text/plain": [
       "498769"
      ]
     },
     "execution_count": 71,
     "metadata": {},
     "output_type": "execute_result"
    }
   ],
   "source": [
    "wl_list = waiting_times(tdf, merge=True)\n",
    "len(wl_list)"
   ]
  },
  {
   "cell_type": "code",
   "execution_count": 72,
   "metadata": {
    "slideshow": {
     "slide_type": "slide"
    }
   },
   "outputs": [
    {
     "data": {
      "image/png": "[encoded data removed]",
      "text/plain": [
       "<Figure size 432x432 with 1 Axes>"
      ]
     },
     "metadata": {
      "needs_background": "light"
     },
     "output_type": "display_data"
    }
   ],
   "source": [
    "fig = plt.figure(figsize=(6, 6))\n",
    "x, y = zip(*lbpdf(1.5, wl_list[:10000]))\n",
    "plt.plot(x, y, marker='o')\n",
    "plt.grid(alpha=0.5)\n",
    "plt.xlabel('waiting times [s]', fontsize=15)\n",
    "plt.ylabel('P(waiting times)', fontsize=15)\n",
    "plt.loglog()\n",
    "plt.show()"
   ]
  },
  {
   "cell_type": "markdown",
   "metadata": {
    "slideshow": {
     "slide_type": "slide"
    }
   },
   "source": [
    "## Individual mobility network\n",
    "a network where: \n",
    "- nodes represent locations visited by the individual\n",
    "- directed edges represent trips between the locations made by the individual "
   ]
  },
  {
   "cell_type": "code",
   "execution_count": 16,
   "metadata": {
    "slideshow": {
     "slide_type": "fragment"
    }
   },
   "outputs": [],
   "source": [
    "from skmob.measures.individual import individual_mobility_network"
   ]
  },
  {
   "cell_type": "code",
   "execution_count": 17,
   "metadata": {
    "slideshow": {
     "slide_type": "slide"
    }
   },
   "outputs": [
    {
     "name": "stderr",
     "output_type": "stream",
     "text": [
      "100%|██████████| 1231/1231 [00:06<00:00, 195.82it/s]\n"
     ]
    },
    {
     "data": {
      "text/html": [
       "<div>\n",
       "<style scoped>\n",
       "    .dataframe tbody tr th:only-of-type {\n",
       "        vertical-align: middle;\n",
       "    }\n",
       "\n",
       "    .dataframe tbody tr th {\n",
       "        vertical-align: top;\n",
       "    }\n",
       "\n",
       "    .dataframe thead th {\n",
       "        text-align: right;\n",
       "    }\n",
       "</style>\n",
       "<table border=\"1\" class=\"dataframe\">\n",
       "  <thead>\n",
       "    <tr style=\"text-align: right;\">\n",
       "      <th></th>\n",
       "      <th>uid</th>\n",
       "      <th>lat_origin</th>\n",
       "      <th>lng_origin</th>\n",
       "      <th>lat_dest</th>\n",
       "      <th>lng_dest</th>\n",
       "      <th>n_trips</th>\n",
       "    </tr>\n",
       "  </thead>\n",
       "  <tbody>\n",
       "    <tr>\n",
       "      <th>0</th>\n",
       "      <td>0</td>\n",
       "      <td>37.774929</td>\n",
       "      <td>-122.419415</td>\n",
       "      <td>37.600747</td>\n",
       "      <td>-122.382376</td>\n",
       "      <td>1</td>\n",
       "    </tr>\n",
       "    <tr>\n",
       "      <th>1</th>\n",
       "      <td>0</td>\n",
       "      <td>37.600747</td>\n",
       "      <td>-122.382376</td>\n",
       "      <td>37.615223</td>\n",
       "      <td>-122.389979</td>\n",
       "      <td>1</td>\n",
       "    </tr>\n",
       "    <tr>\n",
       "      <th>2</th>\n",
       "      <td>0</td>\n",
       "      <td>37.600747</td>\n",
       "      <td>-122.382376</td>\n",
       "      <td>37.580304</td>\n",
       "      <td>-122.343679</td>\n",
       "      <td>1</td>\n",
       "    </tr>\n",
       "    <tr>\n",
       "      <th>3</th>\n",
       "      <td>0</td>\n",
       "      <td>37.615223</td>\n",
       "      <td>-122.389979</td>\n",
       "      <td>39.878664</td>\n",
       "      <td>-104.682105</td>\n",
       "      <td>1</td>\n",
       "    </tr>\n",
       "    <tr>\n",
       "      <th>4</th>\n",
       "      <td>0</td>\n",
       "      <td>37.615223</td>\n",
       "      <td>-122.389979</td>\n",
       "      <td>37.580304</td>\n",
       "      <td>-122.343679</td>\n",
       "      <td>1</td>\n",
       "    </tr>\n",
       "  </tbody>\n",
       "</table>\n",
       "</div>"
      ],
      "text/plain": [
       "   uid  lat_origin  lng_origin   lat_dest    lng_dest n_trips\n",
       "0    0   37.774929 -122.419415  37.600747 -122.382376       1\n",
       "1    0   37.600747 -122.382376  37.615223 -122.389979       1\n",
       "2    0   37.600747 -122.382376  37.580304 -122.343679       1\n",
       "3    0   37.615223 -122.389979  39.878664 -104.682105       1\n",
       "4    0   37.615223 -122.389979  37.580304 -122.343679       1"
      ]
     },
     "execution_count": 17,
     "metadata": {},
     "output_type": "execute_result"
    }
   ],
   "source": [
    "imn_df = individual_mobility_network(tdf)\n",
    "imn_df.head()"
   ]
  },
  {
   "cell_type": "code",
   "execution_count": 75,
   "metadata": {
    "slideshow": {
     "slide_type": "fragment"
    }
   },
   "outputs": [
    {
     "data": {
      "text/html": [
       "<div>\n",
       "<style scoped>\n",
       "    .dataframe tbody tr th:only-of-type {\n",
       "        vertical-align: middle;\n",
       "    }\n",
       "\n",
       "    .dataframe tbody tr th {\n",
       "        vertical-align: top;\n",
       "    }\n",
       "\n",
       "    .dataframe thead th {\n",
       "        text-align: right;\n",
       "    }\n",
       "</style>\n",
       "<table border=\"1\" class=\"dataframe\">\n",
       "  <thead>\n",
       "    <tr style=\"text-align: right;\">\n",
       "      <th></th>\n",
       "      <th>uid</th>\n",
       "      <th>lat_origin</th>\n",
       "      <th>lng_origin</th>\n",
       "      <th>lat_dest</th>\n",
       "      <th>lng_dest</th>\n",
       "      <th>n_trips</th>\n",
       "    </tr>\n",
       "  </thead>\n",
       "  <tbody>\n",
       "    <tr>\n",
       "      <th>1397</th>\n",
       "      <td>2</td>\n",
       "      <td>39.746397</td>\n",
       "      <td>-104.959766</td>\n",
       "      <td>39.750729</td>\n",
       "      <td>-104.917552</td>\n",
       "      <td>1</td>\n",
       "    </tr>\n",
       "    <tr>\n",
       "      <th>1398</th>\n",
       "      <td>2</td>\n",
       "      <td>39.746397</td>\n",
       "      <td>-104.959766</td>\n",
       "      <td>39.711161</td>\n",
       "      <td>-104.934527</td>\n",
       "      <td>1</td>\n",
       "    </tr>\n",
       "    <tr>\n",
       "      <th>1399</th>\n",
       "      <td>2</td>\n",
       "      <td>39.746397</td>\n",
       "      <td>-104.959766</td>\n",
       "      <td>39.825947</td>\n",
       "      <td>-105.145944</td>\n",
       "      <td>1</td>\n",
       "    </tr>\n",
       "    <tr>\n",
       "      <th>1400</th>\n",
       "      <td>2</td>\n",
       "      <td>39.746397</td>\n",
       "      <td>-104.959766</td>\n",
       "      <td>39.739154</td>\n",
       "      <td>-104.984703</td>\n",
       "      <td>1</td>\n",
       "    </tr>\n",
       "    <tr>\n",
       "      <th>1401</th>\n",
       "      <td>2</td>\n",
       "      <td>39.746397</td>\n",
       "      <td>-104.959766</td>\n",
       "      <td>39.785470</td>\n",
       "      <td>-104.895895</td>\n",
       "      <td>1</td>\n",
       "    </tr>\n",
       "  </tbody>\n",
       "</table>\n",
       "</div>"
      ],
      "text/plain": [
       "      uid  lat_origin  lng_origin   lat_dest    lng_dest n_trips\n",
       "1397    2   39.746397 -104.959766  39.750729 -104.917552       1\n",
       "1398    2   39.746397 -104.959766  39.711161 -104.934527       1\n",
       "1399    2   39.746397 -104.959766  39.825947 -105.145944       1\n",
       "1400    2   39.746397 -104.959766  39.739154 -104.984703       1\n",
       "1401    2   39.746397 -104.959766  39.785470 -104.895895       1"
      ]
     },
     "execution_count": 75,
     "metadata": {},
     "output_type": "execute_result"
    }
   ],
   "source": [
    "an_imn = imn_df[imn_df.uid == 2]\n",
    "an_imn.head()"
   ]
  },
  {
   "cell_type": "markdown",
   "metadata": {
    "slideshow": {
     "slide_type": "slide"
    }
   },
   "source": [
    "# Collective measures\n",
    "\n",
    "- are computed on the trajectories of a <u>population of individuals</u>\n",
    "- quantify standard *mobility patterns*\n",
    "- examples: \n",
    "    - location entropy\n",
    "    - origin destination matrix\n",
    "    - visits per time unit"
   ]
  },
  {
   "cell_type": "markdown",
   "metadata": {
    "slideshow": {
     "slide_type": "slide"
    }
   },
   "source": [
    "## Homes per location\n",
    "number of homes per location (uses `home_location`)"
   ]
  },
  {
   "cell_type": "code",
   "execution_count": 76,
   "metadata": {
    "slideshow": {
     "slide_type": "fragment"
    }
   },
   "outputs": [],
   "source": [
    "from skmob.measures.collective import homes_per_location"
   ]
  },
  {
   "cell_type": "code",
   "execution_count": 78,
   "metadata": {
    "slideshow": {
     "slide_type": "fragment"
    }
   },
   "outputs": [
    {
     "name": "stderr",
     "output_type": "stream",
     "text": [
      "100%|██████████| 1231/1231 [00:05<00:00, 218.12it/s]\n"
     ]
    },
    {
     "data": {
      "text/html": [
       "<div>\n",
       "<style scoped>\n",
       "    .dataframe tbody tr th:only-of-type {\n",
       "        vertical-align: middle;\n",
       "    }\n",
       "\n",
       "    .dataframe tbody tr th {\n",
       "        vertical-align: top;\n",
       "    }\n",
       "\n",
       "    .dataframe thead th {\n",
       "        text-align: right;\n",
       "    }\n",
       "</style>\n",
       "<table border=\"1\" class=\"dataframe\">\n",
       "  <thead>\n",
       "    <tr style=\"text-align: right;\">\n",
       "      <th></th>\n",
       "      <th>lat</th>\n",
       "      <th>lng</th>\n",
       "      <th>n_homes</th>\n",
       "    </tr>\n",
       "  </thead>\n",
       "  <tbody>\n",
       "    <tr>\n",
       "      <th>0</th>\n",
       "      <td>39.739154</td>\n",
       "      <td>-104.984703</td>\n",
       "      <td>70</td>\n",
       "    </tr>\n",
       "    <tr>\n",
       "      <th>1</th>\n",
       "      <td>37.774929</td>\n",
       "      <td>-122.419415</td>\n",
       "      <td>37</td>\n",
       "    </tr>\n",
       "    <tr>\n",
       "      <th>2</th>\n",
       "      <td>40.014986</td>\n",
       "      <td>-105.270546</td>\n",
       "      <td>31</td>\n",
       "    </tr>\n",
       "    <tr>\n",
       "      <th>3</th>\n",
       "      <td>0.000000</td>\n",
       "      <td>0.000000</td>\n",
       "      <td>27</td>\n",
       "    </tr>\n",
       "    <tr>\n",
       "      <th>4</th>\n",
       "      <td>30.267153</td>\n",
       "      <td>-97.743061</td>\n",
       "      <td>15</td>\n",
       "    </tr>\n",
       "  </tbody>\n",
       "</table>\n",
       "</div>"
      ],
      "text/plain": [
       "         lat         lng  n_homes\n",
       "0  39.739154 -104.984703       70\n",
       "1  37.774929 -122.419415       37\n",
       "2  40.014986 -105.270546       31\n",
       "3   0.000000    0.000000       27\n",
       "4  30.267153  -97.743061       15"
      ]
     },
     "execution_count": 78,
     "metadata": {},
     "output_type": "execute_result"
    }
   ],
   "source": [
    "hl_df = homes_per_location(tdf, start_night='20:00')\n",
    "hl_df.head()"
   ]
  },
  {
   "cell_type": "code",
   "execution_count": 79,
   "metadata": {
    "scrolled": true,
    "slideshow": {
     "slide_type": "slide"
    }
   },
   "outputs": [
    {
     "data": {
      "text/html": [
       "<div style=\"width:100%;\"><div style=\"position:relative;width:100%;height:0;padding-bottom:60%;\"><iframe src=\"data:text/html;charset=utf-8;base64,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\" style=\"position:absolute;width:100%;height:100%;left:0;top:0;border:none !important;\" allowfullscreen webkitallowfullscreen mozallowfullscreen></iframe></div></div>"
      ],
      "text/plain": [
       "<folium.folium.Map at 0x7f700ad80f98>"
      ]
     },
     "execution_count": 79,
     "metadata": {},
     "output_type": "execute_result"
    }
   ],
   "source": [
    "m = folium.Map(tiles = 'openstreetmap', zoom_start=10, control_scale=True)\n",
    "HeatMap(hl_df[['lat', 'lng']].values).add_to(m)\n",
    "m"
   ]
  },
  {
   "cell_type": "markdown",
   "metadata": {
    "slideshow": {
     "slide_type": "slide"
    }
   },
   "source": [
    "## Uncorrelated location entropy\n",
    "\n",
    "historical probability that an individual $u$ visits location $i$\n",
    "\n",
    "$$S_{unc}^{loc}(i) = - \\sum_{j=u}^m p_j \\log_2 p_j$$\n",
    "\n",
    "$m$ is the number of useres that visited location $i$"
   ]
  },
  {
   "cell_type": "code",
   "execution_count": 80,
   "metadata": {
    "slideshow": {
     "slide_type": "slide"
    }
   },
   "outputs": [],
   "source": [
    "from skmob.measures.collective import uncorrelated_location_entropy"
   ]
  },
  {
   "cell_type": "code",
   "execution_count": 81,
   "metadata": {
    "slideshow": {
     "slide_type": "fragment"
    }
   },
   "outputs": [
    {
     "name": "stderr",
     "output_type": "stream",
     "text": [
      "100%|██████████| 77917/77917 [01:15<00:00, 1038.57it/s]\n"
     ]
    },
    {
     "data": {
      "text/html": [
       "<div>\n",
       "<style scoped>\n",
       "    .dataframe tbody tr th:only-of-type {\n",
       "        vertical-align: middle;\n",
       "    }\n",
       "\n",
       "    .dataframe tbody tr th {\n",
       "        vertical-align: top;\n",
       "    }\n",
       "\n",
       "    .dataframe thead th {\n",
       "        text-align: right;\n",
       "    }\n",
       "</style>\n",
       "<table border=\"1\" class=\"dataframe\">\n",
       "  <thead>\n",
       "    <tr style=\"text-align: right;\">\n",
       "      <th></th>\n",
       "      <th>lat</th>\n",
       "      <th>lng</th>\n",
       "      <th>uncorrelated_location_entropy</th>\n",
       "    </tr>\n",
       "  </thead>\n",
       "  <tbody>\n",
       "    <tr>\n",
       "      <th>0</th>\n",
       "      <td>-94.578567</td>\n",
       "      <td>39.099727</td>\n",
       "      <td>0.0</td>\n",
       "    </tr>\n",
       "    <tr>\n",
       "      <th>1</th>\n",
       "      <td>-90.000000</td>\n",
       "      <td>0.000000</td>\n",
       "      <td>0.0</td>\n",
       "    </tr>\n",
       "    <tr>\n",
       "      <th>2</th>\n",
       "      <td>-75.250973</td>\n",
       "      <td>-0.071389</td>\n",
       "      <td>0.0</td>\n",
       "    </tr>\n",
       "    <tr>\n",
       "      <th>3</th>\n",
       "      <td>-70.683333</td>\n",
       "      <td>-44.316667</td>\n",
       "      <td>0.0</td>\n",
       "    </tr>\n",
       "    <tr>\n",
       "      <th>4</th>\n",
       "      <td>-45.032284</td>\n",
       "      <td>168.660278</td>\n",
       "      <td>0.0</td>\n",
       "    </tr>\n",
       "  </tbody>\n",
       "</table>\n",
       "</div>"
      ],
      "text/plain": [
       "         lat         lng  uncorrelated_location_entropy\n",
       "0 -94.578567   39.099727                            0.0\n",
       "1 -90.000000    0.000000                            0.0\n",
       "2 -75.250973   -0.071389                            0.0\n",
       "3 -70.683333  -44.316667                            0.0\n",
       "4 -45.032284  168.660278                            0.0"
      ]
     },
     "execution_count": 81,
     "metadata": {},
     "output_type": "execute_result"
    }
   ],
   "source": [
    "ule_df = uncorrelated_location_entropy(tdf, show_progress=True)\n",
    "ule_df.head()"
   ]
  },
  {
   "cell_type": "code",
   "execution_count": 82,
   "metadata": {
    "slideshow": {
     "slide_type": "slide"
    }
   },
   "outputs": [
    {
     "data": {
      "image/png": "[encoded data removed]",
      "text/plain": [
       "<Figure size 432x288 with 1 Axes>"
      ]
     },
     "metadata": {
      "needs_background": "light"
     },
     "output_type": "display_data"
    }
   ],
   "source": [
    "fig = plt.figure()\n",
    "plt.hist(ule_df.uncorrelated_location_entropy)\n",
    "plt.xlabel('unc loc entropy', fontsize=15)\n",
    "plt.show()"
   ]
  },
  {
   "cell_type": "markdown",
   "metadata": {
    "slideshow": {
     "slide_type": "slide"
    }
   },
   "source": [
    "## Visits per location\n",
    "\n",
    "number of visits to a location made by the population of individuals"
   ]
  },
  {
   "cell_type": "code",
   "execution_count": 83,
   "metadata": {
    "slideshow": {
     "slide_type": "fragment"
    }
   },
   "outputs": [],
   "source": [
    "from skmob.measures.collective import visits_per_location"
   ]
  },
  {
   "cell_type": "code",
   "execution_count": 84,
   "metadata": {
    "slideshow": {
     "slide_type": "fragment"
    }
   },
   "outputs": [
    {
     "data": {
      "text/html": [
       "<div>\n",
       "<style scoped>\n",
       "    .dataframe tbody tr th:only-of-type {\n",
       "        vertical-align: middle;\n",
       "    }\n",
       "\n",
       "    .dataframe tbody tr th {\n",
       "        vertical-align: top;\n",
       "    }\n",
       "\n",
       "    .dataframe thead th {\n",
       "        text-align: right;\n",
       "    }\n",
       "</style>\n",
       "<table border=\"1\" class=\"dataframe\">\n",
       "  <thead>\n",
       "    <tr style=\"text-align: right;\">\n",
       "      <th></th>\n",
       "      <th>lat</th>\n",
       "      <th>lng</th>\n",
       "      <th>n_visits</th>\n",
       "    </tr>\n",
       "  </thead>\n",
       "  <tbody>\n",
       "    <tr>\n",
       "      <th>0</th>\n",
       "      <td>0.000000</td>\n",
       "      <td>0.000000</td>\n",
       "      <td>10378</td>\n",
       "    </tr>\n",
       "    <tr>\n",
       "      <th>1</th>\n",
       "      <td>39.739154</td>\n",
       "      <td>-104.984703</td>\n",
       "      <td>9958</td>\n",
       "    </tr>\n",
       "    <tr>\n",
       "      <th>2</th>\n",
       "      <td>40.014986</td>\n",
       "      <td>-105.270546</td>\n",
       "      <td>4548</td>\n",
       "    </tr>\n",
       "    <tr>\n",
       "      <th>3</th>\n",
       "      <td>37.774929</td>\n",
       "      <td>-122.419415</td>\n",
       "      <td>3615</td>\n",
       "    </tr>\n",
       "    <tr>\n",
       "      <th>4</th>\n",
       "      <td>40.714269</td>\n",
       "      <td>-74.005973</td>\n",
       "      <td>2881</td>\n",
       "    </tr>\n",
       "  </tbody>\n",
       "</table>\n",
       "</div>"
      ],
      "text/plain": [
       "         lat         lng  n_visits\n",
       "0   0.000000    0.000000     10378\n",
       "1  39.739154 -104.984703      9958\n",
       "2  40.014986 -105.270546      4548\n",
       "3  37.774929 -122.419415      3615\n",
       "4  40.714269  -74.005973      2881"
      ]
     },
     "execution_count": 84,
     "metadata": {},
     "output_type": "execute_result"
    }
   ],
   "source": [
    "vpl_df = visits_per_location(tdf)\n",
    "vpl_df.head()"
   ]
  },
  {
   "cell_type": "code",
   "execution_count": 86,
   "metadata": {
    "slideshow": {
     "slide_type": "slide"
    }
   },
   "outputs": [
    {
     "data": {
      "image/png": "[encoded data removed]",
      "text/plain": [
       "<Figure size 432x432 with 1 Axes>"
      ]
     },
     "metadata": {
      "needs_background": "light"
     },
     "output_type": "display_data"
    }
   ],
   "source": [
    "fig = plt.figure(figsize=(6, 6))\n",
    "x, y = zip(*lbpdf(1.5, list(vpl_df.n_visits)))\n",
    "plt.plot(x, y, marker='o')\n",
    "plt.xlabel('visits per location', fontsize=15)\n",
    "plt.loglog()\n",
    "plt.show()"
   ]
  },
  {
   "cell_type": "markdown",
   "metadata": {
    "slideshow": {
     "slide_type": "slide"
    }
   },
   "source": [
    "## Visits per time unit\n",
    "\n",
    "number of visits of the population of individuals in a time slot (default: 1 hour)\n"
   ]
  },
  {
   "cell_type": "code",
   "execution_count": 87,
   "metadata": {
    "slideshow": {
     "slide_type": "fragment"
    }
   },
   "outputs": [],
   "source": [
    "from skmob.measures.collective import visits_per_time_unit"
   ]
  },
  {
   "cell_type": "code",
   "execution_count": 88,
   "metadata": {
    "slideshow": {
     "slide_type": "fragment"
    }
   },
   "outputs": [
    {
     "data": {
      "text/html": [
       "<div>\n",
       "<style scoped>\n",
       "    .dataframe tbody tr th:only-of-type {\n",
       "        vertical-align: middle;\n",
       "    }\n",
       "\n",
       "    .dataframe tbody tr th {\n",
       "        vertical-align: top;\n",
       "    }\n",
       "\n",
       "    .dataframe thead th {\n",
       "        text-align: right;\n",
       "    }\n",
       "</style>\n",
       "<table border=\"1\" class=\"dataframe\">\n",
       "  <thead>\n",
       "    <tr style=\"text-align: right;\">\n",
       "      <th></th>\n",
       "      <th>n_visits</th>\n",
       "    </tr>\n",
       "    <tr>\n",
       "      <th>datetime</th>\n",
       "      <th></th>\n",
       "    </tr>\n",
       "  </thead>\n",
       "  <tbody>\n",
       "    <tr>\n",
       "      <th>2008-03-22 05:00:00+00:00</th>\n",
       "      <td>2</td>\n",
       "    </tr>\n",
       "    <tr>\n",
       "      <th>2008-03-22 06:00:00+00:00</th>\n",
       "      <td>2</td>\n",
       "    </tr>\n",
       "    <tr>\n",
       "      <th>2008-03-22 07:00:00+00:00</th>\n",
       "      <td>0</td>\n",
       "    </tr>\n",
       "    <tr>\n",
       "      <th>2008-03-22 08:00:00+00:00</th>\n",
       "      <td>0</td>\n",
       "    </tr>\n",
       "    <tr>\n",
       "      <th>2008-03-22 09:00:00+00:00</th>\n",
       "      <td>0</td>\n",
       "    </tr>\n",
       "  </tbody>\n",
       "</table>\n",
       "</div>"
      ],
      "text/plain": [
       "                           n_visits\n",
       "datetime                           \n",
       "2008-03-22 05:00:00+00:00         2\n",
       "2008-03-22 06:00:00+00:00         2\n",
       "2008-03-22 07:00:00+00:00         0\n",
       "2008-03-22 08:00:00+00:00         0\n",
       "2008-03-22 09:00:00+00:00         0"
      ]
     },
     "execution_count": 88,
     "metadata": {},
     "output_type": "execute_result"
    }
   ],
   "source": [
    "vtu_df = visits_per_time_unit(tdf)\n",
    "vtu_df.head()"
   ]
  },
  {
   "cell_type": "code",
   "execution_count": 91,
   "metadata": {
    "slideshow": {
     "slide_type": "slide"
    }
   },
   "outputs": [
    {
     "name": "stderr",
     "output_type": "stream",
     "text": [
      "/home/lucpappalard/miniconda3/envs/skmob/lib/python3.7/site-packages/pandas-0.24.2-py3.7-linux-x86_64.egg/pandas/core/arrays/datetimes.py:1172: UserWarning: Converting to PeriodArray/Index representation will drop timezone information.\n",
      "  \"will drop timezone information.\", UserWarning)\n"
     ]
    },
    {
     "data": {
      "image/png": "[encoded data removed]",
      "text/plain": [
       "<Figure size 432x288 with 1 Axes>"
      ]
     },
     "metadata": {
      "needs_background": "light"
     },
     "output_type": "display_data"
    }
   ],
   "source": [
    "vtu_df.plot()\n",
    "plt.show()"
   ]
  },
  {
   "cell_type": "markdown",
   "metadata": {
    "slideshow": {
     "slide_type": "slide"
    }
   },
   "source": [
    "## Origin destination matrix\n",
    "\n",
    "a network where: \n",
    "- nodes represent locations visited by the population of individuals\n",
    "- directed edges represent trips between the locations made by the individuals"
   ]
  },
  {
   "cell_type": "code",
   "execution_count": 92,
   "metadata": {
    "slideshow": {
     "slide_type": "slide"
    }
   },
   "outputs": [],
   "source": [
    "from skmob.measures.collective import origin_destination_matrix"
   ]
  },
  {
   "cell_type": "code",
   "execution_count": 93,
   "metadata": {
    "slideshow": {
     "slide_type": "fragment"
    }
   },
   "outputs": [
    {
     "name": "stderr",
     "output_type": "stream",
     "text": [
      "100%|██████████| 1231/1231 [00:02<00:00, 449.37it/s]\n"
     ]
    },
    {
     "data": {
      "text/html": [
       "<div>\n",
       "<style scoped>\n",
       "    .dataframe tbody tr th:only-of-type {\n",
       "        vertical-align: middle;\n",
       "    }\n",
       "\n",
       "    .dataframe tbody tr th {\n",
       "        vertical-align: top;\n",
       "    }\n",
       "\n",
       "    .dataframe thead th {\n",
       "        text-align: right;\n",
       "    }\n",
       "</style>\n",
       "<table border=\"1\" class=\"dataframe\">\n",
       "  <thead>\n",
       "    <tr style=\"text-align: right;\">\n",
       "      <th></th>\n",
       "      <th>lat_origin</th>\n",
       "      <th>lng_origin</th>\n",
       "      <th>lat_dest</th>\n",
       "      <th>lng_dest</th>\n",
       "      <th>n_trips</th>\n",
       "    </tr>\n",
       "  </thead>\n",
       "  <tbody>\n",
       "    <tr>\n",
       "      <th>0</th>\n",
       "      <td>37.774929</td>\n",
       "      <td>-122.419415</td>\n",
       "      <td>37.600747</td>\n",
       "      <td>-122.382376</td>\n",
       "      <td>3</td>\n",
       "    </tr>\n",
       "    <tr>\n",
       "      <th>1</th>\n",
       "      <td>37.774929</td>\n",
       "      <td>-122.419415</td>\n",
       "      <td>37.630490</td>\n",
       "      <td>-122.411084</td>\n",
       "      <td>8</td>\n",
       "    </tr>\n",
       "    <tr>\n",
       "      <th>2</th>\n",
       "      <td>37.774929</td>\n",
       "      <td>-122.419415</td>\n",
       "      <td>37.584103</td>\n",
       "      <td>-122.366083</td>\n",
       "      <td>55</td>\n",
       "    </tr>\n",
       "    <tr>\n",
       "      <th>3</th>\n",
       "      <td>37.774929</td>\n",
       "      <td>-122.419415</td>\n",
       "      <td>37.613825</td>\n",
       "      <td>-122.486919</td>\n",
       "      <td>2</td>\n",
       "    </tr>\n",
       "    <tr>\n",
       "      <th>4</th>\n",
       "      <td>37.774929</td>\n",
       "      <td>-122.419415</td>\n",
       "      <td>37.654656</td>\n",
       "      <td>-122.407750</td>\n",
       "      <td>12</td>\n",
       "    </tr>\n",
       "  </tbody>\n",
       "</table>\n",
       "</div>"
      ],
      "text/plain": [
       "   lat_origin  lng_origin   lat_dest    lng_dest  n_trips\n",
       "0   37.774929 -122.419415  37.600747 -122.382376        3\n",
       "1   37.774929 -122.419415  37.630490 -122.411084        8\n",
       "2   37.774929 -122.419415  37.584103 -122.366083       55\n",
       "3   37.774929 -122.419415  37.613825 -122.486919        2\n",
       "4   37.774929 -122.419415  37.654656 -122.407750       12"
      ]
     },
     "execution_count": 93,
     "metadata": {},
     "output_type": "execute_result"
    }
   ],
   "source": [
    "od_df = origin_destination_matrix(tdf)\n",
    "od_df.head()"
   ]
  }
 ],
 "metadata": {
  "anaconda-cloud": {},
  "celltoolbar": "Slideshow",
  "hide_input": false,
  "kernelspec": {
   "display_name": "Python [conda env:skmob]",
   "language": "python",
   "name": "skmob"
  },
  "language_info": {
   "codemirror_mode": {
    "name": "ipython",
    "version": 3
   },
   "file_extension": ".py",
   "mimetype": "text/x-python",
   "name": "python",
   "nbconvert_exporter": "python",
   "pygments_lexer": "ipython3",
   "version": "3.7.3"
  },
  "latex_envs": {
   "LaTeX_envs_menu_present": true,
   "autoclose": false,
   "autocomplete": true,
   "bibliofile": "biblio.bib",
   "cite_by": "apalike",
   "current_citInitial": 1,
   "eqLabelWithNumbers": true,
   "eqNumInitial": 1,
   "hotkeys": {
    "equation": "Ctrl-E",
    "itemize": "Ctrl-I"
   },
   "labels_anchors": false,
   "latex_user_defs": false,
   "report_style_numbering": true,
   "user_envs_cfg": false
  }
 },
 "nbformat": 4,
 "nbformat_minor": 1
}
