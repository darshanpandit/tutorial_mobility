{
 "cells": [
  {
   "cell_type": "markdown",
   "metadata": {
    "slideshow": {
     "slide_type": "slide"
    }
   },
   "source": [
    "# Human Mobility Measures\n",
    "\n",
    "we can compute on a `TrajDataFrame` two types of measures:\n",
    "\n",
    "- **individual measures**, describing features related to the mobility patterns of a single individual\n",
    "- **collective measures**, describing the mobility patterns of an entire population of individuals"
   ]
  },
  {
   "cell_type": "code",
   "execution_count": 1,
   "metadata": {
    "slideshow": {
     "slide_type": "slide"
    }
   },
   "outputs": [],
   "source": [
    "# let's import some useful libraries\n",
    "%matplotlib inline\n",
    "import matplotlib.pyplot as plt\n",
    "from scipy.stats import gaussian_kde\n",
    "import pandas as pd\n",
    "from stats_utils import *\n",
    "from tqdm import tqdm\n",
    "import folium\n",
    "from folium.plugins import HeatMap"
   ]
  },
  {
   "cell_type": "code",
   "execution_count": 2,
   "metadata": {
    "slideshow": {
     "slide_type": "fragment"
    }
   },
   "outputs": [],
   "source": [
    "# let's import skmob's data structures\n",
    "import skmob\n",
    "from skmob import TrajDataFrame, FlowDataFrame"
   ]
  },
  {
   "cell_type": "markdown",
   "metadata": {
    "slideshow": {
     "slide_type": "slide"
    }
   },
   "source": [
    "## Loading the data\n",
    "- We load data of *checkins* made by users on **Brightkite**\n",
    "- Brightkite is a location-based social network (LBSN)\n",
    "- The dataset is freely available at the SNAP website: https://snap.stanford.edu/data/loc-brightkite.html"
   ]
  },
  {
   "cell_type": "code",
   "execution_count": 3,
   "metadata": {
    "slideshow": {
     "slide_type": "subslide"
    }
   },
   "outputs": [
    {
     "data": {
      "text/html": [
       "<div>\n",
       "<style scoped>\n",
       "    .dataframe tbody tr th:only-of-type {\n",
       "        vertical-align: middle;\n",
       "    }\n",
       "\n",
       "    .dataframe tbody tr th {\n",
       "        vertical-align: top;\n",
       "    }\n",
       "\n",
       "    .dataframe thead th {\n",
       "        text-align: right;\n",
       "    }\n",
       "</style>\n",
       "<table border=\"1\" class=\"dataframe\">\n",
       "  <thead>\n",
       "    <tr style=\"text-align: right;\">\n",
       "      <th></th>\n",
       "      <th>uid</th>\n",
       "      <th>datetime</th>\n",
       "      <th>lat</th>\n",
       "      <th>lng</th>\n",
       "      <th>location id</th>\n",
       "    </tr>\n",
       "  </thead>\n",
       "  <tbody>\n",
       "    <tr>\n",
       "      <th>0</th>\n",
       "      <td>0</td>\n",
       "      <td>2010-10-16 06:02:04+00:00</td>\n",
       "      <td>39.891383</td>\n",
       "      <td>-105.070814</td>\n",
       "      <td>7a0f88982aa015062b95e3b4843f9ca2</td>\n",
       "    </tr>\n",
       "    <tr>\n",
       "      <th>1</th>\n",
       "      <td>0</td>\n",
       "      <td>2010-10-16 03:48:54+00:00</td>\n",
       "      <td>39.891077</td>\n",
       "      <td>-105.068532</td>\n",
       "      <td>dd7cd3d264c2d063832db506fba8bf79</td>\n",
       "    </tr>\n",
       "    <tr>\n",
       "      <th>2</th>\n",
       "      <td>0</td>\n",
       "      <td>2010-10-14 18:25:51+00:00</td>\n",
       "      <td>39.750469</td>\n",
       "      <td>-104.999073</td>\n",
       "      <td>9848afcc62e500a01cf6fbf24b797732f8963683</td>\n",
       "    </tr>\n",
       "    <tr>\n",
       "      <th>3</th>\n",
       "      <td>0</td>\n",
       "      <td>2010-10-14 00:21:47+00:00</td>\n",
       "      <td>39.752713</td>\n",
       "      <td>-104.996337</td>\n",
       "      <td>2ef143e12038c870038df53e0478cefc</td>\n",
       "    </tr>\n",
       "    <tr>\n",
       "      <th>4</th>\n",
       "      <td>0</td>\n",
       "      <td>2010-10-13 23:31:51+00:00</td>\n",
       "      <td>39.752508</td>\n",
       "      <td>-104.996637</td>\n",
       "      <td>424eb3dd143292f9e013efa00486c907</td>\n",
       "    </tr>\n",
       "  </tbody>\n",
       "</table>\n",
       "</div>"
      ],
      "text/plain": [
       "   uid                  datetime        lat         lng  \\\n",
       "0    0 2010-10-16 06:02:04+00:00  39.891383 -105.070814   \n",
       "1    0 2010-10-16 03:48:54+00:00  39.891077 -105.068532   \n",
       "2    0 2010-10-14 18:25:51+00:00  39.750469 -104.999073   \n",
       "3    0 2010-10-14 00:21:47+00:00  39.752713 -104.996337   \n",
       "4    0 2010-10-13 23:31:51+00:00  39.752508 -104.996637   \n",
       "\n",
       "                                location id  \n",
       "0          7a0f88982aa015062b95e3b4843f9ca2  \n",
       "1          dd7cd3d264c2d063832db506fba8bf79  \n",
       "2  9848afcc62e500a01cf6fbf24b797732f8963683  \n",
       "3          2ef143e12038c870038df53e0478cefc  \n",
       "4          424eb3dd143292f9e013efa00486c907  "
      ]
     },
     "execution_count": 3,
     "metadata": {},
     "output_type": "execute_result"
    }
   ],
   "source": [
    "# we download the d ataset using pandas\n",
    "url = \"https://snap.stanford.edu/data/loc-brightkite_totalCheckins.txt.gz\"\n",
    "df = pd.read_csv(url, sep='\\t', header=0, nrows=500000, \n",
    "                 names=['user', 'check-in_time', \n",
    "                        \"latitude\", \"longitude\", \n",
    "                        \"location id\"])\n",
    "\n",
    "# we convert the pandas DataFrame into an skmob TrajDataFrame\n",
    "tdf = skmob.TrajDataFrame(df, latitude='latitude', \n",
    "                          longitude='longitude', \n",
    "                          datetime='check-in_time',\n",
    "                          user_id='user')\n",
    "tdf.head()"
   ]
  },
  {
   "cell_type": "code",
   "execution_count": 4,
   "metadata": {
    "slideshow": {
     "slide_type": "subslide"
    }
   },
   "outputs": [
    {
     "name": "stdout",
     "output_type": "stream",
     "text": [
      "number of users:\t 1231\n",
      "number of records:\t 500000\n"
     ]
    }
   ],
   "source": [
    "print(\"number of users:\\t\", len(tdf.uid.unique()))\n",
    "print(\"number of records:\\t\", len(tdf))"
   ]
  },
  {
   "cell_type": "markdown",
   "metadata": {
    "slideshow": {
     "slide_type": "slide"
    }
   },
   "source": [
    "# Individual measures\n",
    "\n",
    "- are computed on the trajectories of a <u>single individual</u>\n",
    "- quantify standard *mobility patterns*\n",
    "- examples: \n",
    "    - length of displacements\n",
    "    - charateristic distance\n",
    "    - visitation frequency\n",
    "    - predictability of an individual"
   ]
  },
  {
   "cell_type": "markdown",
   "metadata": {
    "slideshow": {
     "slide_type": "slide"
    }
   },
   "source": [
    "## Jump lengths\n",
    "- a jump length is is the distance between two consecutive visits of an individual\n",
    "- given a `TrajDataFrame`, skmob computes the lengths for each individual independently\n",
    "- use the `jump_lengths` function"
   ]
  },
  {
   "cell_type": "code",
   "execution_count": 5,
   "metadata": {
    "slideshow": {
     "slide_type": "slide"
    }
   },
   "outputs": [
    {
     "name": "stderr",
     "output_type": "stream",
     "text": [
      "/home/darshan/anaconda3/envs/test/lib/python3.7/site-packages/tqdm-4.37.0-py3.7.egg/tqdm/std.py:651: FutureWarning: The Panel class is removed from pandas. Accessing it from the top-level namespace will also be removed in the next version\n",
      "  from pandas import Panel\n"
     ]
    }
   ],
   "source": [
    "from skmob.measures.individual import jump_lengths"
   ]
  },
  {
   "cell_type": "code",
   "execution_count": 6,
   "metadata": {
    "scrolled": true,
    "slideshow": {
     "slide_type": "fragment"
    }
   },
   "outputs": [
    {
     "name": "stderr",
     "output_type": "stream",
     "text": [
      "100%|██████████| 1231/1231 [00:03<00:00, 360.75it/s]\n"
     ]
    },
    {
     "data": {
      "text/html": [
       "<div>\n",
       "<style scoped>\n",
       "    .dataframe tbody tr th:only-of-type {\n",
       "        vertical-align: middle;\n",
       "    }\n",
       "\n",
       "    .dataframe tbody tr th {\n",
       "        vertical-align: top;\n",
       "    }\n",
       "\n",
       "    .dataframe thead th {\n",
       "        text-align: right;\n",
       "    }\n",
       "</style>\n",
       "<table border=\"1\" class=\"dataframe\">\n",
       "  <thead>\n",
       "    <tr style=\"text-align: right;\">\n",
       "      <th></th>\n",
       "      <th>uid</th>\n",
       "      <th>jump_lengths</th>\n",
       "    </tr>\n",
       "  </thead>\n",
       "  <tbody>\n",
       "    <tr>\n",
       "      <th>0</th>\n",
       "      <td>0</td>\n",
       "      <td>[19.640467328877936, 0.0, 0.0, 1.7434311010381...</td>\n",
       "    </tr>\n",
       "    <tr>\n",
       "      <th>1</th>\n",
       "      <td>1</td>\n",
       "      <td>[6.505330424378251, 46.75436600375988, 53.9284...</td>\n",
       "    </tr>\n",
       "    <tr>\n",
       "      <th>2</th>\n",
       "      <td>2</td>\n",
       "      <td>[0.0, 0.0, 0.0, 0.0, 3.6410097195943507, 0.0, ...</td>\n",
       "    </tr>\n",
       "    <tr>\n",
       "      <th>3</th>\n",
       "      <td>3</td>\n",
       "      <td>[3861.2706300798827, 4.061631313492122, 5.9163...</td>\n",
       "    </tr>\n",
       "    <tr>\n",
       "      <th>4</th>\n",
       "      <td>4</td>\n",
       "      <td>[15511.92758595804, 0.0, 15511.92758595804, 1....</td>\n",
       "    </tr>\n",
       "  </tbody>\n",
       "</table>\n",
       "</div>"
      ],
      "text/plain": [
       "   uid                                       jump_lengths\n",
       "0    0  [19.640467328877936, 0.0, 0.0, 1.7434311010381...\n",
       "1    1  [6.505330424378251, 46.75436600375988, 53.9284...\n",
       "2    2  [0.0, 0.0, 0.0, 0.0, 3.6410097195943507, 0.0, ...\n",
       "3    3  [3861.2706300798827, 4.061631313492122, 5.9163...\n",
       "4    4  [15511.92758595804, 0.0, 15511.92758595804, 1...."
      ]
     },
     "execution_count": 6,
     "metadata": {},
     "output_type": "execute_result"
    }
   ],
   "source": [
    "# to disable the progress bar, show_progress=False\n",
    "jl_df = jump_lengths(tdf)\n",
    "jl_df.head()"
   ]
  },
  {
   "cell_type": "code",
   "execution_count": 7,
   "metadata": {
    "slideshow": {
     "slide_type": "fragment"
    }
   },
   "outputs": [
    {
     "name": "stderr",
     "output_type": "stream",
     "text": [
      "100%|██████████| 1231/1231 [00:03<00:00, 355.88it/s]\n"
     ]
    },
    {
     "data": {
      "text/plain": [
       "list"
      ]
     },
     "execution_count": 7,
     "metadata": {},
     "output_type": "execute_result"
    }
   ],
   "source": [
    "# merge=True put all distances of the individuals into a single list\n",
    "jl_list = jump_lengths(tdf, merge=True)\n",
    "type(jl_list)"
   ]
  },
  {
   "cell_type": "code",
   "execution_count": 8,
   "metadata": {
    "code_folding": [
     0
    ],
    "slideshow": {
     "slide_type": "slide"
    }
   },
   "outputs": [
    {
     "data": {
      "image/png": "[encoded data removed]",
      "text/plain": [
       "<Figure size 432x288 with 1 Axes>"
      ]
     },
     "metadata": {
      "needs_background": "light"
     },
     "output_type": "display_data"
    }
   ],
   "source": [
    "# let's plot the distribution of jump lengths\n",
    "fig = plt.figure()\n",
    "x, y = zip(*lbpdf(2.0, [dist for dist in jl_list[:10000] if dist >= 1]))\n",
    "plt.plot(x, y, marker='o')\n",
    "plt.grid(alpha=0.2) \n",
    "plt.xlabel('jump length [km]', fontsize=15)\n",
    "plt.ylabel('P(jump length)', fontsize=15)\n",
    "plt.loglog()\n",
    "plt.show()"
   ]
  },
  {
   "cell_type": "markdown",
   "metadata": {
    "slideshow": {
     "slide_type": "slide"
    }
   },
   "source": [
    "### Other types of distances\n",
    "\n",
    "- maximum distance traveled by each individual `maximum_distance`\n",
    "- sum of distances of an individual `distance_straight_line`\n",
    "- maximum distance traved by an individual for their home `max_distance_from_home`"
   ]
  },
  {
   "cell_type": "code",
   "execution_count": 9,
   "metadata": {
    "slideshow": {
     "slide_type": "slide"
    }
   },
   "outputs": [],
   "source": [
    "from skmob.measures.individual import max_distance_from_home, distance_straight_line, maximum_distance"
   ]
  },
  {
   "cell_type": "code",
   "execution_count": 10,
   "metadata": {
    "slideshow": {
     "slide_type": "fragment"
    }
   },
   "outputs": [
    {
     "name": "stderr",
     "output_type": "stream",
     "text": [
      "100%|██████████| 1231/1231 [00:03<00:00, 357.16it/s]\n"
     ]
    }
   ],
   "source": [
    "md_df = maximum_distance(tdf)"
   ]
  },
  {
   "cell_type": "code",
   "execution_count": 11,
   "metadata": {
    "slideshow": {
     "slide_type": "fragment"
    }
   },
   "outputs": [
    {
     "name": "stderr",
     "output_type": "stream",
     "text": [
      "100%|██████████| 1231/1231 [00:03<00:00, 354.47it/s]\n"
     ]
    }
   ],
   "source": [
    "sld_df = distance_straight_line(tdf)"
   ]
  },
  {
   "cell_type": "code",
   "execution_count": 12,
   "metadata": {
    "slideshow": {
     "slide_type": "fragment"
    }
   },
   "outputs": [
    {
     "name": "stderr",
     "output_type": "stream",
     "text": [
      "100%|██████████| 1231/1231 [00:11<00:00, 108.31it/s]\n"
     ]
    },
    {
     "data": {
      "text/html": [
       "<div>\n",
       "<style scoped>\n",
       "    .dataframe tbody tr th:only-of-type {\n",
       "        vertical-align: middle;\n",
       "    }\n",
       "\n",
       "    .dataframe tbody tr th {\n",
       "        vertical-align: top;\n",
       "    }\n",
       "\n",
       "    .dataframe thead th {\n",
       "        text-align: right;\n",
       "    }\n",
       "</style>\n",
       "<table border=\"1\" class=\"dataframe\">\n",
       "  <thead>\n",
       "    <tr style=\"text-align: right;\">\n",
       "      <th></th>\n",
       "      <th>uid</th>\n",
       "      <th>max_distance_from_home</th>\n",
       "    </tr>\n",
       "  </thead>\n",
       "  <tbody>\n",
       "    <tr>\n",
       "      <th>0</th>\n",
       "      <td>0</td>\n",
       "      <td>11286.942949</td>\n",
       "    </tr>\n",
       "    <tr>\n",
       "      <th>1</th>\n",
       "      <td>1</td>\n",
       "      <td>12800.547682</td>\n",
       "    </tr>\n",
       "    <tr>\n",
       "      <th>2</th>\n",
       "      <td>2</td>\n",
       "      <td>11282.748348</td>\n",
       "    </tr>\n",
       "    <tr>\n",
       "      <th>3</th>\n",
       "      <td>3</td>\n",
       "      <td>12799.754644</td>\n",
       "    </tr>\n",
       "    <tr>\n",
       "      <th>4</th>\n",
       "      <td>4</td>\n",
       "      <td>15512.788707</td>\n",
       "    </tr>\n",
       "  </tbody>\n",
       "</table>\n",
       "</div>"
      ],
      "text/plain": [
       "   uid  max_distance_from_home\n",
       "0    0            11286.942949\n",
       "1    1            12800.547682\n",
       "2    2            11282.748348\n",
       "3    3            12799.754644\n",
       "4    4            15512.788707"
      ]
     },
     "execution_count": 12,
     "metadata": {},
     "output_type": "execute_result"
    }
   ],
   "source": [
    "mdh_df = max_distance_from_home(tdf)\n",
    "mdh_df.head()"
   ]
  },
  {
   "cell_type": "code",
   "execution_count": 13,
   "metadata": {
    "slideshow": {
     "slide_type": "slide"
    }
   },
   "outputs": [
    {
     "name": "stderr",
     "output_type": "stream",
     "text": [
      "/home/darshan/anaconda3/envs/test/lib/python3.7/site-packages/numpy/lib/histograms.py:829: RuntimeWarning: invalid value encountered in greater_equal\n",
      "  keep = (tmp_a >= first_edge)\n",
      "/home/darshan/anaconda3/envs/test/lib/python3.7/site-packages/numpy/lib/histograms.py:830: RuntimeWarning: invalid value encountered in less_equal\n",
      "  keep &= (tmp_a <= last_edge)\n"
     ]
    },
    {
     "data": {
      "image/png": "[encoded data removed]",
      "text/plain": [
       "<Figure size 432x288 with 3 Axes>"
      ]
     },
     "metadata": {
      "needs_background": "light"
     },
     "output_type": "display_data"
    }
   ],
   "source": [
    "# let's plot the distribution of those three measures\n",
    "fig, (ax1, ax2, ax3) = plt.subplots(1, 3)\n",
    "ax1.hist(md_df.maximum_distance, bins=10, rwidth=0.8)\n",
    "ax1.set_xlabel('max', fontsize=15)\n",
    "x, y = zip(*lbpdf(2.0, list(sld_df.distance_straight_line)))\n",
    "ax2.plot(x, y, marker='o')\n",
    "ax2.loglog()\n",
    "ax2.set_xlabel('straight', fontsize=15)\n",
    "ax3.hist(mdh_df.max_distance_from_home, bins=10, rwidth=0.8)\n",
    "ax3.set_xlabel('from home', fontsize=15)\n",
    "plt.show()"
   ]
  },
  {
   "cell_type": "markdown",
   "metadata": {
    "slideshow": {
     "slide_type": "slide"
    }
   },
   "source": [
    "## Radius of gyration $r_g$\n",
    "characteristic distance traveled by an individual:\n",
    "\n",
    "$$r_g = \\sqrt{\\frac{1}{N} \\sum_{i=1}^N (\\mathbf{r}_i - \\mathbf{r}_{cm})^2}$$\n",
    "\n",
    "$r_{cm}$ is the position vector of the *center of mass* of the set of locations visited by the individual"
   ]
  },
  {
   "cell_type": "code",
   "execution_count": 14,
   "metadata": {
    "slideshow": {
     "slide_type": "slide"
    }
   },
   "outputs": [],
   "source": [
    "from skmob.measures.individual import radius_of_gyration"
   ]
  },
  {
   "cell_type": "code",
   "execution_count": 15,
   "metadata": {
    "slideshow": {
     "slide_type": "fragment"
    }
   },
   "outputs": [
    {
     "name": "stderr",
     "output_type": "stream",
     "text": [
      "100%|██████████| 1231/1231 [00:02<00:00, 426.91it/s]\n"
     ]
    },
    {
     "data": {
      "text/html": [
       "<div>\n",
       "<style scoped>\n",
       "    .dataframe tbody tr th:only-of-type {\n",
       "        vertical-align: middle;\n",
       "    }\n",
       "\n",
       "    .dataframe tbody tr th {\n",
       "        vertical-align: top;\n",
       "    }\n",
       "\n",
       "    .dataframe thead th {\n",
       "        text-align: right;\n",
       "    }\n",
       "</style>\n",
       "<table border=\"1\" class=\"dataframe\">\n",
       "  <thead>\n",
       "    <tr style=\"text-align: right;\">\n",
       "      <th></th>\n",
       "      <th>uid</th>\n",
       "      <th>radius_of_gyration</th>\n",
       "    </tr>\n",
       "  </thead>\n",
       "  <tbody>\n",
       "    <tr>\n",
       "      <th>0</th>\n",
       "      <td>0</td>\n",
       "      <td>1564.436792</td>\n",
       "    </tr>\n",
       "    <tr>\n",
       "      <th>1</th>\n",
       "      <td>1</td>\n",
       "      <td>2467.773523</td>\n",
       "    </tr>\n",
       "    <tr>\n",
       "      <th>2</th>\n",
       "      <td>2</td>\n",
       "      <td>1439.649774</td>\n",
       "    </tr>\n",
       "    <tr>\n",
       "      <th>3</th>\n",
       "      <td>3</td>\n",
       "      <td>1752.604191</td>\n",
       "    </tr>\n",
       "    <tr>\n",
       "      <th>4</th>\n",
       "      <td>4</td>\n",
       "      <td>5380.503250</td>\n",
       "    </tr>\n",
       "  </tbody>\n",
       "</table>\n",
       "</div>"
      ],
      "text/plain": [
       "   uid  radius_of_gyration\n",
       "0    0         1564.436792\n",
       "1    1         2467.773523\n",
       "2    2         1439.649774\n",
       "3    3         1752.604191\n",
       "4    4         5380.503250"
      ]
     },
     "execution_count": 15,
     "metadata": {},
     "output_type": "execute_result"
    }
   ],
   "source": [
    "rg_df = radius_of_gyration(tdf)\n",
    "rg_df.head()"
   ]
  },
  {
   "cell_type": "code",
   "execution_count": 16,
   "metadata": {
    "slideshow": {
     "slide_type": "slide"
    }
   },
   "outputs": [
    {
     "data": {
      "image/png": "[encoded data removed]",
      "text/plain": [
       "<Figure size 432x288 with 1 Axes>"
      ]
     },
     "metadata": {
      "needs_background": "light"
     },
     "output_type": "display_data"
    }
   ],
   "source": [
    "# let's plot the distribution of the radius of gyration\n",
    "fig = plt.figure()\n",
    "x, y = zip(*lbpdf(1.5, list(rg_df.radius_of_gyration[rg_df.radius_of_gyration >= 1.0])))\n",
    "plt.plot(x, y, marker='o')\n",
    "plt.xlabel('$r_g$ [km]', fontsize=20)\n",
    "plt.ylabel('P($r_g$)', fontsize=20)\n",
    "plt.loglog()\n",
    "plt.text(0.15, 0.15, '$r_g \\geq 0$', transform=ax1.transAxes, fontsize=15)\n",
    "plt.show()"
   ]
  },
  {
   "cell_type": "markdown",
   "metadata": {
    "slideshow": {
     "slide_type": "slide"
    }
   },
   "source": [
    "## $k$-radius of gyration $r_g^{(k)}$\n",
    "influence of frequency of location visits on the radius of gyration:\n",
    "$$ r_g^{(k)} = \\sqrt{\\frac{1}{N_k} \\sum_{i=1}^{k} n_i (\\mathbf{r}_i - \\mathbf{r}_{cm}^{(k)})} $$\n",
    "\n",
    "$k$ indicates the number of recurrent locations to consider"
   ]
  },
  {
   "cell_type": "code",
   "execution_count": 17,
   "metadata": {
    "slideshow": {
     "slide_type": "slide"
    }
   },
   "outputs": [],
   "source": [
    "from skmob.measures.individual import k_radius_of_gyration"
   ]
  },
  {
   "cell_type": "code",
   "execution_count": 18,
   "metadata": {
    "slideshow": {
     "slide_type": "fragment"
    }
   },
   "outputs": [
    {
     "name": "stderr",
     "output_type": "stream",
     "text": [
      "100%|██████████| 1231/1231 [00:08<00:00, 147.02it/s]\n"
     ]
    },
    {
     "data": {
      "text/html": [
       "<div>\n",
       "<style scoped>\n",
       "    .dataframe tbody tr th:only-of-type {\n",
       "        vertical-align: middle;\n",
       "    }\n",
       "\n",
       "    .dataframe tbody tr th {\n",
       "        vertical-align: top;\n",
       "    }\n",
       "\n",
       "    .dataframe thead th {\n",
       "        text-align: right;\n",
       "    }\n",
       "</style>\n",
       "<table border=\"1\" class=\"dataframe\">\n",
       "  <thead>\n",
       "    <tr style=\"text-align: right;\">\n",
       "      <th></th>\n",
       "      <th>uid</th>\n",
       "      <th>3k_radius_of_gyration</th>\n",
       "    </tr>\n",
       "  </thead>\n",
       "  <tbody>\n",
       "    <tr>\n",
       "      <th>0</th>\n",
       "      <td>0</td>\n",
       "      <td>7.730516</td>\n",
       "    </tr>\n",
       "    <tr>\n",
       "      <th>1</th>\n",
       "      <td>1</td>\n",
       "      <td>3.620671</td>\n",
       "    </tr>\n",
       "    <tr>\n",
       "      <th>2</th>\n",
       "      <td>2</td>\n",
       "      <td>6.366549</td>\n",
       "    </tr>\n",
       "    <tr>\n",
       "      <th>3</th>\n",
       "      <td>3</td>\n",
       "      <td>10.543072</td>\n",
       "    </tr>\n",
       "    <tr>\n",
       "      <th>4</th>\n",
       "      <td>4</td>\n",
       "      <td>3910.808802</td>\n",
       "    </tr>\n",
       "  </tbody>\n",
       "</table>\n",
       "</div>"
      ],
      "text/plain": [
       "   uid  3k_radius_of_gyration\n",
       "0    0               7.730516\n",
       "1    1               3.620671\n",
       "2    2               6.366549\n",
       "3    3              10.543072\n",
       "4    4            3910.808802"
      ]
     },
     "execution_count": 18,
     "metadata": {},
     "output_type": "execute_result"
    }
   ],
   "source": [
    "# compute the 3-radius of each individual\n",
    "krg_df = k_radius_of_gyration(tdf, k=3)\n",
    "krg_df.head()"
   ]
  },
  {
   "cell_type": "code",
   "execution_count": 19,
   "metadata": {
    "slideshow": {
     "slide_type": "fragment"
    }
   },
   "outputs": [
    {
     "data": {
      "text/html": [
       "<div>\n",
       "<style scoped>\n",
       "    .dataframe tbody tr th:only-of-type {\n",
       "        vertical-align: middle;\n",
       "    }\n",
       "\n",
       "    .dataframe tbody tr th {\n",
       "        vertical-align: top;\n",
       "    }\n",
       "\n",
       "    .dataframe thead th {\n",
       "        text-align: right;\n",
       "    }\n",
       "</style>\n",
       "<table border=\"1\" class=\"dataframe\">\n",
       "  <thead>\n",
       "    <tr style=\"text-align: right;\">\n",
       "      <th></th>\n",
       "      <th>uid</th>\n",
       "      <th>radius_of_gyration</th>\n",
       "      <th>3k_radius_of_gyration</th>\n",
       "    </tr>\n",
       "  </thead>\n",
       "  <tbody>\n",
       "    <tr>\n",
       "      <th>0</th>\n",
       "      <td>0</td>\n",
       "      <td>1564.436792</td>\n",
       "      <td>7.730516</td>\n",
       "    </tr>\n",
       "    <tr>\n",
       "      <th>1</th>\n",
       "      <td>1</td>\n",
       "      <td>2467.773523</td>\n",
       "      <td>3.620671</td>\n",
       "    </tr>\n",
       "    <tr>\n",
       "      <th>2</th>\n",
       "      <td>2</td>\n",
       "      <td>1439.649774</td>\n",
       "      <td>6.366549</td>\n",
       "    </tr>\n",
       "    <tr>\n",
       "      <th>3</th>\n",
       "      <td>3</td>\n",
       "      <td>1752.604191</td>\n",
       "      <td>10.543072</td>\n",
       "    </tr>\n",
       "    <tr>\n",
       "      <th>4</th>\n",
       "      <td>4</td>\n",
       "      <td>5380.503250</td>\n",
       "      <td>3910.808802</td>\n",
       "    </tr>\n",
       "  </tbody>\n",
       "</table>\n",
       "</div>"
      ],
      "text/plain": [
       "   uid  radius_of_gyration  3k_radius_of_gyration\n",
       "0    0         1564.436792               7.730516\n",
       "1    1         2467.773523               3.620671\n",
       "2    2         1439.649774               6.366549\n",
       "3    3         1752.604191              10.543072\n",
       "4    4         5380.503250            3910.808802"
      ]
     },
     "execution_count": 19,
     "metadata": {},
     "output_type": "execute_result"
    }
   ],
   "source": [
    "rg_krg_df = pd.merge(rg_df, krg_df, on='uid')\n",
    "rg_krg_df.head()"
   ]
  },
  {
   "cell_type": "code",
   "execution_count": 20,
   "metadata": {
    "slideshow": {
     "slide_type": "slide"
    }
   },
   "outputs": [
    {
     "data": {
      "image/png": "[encoded data removed]",
      "text/plain": [
       "<Figure size 432x432 with 1 Axes>"
      ]
     },
     "metadata": {
      "needs_background": "light"
     },
     "output_type": "display_data"
    }
   ],
   "source": [
    "# let's plot a scatter plot of r_g vs r_g^{(k)}\n",
    "fig = plt.figure(figsize=(6, 6))\n",
    "plt.scatter(rg_krg_df.radius_of_gyration, rg_krg_df['3k_radius_of_gyration'], alpha=0.2)\n",
    "plt.xlabel('radius of gyration [km]', fontsize=15)\n",
    "plt.ylabel('k-radius of gyration [km]', fontsize=15)\n",
    "plt.show()"
   ]
  },
  {
   "cell_type": "markdown",
   "metadata": {
    "slideshow": {
     "slide_type": "slide"
    }
   },
   "source": [
    "## Mobility Entropy\n",
    "degree of <u>predictability</u> of an individual's mobility:\n",
    "- random entropy - `random_entropy`\n",
    "- temporal uncorrelated entropy - `uncorrelated_entropy`\n",
    "- real entropy - `real_entropy`"
   ]
  },
  {
   "cell_type": "markdown",
   "metadata": {
    "slideshow": {
     "slide_type": "slide"
    }
   },
   "source": [
    "### Random entropy $S_{rand}(u)$\n",
    "predictability of $u$ if each location is visited with equal probability"
   ]
  },
  {
   "cell_type": "code",
   "execution_count": 21,
   "metadata": {
    "slideshow": {
     "slide_type": "fragment"
    }
   },
   "outputs": [],
   "source": [
    "from skmob.measures.individual import random_entropy"
   ]
  },
  {
   "cell_type": "code",
   "execution_count": 22,
   "metadata": {
    "slideshow": {
     "slide_type": "fragment"
    }
   },
   "outputs": [
    {
     "name": "stderr",
     "output_type": "stream",
     "text": [
      "100%|██████████| 1231/1231 [00:05<00:00, 212.46it/s]\n"
     ]
    },
    {
     "data": {
      "text/html": [
       "<div>\n",
       "<style scoped>\n",
       "    .dataframe tbody tr th:only-of-type {\n",
       "        vertical-align: middle;\n",
       "    }\n",
       "\n",
       "    .dataframe tbody tr th {\n",
       "        vertical-align: top;\n",
       "    }\n",
       "\n",
       "    .dataframe thead th {\n",
       "        text-align: right;\n",
       "    }\n",
       "</style>\n",
       "<table border=\"1\" class=\"dataframe\">\n",
       "  <thead>\n",
       "    <tr style=\"text-align: right;\">\n",
       "      <th></th>\n",
       "      <th>uid</th>\n",
       "      <th>random_entropy</th>\n",
       "    </tr>\n",
       "  </thead>\n",
       "  <tbody>\n",
       "    <tr>\n",
       "      <th>0</th>\n",
       "      <td>0</td>\n",
       "      <td>9.082149</td>\n",
       "    </tr>\n",
       "    <tr>\n",
       "      <th>1</th>\n",
       "      <td>1</td>\n",
       "      <td>6.599913</td>\n",
       "    </tr>\n",
       "    <tr>\n",
       "      <th>2</th>\n",
       "      <td>2</td>\n",
       "      <td>8.845490</td>\n",
       "    </tr>\n",
       "    <tr>\n",
       "      <th>3</th>\n",
       "      <td>3</td>\n",
       "      <td>9.262095</td>\n",
       "    </tr>\n",
       "    <tr>\n",
       "      <th>4</th>\n",
       "      <td>4</td>\n",
       "      <td>7.754888</td>\n",
       "    </tr>\n",
       "  </tbody>\n",
       "</table>\n",
       "</div>"
      ],
      "text/plain": [
       "   uid  random_entropy\n",
       "0    0        9.082149\n",
       "1    1        6.599913\n",
       "2    2        8.845490\n",
       "3    3        9.262095\n",
       "4    4        7.754888"
      ]
     },
     "execution_count": 22,
     "metadata": {},
     "output_type": "execute_result"
    }
   ],
   "source": [
    "e_df = random_entropy(tdf)\n",
    "e_df.head()"
   ]
  },
  {
   "cell_type": "code",
   "execution_count": 23,
   "metadata": {
    "slideshow": {
     "slide_type": "slide"
    }
   },
   "outputs": [
    {
     "data": {
      "image/png": "[encoded data removed]",
      "text/plain": [
       "<Figure size 432x288 with 1 Axes>"
      ]
     },
     "metadata": {
      "needs_background": "light"
     },
     "output_type": "display_data"
    }
   ],
   "source": [
    "fig = plt.figure()\n",
    "plt.hist(e_df.random_entropy, bins=10, rwidth=0.8, density=True)\n",
    "plt.xlabel('random entropy', fontsize=15)\n",
    "plt.ylabel('P(random entropy)', fontsize=15)\n",
    "plt.show()"
   ]
  },
  {
   "cell_type": "markdown",
   "metadata": {
    "slideshow": {
     "slide_type": "slide"
    }
   },
   "source": [
    "### Temporal-uncorrelated entropy $S_{unc}(u)$\n",
    "historical probability that a location $i$ was visited by $u$\n",
    "\n",
    "$$S_{unc}(u) = - \\sum_{i=1}^n p_i \\log_2 p_i$$\n",
    "\n",
    "$n$ is the number of location visited by $u$"
   ]
  },
  {
   "cell_type": "code",
   "execution_count": 24,
   "metadata": {
    "slideshow": {
     "slide_type": "slide"
    }
   },
   "outputs": [],
   "source": [
    "from skmob.measures.individual import uncorrelated_entropy"
   ]
  },
  {
   "cell_type": "code",
   "execution_count": 25,
   "metadata": {
    "slideshow": {
     "slide_type": "fragment"
    }
   },
   "outputs": [
    {
     "name": "stderr",
     "output_type": "stream",
     "text": [
      "100%|██████████| 1231/1231 [00:06<00:00, 185.82it/s]\n"
     ]
    },
    {
     "data": {
      "text/html": [
       "<div>\n",
       "<style scoped>\n",
       "    .dataframe tbody tr th:only-of-type {\n",
       "        vertical-align: middle;\n",
       "    }\n",
       "\n",
       "    .dataframe tbody tr th {\n",
       "        vertical-align: top;\n",
       "    }\n",
       "\n",
       "    .dataframe thead th {\n",
       "        text-align: right;\n",
       "    }\n",
       "</style>\n",
       "<table border=\"1\" class=\"dataframe\">\n",
       "  <thead>\n",
       "    <tr style=\"text-align: right;\">\n",
       "      <th></th>\n",
       "      <th>uid</th>\n",
       "      <th>norm_uncorrelated_entropy</th>\n",
       "    </tr>\n",
       "  </thead>\n",
       "  <tbody>\n",
       "    <tr>\n",
       "      <th>0</th>\n",
       "      <td>0</td>\n",
       "      <td>0.819430</td>\n",
       "    </tr>\n",
       "    <tr>\n",
       "      <th>1</th>\n",
       "      <td>1</td>\n",
       "      <td>0.552972</td>\n",
       "    </tr>\n",
       "    <tr>\n",
       "      <th>2</th>\n",
       "      <td>2</td>\n",
       "      <td>0.764304</td>\n",
       "    </tr>\n",
       "    <tr>\n",
       "      <th>3</th>\n",
       "      <td>3</td>\n",
       "      <td>0.794553</td>\n",
       "    </tr>\n",
       "    <tr>\n",
       "      <th>4</th>\n",
       "      <td>4</td>\n",
       "      <td>0.756421</td>\n",
       "    </tr>\n",
       "  </tbody>\n",
       "</table>\n",
       "</div>"
      ],
      "text/plain": [
       "   uid  norm_uncorrelated_entropy\n",
       "0    0                   0.819430\n",
       "1    1                   0.552972\n",
       "2    2                   0.764304\n",
       "3    3                   0.794553\n",
       "4    4                   0.756421"
      ]
     },
     "execution_count": 25,
     "metadata": {},
     "output_type": "execute_result"
    }
   ],
   "source": [
    "# if normalize=True the entropy is in the range [0, 1 ] \n",
    "nue_df = uncorrelated_entropy(tdf, normalize=True)\n",
    "nue_df.head()"
   ]
  },
  {
   "cell_type": "code",
   "execution_count": 26,
   "metadata": {
    "slideshow": {
     "slide_type": "slide"
    }
   },
   "outputs": [
    {
     "data": {
      "image/png": "[encoded data removed]",
      "text/plain": [
       "<Figure size 432x288 with 1 Axes>"
      ]
     },
     "metadata": {
      "needs_background": "light"
     },
     "output_type": "display_data"
    }
   ],
   "source": [
    "fig = plt.figure()\n",
    "plt.hist(nue_df.norm_uncorrelated_entropy, bins=20, rwidth=0.8, density=True)\n",
    "plt.xlabel('nurmalized $S_{unc}$', fontsize=15)\n",
    "plt.show()"
   ]
  },
  {
   "cell_type": "markdown",
   "metadata": {
    "slideshow": {
     "slide_type": "slide"
    }
   },
   "source": [
    "### Real entropy $S(u)$\n",
    "consider the order in which the nodes were visited and the time spent at each location\n",
    "\n",
    "$$ S(u) = - \\sum_{T'_i \\subset T_i} p_{T'_i} \\log_2 p_{T'_i}$$\n",
    "\n",
    "captures the full spatiotemporal order present in $u$'s mobility patterns"
   ]
  },
  {
   "cell_type": "code",
   "execution_count": 27,
   "metadata": {
    "slideshow": {
     "slide_type": "slide"
    }
   },
   "outputs": [],
   "source": [
    "from skmob.measures.individual import real_entropy"
   ]
  },
  {
   "cell_type": "code",
   "execution_count": 28,
   "metadata": {
    "slideshow": {
     "slide_type": "fragment"
    }
   },
   "outputs": [
    {
     "name": "stderr",
     "output_type": "stream",
     "text": [
      "100%|██████████| 50/50 [00:49<00:00,  1.02it/s]\n"
     ]
    },
    {
     "data": {
      "text/html": [
       "<div>\n",
       "<style scoped>\n",
       "    .dataframe tbody tr th:only-of-type {\n",
       "        vertical-align: middle;\n",
       "    }\n",
       "\n",
       "    .dataframe tbody tr th {\n",
       "        vertical-align: top;\n",
       "    }\n",
       "\n",
       "    .dataframe thead th {\n",
       "        text-align: right;\n",
       "    }\n",
       "</style>\n",
       "<table border=\"1\" class=\"dataframe\">\n",
       "  <thead>\n",
       "    <tr style=\"text-align: right;\">\n",
       "      <th></th>\n",
       "      <th>uid</th>\n",
       "      <th>real_entropy</th>\n",
       "    </tr>\n",
       "  </thead>\n",
       "  <tbody>\n",
       "    <tr>\n",
       "      <th>0</th>\n",
       "      <td>0</td>\n",
       "      <td>4.906479</td>\n",
       "    </tr>\n",
       "    <tr>\n",
       "      <th>1</th>\n",
       "      <td>1</td>\n",
       "      <td>2.207224</td>\n",
       "    </tr>\n",
       "    <tr>\n",
       "      <th>2</th>\n",
       "      <td>2</td>\n",
       "      <td>4.467225</td>\n",
       "    </tr>\n",
       "    <tr>\n",
       "      <th>3</th>\n",
       "      <td>3</td>\n",
       "      <td>4.782442</td>\n",
       "    </tr>\n",
       "    <tr>\n",
       "      <th>4</th>\n",
       "      <td>4</td>\n",
       "      <td>3.585371</td>\n",
       "    </tr>\n",
       "  </tbody>\n",
       "</table>\n",
       "</div>"
      ],
      "text/plain": [
       "   uid  real_entropy\n",
       "0    0      4.906479\n",
       "1    1      2.207224\n",
       "2    2      4.467225\n",
       "3    3      4.782442\n",
       "4    4      3.585371"
      ]
     },
     "execution_count": 28,
     "metadata": {},
     "output_type": "execute_result"
    }
   ],
   "source": [
    "re_df = real_entropy(tdf[tdf.uid < 50])\n",
    "re_df.head()"
   ]
  },
  {
   "cell_type": "code",
   "execution_count": 29,
   "metadata": {
    "slideshow": {
     "slide_type": "slide"
    }
   },
   "outputs": [
    {
     "data": {
      "image/png": "[encoded data removed]",
      "text/plain": [
       "<Figure size 432x288 with 1 Axes>"
      ]
     },
     "metadata": {
      "needs_background": "light"
     },
     "output_type": "display_data"
    }
   ],
   "source": [
    "plt.hist(re_df.real_entropy)\n",
    "plt.xlabel('real entropy', fontsize=15)\n",
    "plt.show()"
   ]
  },
  {
   "cell_type": "markdown",
   "metadata": {
    "slideshow": {
     "slide_type": "slide"
    }
   },
   "source": [
    "### Number of locations and visits\n",
    "number of distinct locations visited and the number of movements"
   ]
  },
  {
   "cell_type": "code",
   "execution_count": 30,
   "metadata": {
    "slideshow": {
     "slide_type": "fragment"
    }
   },
   "outputs": [],
   "source": [
    "from skmob.measures.individual import number_of_visits, number_of_locations"
   ]
  },
  {
   "cell_type": "code",
   "execution_count": 31,
   "metadata": {
    "slideshow": {
     "slide_type": "fragment"
    }
   },
   "outputs": [
    {
     "name": "stderr",
     "output_type": "stream",
     "text": [
      "100%|██████████| 1231/1231 [00:00<00:00, 3412.74it/s]\n",
      "100%|██████████| 1231/1231 [00:05<00:00, 206.95it/s]\n"
     ]
    },
    {
     "data": {
      "text/html": [
       "<div>\n",
       "<style scoped>\n",
       "    .dataframe tbody tr th:only-of-type {\n",
       "        vertical-align: middle;\n",
       "    }\n",
       "\n",
       "    .dataframe tbody tr th {\n",
       "        vertical-align: top;\n",
       "    }\n",
       "\n",
       "    .dataframe thead th {\n",
       "        text-align: right;\n",
       "    }\n",
       "</style>\n",
       "<table border=\"1\" class=\"dataframe\">\n",
       "  <thead>\n",
       "    <tr style=\"text-align: right;\">\n",
       "      <th></th>\n",
       "      <th>uid</th>\n",
       "      <th>number_of_visits</th>\n",
       "    </tr>\n",
       "  </thead>\n",
       "  <tbody>\n",
       "    <tr>\n",
       "      <th>0</th>\n",
       "      <td>0</td>\n",
       "      <td>2099</td>\n",
       "    </tr>\n",
       "    <tr>\n",
       "      <th>1</th>\n",
       "      <td>1</td>\n",
       "      <td>1210</td>\n",
       "    </tr>\n",
       "    <tr>\n",
       "      <th>2</th>\n",
       "      <td>2</td>\n",
       "      <td>2100</td>\n",
       "    </tr>\n",
       "    <tr>\n",
       "      <th>3</th>\n",
       "      <td>3</td>\n",
       "      <td>1807</td>\n",
       "    </tr>\n",
       "    <tr>\n",
       "      <th>4</th>\n",
       "      <td>4</td>\n",
       "      <td>779</td>\n",
       "    </tr>\n",
       "  </tbody>\n",
       "</table>\n",
       "</div>"
      ],
      "text/plain": [
       "   uid  number_of_visits\n",
       "0    0              2099\n",
       "1    1              1210\n",
       "2    2              2100\n",
       "3    3              1807\n",
       "4    4               779"
      ]
     },
     "execution_count": 31,
     "metadata": {},
     "output_type": "execute_result"
    }
   ],
   "source": [
    "nv_df = number_of_visits(tdf)\n",
    "locs_df = number_of_locations(tdf)\n",
    "nv_df.head()"
   ]
  },
  {
   "cell_type": "code",
   "execution_count": 32,
   "metadata": {
    "slideshow": {
     "slide_type": "slide"
    }
   },
   "outputs": [
    {
     "data": {
      "image/png": "[encoded data removed]",
      "text/plain": [
       "<Figure size 432x288 with 2 Axes>"
      ]
     },
     "metadata": {
      "needs_background": "light"
     },
     "output_type": "display_data"
    }
   ],
   "source": [
    "fig, (ax1, ax2) = plt.subplots(1, 2)\n",
    "ax1.hist(locs_df.number_of_locations, rwidth=0.8, bins=20)\n",
    "ax1.set_xlabel('number of locations', fontsize=15)\n",
    "ax2.hist(nv_df.number_of_visits, rwidth=0.8, bins=20)\n",
    "ax2.set_xlabel('number of visits', fontsize=15)\n",
    "plt.show()"
   ]
  },
  {
   "cell_type": "markdown",
   "metadata": {
    "slideshow": {
     "slide_type": "slide"
    }
   },
   "source": [
    "### Home location\n",
    "the location the individual visits most frequently during nighttime"
   ]
  },
  {
   "cell_type": "code",
   "execution_count": 33,
   "metadata": {
    "slideshow": {
     "slide_type": "fragment"
    }
   },
   "outputs": [],
   "source": [
    "from skmob.measures.individual import home_location"
   ]
  },
  {
   "cell_type": "code",
   "execution_count": 34,
   "metadata": {
    "slideshow": {
     "slide_type": "fragment"
    }
   },
   "outputs": [
    {
     "name": "stderr",
     "output_type": "stream",
     "text": [
      "100%|██████████| 1231/1231 [00:04<00:00, 295.50it/s]\n"
     ]
    },
    {
     "data": {
      "text/html": [
       "<div>\n",
       "<style scoped>\n",
       "    .dataframe tbody tr th:only-of-type {\n",
       "        vertical-align: middle;\n",
       "    }\n",
       "\n",
       "    .dataframe tbody tr th {\n",
       "        vertical-align: top;\n",
       "    }\n",
       "\n",
       "    .dataframe thead th {\n",
       "        text-align: right;\n",
       "    }\n",
       "</style>\n",
       "<table border=\"1\" class=\"dataframe\">\n",
       "  <thead>\n",
       "    <tr style=\"text-align: right;\">\n",
       "      <th></th>\n",
       "      <th>uid</th>\n",
       "      <th>lat</th>\n",
       "      <th>lng</th>\n",
       "    </tr>\n",
       "  </thead>\n",
       "  <tbody>\n",
       "    <tr>\n",
       "      <th>0</th>\n",
       "      <td>0</td>\n",
       "      <td>39.891077</td>\n",
       "      <td>-105.068532</td>\n",
       "    </tr>\n",
       "    <tr>\n",
       "      <th>1</th>\n",
       "      <td>1</td>\n",
       "      <td>37.630490</td>\n",
       "      <td>-122.411084</td>\n",
       "    </tr>\n",
       "    <tr>\n",
       "      <th>2</th>\n",
       "      <td>2</td>\n",
       "      <td>39.739154</td>\n",
       "      <td>-104.984703</td>\n",
       "    </tr>\n",
       "    <tr>\n",
       "      <th>3</th>\n",
       "      <td>3</td>\n",
       "      <td>37.748170</td>\n",
       "      <td>-122.459192</td>\n",
       "    </tr>\n",
       "    <tr>\n",
       "      <th>4</th>\n",
       "      <td>4</td>\n",
       "      <td>60.180171</td>\n",
       "      <td>24.949728</td>\n",
       "    </tr>\n",
       "  </tbody>\n",
       "</table>\n",
       "</div>"
      ],
      "text/plain": [
       "   uid        lat         lng\n",
       "0    0  39.891077 -105.068532\n",
       "1    1  37.630490 -122.411084\n",
       "2    2  39.739154 -104.984703\n",
       "3    3  37.748170 -122.459192\n",
       "4    4  60.180171   24.949728"
      ]
     },
     "execution_count": 34,
     "metadata": {},
     "output_type": "execute_result"
    }
   ],
   "source": [
    "hl_df = home_location(tdf)\n",
    "hl_df.head()"
   ]
  },
  {
   "cell_type": "code",
   "execution_count": 35,
   "metadata": {
    "slideshow": {
     "slide_type": "slide"
    }
   },
   "outputs": [
    {
     "data": {
      "text/html": [
       "<div style=\"width:100%;\"><div style=\"position:relative;width:100%;height:0;padding-bottom:60%;\"><iframe src=\"data:text/html;charset=utf-8;base64,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\" style=\"position:absolute;width:100%;height:100%;left:0;top:0;border:none !important;\" allowfullscreen webkitallowfullscreen mozallowfullscreen></iframe></div></div>"
      ],
      "text/plain": [
       "<folium.folium.Map at 0x7f8d5c770d30>"
      ]
     },
     "execution_count": 35,
     "metadata": {},
     "output_type": "execute_result"
    }
   ],
   "source": [
    "m = folium.Map(tiles = 'openstreetmap', zoom_start=10, control_scale=True)\n",
    "HeatMap(hl_df[['lat', 'lng']].values).add_to(m)\n",
    "m # Show map"
   ]
  },
  {
   "cell_type": "markdown",
   "metadata": {
    "slideshow": {
     "slide_type": "slide"
    }
   },
   "source": [
    "## Visitation frequency\n",
    "the number of visits to each location, where locations are sorted by rank\n",
    "- the most visited location has rank 1, the second most visited rank 2, etc.\n",
    "- the two most visited locations are generally home and work"
   ]
  },
  {
   "cell_type": "code",
   "execution_count": 36,
   "metadata": {
    "slideshow": {
     "slide_type": "slide"
    }
   },
   "outputs": [
    {
     "name": "stderr",
     "output_type": "stream",
     "text": [
      "100%|██████████| 1231/1231 [00:03<00:00, 380.11it/s]\n"
     ]
    },
    {
     "data": {
      "text/html": [
       "<div>\n",
       "<style scoped>\n",
       "    .dataframe tbody tr th:only-of-type {\n",
       "        vertical-align: middle;\n",
       "    }\n",
       "\n",
       "    .dataframe tbody tr th {\n",
       "        vertical-align: top;\n",
       "    }\n",
       "\n",
       "    .dataframe thead th {\n",
       "        text-align: right;\n",
       "    }\n",
       "</style>\n",
       "<table border=\"1\" class=\"dataframe\">\n",
       "  <thead>\n",
       "    <tr style=\"text-align: right;\">\n",
       "      <th></th>\n",
       "      <th>uid</th>\n",
       "      <th>lat</th>\n",
       "      <th>lng</th>\n",
       "      <th>location_frequency</th>\n",
       "    </tr>\n",
       "  </thead>\n",
       "  <tbody>\n",
       "    <tr>\n",
       "      <th>0</th>\n",
       "      <td>0</td>\n",
       "      <td>39.762146</td>\n",
       "      <td>-104.982480</td>\n",
       "      <td>214</td>\n",
       "    </tr>\n",
       "    <tr>\n",
       "      <th>1</th>\n",
       "      <td>0</td>\n",
       "      <td>39.891077</td>\n",
       "      <td>-105.068532</td>\n",
       "      <td>137</td>\n",
       "    </tr>\n",
       "    <tr>\n",
       "      <th>2</th>\n",
       "      <td>0</td>\n",
       "      <td>39.739154</td>\n",
       "      <td>-104.984703</td>\n",
       "      <td>126</td>\n",
       "    </tr>\n",
       "    <tr>\n",
       "      <th>3</th>\n",
       "      <td>0</td>\n",
       "      <td>39.891586</td>\n",
       "      <td>-105.068463</td>\n",
       "      <td>72</td>\n",
       "    </tr>\n",
       "    <tr>\n",
       "      <th>4</th>\n",
       "      <td>0</td>\n",
       "      <td>39.827022</td>\n",
       "      <td>-105.143191</td>\n",
       "      <td>53</td>\n",
       "    </tr>\n",
       "  </tbody>\n",
       "</table>\n",
       "</div>"
      ],
      "text/plain": [
       "   uid        lat         lng  location_frequency\n",
       "0    0  39.762146 -104.982480                 214\n",
       "1    0  39.891077 -105.068532                 137\n",
       "2    0  39.739154 -104.984703                 126\n",
       "3    0  39.891586 -105.068463                  72\n",
       "4    0  39.827022 -105.143191                  53"
      ]
     },
     "execution_count": 36,
     "metadata": {},
     "output_type": "execute_result"
    }
   ],
   "source": [
    "from skmob.measures.individual import location_frequency\n",
    "lf_df = location_frequency(tdf, normalize=False).reset_index()\n",
    "lf_df.head()"
   ]
  },
  {
   "cell_type": "code",
   "execution_count": 37,
   "metadata": {
    "scrolled": false,
    "slideshow": {
     "slide_type": "slide"
    }
   },
   "outputs": [
    {
     "name": "stderr",
     "output_type": "stream",
     "text": [
      "100%|██████████| 1231/1231 [00:03<00:00, 338.95it/s]\n"
     ]
    },
    {
     "data": {
      "text/plain": [
       "[0.3855048033663369,\n",
       " 0.14812392490535803,\n",
       " 0.07861157993382727,\n",
       " 0.053773415913195455,\n",
       " 0.04063414740693758]"
      ]
     },
     "execution_count": 37,
     "metadata": {},
     "output_type": "execute_result"
    }
   ],
   "source": [
    "ranks = location_frequency(tdf, as_ranks=True)\n",
    "ranks[:5]"
   ]
  },
  {
   "cell_type": "code",
   "execution_count": 38,
   "metadata": {
    "slideshow": {
     "slide_type": "slide"
    }
   },
   "outputs": [
    {
     "data": {
      "image/png": "[encoded data removed]",
      "text/plain": [
       "<Figure size 432x432 with 1 Axes>"
      ]
     },
     "metadata": {
      "needs_background": "light"
     },
     "output_type": "display_data"
    }
   ],
   "source": [
    "fig = plt.figure(figsize=(6, 6))\n",
    "plt.plot(range(len(ranks)), ranks, marker='o')\n",
    "plt.loglog()\n",
    "plt.xlabel('location rank', fontsize=15)\n",
    "plt.ylabel('location frequency', fontsize=15)\n",
    "plt.grid(alpha=0.2)\n",
    "plt.show()"
   ]
  },
  {
   "cell_type": "markdown",
   "metadata": {
    "slideshow": {
     "slide_type": "slide"
    }
   },
   "source": [
    "## Frequency and Recency ranks\n",
    "Given a location:\n",
    "- its frequency rank is 1 if it is the most frequent location, 2 if it is the second most visited, etc.\n",
    "- its recency rank is 1 if it is the last visited location, 2 if it is the second last visited, etc."
   ]
  },
  {
   "cell_type": "code",
   "execution_count": 39,
   "metadata": {
    "slideshow": {
     "slide_type": "fragment"
    }
   },
   "outputs": [],
   "source": [
    "from skmob.measures.individual import frequency_rank, recency_rank"
   ]
  },
  {
   "cell_type": "code",
   "execution_count": 40,
   "metadata": {
    "slideshow": {
     "slide_type": "slide"
    }
   },
   "outputs": [
    {
     "name": "stderr",
     "output_type": "stream",
     "text": [
      "100%|██████████| 1231/1231 [00:05<00:00, 242.59it/s]\n"
     ]
    },
    {
     "data": {
      "text/html": [
       "<div>\n",
       "<style scoped>\n",
       "    .dataframe tbody tr th:only-of-type {\n",
       "        vertical-align: middle;\n",
       "    }\n",
       "\n",
       "    .dataframe tbody tr th {\n",
       "        vertical-align: top;\n",
       "    }\n",
       "\n",
       "    .dataframe thead th {\n",
       "        text-align: right;\n",
       "    }\n",
       "</style>\n",
       "<table border=\"1\" class=\"dataframe\">\n",
       "  <thead>\n",
       "    <tr style=\"text-align: right;\">\n",
       "      <th></th>\n",
       "      <th></th>\n",
       "      <th>lat</th>\n",
       "      <th>lng</th>\n",
       "      <th>frequency_rank</th>\n",
       "    </tr>\n",
       "    <tr>\n",
       "      <th>uid</th>\n",
       "      <th></th>\n",
       "      <th></th>\n",
       "      <th></th>\n",
       "      <th></th>\n",
       "    </tr>\n",
       "  </thead>\n",
       "  <tbody>\n",
       "    <tr>\n",
       "      <th rowspan=\"5\" valign=\"top\">0</th>\n",
       "      <th>0</th>\n",
       "      <td>39.762146</td>\n",
       "      <td>-104.982480</td>\n",
       "      <td>1</td>\n",
       "    </tr>\n",
       "    <tr>\n",
       "      <th>1</th>\n",
       "      <td>39.891077</td>\n",
       "      <td>-105.068532</td>\n",
       "      <td>2</td>\n",
       "    </tr>\n",
       "    <tr>\n",
       "      <th>2</th>\n",
       "      <td>39.739154</td>\n",
       "      <td>-104.984703</td>\n",
       "      <td>3</td>\n",
       "    </tr>\n",
       "    <tr>\n",
       "      <th>3</th>\n",
       "      <td>39.891586</td>\n",
       "      <td>-105.068463</td>\n",
       "      <td>4</td>\n",
       "    </tr>\n",
       "    <tr>\n",
       "      <th>4</th>\n",
       "      <td>39.827022</td>\n",
       "      <td>-105.143191</td>\n",
       "      <td>5</td>\n",
       "    </tr>\n",
       "  </tbody>\n",
       "</table>\n",
       "</div>"
      ],
      "text/plain": [
       "             lat         lng  frequency_rank\n",
       "uid                                         \n",
       "0   0  39.762146 -104.982480               1\n",
       "    1  39.891077 -105.068532               2\n",
       "    2  39.739154 -104.984703               3\n",
       "    3  39.891586 -105.068463               4\n",
       "    4  39.827022 -105.143191               5"
      ]
     },
     "execution_count": 40,
     "metadata": {},
     "output_type": "execute_result"
    }
   ],
   "source": [
    "fr_df = frequency_rank(tdf)#.reset_index().drop('level_1', axis=1)\n",
    "fr_df.head()"
   ]
  },
  {
   "cell_type": "code",
   "execution_count": 41,
   "metadata": {
    "slideshow": {
     "slide_type": "fragment"
    }
   },
   "outputs": [
    {
     "name": "stderr",
     "output_type": "stream",
     "text": [
      "100%|██████████| 1231/1231 [00:03<00:00, 322.45it/s]\n"
     ]
    },
    {
     "data": {
      "text/html": [
       "<div>\n",
       "<style scoped>\n",
       "    .dataframe tbody tr th:only-of-type {\n",
       "        vertical-align: middle;\n",
       "    }\n",
       "\n",
       "    .dataframe tbody tr th {\n",
       "        vertical-align: top;\n",
       "    }\n",
       "\n",
       "    .dataframe thead th {\n",
       "        text-align: right;\n",
       "    }\n",
       "</style>\n",
       "<table border=\"1\" class=\"dataframe\">\n",
       "  <thead>\n",
       "    <tr style=\"text-align: right;\">\n",
       "      <th></th>\n",
       "      <th></th>\n",
       "      <th>lat</th>\n",
       "      <th>lng</th>\n",
       "      <th>recency_rank</th>\n",
       "    </tr>\n",
       "    <tr>\n",
       "      <th>uid</th>\n",
       "      <th></th>\n",
       "      <th></th>\n",
       "      <th></th>\n",
       "      <th></th>\n",
       "    </tr>\n",
       "  </thead>\n",
       "  <tbody>\n",
       "    <tr>\n",
       "      <th rowspan=\"5\" valign=\"top\">0</th>\n",
       "      <th>0</th>\n",
       "      <td>39.891383</td>\n",
       "      <td>-105.070814</td>\n",
       "      <td>1</td>\n",
       "    </tr>\n",
       "    <tr>\n",
       "      <th>1</th>\n",
       "      <td>39.891077</td>\n",
       "      <td>-105.068532</td>\n",
       "      <td>2</td>\n",
       "    </tr>\n",
       "    <tr>\n",
       "      <th>2</th>\n",
       "      <td>39.750469</td>\n",
       "      <td>-104.999073</td>\n",
       "      <td>3</td>\n",
       "    </tr>\n",
       "    <tr>\n",
       "      <th>3</th>\n",
       "      <td>39.752713</td>\n",
       "      <td>-104.996337</td>\n",
       "      <td>4</td>\n",
       "    </tr>\n",
       "    <tr>\n",
       "      <th>4</th>\n",
       "      <td>39.752508</td>\n",
       "      <td>-104.996637</td>\n",
       "      <td>5</td>\n",
       "    </tr>\n",
       "  </tbody>\n",
       "</table>\n",
       "</div>"
      ],
      "text/plain": [
       "             lat         lng  recency_rank\n",
       "uid                                       \n",
       "0   0  39.891383 -105.070814             1\n",
       "    1  39.891077 -105.068532             2\n",
       "    2  39.750469 -104.999073             3\n",
       "    3  39.752713 -104.996337             4\n",
       "    4  39.752508 -104.996637             5"
      ]
     },
     "execution_count": 41,
     "metadata": {},
     "output_type": "execute_result"
    }
   ],
   "source": [
    "rr_df = recency_rank(tdf)#.reset_index().drop('level_1', axis=1)\n",
    "rr_df.head()"
   ]
  },
  {
   "cell_type": "code",
   "execution_count": 42,
   "metadata": {
    "slideshow": {
     "slide_type": "slide"
    }
   },
   "outputs": [],
   "source": [
    "merged_df = pd.merge(fr_df, rr_df, on=['uid', 'lat', 'lng'])\n",
    "short_merged_df = merged_df[(merged_df.frequency_rank <= 50) \n",
    "                            & (merged_df.recency_rank <= 50)]\n",
    "\n",
    "# Calculate the point density\n",
    "n_rows = 100000\n",
    "xy = np.vstack([short_merged_df.frequency_rank.head(n_rows), short_merged_df.recency_rank.head(n_rows)])\n",
    "z = gaussian_kde(xy)(xy)"
   ]
  },
  {
   "cell_type": "code",
   "execution_count": 43,
   "metadata": {
    "slideshow": {
     "slide_type": "slide"
    }
   },
   "outputs": [
    {
     "data": {
      "image/png": "[encoded data removed]",
      "text/plain": [
       "<Figure size 432x432 with 1 Axes>"
      ]
     },
     "metadata": {
      "needs_background": "light"
     },
     "output_type": "display_data"
    }
   ],
   "source": [
    "fig, ax = plt.subplots(figsize=(6, 6))\n",
    "ax.scatter(short_merged_df.frequency_rank.head(n_rows), short_merged_df.recency_rank.head(n_rows), c=z, s=100)\n",
    "ax.plot([0, 50], [0, 50], color='r')\n",
    "ax.set_xlabel('$K_f$', fontsize=15)\n",
    "ax.set_ylabel('$K_s$', fontsize=15)\n",
    "plt.show()"
   ]
  },
  {
   "cell_type": "markdown",
   "metadata": {
    "slideshow": {
     "slide_type": "slide"
    }
   },
   "source": [
    "## Waiting times\n",
    "- a waiting time is the time (in seconds) between the visits to two successive locations\n",
    "- given a `TrajDataFrame`, skmob computes the waiting times for each individual independently\n",
    "- use the `waiting_times` function"
   ]
  },
  {
   "cell_type": "code",
   "execution_count": 44,
   "metadata": {
    "slideshow": {
     "slide_type": "fragment"
    }
   },
   "outputs": [],
   "source": [
    "from skmob.measures.individual import waiting_times"
   ]
  },
  {
   "cell_type": "code",
   "execution_count": 45,
   "metadata": {
    "slideshow": {
     "slide_type": "slide"
    }
   },
   "outputs": [
    {
     "name": "stderr",
     "output_type": "stream",
     "text": [
      "100%|██████████| 1231/1231 [00:01<00:00, 967.51it/s]\n"
     ]
    },
    {
     "data": {
      "text/html": [
       "<div>\n",
       "<style scoped>\n",
       "    .dataframe tbody tr th:only-of-type {\n",
       "        vertical-align: middle;\n",
       "    }\n",
       "\n",
       "    .dataframe tbody tr th {\n",
       "        vertical-align: top;\n",
       "    }\n",
       "\n",
       "    .dataframe thead th {\n",
       "        text-align: right;\n",
       "    }\n",
       "</style>\n",
       "<table border=\"1\" class=\"dataframe\">\n",
       "  <thead>\n",
       "    <tr style=\"text-align: right;\">\n",
       "      <th></th>\n",
       "      <th>uid</th>\n",
       "      <th>waiting_times</th>\n",
       "    </tr>\n",
       "  </thead>\n",
       "  <tbody>\n",
       "    <tr>\n",
       "      <th>0</th>\n",
       "      <td>0</td>\n",
       "      <td>[2358.0, 136.0, 303.0, 1836.0, 14869.0, 517.0,...</td>\n",
       "    </tr>\n",
       "    <tr>\n",
       "      <th>1</th>\n",
       "      <td>1</td>\n",
       "      <td>[43460.0, 34353.0, 8347.0, 40694.0, 281.0, 16....</td>\n",
       "    </tr>\n",
       "    <tr>\n",
       "      <th>2</th>\n",
       "      <td>2</td>\n",
       "      <td>[293.0, 308.0, 228.0, 402.0, 16086.0, 665.0, 9...</td>\n",
       "    </tr>\n",
       "    <tr>\n",
       "      <th>3</th>\n",
       "      <td>3</td>\n",
       "      <td>[10200079.0, 30864.0, 54415.0, 2135.0, 63.0, 1...</td>\n",
       "    </tr>\n",
       "    <tr>\n",
       "      <th>4</th>\n",
       "      <td>4</td>\n",
       "      <td>[82845.0, 56.0, 415156.0, 1372.0, 23.0, 42679....</td>\n",
       "    </tr>\n",
       "  </tbody>\n",
       "</table>\n",
       "</div>"
      ],
      "text/plain": [
       "   uid                                      waiting_times\n",
       "0    0  [2358.0, 136.0, 303.0, 1836.0, 14869.0, 517.0,...\n",
       "1    1  [43460.0, 34353.0, 8347.0, 40694.0, 281.0, 16....\n",
       "2    2  [293.0, 308.0, 228.0, 402.0, 16086.0, 665.0, 9...\n",
       "3    3  [10200079.0, 30864.0, 54415.0, 2135.0, 63.0, 1...\n",
       "4    4  [82845.0, 56.0, 415156.0, 1372.0, 23.0, 42679...."
      ]
     },
     "execution_count": 45,
     "metadata": {},
     "output_type": "execute_result"
    }
   ],
   "source": [
    "wt_df = waiting_times(tdf)\n",
    "wt_df.head()"
   ]
  },
  {
   "cell_type": "code",
   "execution_count": 46,
   "metadata": {
    "slideshow": {
     "slide_type": "fragment"
    }
   },
   "outputs": [
    {
     "name": "stderr",
     "output_type": "stream",
     "text": [
      "100%|██████████| 1231/1231 [00:01<00:00, 943.20it/s]\n"
     ]
    },
    {
     "data": {
      "text/plain": [
       "498769"
      ]
     },
     "execution_count": 46,
     "metadata": {},
     "output_type": "execute_result"
    }
   ],
   "source": [
    "wl_list = waiting_times(tdf, merge=True)\n",
    "len(wl_list)"
   ]
  },
  {
   "cell_type": "code",
   "execution_count": 47,
   "metadata": {
    "slideshow": {
     "slide_type": "slide"
    }
   },
   "outputs": [
    {
     "data": {
      "image/png": "[encoded data removed]",
      "text/plain": [
       "<Figure size 432x432 with 1 Axes>"
      ]
     },
     "metadata": {
      "needs_background": "light"
     },
     "output_type": "display_data"
    }
   ],
   "source": [
    "fig = plt.figure(figsize=(6, 6))\n",
    "x, y = zip(*lbpdf(1.5, wl_list[:10000]))\n",
    "plt.plot(x, y, marker='o')\n",
    "plt.grid(alpha=0.5)\n",
    "plt.xlabel('waiting times [s]', fontsize=15)\n",
    "plt.ylabel('P(waiting times)', fontsize=15)\n",
    "plt.loglog()\n",
    "plt.show()"
   ]
  },
  {
   "cell_type": "markdown",
   "metadata": {
    "slideshow": {
     "slide_type": "slide"
    }
   },
   "source": [
    "## Individual mobility network\n",
    "a network where: \n",
    "- nodes represent locations visited by the individual\n",
    "- directed edges represent trips between the locations made by the individual "
   ]
  },
  {
   "cell_type": "code",
   "execution_count": 48,
   "metadata": {
    "slideshow": {
     "slide_type": "fragment"
    }
   },
   "outputs": [],
   "source": [
    "from skmob.measures.individual import individual_mobility_network"
   ]
  },
  {
   "cell_type": "code",
   "execution_count": 49,
   "metadata": {
    "slideshow": {
     "slide_type": "slide"
    }
   },
   "outputs": [
    {
     "name": "stderr",
     "output_type": "stream",
     "text": [
      "100%|██████████| 1231/1231 [00:03<00:00, 334.67it/s]\n"
     ]
    },
    {
     "data": {
      "text/html": [
       "<div>\n",
       "<style scoped>\n",
       "    .dataframe tbody tr th:only-of-type {\n",
       "        vertical-align: middle;\n",
       "    }\n",
       "\n",
       "    .dataframe tbody tr th {\n",
       "        vertical-align: top;\n",
       "    }\n",
       "\n",
       "    .dataframe thead th {\n",
       "        text-align: right;\n",
       "    }\n",
       "</style>\n",
       "<table border=\"1\" class=\"dataframe\">\n",
       "  <thead>\n",
       "    <tr style=\"text-align: right;\">\n",
       "      <th></th>\n",
       "      <th>uid</th>\n",
       "      <th>lat_origin</th>\n",
       "      <th>lng_origin</th>\n",
       "      <th>lat_dest</th>\n",
       "      <th>lng_dest</th>\n",
       "      <th>n_trips</th>\n",
       "    </tr>\n",
       "  </thead>\n",
       "  <tbody>\n",
       "    <tr>\n",
       "      <th>0</th>\n",
       "      <td>0</td>\n",
       "      <td>37.774929</td>\n",
       "      <td>-122.419415</td>\n",
       "      <td>37.600747</td>\n",
       "      <td>-122.382376</td>\n",
       "      <td>1</td>\n",
       "    </tr>\n",
       "    <tr>\n",
       "      <th>1</th>\n",
       "      <td>0</td>\n",
       "      <td>37.600747</td>\n",
       "      <td>-122.382376</td>\n",
       "      <td>37.615223</td>\n",
       "      <td>-122.389979</td>\n",
       "      <td>1</td>\n",
       "    </tr>\n",
       "    <tr>\n",
       "      <th>2</th>\n",
       "      <td>0</td>\n",
       "      <td>37.600747</td>\n",
       "      <td>-122.382376</td>\n",
       "      <td>37.580304</td>\n",
       "      <td>-122.343679</td>\n",
       "      <td>1</td>\n",
       "    </tr>\n",
       "    <tr>\n",
       "      <th>3</th>\n",
       "      <td>0</td>\n",
       "      <td>37.615223</td>\n",
       "      <td>-122.389979</td>\n",
       "      <td>39.878664</td>\n",
       "      <td>-104.682105</td>\n",
       "      <td>1</td>\n",
       "    </tr>\n",
       "    <tr>\n",
       "      <th>4</th>\n",
       "      <td>0</td>\n",
       "      <td>37.615223</td>\n",
       "      <td>-122.389979</td>\n",
       "      <td>37.580304</td>\n",
       "      <td>-122.343679</td>\n",
       "      <td>1</td>\n",
       "    </tr>\n",
       "  </tbody>\n",
       "</table>\n",
       "</div>"
      ],
      "text/plain": [
       "   uid  lat_origin  lng_origin   lat_dest    lng_dest n_trips\n",
       "0    0   37.774929 -122.419415  37.600747 -122.382376       1\n",
       "1    0   37.600747 -122.382376  37.615223 -122.389979       1\n",
       "2    0   37.600747 -122.382376  37.580304 -122.343679       1\n",
       "3    0   37.615223 -122.389979  39.878664 -104.682105       1\n",
       "4    0   37.615223 -122.389979  37.580304 -122.343679       1"
      ]
     },
     "execution_count": 49,
     "metadata": {},
     "output_type": "execute_result"
    }
   ],
   "source": [
    "imn_df = individual_mobility_network(tdf)\n",
    "imn_df.head()"
   ]
  },
  {
   "cell_type": "code",
   "execution_count": 50,
   "metadata": {
    "slideshow": {
     "slide_type": "fragment"
    }
   },
   "outputs": [
    {
     "data": {
      "text/html": [
       "<div>\n",
       "<style scoped>\n",
       "    .dataframe tbody tr th:only-of-type {\n",
       "        vertical-align: middle;\n",
       "    }\n",
       "\n",
       "    .dataframe tbody tr th {\n",
       "        vertical-align: top;\n",
       "    }\n",
       "\n",
       "    .dataframe thead th {\n",
       "        text-align: right;\n",
       "    }\n",
       "</style>\n",
       "<table border=\"1\" class=\"dataframe\">\n",
       "  <thead>\n",
       "    <tr style=\"text-align: right;\">\n",
       "      <th></th>\n",
       "      <th>uid</th>\n",
       "      <th>lat_origin</th>\n",
       "      <th>lng_origin</th>\n",
       "      <th>lat_dest</th>\n",
       "      <th>lng_dest</th>\n",
       "      <th>n_trips</th>\n",
       "    </tr>\n",
       "  </thead>\n",
       "  <tbody>\n",
       "    <tr>\n",
       "      <th>1397</th>\n",
       "      <td>2</td>\n",
       "      <td>39.746397</td>\n",
       "      <td>-104.959766</td>\n",
       "      <td>39.750729</td>\n",
       "      <td>-104.917552</td>\n",
       "      <td>1</td>\n",
       "    </tr>\n",
       "    <tr>\n",
       "      <th>1398</th>\n",
       "      <td>2</td>\n",
       "      <td>39.746397</td>\n",
       "      <td>-104.959766</td>\n",
       "      <td>39.711161</td>\n",
       "      <td>-104.934527</td>\n",
       "      <td>1</td>\n",
       "    </tr>\n",
       "    <tr>\n",
       "      <th>1399</th>\n",
       "      <td>2</td>\n",
       "      <td>39.746397</td>\n",
       "      <td>-104.959766</td>\n",
       "      <td>39.825947</td>\n",
       "      <td>-105.145944</td>\n",
       "      <td>1</td>\n",
       "    </tr>\n",
       "    <tr>\n",
       "      <th>1400</th>\n",
       "      <td>2</td>\n",
       "      <td>39.746397</td>\n",
       "      <td>-104.959766</td>\n",
       "      <td>39.739154</td>\n",
       "      <td>-104.984703</td>\n",
       "      <td>1</td>\n",
       "    </tr>\n",
       "    <tr>\n",
       "      <th>1401</th>\n",
       "      <td>2</td>\n",
       "      <td>39.746397</td>\n",
       "      <td>-104.959766</td>\n",
       "      <td>39.785470</td>\n",
       "      <td>-104.895895</td>\n",
       "      <td>1</td>\n",
       "    </tr>\n",
       "  </tbody>\n",
       "</table>\n",
       "</div>"
      ],
      "text/plain": [
       "      uid  lat_origin  lng_origin   lat_dest    lng_dest n_trips\n",
       "1397    2   39.746397 -104.959766  39.750729 -104.917552       1\n",
       "1398    2   39.746397 -104.959766  39.711161 -104.934527       1\n",
       "1399    2   39.746397 -104.959766  39.825947 -105.145944       1\n",
       "1400    2   39.746397 -104.959766  39.739154 -104.984703       1\n",
       "1401    2   39.746397 -104.959766  39.785470 -104.895895       1"
      ]
     },
     "execution_count": 50,
     "metadata": {},
     "output_type": "execute_result"
    }
   ],
   "source": [
    "an_imn = imn_df[imn_df.uid == 2]\n",
    "an_imn.head()"
   ]
  },
  {
   "cell_type": "markdown",
   "metadata": {
    "slideshow": {
     "slide_type": "slide"
    }
   },
   "source": [
    "# Collective measures\n",
    "\n",
    "- are computed on the trajectories of a <u>population of individuals</u>\n",
    "- quantify standard *mobility patterns*\n",
    "- examples: \n",
    "    - location entropy\n",
    "    - origin destination matrix\n",
    "    - visits per time unit"
   ]
  },
  {
   "cell_type": "markdown",
   "metadata": {
    "slideshow": {
     "slide_type": "slide"
    }
   },
   "source": [
    "## Homes per location\n",
    "number of homes per location (uses `home_location`)"
   ]
  },
  {
   "cell_type": "code",
   "execution_count": 51,
   "metadata": {
    "slideshow": {
     "slide_type": "fragment"
    }
   },
   "outputs": [],
   "source": [
    "from skmob.measures.collective import homes_per_location"
   ]
  },
  {
   "cell_type": "code",
   "execution_count": 52,
   "metadata": {
    "slideshow": {
     "slide_type": "fragment"
    }
   },
   "outputs": [
    {
     "name": "stderr",
     "output_type": "stream",
     "text": [
      "100%|██████████| 1231/1231 [00:04<00:00, 294.90it/s]\n"
     ]
    },
    {
     "data": {
      "text/html": [
       "<div>\n",
       "<style scoped>\n",
       "    .dataframe tbody tr th:only-of-type {\n",
       "        vertical-align: middle;\n",
       "    }\n",
       "\n",
       "    .dataframe tbody tr th {\n",
       "        vertical-align: top;\n",
       "    }\n",
       "\n",
       "    .dataframe thead th {\n",
       "        text-align: right;\n",
       "    }\n",
       "</style>\n",
       "<table border=\"1\" class=\"dataframe\">\n",
       "  <thead>\n",
       "    <tr style=\"text-align: right;\">\n",
       "      <th></th>\n",
       "      <th>lat</th>\n",
       "      <th>lng</th>\n",
       "      <th>n_homes</th>\n",
       "    </tr>\n",
       "  </thead>\n",
       "  <tbody>\n",
       "    <tr>\n",
       "      <th>0</th>\n",
       "      <td>39.739154</td>\n",
       "      <td>-104.984703</td>\n",
       "      <td>70</td>\n",
       "    </tr>\n",
       "    <tr>\n",
       "      <th>1</th>\n",
       "      <td>37.774929</td>\n",
       "      <td>-122.419415</td>\n",
       "      <td>37</td>\n",
       "    </tr>\n",
       "    <tr>\n",
       "      <th>2</th>\n",
       "      <td>40.014986</td>\n",
       "      <td>-105.270546</td>\n",
       "      <td>31</td>\n",
       "    </tr>\n",
       "    <tr>\n",
       "      <th>3</th>\n",
       "      <td>0.000000</td>\n",
       "      <td>0.000000</td>\n",
       "      <td>27</td>\n",
       "    </tr>\n",
       "    <tr>\n",
       "      <th>4</th>\n",
       "      <td>30.267153</td>\n",
       "      <td>-97.743061</td>\n",
       "      <td>15</td>\n",
       "    </tr>\n",
       "  </tbody>\n",
       "</table>\n",
       "</div>"
      ],
      "text/plain": [
       "         lat         lng  n_homes\n",
       "0  39.739154 -104.984703       70\n",
       "1  37.774929 -122.419415       37\n",
       "2  40.014986 -105.270546       31\n",
       "3   0.000000    0.000000       27\n",
       "4  30.267153  -97.743061       15"
      ]
     },
     "execution_count": 52,
     "metadata": {},
     "output_type": "execute_result"
    }
   ],
   "source": [
    "hl_df = homes_per_location(tdf, start_night='20:00')\n",
    "hl_df.head()"
   ]
  },
  {
   "cell_type": "code",
   "execution_count": 53,
   "metadata": {
    "scrolled": true,
    "slideshow": {
     "slide_type": "slide"
    }
   },
   "outputs": [
    {
     "data": {
      "text/html": [
       "<div style=\"width:100%;\"><div style=\"position:relative;width:100%;height:0;padding-bottom:60%;\"><iframe src=\"data:text/html;charset=utf-8;base64,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\" style=\"position:absolute;width:100%;height:100%;left:0;top:0;border:none !important;\" allowfullscreen webkitallowfullscreen mozallowfullscreen></iframe></div></div>"
      ],
      "text/plain": [
       "<folium.folium.Map at 0x7f8d5c79ca20>"
      ]
     },
     "execution_count": 53,
     "metadata": {},
     "output_type": "execute_result"
    }
   ],
   "source": [
    "m = folium.Map(tiles = 'openstreetmap', zoom_start=10, control_scale=True)\n",
    "HeatMap(hl_df[['lat', 'lng']].values).add_to(m)\n",
    "m"
   ]
  },
  {
   "cell_type": "markdown",
   "metadata": {
    "slideshow": {
     "slide_type": "slide"
    }
   },
   "source": [
    "## Uncorrelated location entropy\n",
    "\n",
    "historical probability that an individual $u$ visits location $i$\n",
    "\n",
    "$$S_{unc}^{loc}(i) = - \\sum_{j=u}^m p_j \\log_2 p_j$$\n",
    "\n",
    "$m$ is the number of useres that visited location $i$"
   ]
  },
  {
   "cell_type": "code",
   "execution_count": 54,
   "metadata": {
    "slideshow": {
     "slide_type": "slide"
    }
   },
   "outputs": [],
   "source": [
    "from skmob.measures.collective import uncorrelated_location_entropy"
   ]
  },
  {
   "cell_type": "code",
   "execution_count": 55,
   "metadata": {
    "slideshow": {
     "slide_type": "fragment"
    }
   },
   "outputs": [
    {
     "name": "stderr",
     "output_type": "stream",
     "text": [
      "100%|██████████| 77917/77917 [00:56<00:00, 1382.04it/s]\n"
     ]
    },
    {
     "data": {
      "text/html": [
       "<div>\n",
       "<style scoped>\n",
       "    .dataframe tbody tr th:only-of-type {\n",
       "        vertical-align: middle;\n",
       "    }\n",
       "\n",
       "    .dataframe tbody tr th {\n",
       "        vertical-align: top;\n",
       "    }\n",
       "\n",
       "    .dataframe thead th {\n",
       "        text-align: right;\n",
       "    }\n",
       "</style>\n",
       "<table border=\"1\" class=\"dataframe\">\n",
       "  <thead>\n",
       "    <tr style=\"text-align: right;\">\n",
       "      <th></th>\n",
       "      <th>lat</th>\n",
       "      <th>lng</th>\n",
       "      <th>uncorrelated_location_entropy</th>\n",
       "    </tr>\n",
       "  </thead>\n",
       "  <tbody>\n",
       "    <tr>\n",
       "      <th>0</th>\n",
       "      <td>-94.578567</td>\n",
       "      <td>39.099727</td>\n",
       "      <td>0.0</td>\n",
       "    </tr>\n",
       "    <tr>\n",
       "      <th>1</th>\n",
       "      <td>-90.000000</td>\n",
       "      <td>0.000000</td>\n",
       "      <td>0.0</td>\n",
       "    </tr>\n",
       "    <tr>\n",
       "      <th>2</th>\n",
       "      <td>-75.250973</td>\n",
       "      <td>-0.071389</td>\n",
       "      <td>0.0</td>\n",
       "    </tr>\n",
       "    <tr>\n",
       "      <th>3</th>\n",
       "      <td>-70.683333</td>\n",
       "      <td>-44.316667</td>\n",
       "      <td>0.0</td>\n",
       "    </tr>\n",
       "    <tr>\n",
       "      <th>4</th>\n",
       "      <td>-45.032284</td>\n",
       "      <td>168.660278</td>\n",
       "      <td>0.0</td>\n",
       "    </tr>\n",
       "  </tbody>\n",
       "</table>\n",
       "</div>"
      ],
      "text/plain": [
       "         lat         lng  uncorrelated_location_entropy\n",
       "0 -94.578567   39.099727                            0.0\n",
       "1 -90.000000    0.000000                            0.0\n",
       "2 -75.250973   -0.071389                            0.0\n",
       "3 -70.683333  -44.316667                            0.0\n",
       "4 -45.032284  168.660278                            0.0"
      ]
     },
     "execution_count": 55,
     "metadata": {},
     "output_type": "execute_result"
    }
   ],
   "source": [
    "ule_df = uncorrelated_location_entropy(tdf, show_progress=True)\n",
    "ule_df.head()"
   ]
  },
  {
   "cell_type": "code",
   "execution_count": 56,
   "metadata": {
    "slideshow": {
     "slide_type": "slide"
    }
   },
   "outputs": [
    {
     "data": {
      "image/png": "[encoded data removed]",
      "text/plain": [
       "<Figure size 432x288 with 1 Axes>"
      ]
     },
     "metadata": {
      "needs_background": "light"
     },
     "output_type": "display_data"
    }
   ],
   "source": [
    "fig = plt.figure()\n",
    "plt.hist(ule_df.uncorrelated_location_entropy)\n",
    "plt.xlabel('unc loc entropy', fontsize=15)\n",
    "plt.show()"
   ]
  },
  {
   "cell_type": "markdown",
   "metadata": {
    "slideshow": {
     "slide_type": "slide"
    }
   },
   "source": [
    "## Visits per location\n",
    "\n",
    "number of visits to a location made by the population of individuals"
   ]
  },
  {
   "cell_type": "code",
   "execution_count": 57,
   "metadata": {
    "slideshow": {
     "slide_type": "fragment"
    }
   },
   "outputs": [],
   "source": [
    "from skmob.measures.collective import visits_per_location"
   ]
  },
  {
   "cell_type": "code",
   "execution_count": 58,
   "metadata": {
    "slideshow": {
     "slide_type": "fragment"
    }
   },
   "outputs": [
    {
     "data": {
      "text/html": [
       "<div>\n",
       "<style scoped>\n",
       "    .dataframe tbody tr th:only-of-type {\n",
       "        vertical-align: middle;\n",
       "    }\n",
       "\n",
       "    .dataframe tbody tr th {\n",
       "        vertical-align: top;\n",
       "    }\n",
       "\n",
       "    .dataframe thead th {\n",
       "        text-align: right;\n",
       "    }\n",
       "</style>\n",
       "<table border=\"1\" class=\"dataframe\">\n",
       "  <thead>\n",
       "    <tr style=\"text-align: right;\">\n",
       "      <th></th>\n",
       "      <th>lat</th>\n",
       "      <th>lng</th>\n",
       "      <th>n_visits</th>\n",
       "    </tr>\n",
       "  </thead>\n",
       "  <tbody>\n",
       "    <tr>\n",
       "      <th>0</th>\n",
       "      <td>0.000000</td>\n",
       "      <td>0.000000</td>\n",
       "      <td>10378</td>\n",
       "    </tr>\n",
       "    <tr>\n",
       "      <th>1</th>\n",
       "      <td>39.739154</td>\n",
       "      <td>-104.984703</td>\n",
       "      <td>9958</td>\n",
       "    </tr>\n",
       "    <tr>\n",
       "      <th>2</th>\n",
       "      <td>40.014986</td>\n",
       "      <td>-105.270546</td>\n",
       "      <td>4548</td>\n",
       "    </tr>\n",
       "    <tr>\n",
       "      <th>3</th>\n",
       "      <td>37.774929</td>\n",
       "      <td>-122.419415</td>\n",
       "      <td>3615</td>\n",
       "    </tr>\n",
       "    <tr>\n",
       "      <th>4</th>\n",
       "      <td>40.714269</td>\n",
       "      <td>-74.005973</td>\n",
       "      <td>2881</td>\n",
       "    </tr>\n",
       "  </tbody>\n",
       "</table>\n",
       "</div>"
      ],
      "text/plain": [
       "         lat         lng  n_visits\n",
       "0   0.000000    0.000000     10378\n",
       "1  39.739154 -104.984703      9958\n",
       "2  40.014986 -105.270546      4548\n",
       "3  37.774929 -122.419415      3615\n",
       "4  40.714269  -74.005973      2881"
      ]
     },
     "execution_count": 58,
     "metadata": {},
     "output_type": "execute_result"
    }
   ],
   "source": [
    "vpl_df = visits_per_location(tdf)\n",
    "vpl_df.head()"
   ]
  },
  {
   "cell_type": "code",
   "execution_count": 59,
   "metadata": {
    "slideshow": {
     "slide_type": "slide"
    }
   },
   "outputs": [
    {
     "data": {
      "image/png": "[encoded data removed]",
      "text/plain": [
       "<Figure size 432x432 with 1 Axes>"
      ]
     },
     "metadata": {
      "needs_background": "light"
     },
     "output_type": "display_data"
    }
   ],
   "source": [
    "fig = plt.figure(figsize=(6, 6))\n",
    "x, y = zip(*lbpdf(1.5, list(vpl_df.n_visits)))\n",
    "plt.plot(x, y, marker='o')\n",
    "plt.xlabel('visits per location', fontsize=15)\n",
    "plt.loglog()\n",
    "plt.show()"
   ]
  },
  {
   "cell_type": "markdown",
   "metadata": {
    "slideshow": {
     "slide_type": "slide"
    }
   },
   "source": [
    "## Visits per time unit\n",
    "\n",
    "number of visits of the population of individuals in a time slot (default: 1 hour)\n"
   ]
  },
  {
   "cell_type": "code",
   "execution_count": 60,
   "metadata": {
    "slideshow": {
     "slide_type": "fragment"
    }
   },
   "outputs": [],
   "source": [
    "from skmob.measures.collective import visits_per_time_unit"
   ]
  },
  {
   "cell_type": "code",
   "execution_count": 61,
   "metadata": {
    "slideshow": {
     "slide_type": "fragment"
    }
   },
   "outputs": [
    {
     "data": {
      "text/html": [
       "<div>\n",
       "<style scoped>\n",
       "    .dataframe tbody tr th:only-of-type {\n",
       "        vertical-align: middle;\n",
       "    }\n",
       "\n",
       "    .dataframe tbody tr th {\n",
       "        vertical-align: top;\n",
       "    }\n",
       "\n",
       "    .dataframe thead th {\n",
       "        text-align: right;\n",
       "    }\n",
       "</style>\n",
       "<table border=\"1\" class=\"dataframe\">\n",
       "  <thead>\n",
       "    <tr style=\"text-align: right;\">\n",
       "      <th></th>\n",
       "      <th>n_visits</th>\n",
       "    </tr>\n",
       "    <tr>\n",
       "      <th>datetime</th>\n",
       "      <th></th>\n",
       "    </tr>\n",
       "  </thead>\n",
       "  <tbody>\n",
       "    <tr>\n",
       "      <th>2008-03-22 05:00:00+00:00</th>\n",
       "      <td>2</td>\n",
       "    </tr>\n",
       "    <tr>\n",
       "      <th>2008-03-22 06:00:00+00:00</th>\n",
       "      <td>2</td>\n",
       "    </tr>\n",
       "    <tr>\n",
       "      <th>2008-03-22 07:00:00+00:00</th>\n",
       "      <td>0</td>\n",
       "    </tr>\n",
       "    <tr>\n",
       "      <th>2008-03-22 08:00:00+00:00</th>\n",
       "      <td>0</td>\n",
       "    </tr>\n",
       "    <tr>\n",
       "      <th>2008-03-22 09:00:00+00:00</th>\n",
       "      <td>0</td>\n",
       "    </tr>\n",
       "  </tbody>\n",
       "</table>\n",
       "</div>"
      ],
      "text/plain": [
       "                           n_visits\n",
       "datetime                           \n",
       "2008-03-22 05:00:00+00:00         2\n",
       "2008-03-22 06:00:00+00:00         2\n",
       "2008-03-22 07:00:00+00:00         0\n",
       "2008-03-22 08:00:00+00:00         0\n",
       "2008-03-22 09:00:00+00:00         0"
      ]
     },
     "execution_count": 61,
     "metadata": {},
     "output_type": "execute_result"
    }
   ],
   "source": [
    "vtu_df = visits_per_time_unit(tdf)\n",
    "vtu_df.head()"
   ]
  },
  {
   "cell_type": "code",
   "execution_count": 62,
   "metadata": {
    "slideshow": {
     "slide_type": "slide"
    }
   },
   "outputs": [
    {
     "name": "stderr",
     "output_type": "stream",
     "text": [
      "/home/darshan/anaconda3/envs/test/lib/python3.7/site-packages/pandas/core/arrays/datetimes.py:1269: UserWarning: Converting to PeriodArray/Index representation will drop timezone information.\n",
      "  UserWarning,\n"
     ]
    },
    {
     "data": {
      "image/png": "[encoded data removed]",
      "text/plain": [
       "<Figure size 432x288 with 1 Axes>"
      ]
     },
     "metadata": {
      "needs_background": "light"
     },
     "output_type": "display_data"
    }
   ],
   "source": [
    "vtu_df.plot()\n",
    "plt.show()"
   ]
  },
  {
   "cell_type": "markdown",
   "metadata": {
    "slideshow": {
     "slide_type": "slide"
    }
   },
   "source": [
    "## Origin destination matrix\n",
    "\n",
    "a network where: \n",
    "- nodes represent locations visited by the population of individuals\n",
    "- directed edges represent trips between the locations made by the individuals"
   ]
  },
  {
   "cell_type": "code",
   "execution_count": 63,
   "metadata": {
    "slideshow": {
     "slide_type": "slide"
    }
   },
   "outputs": [],
   "source": [
    "from skmob.measures.collective import origin_destination_matrix"
   ]
  },
  {
   "cell_type": "code",
   "execution_count": 64,
   "metadata": {
    "slideshow": {
     "slide_type": "fragment"
    }
   },
   "outputs": [
    {
     "name": "stderr",
     "output_type": "stream",
     "text": [
      "100%|██████████| 1231/1231 [00:02<00:00, 551.76it/s]\n"
     ]
    },
    {
     "data": {
      "text/html": [
       "<div>\n",
       "<style scoped>\n",
       "    .dataframe tbody tr th:only-of-type {\n",
       "        vertical-align: middle;\n",
       "    }\n",
       "\n",
       "    .dataframe tbody tr th {\n",
       "        vertical-align: top;\n",
       "    }\n",
       "\n",
       "    .dataframe thead th {\n",
       "        text-align: right;\n",
       "    }\n",
       "</style>\n",
       "<table border=\"1\" class=\"dataframe\">\n",
       "  <thead>\n",
       "    <tr style=\"text-align: right;\">\n",
       "      <th></th>\n",
       "      <th>lat_origin</th>\n",
       "      <th>lng_origin</th>\n",
       "      <th>lat_dest</th>\n",
       "      <th>lng_dest</th>\n",
       "      <th>n_trips</th>\n",
       "    </tr>\n",
       "  </thead>\n",
       "  <tbody>\n",
       "    <tr>\n",
       "      <th>0</th>\n",
       "      <td>37.774929</td>\n",
       "      <td>-122.419415</td>\n",
       "      <td>37.600747</td>\n",
       "      <td>-122.382376</td>\n",
       "      <td>2</td>\n",
       "    </tr>\n",
       "    <tr>\n",
       "      <th>1</th>\n",
       "      <td>37.774929</td>\n",
       "      <td>-122.419415</td>\n",
       "      <td>37.630490</td>\n",
       "      <td>-122.411084</td>\n",
       "      <td>8</td>\n",
       "    </tr>\n",
       "    <tr>\n",
       "      <th>2</th>\n",
       "      <td>37.774929</td>\n",
       "      <td>-122.419415</td>\n",
       "      <td>37.584103</td>\n",
       "      <td>-122.366083</td>\n",
       "      <td>55</td>\n",
       "    </tr>\n",
       "    <tr>\n",
       "      <th>3</th>\n",
       "      <td>37.774929</td>\n",
       "      <td>-122.419415</td>\n",
       "      <td>37.613825</td>\n",
       "      <td>-122.486919</td>\n",
       "      <td>2</td>\n",
       "    </tr>\n",
       "    <tr>\n",
       "      <th>4</th>\n",
       "      <td>37.774929</td>\n",
       "      <td>-122.419415</td>\n",
       "      <td>37.654656</td>\n",
       "      <td>-122.407750</td>\n",
       "      <td>12</td>\n",
       "    </tr>\n",
       "  </tbody>\n",
       "</table>\n",
       "</div>"
      ],
      "text/plain": [
       "   lat_origin  lng_origin   lat_dest    lng_dest  n_trips\n",
       "0   37.774929 -122.419415  37.600747 -122.382376        2\n",
       "1   37.774929 -122.419415  37.630490 -122.411084        8\n",
       "2   37.774929 -122.419415  37.584103 -122.366083       55\n",
       "3   37.774929 -122.419415  37.613825 -122.486919        2\n",
       "4   37.774929 -122.419415  37.654656 -122.407750       12"
      ]
     },
     "execution_count": 64,
     "metadata": {},
     "output_type": "execute_result"
    }
   ],
   "source": [
    "od_df = origin_destination_matrix(tdf)\n",
    "od_df.head()"
   ]
  }
 ],
 "metadata": {
  "anaconda-cloud": {},
  "celltoolbar": "Slideshow",
  "hide_input": false,
  "kernelspec": {
   "display_name": "Python 3",
   "language": "python",
   "name": "python3"
  },
  "language_info": {
   "codemirror_mode": {
    "name": "ipython",
    "version": 3
   },
   "file_extension": ".py",
   "mimetype": "text/x-python",
   "name": "python",
   "nbconvert_exporter": "python",
   "pygments_lexer": "ipython3",
   "version": "3.7.3"
  },
  "latex_envs": {
   "LaTeX_envs_menu_present": true,
   "autoclose": false,
   "autocomplete": true,
   "bibliofile": "biblio.bib",
   "cite_by": "apalike",
   "current_citInitial": 1,
   "eqLabelWithNumbers": true,
   "eqNumInitial": 1,
   "hotkeys": {
    "equation": "Ctrl-E",
    "itemize": "Ctrl-I"
   },
   "labels_anchors": false,
   "latex_user_defs": false,
   "report_style_numbering": true,
   "user_envs_cfg": false
  }
 },
 "nbformat": 4,
 "nbformat_minor": 1
}
