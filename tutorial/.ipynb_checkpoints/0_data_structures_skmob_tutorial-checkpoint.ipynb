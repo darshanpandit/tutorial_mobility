{
 "cells": [
  {
   "cell_type": "markdown",
   "metadata": {
    "slideshow": {
     "slide_type": "slide"
    }
   },
   "source": [
    "<img src=\"./data/logo_skmob.png\" width=250 align=\"left\" />"
   ]
  },
  {
   "cell_type": "markdown",
   "metadata": {
    "slideshow": {
     "slide_type": "-"
    }
   },
   "source": [
    "# Introduction to scikit-mobility\n",
    "\n",
    "\n",
    "#### We are presenting the alpha version, any feedback is welcome :)\n"
   ]
  },
  {
   "cell_type": "markdown",
   "metadata": {
    "slideshow": {
     "slide_type": "subslide"
    }
   },
   "source": [
    "### What is scikit-mobility?\n",
    "\n",
    "**scikit-mobility** is a Python package that provides easy methods to work with mobility data. The library extends the datatypes used by Pandas to allow working with trajectories and fluxes of mobility. \n",
    "\n",
    "scikit-mobility is well suited for working with:\n",
    "\n",
    "- **trajectories** composed by latitude/longitude points (e.g. GPS data)\n",
    "- **fluxes** of movements between places (e.g. OD matrix)\n"
   ]
  },
  {
   "cell_type": "markdown",
   "metadata": {
    "slideshow": {
     "slide_type": "subslide"
    }
   },
   "source": [
    "We extended Pandas to provide a user-friendly, powerful and stable basic data structures.\n",
    "\n",
    "The two primary data structures of scikit-mobility are:\n",
    "\n",
    "- **TrajDataFrame** - a dataframe designed to deal with mobility trajectories.\n",
    "- **FlowDataFrame** - a dataframe designed to deal with fluxes of movements mapped into a tessellation\n"
   ]
  },
  {
   "cell_type": "markdown",
   "metadata": {
    "slideshow": {
     "slide_type": "subslide"
    }
   },
   "source": [
    "### What to do with scikit-mobility?\n",
    "\n",
    "Here are just a few of the things that scikit-mobility does well:\n",
    "\n",
    "- **Preprocessing** of mobility data such as clustering, compressing, detecting and filtering trajectories. \n",
    "- **Measuring** individual and collective mobility behaviours.\n",
    "- **Modeling** individual trajectories of syntetic agents and collective flows of populations.\n",
    "    "
   ]
  },
  {
   "cell_type": "markdown",
   "metadata": {
    "slideshow": {
     "slide_type": "slide"
    }
   },
   "source": [
    "# TrajDataFrame\n",
    "\n",
    "\n",
    "A `TrajDataFrame` is a Pandas DataFrame where row contains information regarding a point of the trajectory. There is no limit in the number of columns it can contains, but there three of them must always be present:\n",
    "\n",
    "- `lat` - latitude of the point\n",
    "- `lng` - longitude of the point\n",
    "- `datetime` - date and time at which the point was visited"
   ]
  },
  {
   "cell_type": "markdown",
   "metadata": {
    "slideshow": {
     "slide_type": "subslide"
    }
   },
   "source": [
    "Additionaly, for multi-user and multi-trajectory dataset, there are two optional columns:\n",
    "\n",
    "- `uid` - identifier for the user to which the trajectory belongs to\n",
    "- `tid` - identifier for the trajectory"
   ]
  },
  {
   "cell_type": "code",
   "execution_count": 1,
   "metadata": {
    "slideshow": {
     "slide_type": "subslide"
    }
   },
   "outputs": [],
   "source": [
    "# Import the library\n",
    "\n",
    "import skmob\n"
   ]
  },
  {
   "cell_type": "markdown",
   "metadata": {
    "slideshow": {
     "slide_type": "subslide"
    }
   },
   "source": [
    "## Construction of a `TrajDataFrame`\n",
    "\n",
    "The `TrajDataFrame` can be created from:\n",
    "\n",
    "- a python list or a numpy array\n",
    "- a pandas `DataFrame`\n",
    "- a python dictionary"
   ]
  },
  {
   "cell_type": "markdown",
   "metadata": {
    "slideshow": {
     "slide_type": "subslide"
    }
   },
   "source": [
    "### From `list`"
   ]
  },
  {
   "cell_type": "code",
   "execution_count": 2,
   "metadata": {
    "slideshow": {
     "slide_type": "-"
    }
   },
   "outputs": [
    {
     "data": {
      "text/plain": [
       "[[1, 39.984094, 116.319236, '2008-10-23 13:53:05'],\n",
       " [1, 39.984198, 116.319322, '2008-10-23 13:53:06'],\n",
       " [1, 39.984224, 116.319402, '2008-10-23 13:53:11'],\n",
       " [1, 39.984211, 116.319389, '2008-10-23 13:53:16']]"
      ]
     },
     "execution_count": 2,
     "metadata": {},
     "output_type": "execute_result"
    }
   ],
   "source": [
    "# From a list\n",
    "\n",
    "data_list = [[1, 39.984094, 116.319236, '2008-10-23 13:53:05'],\n",
    "             [1, 39.984198, 116.319322, '2008-10-23 13:53:06'],\n",
    "             [1, 39.984224, 116.319402, '2008-10-23 13:53:11'],\n",
    "             [1, 39.984211, 116.319389, '2008-10-23 13:53:16']]\n",
    "data_list"
   ]
  },
  {
   "cell_type": "markdown",
   "metadata": {
    "slideshow": {
     "slide_type": "subslide"
    }
   },
   "source": [
    "The constructor requires to know the indexes of the mandatory columns. We can set them by using the constructor arguments `latitude`, `longitude` and `datetime`."
   ]
  },
  {
   "cell_type": "code",
   "execution_count": 3,
   "metadata": {
    "slideshow": {
     "slide_type": "-"
    }
   },
   "outputs": [
    {
     "data": {
      "text/html": [
       "<div>\n",
       "<style scoped>\n",
       "    .dataframe tbody tr th:only-of-type {\n",
       "        vertical-align: middle;\n",
       "    }\n",
       "\n",
       "    .dataframe tbody tr th {\n",
       "        vertical-align: top;\n",
       "    }\n",
       "\n",
       "    .dataframe thead th {\n",
       "        text-align: right;\n",
       "    }\n",
       "</style>\n",
       "<table border=\"1\" class=\"dataframe\">\n",
       "  <thead>\n",
       "    <tr style=\"text-align: right;\">\n",
       "      <th></th>\n",
       "      <th>0</th>\n",
       "      <th>lat</th>\n",
       "      <th>lng</th>\n",
       "      <th>datetime</th>\n",
       "    </tr>\n",
       "  </thead>\n",
       "  <tbody>\n",
       "    <tr>\n",
       "      <th>0</th>\n",
       "      <td>1</td>\n",
       "      <td>39.984094</td>\n",
       "      <td>116.319236</td>\n",
       "      <td>2008-10-23 13:53:05</td>\n",
       "    </tr>\n",
       "    <tr>\n",
       "      <th>1</th>\n",
       "      <td>1</td>\n",
       "      <td>39.984198</td>\n",
       "      <td>116.319322</td>\n",
       "      <td>2008-10-23 13:53:06</td>\n",
       "    </tr>\n",
       "    <tr>\n",
       "      <th>2</th>\n",
       "      <td>1</td>\n",
       "      <td>39.984224</td>\n",
       "      <td>116.319402</td>\n",
       "      <td>2008-10-23 13:53:11</td>\n",
       "    </tr>\n",
       "    <tr>\n",
       "      <th>3</th>\n",
       "      <td>1</td>\n",
       "      <td>39.984211</td>\n",
       "      <td>116.319389</td>\n",
       "      <td>2008-10-23 13:53:16</td>\n",
       "    </tr>\n",
       "  </tbody>\n",
       "</table>\n",
       "</div>"
      ],
      "text/plain": [
       "   0        lat         lng            datetime\n",
       "0  1  39.984094  116.319236 2008-10-23 13:53:05\n",
       "1  1  39.984198  116.319322 2008-10-23 13:53:06\n",
       "2  1  39.984224  116.319402 2008-10-23 13:53:11\n",
       "3  1  39.984211  116.319389 2008-10-23 13:53:16"
      ]
     },
     "execution_count": 3,
     "metadata": {},
     "output_type": "execute_result"
    }
   ],
   "source": [
    "tdf = skmob.TrajDataFrame(data_list, latitude=1, longitude=2, datetime=3)\n",
    "tdf"
   ]
  },
  {
   "cell_type": "markdown",
   "metadata": {
    "slideshow": {
     "slide_type": "subslide"
    }
   },
   "source": [
    "If present, we can also specify the index of the columns `uid` and `tid` using the contructor arguments `user_id` and `trajectory_id`."
   ]
  },
  {
   "cell_type": "code",
   "execution_count": 4,
   "metadata": {
    "slideshow": {
     "slide_type": "-"
    }
   },
   "outputs": [
    {
     "data": {
      "text/html": [
       "<div>\n",
       "<style scoped>\n",
       "    .dataframe tbody tr th:only-of-type {\n",
       "        vertical-align: middle;\n",
       "    }\n",
       "\n",
       "    .dataframe tbody tr th {\n",
       "        vertical-align: top;\n",
       "    }\n",
       "\n",
       "    .dataframe thead th {\n",
       "        text-align: right;\n",
       "    }\n",
       "</style>\n",
       "<table border=\"1\" class=\"dataframe\">\n",
       "  <thead>\n",
       "    <tr style=\"text-align: right;\">\n",
       "      <th></th>\n",
       "      <th>uid</th>\n",
       "      <th>lat</th>\n",
       "      <th>lng</th>\n",
       "      <th>datetime</th>\n",
       "    </tr>\n",
       "  </thead>\n",
       "  <tbody>\n",
       "    <tr>\n",
       "      <th>0</th>\n",
       "      <td>1</td>\n",
       "      <td>39.984094</td>\n",
       "      <td>116.319236</td>\n",
       "      <td>2008-10-23 13:53:05</td>\n",
       "    </tr>\n",
       "    <tr>\n",
       "      <th>1</th>\n",
       "      <td>1</td>\n",
       "      <td>39.984198</td>\n",
       "      <td>116.319322</td>\n",
       "      <td>2008-10-23 13:53:06</td>\n",
       "    </tr>\n",
       "    <tr>\n",
       "      <th>2</th>\n",
       "      <td>1</td>\n",
       "      <td>39.984224</td>\n",
       "      <td>116.319402</td>\n",
       "      <td>2008-10-23 13:53:11</td>\n",
       "    </tr>\n",
       "    <tr>\n",
       "      <th>3</th>\n",
       "      <td>1</td>\n",
       "      <td>39.984211</td>\n",
       "      <td>116.319389</td>\n",
       "      <td>2008-10-23 13:53:16</td>\n",
       "    </tr>\n",
       "  </tbody>\n",
       "</table>\n",
       "</div>"
      ],
      "text/plain": [
       "   uid        lat         lng            datetime\n",
       "0    1  39.984094  116.319236 2008-10-23 13:53:05\n",
       "1    1  39.984198  116.319322 2008-10-23 13:53:06\n",
       "2    1  39.984224  116.319402 2008-10-23 13:53:11\n",
       "3    1  39.984211  116.319389 2008-10-23 13:53:16"
      ]
     },
     "execution_count": 4,
     "metadata": {},
     "output_type": "execute_result"
    }
   ],
   "source": [
    "tdf = skmob.TrajDataFrame(data_list, latitude=1, longitude=2, datetime=3, \n",
    "                          user_id=0)\n",
    "tdf.head(5)"
   ]
  },
  {
   "cell_type": "markdown",
   "metadata": {
    "slideshow": {
     "slide_type": "subslide"
    }
   },
   "source": [
    "### From `DataFrame`"
   ]
  },
  {
   "cell_type": "code",
   "execution_count": 5,
   "metadata": {
    "slideshow": {
     "slide_type": "-"
    }
   },
   "outputs": [
    {
     "name": "stdout",
     "output_type": "stream",
     "text": [
      "<class 'pandas.core.frame.DataFrame'>\n"
     ]
    },
    {
     "data": {
      "text/html": [
       "<div>\n",
       "<style scoped>\n",
       "    .dataframe tbody tr th:only-of-type {\n",
       "        vertical-align: middle;\n",
       "    }\n",
       "\n",
       "    .dataframe tbody tr th {\n",
       "        vertical-align: top;\n",
       "    }\n",
       "\n",
       "    .dataframe thead th {\n",
       "        text-align: right;\n",
       "    }\n",
       "</style>\n",
       "<table border=\"1\" class=\"dataframe\">\n",
       "  <thead>\n",
       "    <tr style=\"text-align: right;\">\n",
       "      <th></th>\n",
       "      <th>user</th>\n",
       "      <th>latitude</th>\n",
       "      <th>lng</th>\n",
       "      <th>hour</th>\n",
       "    </tr>\n",
       "  </thead>\n",
       "  <tbody>\n",
       "    <tr>\n",
       "      <th>0</th>\n",
       "      <td>1</td>\n",
       "      <td>39.984094</td>\n",
       "      <td>116.319236</td>\n",
       "      <td>2008-10-23 13:53:05</td>\n",
       "    </tr>\n",
       "    <tr>\n",
       "      <th>1</th>\n",
       "      <td>1</td>\n",
       "      <td>39.984198</td>\n",
       "      <td>116.319322</td>\n",
       "      <td>2008-10-23 13:53:06</td>\n",
       "    </tr>\n",
       "    <tr>\n",
       "      <th>2</th>\n",
       "      <td>1</td>\n",
       "      <td>39.984224</td>\n",
       "      <td>116.319402</td>\n",
       "      <td>2008-10-23 13:53:11</td>\n",
       "    </tr>\n",
       "    <tr>\n",
       "      <th>3</th>\n",
       "      <td>1</td>\n",
       "      <td>39.984211</td>\n",
       "      <td>116.319389</td>\n",
       "      <td>2008-10-23 13:53:16</td>\n",
       "    </tr>\n",
       "  </tbody>\n",
       "</table>\n",
       "</div>"
      ],
      "text/plain": [
       "   user   latitude         lng                 hour\n",
       "0     1  39.984094  116.319236  2008-10-23 13:53:05\n",
       "1     1  39.984198  116.319322  2008-10-23 13:53:06\n",
       "2     1  39.984224  116.319402  2008-10-23 13:53:11\n",
       "3     1  39.984211  116.319389  2008-10-23 13:53:16"
      ]
     },
     "execution_count": 5,
     "metadata": {},
     "output_type": "execute_result"
    }
   ],
   "source": [
    "import pandas as pd\n",
    "\n",
    "# Let's build a dataframe from the 2D list\n",
    "data_df = pd.DataFrame(data_list, columns=['user', 'latitude', 'lng', 'hour'])\n",
    "\n",
    "print(type(data_df))\n",
    "data_df"
   ]
  },
  {
   "cell_type": "markdown",
   "metadata": {
    "slideshow": {
     "slide_type": "subslide"
    }
   },
   "source": [
    "The columns name in the dataframe don't match the names required from the TrajDataFrame.\n",
    "We must specify the names of the mandatory columns in the original `DataFrame` using the constructor arguments `latitude`, `longitude` and `datetime`. If present, the columns for the user_id and the trajectory_id must also be specified."
   ]
  },
  {
   "cell_type": "code",
   "execution_count": 6,
   "metadata": {
    "slideshow": {
     "slide_type": "subslide"
    }
   },
   "outputs": [
    {
     "name": "stdout",
     "output_type": "stream",
     "text": [
      "<class 'skmob.core.trajectorydataframe.TrajDataFrame'>\n"
     ]
    },
    {
     "data": {
      "text/html": [
       "<div>\n",
       "<style scoped>\n",
       "    .dataframe tbody tr th:only-of-type {\n",
       "        vertical-align: middle;\n",
       "    }\n",
       "\n",
       "    .dataframe tbody tr th {\n",
       "        vertical-align: top;\n",
       "    }\n",
       "\n",
       "    .dataframe thead th {\n",
       "        text-align: right;\n",
       "    }\n",
       "</style>\n",
       "<table border=\"1\" class=\"dataframe\">\n",
       "  <thead>\n",
       "    <tr style=\"text-align: right;\">\n",
       "      <th></th>\n",
       "      <th>uid</th>\n",
       "      <th>lat</th>\n",
       "      <th>lng</th>\n",
       "      <th>datetime</th>\n",
       "    </tr>\n",
       "  </thead>\n",
       "  <tbody>\n",
       "    <tr>\n",
       "      <th>0</th>\n",
       "      <td>1</td>\n",
       "      <td>39.984094</td>\n",
       "      <td>116.319236</td>\n",
       "      <td>2008-10-23 13:53:05</td>\n",
       "    </tr>\n",
       "    <tr>\n",
       "      <th>1</th>\n",
       "      <td>1</td>\n",
       "      <td>39.984198</td>\n",
       "      <td>116.319322</td>\n",
       "      <td>2008-10-23 13:53:06</td>\n",
       "    </tr>\n",
       "    <tr>\n",
       "      <th>2</th>\n",
       "      <td>1</td>\n",
       "      <td>39.984224</td>\n",
       "      <td>116.319402</td>\n",
       "      <td>2008-10-23 13:53:11</td>\n",
       "    </tr>\n",
       "    <tr>\n",
       "      <th>3</th>\n",
       "      <td>1</td>\n",
       "      <td>39.984211</td>\n",
       "      <td>116.319389</td>\n",
       "      <td>2008-10-23 13:53:16</td>\n",
       "    </tr>\n",
       "  </tbody>\n",
       "</table>\n",
       "</div>"
      ],
      "text/plain": [
       "   uid        lat         lng            datetime\n",
       "0    1  39.984094  116.319236 2008-10-23 13:53:05\n",
       "1    1  39.984198  116.319322 2008-10-23 13:53:06\n",
       "2    1  39.984224  116.319402 2008-10-23 13:53:11\n",
       "3    1  39.984211  116.319389 2008-10-23 13:53:16"
      ]
     },
     "execution_count": 6,
     "metadata": {},
     "output_type": "execute_result"
    }
   ],
   "source": [
    "tdf = skmob.TrajDataFrame(data_df, latitude='latitude', datetime='hour', \n",
    "                          user_id='user')\n",
    "\n",
    "print(type(tdf))\n",
    "tdf"
   ]
  },
  {
   "cell_type": "markdown",
   "metadata": {
    "slideshow": {
     "slide_type": "subslide"
    }
   },
   "source": [
    "### From `dictionary`"
   ]
  },
  {
   "cell_type": "code",
   "execution_count": 7,
   "metadata": {
    "slideshow": {
     "slide_type": "-"
    }
   },
   "outputs": [
    {
     "data": {
      "text/plain": [
       "{'user': [1, 1, 1, 1],\n",
       " 'latitude': [39.984094, 39.984198, 39.984224, 39.984211],\n",
       " 'lng': [116.319236, 116.319322, 116.319402, 116.319389],\n",
       " 'hour': ['2008-10-23 13:53:05',\n",
       "  '2008-10-23 13:53:06',\n",
       "  '2008-10-23 13:53:11',\n",
       "  '2008-10-23 13:53:16']}"
      ]
     },
     "execution_count": 7,
     "metadata": {},
     "output_type": "execute_result"
    }
   ],
   "source": [
    "# Let's build a dataframe from the 2D list\n",
    "\n",
    "data_dict = data_df.to_dict(orient='list')\n",
    "data_dict"
   ]
  },
  {
   "cell_type": "code",
   "execution_count": 8,
   "metadata": {
    "slideshow": {
     "slide_type": "subslide"
    }
   },
   "outputs": [
    {
     "data": {
      "text/html": [
       "<div>\n",
       "<style scoped>\n",
       "    .dataframe tbody tr th:only-of-type {\n",
       "        vertical-align: middle;\n",
       "    }\n",
       "\n",
       "    .dataframe tbody tr th {\n",
       "        vertical-align: top;\n",
       "    }\n",
       "\n",
       "    .dataframe thead th {\n",
       "        text-align: right;\n",
       "    }\n",
       "</style>\n",
       "<table border=\"1\" class=\"dataframe\">\n",
       "  <thead>\n",
       "    <tr style=\"text-align: right;\">\n",
       "      <th></th>\n",
       "      <th>uid</th>\n",
       "      <th>lat</th>\n",
       "      <th>lng</th>\n",
       "      <th>datetime</th>\n",
       "    </tr>\n",
       "  </thead>\n",
       "  <tbody>\n",
       "    <tr>\n",
       "      <th>0</th>\n",
       "      <td>1</td>\n",
       "      <td>39.984094</td>\n",
       "      <td>116.319236</td>\n",
       "      <td>2008-10-23 13:53:05</td>\n",
       "    </tr>\n",
       "    <tr>\n",
       "      <th>1</th>\n",
       "      <td>1</td>\n",
       "      <td>39.984198</td>\n",
       "      <td>116.319322</td>\n",
       "      <td>2008-10-23 13:53:06</td>\n",
       "    </tr>\n",
       "    <tr>\n",
       "      <th>2</th>\n",
       "      <td>1</td>\n",
       "      <td>39.984224</td>\n",
       "      <td>116.319402</td>\n",
       "      <td>2008-10-23 13:53:11</td>\n",
       "    </tr>\n",
       "    <tr>\n",
       "      <th>3</th>\n",
       "      <td>1</td>\n",
       "      <td>39.984211</td>\n",
       "      <td>116.319389</td>\n",
       "      <td>2008-10-23 13:53:16</td>\n",
       "    </tr>\n",
       "  </tbody>\n",
       "</table>\n",
       "</div>"
      ],
      "text/plain": [
       "   uid        lat         lng            datetime\n",
       "0    1  39.984094  116.319236 2008-10-23 13:53:05\n",
       "1    1  39.984198  116.319322 2008-10-23 13:53:06\n",
       "2    1  39.984224  116.319402 2008-10-23 13:53:11\n",
       "3    1  39.984211  116.319389 2008-10-23 13:53:16"
      ]
     },
     "execution_count": 8,
     "metadata": {},
     "output_type": "execute_result"
    }
   ],
   "source": [
    "tdf = skmob.TrajDataFrame(data_dict, latitude='latitude', datetime='hour', \n",
    "                          user_id='user' )\n",
    "tdf"
   ]
  },
  {
   "cell_type": "markdown",
   "metadata": {
    "slideshow": {
     "slide_type": "subslide"
    }
   },
   "source": [
    "### From `file`\n",
    "\n",
    "Most of the times, mobility data are stored in csv files. TrajDataFrame has its own method `from_file` to construct the object from an input file.\n",
    "\n",
    "Let's try with a subsample of the GeoLife trajectories. The whole dataset can be found [here](https://www.microsoft.com/en-us/download/details.aspx?id=52367)"
   ]
  },
  {
   "cell_type": "code",
   "execution_count": 9,
   "metadata": {
    "slideshow": {
     "slide_type": "subslide"
    }
   },
   "outputs": [
    {
     "name": "stdout",
     "output_type": "stream",
     "text": [
      "/usr/bin/sh: gzcat: command not found\r\n"
     ]
    }
   ],
   "source": [
    "!gzcat ./data/geolife_sample.txt.gz | head"
   ]
  },
  {
   "cell_type": "code",
   "execution_count": 10,
   "metadata": {
    "slideshow": {
     "slide_type": "subslide"
    }
   },
   "outputs": [],
   "source": [
    "# read a dataset containing trajectories (GeoLife subsample, the data)\n",
    "\n",
    "tdf = skmob.TrajDataFrame.from_file('./data/geolife_sample.txt.gz', sep=',')"
   ]
  },
  {
   "cell_type": "code",
   "execution_count": 11,
   "metadata": {
    "slideshow": {
     "slide_type": "-"
    }
   },
   "outputs": [
    {
     "data": {
      "text/html": [
       "<div>\n",
       "<style scoped>\n",
       "    .dataframe tbody tr th:only-of-type {\n",
       "        vertical-align: middle;\n",
       "    }\n",
       "\n",
       "    .dataframe tbody tr th {\n",
       "        vertical-align: top;\n",
       "    }\n",
       "\n",
       "    .dataframe thead th {\n",
       "        text-align: right;\n",
       "    }\n",
       "</style>\n",
       "<table border=\"1\" class=\"dataframe\">\n",
       "  <thead>\n",
       "    <tr style=\"text-align: right;\">\n",
       "      <th></th>\n",
       "      <th>lat</th>\n",
       "      <th>lng</th>\n",
       "      <th>datetime</th>\n",
       "      <th>uid</th>\n",
       "    </tr>\n",
       "  </thead>\n",
       "  <tbody>\n",
       "    <tr>\n",
       "      <th>0</th>\n",
       "      <td>39.984094</td>\n",
       "      <td>116.319236</td>\n",
       "      <td>2008-10-23 05:53:05</td>\n",
       "      <td>1</td>\n",
       "    </tr>\n",
       "    <tr>\n",
       "      <th>1</th>\n",
       "      <td>39.984198</td>\n",
       "      <td>116.319322</td>\n",
       "      <td>2008-10-23 05:53:06</td>\n",
       "      <td>1</td>\n",
       "    </tr>\n",
       "    <tr>\n",
       "      <th>2</th>\n",
       "      <td>39.984224</td>\n",
       "      <td>116.319402</td>\n",
       "      <td>2008-10-23 05:53:11</td>\n",
       "      <td>1</td>\n",
       "    </tr>\n",
       "    <tr>\n",
       "      <th>3</th>\n",
       "      <td>39.984211</td>\n",
       "      <td>116.319389</td>\n",
       "      <td>2008-10-23 05:53:16</td>\n",
       "      <td>1</td>\n",
       "    </tr>\n",
       "    <tr>\n",
       "      <th>4</th>\n",
       "      <td>39.984217</td>\n",
       "      <td>116.319422</td>\n",
       "      <td>2008-10-23 05:53:21</td>\n",
       "      <td>1</td>\n",
       "    </tr>\n",
       "  </tbody>\n",
       "</table>\n",
       "</div>"
      ],
      "text/plain": [
       "         lat         lng            datetime  uid\n",
       "0  39.984094  116.319236 2008-10-23 05:53:05    1\n",
       "1  39.984198  116.319322 2008-10-23 05:53:06    1\n",
       "2  39.984224  116.319402 2008-10-23 05:53:11    1\n",
       "3  39.984211  116.319389 2008-10-23 05:53:16    1\n",
       "4  39.984217  116.319422 2008-10-23 05:53:21    1"
      ]
     },
     "execution_count": 11,
     "metadata": {},
     "output_type": "execute_result"
    }
   ],
   "source": [
    "# Let's explore the dataframe as we would do with Pandas\n",
    "\n",
    "tdf.head()"
   ]
  },
  {
   "cell_type": "markdown",
   "metadata": {
    "slideshow": {
     "slide_type": "subslide"
    }
   },
   "source": [
    "## Properties\n",
    "\n",
    "TrajDataFrame supports the possibility to add properties.\n",
    "\n",
    "- `crs`: it's the coordinate reference system associated to the trajectories. By default epsg:4326 (lat/long)\n",
    "- `parameters`: dictionary to add as many as necessary additional properties."
   ]
  },
  {
   "cell_type": "code",
   "execution_count": 12,
   "metadata": {
    "slideshow": {
     "slide_type": "subslide"
    }
   },
   "outputs": [
    {
     "data": {
      "text/plain": [
       "{'init': 'epsg:4326'}"
      ]
     },
     "execution_count": 12,
     "metadata": {},
     "output_type": "execute_result"
    }
   ],
   "source": [
    "tdf.crs"
   ]
  },
  {
   "cell_type": "code",
   "execution_count": 13,
   "metadata": {
    "scrolled": true,
    "slideshow": {
     "slide_type": "-"
    }
   },
   "outputs": [
    {
     "data": {
      "text/plain": [
       "{'from_file': './data/geolife_sample.txt.gz'}"
      ]
     },
     "execution_count": 13,
     "metadata": {},
     "output_type": "execute_result"
    }
   ],
   "source": [
    "tdf.parameters"
   ]
  },
  {
   "cell_type": "code",
   "execution_count": 14,
   "metadata": {
    "slideshow": {
     "slide_type": "-"
    }
   },
   "outputs": [
    {
     "data": {
      "text/plain": [
       "{'from_file': './data/geolife_sample.txt.gz', 'something': 5}"
      ]
     },
     "execution_count": 14,
     "metadata": {},
     "output_type": "execute_result"
    }
   ],
   "source": [
    "tdf.parameters['something'] = 5\n",
    "tdf.parameters"
   ]
  },
  {
   "cell_type": "markdown",
   "metadata": {
    "slideshow": {
     "slide_type": "subslide"
    }
   },
   "source": [
    "## Column types\n",
    "\n",
    "The mandatory (and optional) columns must have specific types."
   ]
  },
  {
   "cell_type": "code",
   "execution_count": 15,
   "metadata": {
    "slideshow": {
     "slide_type": "-"
    }
   },
   "outputs": [
    {
     "data": {
      "text/plain": [
       "pandas.core.frame.DataFrame"
      ]
     },
     "execution_count": 15,
     "metadata": {},
     "output_type": "execute_result"
    }
   ],
   "source": [
    "# In the DataFrame\n",
    "type(data_df)"
   ]
  },
  {
   "cell_type": "code",
   "execution_count": 16,
   "metadata": {
    "slideshow": {
     "slide_type": "-"
    }
   },
   "outputs": [
    {
     "data": {
      "text/plain": [
       "user          int64\n",
       "latitude    float64\n",
       "lng         float64\n",
       "hour         object\n",
       "dtype: object"
      ]
     },
     "execution_count": 16,
     "metadata": {},
     "output_type": "execute_result"
    }
   ],
   "source": [
    "data_df.dtypes"
   ]
  },
  {
   "cell_type": "code",
   "execution_count": 17,
   "metadata": {
    "slideshow": {
     "slide_type": "subslide"
    }
   },
   "outputs": [
    {
     "data": {
      "text/plain": [
       "skmob.core.trajectorydataframe.TrajDataFrame"
      ]
     },
     "execution_count": 17,
     "metadata": {},
     "output_type": "execute_result"
    }
   ],
   "source": [
    "# In the TrajDataFrame\n",
    "type(tdf)"
   ]
  },
  {
   "cell_type": "code",
   "execution_count": 18,
   "metadata": {
    "slideshow": {
     "slide_type": "-"
    }
   },
   "outputs": [
    {
     "data": {
      "text/plain": [
       "lat                float64\n",
       "lng                float64\n",
       "datetime    datetime64[ns]\n",
       "uid                  int64\n",
       "dtype: object"
      ]
     },
     "execution_count": 18,
     "metadata": {},
     "output_type": "execute_result"
    }
   ],
   "source": [
    "tdf.dtypes"
   ]
  },
  {
   "cell_type": "code",
   "execution_count": 19,
   "metadata": {
    "slideshow": {
     "slide_type": "-"
    }
   },
   "outputs": [
    {
     "data": {
      "text/plain": [
       "0    39.984094\n",
       "1    39.984198\n",
       "2    39.984224\n",
       "3    39.984211\n",
       "4    39.984217\n",
       "Name: lat, dtype: float64"
      ]
     },
     "execution_count": 19,
     "metadata": {},
     "output_type": "execute_result"
    }
   ],
   "source": [
    "# We can access the columns as we would do with pandas\n",
    "\n",
    "tdf.lat.head()"
   ]
  },
  {
   "cell_type": "markdown",
   "metadata": {
    "slideshow": {
     "slide_type": "subslide"
    }
   },
   "source": [
    "## Write and read a `TrajDataFrame`\n",
    "\n",
    "To include all the metadata attached to TrajDataFrame and write/read them into a file, scikit-mobility provides ad-hoc methods."
   ]
  },
  {
   "cell_type": "markdown",
   "metadata": {
    "slideshow": {
     "slide_type": "subslide"
    }
   },
   "source": [
    "### Write a `TrajDataFrame` to file\n",
    "\n",
    "- including the `tdf.parameters` and `tdf.crs`\n",
    "- automatically preserve the dtype of columns with time stamps (time zone info is lost though).\n",
    "\n",
    "**Caveat**: dtypes other than `int`, `float` and `datetime` may not be identical to the original dtype after loading from a json file. \n",
    "\n",
    "Check with `tdf.dtypes` and manually convert each column to the proper dtype, if needed. "
   ]
  },
  {
   "cell_type": "code",
   "execution_count": 20,
   "metadata": {
    "slideshow": {
     "slide_type": "subslide"
    }
   },
   "outputs": [],
   "source": [
    "skmob.write(tdf, './tdf.json')"
   ]
  },
  {
   "cell_type": "code",
   "execution_count": 21,
   "metadata": {
    "slideshow": {
     "slide_type": "-"
    }
   },
   "outputs": [
    {
     "data": {
      "text/plain": [
       "lat                float64\n",
       "lng                float64\n",
       "datetime    datetime64[ns]\n",
       "uid                  int64\n",
       "dtype: object"
      ]
     },
     "execution_count": 21,
     "metadata": {},
     "output_type": "execute_result"
    }
   ],
   "source": [
    "tdf.dtypes"
   ]
  },
  {
   "cell_type": "code",
   "execution_count": 22,
   "metadata": {
    "slideshow": {
     "slide_type": "-"
    }
   },
   "outputs": [
    {
     "data": {
      "text/plain": [
       "{'from_file': './data/geolife_sample.txt.gz', 'something': 5}"
      ]
     },
     "execution_count": 22,
     "metadata": {},
     "output_type": "execute_result"
    }
   ],
   "source": [
    "tdf.parameters"
   ]
  },
  {
   "cell_type": "markdown",
   "metadata": {
    "slideshow": {
     "slide_type": "subslide"
    }
   },
   "source": [
    "### Load a `TrajDataFrame` from file\n",
    "\n",
    "- trajectories data\n",
    "- automatically add `tdf.parameters` and `tdf.crs` stored with the write function.\n"
   ]
  },
  {
   "cell_type": "code",
   "execution_count": 23,
   "metadata": {
    "slideshow": {
     "slide_type": "subslide"
    }
   },
   "outputs": [
    {
     "data": {
      "text/html": [
       "<div>\n",
       "<style scoped>\n",
       "    .dataframe tbody tr th:only-of-type {\n",
       "        vertical-align: middle;\n",
       "    }\n",
       "\n",
       "    .dataframe tbody tr th {\n",
       "        vertical-align: top;\n",
       "    }\n",
       "\n",
       "    .dataframe thead th {\n",
       "        text-align: right;\n",
       "    }\n",
       "</style>\n",
       "<table border=\"1\" class=\"dataframe\">\n",
       "  <thead>\n",
       "    <tr style=\"text-align: right;\">\n",
       "      <th></th>\n",
       "      <th>lat</th>\n",
       "      <th>lng</th>\n",
       "      <th>datetime</th>\n",
       "      <th>uid</th>\n",
       "    </tr>\n",
       "  </thead>\n",
       "  <tbody>\n",
       "    <tr>\n",
       "      <th>0</th>\n",
       "      <td>39.984094</td>\n",
       "      <td>116.319236</td>\n",
       "      <td>2008-10-23 05:53:05</td>\n",
       "      <td>1</td>\n",
       "    </tr>\n",
       "    <tr>\n",
       "      <th>1</th>\n",
       "      <td>39.984198</td>\n",
       "      <td>116.319322</td>\n",
       "      <td>2008-10-23 05:53:06</td>\n",
       "      <td>1</td>\n",
       "    </tr>\n",
       "    <tr>\n",
       "      <th>2</th>\n",
       "      <td>39.984224</td>\n",
       "      <td>116.319402</td>\n",
       "      <td>2008-10-23 05:53:11</td>\n",
       "      <td>1</td>\n",
       "    </tr>\n",
       "    <tr>\n",
       "      <th>3</th>\n",
       "      <td>39.984211</td>\n",
       "      <td>116.319389</td>\n",
       "      <td>2008-10-23 05:53:16</td>\n",
       "      <td>1</td>\n",
       "    </tr>\n",
       "  </tbody>\n",
       "</table>\n",
       "</div>"
      ],
      "text/plain": [
       "         lat         lng            datetime  uid\n",
       "0  39.984094  116.319236 2008-10-23 05:53:05    1\n",
       "1  39.984198  116.319322 2008-10-23 05:53:06    1\n",
       "2  39.984224  116.319402 2008-10-23 05:53:11    1\n",
       "3  39.984211  116.319389 2008-10-23 05:53:16    1"
      ]
     },
     "execution_count": 23,
     "metadata": {},
     "output_type": "execute_result"
    }
   ],
   "source": [
    "tdf2 = skmob.read('./tdf.json')\n",
    "tdf2[:4]"
   ]
  },
  {
   "cell_type": "code",
   "execution_count": 24,
   "metadata": {
    "slideshow": {
     "slide_type": "-"
    }
   },
   "outputs": [
    {
     "data": {
      "text/plain": [
       "lat                float64\n",
       "lng                float64\n",
       "datetime    datetime64[ns]\n",
       "uid                  int64\n",
       "dtype: object"
      ]
     },
     "execution_count": 24,
     "metadata": {},
     "output_type": "execute_result"
    }
   ],
   "source": [
    "tdf2.dtypes"
   ]
  },
  {
   "cell_type": "code",
   "execution_count": 25,
   "metadata": {
    "slideshow": {
     "slide_type": "-"
    }
   },
   "outputs": [
    {
     "data": {
      "text/plain": [
       "{'from_file': './data/geolife_sample.txt.gz', 'something': 5}"
      ]
     },
     "execution_count": 25,
     "metadata": {},
     "output_type": "execute_result"
    }
   ],
   "source": [
    "tdf2.parameters"
   ]
  },
  {
   "cell_type": "markdown",
   "metadata": {
    "slideshow": {
     "slide_type": "subslide"
    }
   },
   "source": [
    "## Plotting\n",
    "\n",
    "A very important aspect when working with mobility data is the possibility to visualize trajectories. The `TrajDataFrame` provides methods to plot trajectories relying on folium."
   ]
  },
  {
   "cell_type": "code",
   "execution_count": 26,
   "metadata": {
    "slideshow": {
     "slide_type": "subslide"
    }
   },
   "outputs": [
    {
     "data": {
      "text/html": [
       "<div style=\"width:100%;\"><div style=\"position:relative;width:100%;height:0;padding-bottom:60%;\"><iframe src=\"data:text/html;charset=utf-8;base64,PCFET0NUWVBFIGh0bWw+CjxoZWFkPiAgICAKICAgIDxtZXRhIGh0dHAtZXF1aXY9ImNvbnRlbnQtdHlwZSIgY29udGVudD0idGV4dC9odG1sOyBjaGFyc2V0PVVURi04IiAvPgogICAgCiAgICAgICAgPHNjcmlwdD4KICAgICAgICAgICAgTF9OT19UT1VDSCA9IGZhbHNlOwogICAgICAgICAgICBMX0RJU0FCTEVfM0QgPSBmYWxzZTsKICAgICAgICA8L3NjcmlwdD4KICAgIAogICAgPHNjcmlwdCBzcmM9Imh0dHBzOi8vY2RuLmpzZGVsaXZyLm5ldC9ucG0vbGVhZmxldEAxLjUuMS9kaXN0L2xlYWZsZXQuanMiPjwvc2NyaXB0PgogICAgPHNjcmlwdCBzcmM9Imh0dHBzOi8vY29kZS5qcXVlcnkuY29tL2pxdWVyeS0xLjEyLjQubWluLmpzIj48L3NjcmlwdD4KICAgIDxzY3JpcHQgc3JjPSJodHRwczovL21heGNkbi5ib290c3RyYXBjZG4uY29tL2Jvb3RzdHJhcC8zLjIuMC9qcy9ib290c3RyYXAubWluLmpzIj48L3NjcmlwdD4KICAgIDxzY3JpcHQgc3JjPSJodHRwczovL2NkbmpzLmNsb3VkZmxhcmUuY29tL2FqYXgvbGlicy9MZWFmbGV0LmF3ZXNvbWUtbWFya2Vycy8yLjAuMi9sZWFmbGV0LmF3ZXNvbWUtbWFya2Vycy5qcyI+PC9zY3JpcHQ+CiAgICA8bGluayByZWw9InN0eWxlc2hlZXQiIGhyZWY9Imh0dHBzOi8vY2RuLmpzZGVsaXZyLm5ldC9ucG0vbGVhZmxldEAxLjUuMS9kaXN0L2xlYWZsZXQuY3NzIi8+CiAgICA8bGluayByZWw9InN0eWxlc2hlZXQiIGhyZWY9Imh0dHBzOi8vbWF4Y2RuLmJvb3RzdHJhcGNkbi5jb20vYm9vdHN0cmFwLzMuMi4wL2Nzcy9ib290c3RyYXAubWluLmNzcyIvPgogICAgPGxpbmsgcmVsPSJzdHlsZXNoZWV0IiBocmVmPSJodHRwczovL21heGNkbi5ib290c3RyYXBjZG4uY29tL2Jvb3RzdHJhcC8zLjIuMC9jc3MvYm9vdHN0cmFwLXRoZW1lLm1pbi5jc3MiLz4KICAgIDxsaW5rIHJlbD0ic3R5bGVzaGVldCIgaHJlZj0iaHR0cHM6Ly9tYXhjZG4uYm9vdHN0cmFwY2RuLmNvbS9mb250LWF3ZXNvbWUvNC42LjMvY3NzL2ZvbnQtYXdlc29tZS5taW4uY3NzIi8+CiAgICA8bGluayByZWw9InN0eWxlc2hlZXQiIGhyZWY9Imh0dHBzOi8vY2RuanMuY2xvdWRmbGFyZS5jb20vYWpheC9saWJzL0xlYWZsZXQuYXdlc29tZS1tYXJrZXJzLzIuMC4yL2xlYWZsZXQuYXdlc29tZS1tYXJrZXJzLmNzcyIvPgogICAgPGxpbmsgcmVsPSJzdHlsZXNoZWV0IiBocmVmPSJodHRwczovL3Jhd2Nkbi5naXRoYWNrLmNvbS9weXRob24tdmlzdWFsaXphdGlvbi9mb2xpdW0vbWFzdGVyL2ZvbGl1bS90ZW1wbGF0ZXMvbGVhZmxldC5hd2Vzb21lLnJvdGF0ZS5jc3MiLz4KICAgIDxzdHlsZT5odG1sLCBib2R5IHt3aWR0aDogMTAwJTtoZWlnaHQ6IDEwMCU7bWFyZ2luOiAwO3BhZGRpbmc6IDA7fTwvc3R5bGU+CiAgICA8c3R5bGU+I21hcCB7cG9zaXRpb246YWJzb2x1dGU7dG9wOjA7Ym90dG9tOjA7cmlnaHQ6MDtsZWZ0OjA7fTwvc3R5bGU+CiAgICAKICAgICAgICAgICAgPG1ldGEgbmFtZT0idmlld3BvcnQiIGNvbnRlbnQ9IndpZHRoPWRldmljZS13aWR0aCwKICAgICAgICAgICAgICAgIGluaXRpYWwtc2NhbGU9MS4wLCBtYXhpbXVtLXNjYWxlPTEuMCwgdXNlci1zY2FsYWJsZT1ubyIgLz4KICAgICAgICAgICAgPHN0eWxlPgogICAgICAgICAgICAgICAgI21hcF9hNjhlODkwODA2Yzg0ODY4YWY1YmU0MDExM2JhNjE2MyB7CiAgICAgICAgICAgICAgICAgICAgcG9zaXRpb246IHJlbGF0aXZlOwogICAgICAgICAgICAgICAgICAgIHdpZHRoOiAxMDAuMCU7CiAgICAgICAgICAgICAgICAgICAgaGVpZ2h0OiAxMDAuMCU7CiAgICAgICAgICAgICAgICAgICAgbGVmdDogMC4wJTsKICAgICAgICAgICAgICAgICAgICB0b3A6IDAuMCU7CiAgICAgICAgICAgICAgICB9CiAgICAgICAgICAgIDwvc3R5bGU+CiAgICAgICAgCjwvaGVhZD4KPGJvZHk+ICAgIAogICAgCiAgICAgICAgICAgIDxkaXYgY2xhc3M9ImZvbGl1bS1tYXAiIGlkPSJtYXBfYTY4ZTg5MDgwNmM4NDg2OGFmNWJlNDAxMTNiYTYxNjMiID48L2Rpdj4KICAgICAgICAKPC9ib2R5Pgo8c2NyaXB0PiAgICAKICAgIAogICAgICAgICAgICB2YXIgbWFwX2E2OGU4OTA4MDZjODQ4NjhhZjViZTQwMTEzYmE2MTYzID0gTC5tYXAoCiAgICAgICAgICAgICAgICAibWFwX2E2OGU4OTA4MDZjODQ4NjhhZjViZTQwMTEzYmE2MTYzIiwKICAgICAgICAgICAgICAgIHsKICAgICAgICAgICAgICAgICAgICBjZW50ZXI6IFszOS45OTYyMzM1LCAxMTYuMzIxNjddLAogICAgICAgICAgICAgICAgICAgIGNyczogTC5DUlMuRVBTRzM4NTcsCiAgICAgICAgICAgICAgICAgICAgem9vbTogMTIsCiAgICAgICAgICAgICAgICAgICAgem9vbUNvbnRyb2w6IHRydWUsCiAgICAgICAgICAgICAgICAgICAgcHJlZmVyQ2FudmFzOiBmYWxzZSwKICAgICAgICAgICAgICAgIH0KICAgICAgICAgICAgKTsKCiAgICAgICAgICAgIAoKICAgICAgICAKICAgIAogICAgICAgICAgICB2YXIgdGlsZV9sYXllcl9lNmQyMzY5MDI0Yzk0MjBiOThkN2NlYmM3NGE0M2QzNSA9IEwudGlsZUxheWVyKAogICAgICAgICAgICAgICAgImh0dHBzOi8vc3RhbWVuLXRpbGVzLXtzfS5hLnNzbC5mYXN0bHkubmV0L3RvbmVyL3t6fS97eH0ve3l9LnBuZyIsCiAgICAgICAgICAgICAgICB7ImF0dHJpYnV0aW9uIjogIk1hcCB0aWxlcyBieSBcdTAwM2NhIGhyZWY9XCJodHRwOi8vc3RhbWVuLmNvbVwiXHUwMDNlU3RhbWVuIERlc2lnblx1MDAzYy9hXHUwMDNlLCB1bmRlciBcdTAwM2NhIGhyZWY9XCJodHRwOi8vY3JlYXRpdmVjb21tb25zLm9yZy9saWNlbnNlcy9ieS8zLjBcIlx1MDAzZUNDIEJZIDMuMFx1MDAzYy9hXHUwMDNlLiBEYXRhIGJ5IFx1MDAyNmNvcHk7IFx1MDAzY2EgaHJlZj1cImh0dHA6Ly9vcGVuc3RyZWV0bWFwLm9yZ1wiXHUwMDNlT3BlblN0cmVldE1hcFx1MDAzYy9hXHUwMDNlLCB1bmRlciBcdTAwM2NhIGhyZWY9XCJodHRwOi8vd3d3Lm9wZW5zdHJlZXRtYXAub3JnL2NvcHlyaWdodFwiXHUwMDNlT0RiTFx1MDAzYy9hXHUwMDNlLiIsICJkZXRlY3RSZXRpbmEiOiBmYWxzZSwgIm1heE5hdGl2ZVpvb20iOiAxOCwgIm1heFpvb20iOiAxOCwgIm1pblpvb20iOiAwLCAibm9XcmFwIjogZmFsc2UsICJvcGFjaXR5IjogMSwgInN1YmRvbWFpbnMiOiAiYWJjIiwgInRtcyI6IGZhbHNlfQogICAgICAgICAgICApLmFkZFRvKG1hcF9hNjhlODkwODA2Yzg0ODY4YWY1YmU0MDExM2JhNjE2Myk7CiAgICAgICAgCiAgICAKICAgICAgICBmdW5jdGlvbiBnZW9fanNvbl82ZjZmYzRiMTU3NGM0MTQzOTlhZTQ2YWNmY2NmZWQwM19zdHlsZXIoZmVhdHVyZSkgewogICAgICAgICAgICBzd2l0Y2goZmVhdHVyZS5pZCkgewogICAgICAgICAgICAgICAgZGVmYXVsdDoKICAgICAgICAgICAgICAgICAgICByZXR1cm4geyJjb2xvciI6ICIjMkY0RjRGIiwgIm9wYWNpdHkiOiAwLjksICJ3ZWlnaHQiOiAzfTsKICAgICAgICAgICAgfQogICAgICAgIH0KICAgICAgICBmdW5jdGlvbiBnZW9fanNvbl82ZjZmYzRiMTU3NGM0MTQzOTlhZTQ2YWNmY2NmZWQwM19vbkVhY2hGZWF0dXJlKGZlYXR1cmUsIGxheWVyKSB7CiAgICAgICAgICAgIGxheWVyLm9uKHsKICAgICAgICAgICAgICAgIGNsaWNrOiBmdW5jdGlvbihlKSB7CiAgICAgICAgICAgICAgICAgICAgbWFwX2E2OGU4OTA4MDZjODQ4NjhhZjViZTQwMTEzYmE2MTYzLmZpdEJvdW5kcyhlLnRhcmdldC5nZXRCb3VuZHMoKSk7CiAgICAgICAgICAgICAgICB9CiAgICAgICAgICAgIH0pOwogICAgICAgIH07CiAgICAgICAgdmFyIGdlb19qc29uXzZmNmZjNGIxNTc0YzQxNDM5OWFlNDZhY2ZjY2ZlZDAzID0gTC5nZW9Kc29uKG51bGwsIHsKICAgICAgICAgICAgICAgIG9uRWFjaEZlYXR1cmU6IGdlb19qc29uXzZmNmZjNGIxNTc0YzQxNDM5OWFlNDZhY2ZjY2ZlZDAzX29uRWFjaEZlYXR1cmUsCiAgICAgICAgICAgIAogICAgICAgICAgICAgICAgc3R5bGU6IGdlb19qc29uXzZmNmZjNGIxNTc0YzQxNDM5OWFlNDZhY2ZjY2ZlZDAzX3N0eWxlciwKICAgICAgICB9KS5hZGRUbyhtYXBfYTY4ZTg5MDgwNmM4NDg2OGFmNWJlNDAxMTNiYTYxNjMpOwogICAgICAgICAgICBnZW9fanNvbl82ZjZmYzRiMTU3NGM0MTQzOTlhZTQ2YWNmY2NmZWQwMy5hZGREYXRhKHsiZmVhdHVyZXMiOiBbeyJnZW9tZXRyeSI6IHsiY29vcmRpbmF0ZXMiOiBbWzExNi4zMTkyMzYsIDM5Ljk4NDA5NF0sIFsxMTYuMzI0Mzk1LCAzOS45Nzk3NjRdLCBbMTE2LjMyNjcyOCwgMzkuOTg0MDYyXSwgWzExNi4zMjY1NDMsIDM5Ljk5Mzc0Ml0sIFsxMTYuMzIxNjcsIDQwLjAwMTYyNl0sIFsxMTYuMzE1OTEsIDQwLjAwOTU1OV0sIFsxMTYuMzEwMTM1LCA0MC4wMTY0NDhdLCBbMTE2LjMwNTU5MSwgNDAuMDE0NTcyXSwgWzExNi4zMDY1MjksIDQwLjAxMzgyXSwgWzExNi4zMDY1MjYsIDQwLjAxMzg1OV0sIFsxMTYuMzEyNTYsIDQwLjAxMDg4NF0sIFsxMTYuMzIwMTEzLCA0MC4wMDQ5MjRdLCBbMTE2LjMyNjI3LCAzOS45OTczNjJdLCBbMTE2LjMyNjgxNywgMzkuOTg2NzRdLCBbMTE2LjMyNTc3MiwgMzkuOTc4OTgzXSwgWzExNi4zMjQ2MTYsIDM5Ljk3OTU4Ml0sIFsxMTYuMzEwODE0LCAzOS45ODAwNzVdLCBbMTE2LjMwODgxNCwgMzkuOTgxMTAzXSwgWzExNi4zMTA3MjksIDM5Ljk4MTU5NV0sIFsxMTYuMzEzNTgzLCAzOS45Nzk1NDJdLCBbMTE2LjMxMzcyMiwgMzkuOTc5NTUzXSwgWzExNi4zMjcwMjgsIDM5Ljk3OTg1OV0sIFsxMTYuMzI2MTY4LCAzOS45Nzg3NzddLCBbMTE2LjMyNTM4NywgMzkuOTc5NzI5XSwgWzExNi4zMTA5MzgsIDM5Ljk4MDA4OF0sIFsxMTYuMzEwNDg1LCAzOS45ODE0MjJdLCBbMTE2LjMxMDkxMywgMzkuOTgxOTMxXSwgWzExNi4zMTI2MzUsIDM5Ljk3OTU2OF0sIFsxMTYuMzIzODQ5LCAzOS45Nzk1MjRdLCBbMTE2LjMwNTc2LCA0MC4wMTU5MDRdLCBbMTE2LjMxMDYxMywgNDAuMDE1MzI3XSwgWzExNi4zMTE4OTksIDQwLjAxMzYzNV0sIFsxMTYuMzA5MDI4LCA0MC4wMDM3NjVdLCBbMTE2LjMwOTAyNiwgMzkuOTk4MDI2XSwgWzExNi4zMDAxMjEsIDM5Ljk5NjQ5MV0sIFsxMTYuMjkxMTg5LCAzOS45OTU5OF0sIFsxMTYuMjgwMDgzLCAzOS45OTcxOTRdLCBbMTE2LjI2Nzc5NCwgNDAuMDAyNjkxXSwgWzExNi4yNTAyNTMsIDQwLjAwNDg1NV0sIFsxMTYuMjM2MzA1LCAzOS45OTkzNDVdLCBbMTE2LjIyMDM4NSwgMzkuOTk1NDIxXSwgWzExNi4yMTMzNDMsIDM5Ljk5MjI0OF0sIFsxMTYuMjA3MTI0LCAzOS45OTI0NzldLCBbMTE2LjIwMTE3NywgMzkuOTkzNzQxXSwgWzExNi4xOTg5MzQsIDM5Ljk5NzAyOF0sIFsxMTYuMTk2ODI1LCAzOS45OTY4MzhdLCBbMTE2LjE5NjY2OSwgMzkuOTk3MjEyXSwgWzExNi4xOTU2OTgsIDM5Ljk5OTkxM10sIFsxMTYuMTkyMTk5LCA0MC4wMDIxMzhdLCBbMTE2LjE4OTg3NywgNDAuMDA1MzExXSwgWzExNi4xODUwMTcsIDQwLjAwNDQxNF0sIFsxMTYuMTgxMDEsIDQwLjAwMjc3MV0sIFsxMTYuMTc1Nzc0LCA0MC4wMDI3NjZdLCBbMTE2LjE3MjY3MiwgNDAuMDAwNjk5XSwgWzExNi4xNzExMTksIDQwLjAwMTcxOF0sIFsxMTYuMTcwNzUxLCA0MC4wMDI1NzddLCBbMTE2LjE2OTQzMywgNDAuMDAyNDI5XSwgWzExNi4xNjc1NzUsIDQwLjAwMjIzMl0sIFsxMTYuMTY2NzM2LCA0MC4wMDE3NF0sIFsxMTYuMTY1OTI2LCA0MC4wMDAxNTVdLCBbMTE2LjE2MjA5LCAzOS45OTkyOTFdLCBbMTE2LjE1NjEyNSwgMzkuOTk4NjQ3XSwgWzExNi4xNTEzMiwgMzkuOTk3MTkzXSwgWzExNi4xNDc0MSwgMzkuOTkzOTY2XSwgWzExNi4xNDUzMjEsIDM5Ljk5MzE1NF0sIFsxMTYuMTQ3MzYzLCAzOS45OTM5MjNdLCBbMTE2LjE1MjgyNSwgMzkuOTk3NjY0XSwgWzExNi4xNTc4ODEsIDM5Ljk5NzgxMl0sIFsxMTYuMTYxNzE3LCAzOS45OTU1NzNdLCBbMTE2LjE2NzU3MiwgMzkuOTk1MDcxXSwgWzExNi4xNjk0NjEsIDM5Ljk5NDY0OF0sIFsxMTYuMTczMzE4LCAzOS45OTYwNDJdLCBbMTE2LjE3NjcxOCwgMzkuOTk2ODQ4XSwgWzExNi4xNzk3MDgsIDM5Ljk5Njg0XSwgWzExNi4xODQ1MTYsIDM5Ljk5NTQyOF0sIFsxMTYuMTg3NTg0LCAzOS45OTI0MDddLCBbMTE2LjE4NzAwNSwgMzkuOTg5OTQyXSwgWzExNi4xODYyMDYsIDM5Ljk4OTE1NV0sIFsxMTYuMTg4MjEsIDM5Ljk4ODk1OV0sIFsxMTYuMTg4NTI5LCAzOS45ODgxNzZdLCBbMTE2LjE5MTI3NiwgMzkuOTg5NzddLCBbMTE2LjE5Mzk5NCwgMzkuOTkxMDNdLCBbMTE2LjE5NzIxOSwgMzkuOTkxODk1XSwgWzExNi4yMDMxNDUsIDM5Ljk5MTQ2XSwgWzExNi4yMDQ5OTQsIDM5Ljk5MjQ3NV0sIFsxMTYuMjE1MjUxLCAzOS45OTE0MjldLCBbMTE2LjI0Njk0NSwgNDAuMDA0MjY1XSwgWzExNi4yNjIwNDYsIDQwLjAwNDA3M10sIFsxMTYuMjc1NjM5LCA0MC4wMDA0NV0sIFsxMTYuMjg1NTIxLCAzOS45OTY4NjZdLCBbMTE2LjI5NDg5MiwgMzkuOTk2MDAzXSwgWzExNi4zMDg3OTUsIDM5Ljk5ODAxNF0sIFsxMTYuMzA5MzQ4LCA0MC4wMDM5NjhdLCBbMTE2LjMxMjIyMywgNDAuMDEzMjk5XSwgWzExNi4zMDU2NzIsIDQwLjAxNDEzNF0sIFsxMTYuMzExNTAxLCA0MC4wMTcxNjNdLCBbMTE2LjMwNzQ4NywgNDAuMDI2NzE1XSwgWzExNi4zMTQxMjgsIDQwLjAzMTk5OF0sIFsxMTYuMzA1NjcyLCA0MC4wNDM3XSwgWzExNi4yOTcxMTQsIDQwLjA1NzY0Ml0sIFsxMTYuMzEwNDMsIDQwLjA2OTU5Ml0sIFsxMTYuMzI5Nzk0LCA0MC4wNjk0MDVdLCBbMTE2LjMzODY2NiwgNDAuMDcxMzIzXSwgWzExNi4zNDIwNzgsIDQwLjA3NTMzNV0sIFsxMTYuMzM5NDY0LCA0MC4wNzQxMjJdLCBbMTE2LjMzNjU1MiwgNDAuMDY5ODcyXSwgWzExNi4zMzA2MzQsIDQwLjA2OTY3Nl0sIFsxMTYuMzMwMTM3LCA0MC4wNjk1MjJdLCBbMTE2LjMxMjk0OSwgNDAuMDY5NTM4XSwgWzExNi4yOTY4NjksIDQwLjA1Nzc3NF0sIFsxMTYuMzA1MjY3LCA0MC4wNDQxMl0sIFsxMTYuMzE0MDgsIDQwLjAzMTc2NF0sIFsxMTYuMzIxNjIzLCA0MC4wMTU2NTRdLCBbMTE2LjMzMTE5NywgNDAuMDAxNjcyXSwgWzExNi4zMzE1LCAzOS45ODc4NDhdLCBbMTE2LjMzMzcwMSwgMzkuOTc0ODM1XSwgWzExNi4zODM2NDQsIDM5Ljk3NzEzNV0sIFsxMTYuMzg0MTYyLCAzOS45Nzc2NjddLCBbMTE2LjM4NDEyNiwgMzkuOTc3NjQzXSwgWzExNi4zODQzMzUsIDM5Ljk3NzcwMV0sIFsxMTYuMzg0MTUyLCAzOS45Nzc2NjFdLCBbMTE2LjM4NDExNiwgMzkuOTc3NjI4XSwgWzExNi4zODU3ODYsIDM5Ljk3NTYzNF0sIFsxMTYuMzg1NjQ4LCAzOS45NzU2NDldLCBbMTE2LjM3MzQ5MiwgMzkuOTc1NDczXSwgWzExNi4zNjA2OTcsIDM5Ljk3NTI2Ml0sIFsxMTYuMzQ0Njg0LCAzOS45NzUyODhdLCBbMTE2LjMzMDg2OCwgMzkuOTc1MDgyXSwgWzExNi4zMjY5MzIsIDM5Ljk3NzczXSwgWzExNi4zMjkxMTIsIDM5Ljk3NTQxNV0sIFsxMTYuMzMzOTEsIDM5Ljk3NTM2NV0sIFsxMTYuMzMxODE0LCAzOS45ODcxMTRdLCBbMTE2LjMzMTI1NywgNDAuMDAyMDkzXSwgWzExNi4zMTk4NzksIDQwLjAxNzQ3MV0sIFsxMTYuMzEzOTUzLCA0MC4wMzIwOV0sIFsxMTYuMzEwNDc3LCA0MC4wMjgwOTFdLCBbMTE2LjMwODExNywgNDAuMDE5NTg0XSwgWzExNi4zMDY0NTksIDQwLjAxMzc5MV0sIFsxMTYuMzA2NTMyLCA0MC4wMTM4OTNdLCBbMTE2LjMwNjQ4OSwgNDAuMDEzNzczXSwgWzExNi4zMDY0ODUsIDQwLjAxMzc5Nl0sIFsxMTYuMzA2NDk4LCA0MC4wMTM4MDZdLCBbMTE2LjMwNjUxMiwgNDAuMDEzODE2XSwgWzExNi4zMDY1MDksIDQwLjAxMzgwNF0sIFsxMTYuMzA2NTM2LCA0MC4wMTM4MV0sIFsxMTYuMzA2NTEsIDQwLjAxMzgxM10sIFsxMTYuMzA1OTg1LCA0MC4wMTU4ODZdLCBbMTE2LjMxMTI4NywgNDAuMDE0OTgxXSwgWzExNi4zMTE4MTcsIDQwLjAxMzM0NV0sIFsxMTYuMzE3Njg1LCA0MC4wMDU4MTRdLCBbMTE2LjMyNTUxLCAzOS45OTk0ODVdLCBbMTE2LjMyNjgwNywgMzkuOTg5Nzg3XSwgWzExNi4zMjczMTksIDM5Ljk3OTA1OF0sIFsxMTYuMzI4NTIzLCAzOS45ODI2MV0sIFsxMTYuMzI3OTc1LCAzOS45ODM2MzJdLCBbMTE2LjMyMzE0MywgMzkuOTg5ODYzXSwgWzExNi4zMjgyMzksIDM5Ljk4MzQzMV0sIFsxMTYuMzI4ODg3LCAzOS45ODE4NjhdLCBbMTE2LjMyNjE2LCAzOS45Nzc3NTddLCBbMTE2LjMyNDUxNiwgMzkuOTc5MDExXSwgWzExNi4zMjczOTksIDM5Ljk4MDUzN10sIFsxMTYuMzI2MzE3LCAzOS45OTEzMjZdLCBbMTE2LjMyMzI5NiwgMzkuOTk5NzgzXSwgWzExNi4zMTY5NDUsIDQwLjAwNzk1MV0sIFsxMTYuMzA3NTg1LCA0MC4wMTI0NjVdLCBbMTE2LjMwNjUxOCwgNDAuMDEzNDA4XSwgWzExNi4zMDU3NDYsIDQwLjAxMzg0Ml0sIFsxMTYuMzEzMzgzLCA0MC4wMDk1MTFdLCBbMTE2LjMyMTM2NiwgNDAuMDAyOTUzXSwgWzExNi4zMjU1MjQsIDM5Ljk5MzA3N10sIFsxMTYuMzI0OTY5LCAzOS45ODU4ODhdLCBbMTE2LjMyNTE2OSwgMzkuOTc4NTA5XSwgWzExNi4zMjcyNzUsIDM5Ljk3OTg3NV0sIFsxMTYuMzEzNzI3LCAzOS45Nzk1OTRdLCBbMTE2LjMwNzY4NywgMzkuOTc5Nzk1XSwgWzExNi4zMDkwMDksIDM5Ljk5NzU2NF0sIFsxMTYuMzEyOTUyLCA0MC4wMDc1NThdLCBbMTE2LjMwNjcwOSwgNDAuMDEzNDQ5XSwgWzExNi4zMTA1NzYsIDQwLjAxMzM2Nl0sIFsxMTYuMzE2MjYyLCA0MC4wMDYzMjNdLCBbMTE2LjMyMzExMywgMzkuOTk4NDI0XSwgWzExNi4zMjcxODUsIDM5Ljk4ODczN10sIFsxMTYuMzI0MTA0LCAzOS45NzcxNzZdLCBbMTE2LjMyNzI1NCwgMzkuOTgwMDczXSwgWzExNi4zMjY4NjcsIDM5Ljk5MDU3M10sIFsxMTYuMzIzOTYyLCAzOS45OTk2NDNdLCBbMTE2LjMxODA1LCA0MC4wMDcwMDddLCBbMTE2LjMxMTY3NCwgNDAuMDE0MzU5XSwgWzExNi4zMDY0MzcsIDQwLjAxMzg2NV0sIFsxMTYuMzA2NDQ2LCA0MC4wMTM4MDJdLCBbMTE2LjMwOTIyMSwgNDAuMDEzMjA2XSwgWzExNi4zMTYwMzYsIDQwLjAwOTI4NV0sIFsxMTYuMzIxNjk4LCA0MC4wMDE5NjNdLCBbMTE2LjMyNjU2NywgMzkuOTkzNTEzXSwgWzExNi4zMjY4MDgsIDM5Ljk4MzkxMV0sIFsxMTYuMzI1MTM1LCAzOS45Nzg5NzZdLCBbMTE2LjMyMzc2NywgMzkuOTc5NzI4XSwgWzExNi4zMTA5MjIsIDM5Ljk4MDI4NV0sIFsxMTYuMzExMjIxLCAzOS45ODE1MjJdLCBbMTE2LjMwOTAyOSwgMzkuOTgxMjg1XSwgWzExNi4zMTA2ODcsIDM5Ljk4MTQwNV0sIFsxMTYuMzEzMDgxLCAzOS45NzQ2MjldLCBbMTE2LjMxNjIxNSwgMzkuOTc0NzY0XSwgWzExNi4zMjcyNTcsIDM5Ljk3Nzk1M10sIFsxMTYuMzI2NTc4LCAzOS45ODQ3MzZdLCBbMTE2LjMyNjQ2MywgMzkuOTk1NTUyXSwgWzExNi4zMjEzODksIDQwLjAwNDQxM10sIFsxMTYuMzEyNjI4LCA0MC4wMDk1NF0sIFsxMTYuMzA2MzY3LCA0MC4wMTM3NDZdLCBbMTE2LjMxMjUxNywgNDAuMDEwNjI5XSwgWzExNi4zMjA0NzksIDQwLjAwNDgzOF0sIFsxMTYuMzI2NTE4LCAzOS45OTYyNDJdLCBbMTE2LjMyNzA0OCwgMzkuOTg2NTldLCBbMTE2LjMyNTk0MywgMzkuOTc5MjQxXSwgWzExNi4zMTk0MDIsIDM5Ljk3NDYzN10sIFsxMTYuMzA5NDQxLCAzOS45ODIxMzhdLCBbMTE2LjMxNTA2NSwgMzkuOTc1NDA5XSwgWzExNi4zMjcwNjEsIDM5Ljk3NTIzOF0sIFsxMTYuMzI4MTcyLCAzOS45Njg1NDVdLCBbMTE2LjMyOTI2OSwgMzkuOTY4MTE5XSwgWzExNi4zMjc4MzUsIDM5Ljk3NDU1MV0sIFsxMTYuMzI3MTkxLCAzOS45Nzk3NzldLCBbMTE2LjMwNjA0LCA0MC4wMTQyMDVdLCBbMTE2LjMwODE0MywgNDAuMDIwNjY2XSwgWzExNi4zMTI4MywgNDAuMDI4ODg2XSwgWzExNi4zMTA0NTksIDQwLjAzNzY5OF0sIFsxMTYuMzAwOTY0LCA0MC4wNTA3MjddLCBbMTE2LjMwMjU3MywgNDAuMDcwNjQ4XSwgWzExNi4zMjIwNDQsIDQwLjA2OTQ0N10sIFsxMTYuMzMwNzksIDQwLjA2OTgyOV0sIFsxMTYuMzM4NjY0LCA0MC4wNzI3NjhdLCBbMTE2LjM0MjE5OCwgNDAuMDc0NzI3XSwgWzExNi4zMzg3MDMsIDQwLjA3Mzc3M10sIFsxMTYuMzMwMzMzLCA0MC4wNjk1NzhdLCBbMTE2LjMxNDcxOSwgNDAuMDY5NTAyXSwgWzExNi4yOTQ5MDksIDQwLjA2MTE0OV0sIFsxMTYuMzAyNDQ1LCA0MC4wNDc4NThdLCBbMTE2LjMxMjYyNSwgNDAuMDM0NzQ3XSwgWzExNi4zMTExMjUsIDQwLjAyODUzMV0sIFsxMTYuMzA3OTY4LCA0MC4wMTkzODNdLCBbMTE2LjMwNjQyMiwgNDAuMDEzNzg0XSwgWzExNi4zMDY0NjgsIDQwLjAxMzgxNV0sIFsxMTYuMzA2NDYzLCA0MC4wMTM3ODRdLCBbMTE2LjMwNjQ2NiwgNDAuMDEzODAzXSwgWzExNi4zMDY1MDgsIDQwLjAxMzgwNl0sIFsxMTYuMzA2NTA5LCA0MC4wMTM4MDNdLCBbMTE2LjMxMDQ4NCwgNDAuMDEzMTg2XSwgWzExNi4zMTc2NDUsIDQwLjAwNjU3Ml0sIFsxMTYuMzI1MDUxLCAzOS45OTk5MTNdLCBbMTE2LjMzMDIyMiwgMzkuOTkxNjc2XSwgWzExNi4zMzM3NzMsIDM5Ljk3NTQxNl0sIFsxMTYuMzM5MTA5LCAzOS45NjQ2Ml0sIFsxMTYuMzQ1MzIxLCAzOS45NDk1NzFdLCBbMTE2LjM0ODA3NCwgMzkuOTM5NjA3XSwgWzExNi40MjA5MzksIDM5LjkwMTc1OF0sIFsxMTYuNDE5OTM1LCAzOS45MDMzODddLCBbMTE2LjMyNzU4MywgMzkuOTc4MDM0XSwgWzExNi4zMDU0NjYsIDQwLjAxNTM1OF0sIFsxMTYuMzA2NTQ4LCA0MC4wMTM4MjhdLCBbMTE2LjMwNjU0NCwgNDAuMDEzNzIxXSwgWzExNi4zMTEyNjcsIDQwLjAxMzI3MV0sIFsxMTYuMzEzMDI0LCA0MC4wMDc3MTJdLCBbMTE2LjMxMzAwOSwgNDAuMDAzNjM1XSwgWzExNi4zMTI4ODYsIDQwLjAwMzY2NF0sIFsxMTYuMzEzNTM5LCA0MC4wMDM5NDJdLCBbMTE2LjMxNTIzMSwgNDAuMDAxMjk4XSwgWzExNi4zMTgyOSwgMzkuOTk5NjcxXSwgWzExNi4zMTgzNzQsIDQwLjAwMDc4M10sIFsxMTYuMzE2ODM4LCA0MC4wMDQ5OTZdLCBbMTE2LjMxNTY1NiwgNDAuMDA1NDcxXSwgWzExNi4zMTYwODMsIDQwLjAwNTQyNV0sIFsxMTYuMzE2OTksIDQwLjAwNTU3Nl0sIFsxMTYuMzE1Mzc1LCA0MC4wMDk2OTFdLCBbMTE2LjMxMTc2OSwgNDAuMDEyODI3XSwgWzExNi4zMDU1MTksIDQwLjAxMzgyN10sIFsxMTYuMzEyNjMzLCA0MC4wMTA0NV0sIFsxMTYuMzIxMTgyLCA0MC4wMDQ4ODVdLCBbMTE2LjMyNjQ3NiwgMzkuOTk2MjUyXSwgWzExNi4zMjY4ODEsIDM5Ljk4NTYwMl0sIFsxMTYuMzI3MTcxLCAzOS45Nzg5NThdLCBbMTE2LjMyNjU3MywgMzkuOTkwNThdLCBbMTE2LjMyMjMzOSwgMzkuOTk5Njg5XSwgWzExNi4zMTc3NjgsIDQwLjAwODgxMl0sIFsxMTYuMzA5MDMxLCA0MC4wMTMxMjNdLCBbMTE2LjMxMDM5OCwgNDAuMDE2MTQyXSwgWzExNi4zMTIxMzcsIDQwLjAxMTgzMV0sIFsxMTYuMzE4MTQzLCA0MC4wMDYwNjZdLCBbMTE2LjMyNjI2NiwgMzkuOTk5NTkzXSwgWzExNi4zMjc0MywgMzkuOTkxMDJdLCBbMTE2LjMyODE3MywgMzkuOTgxNjQ1XSwgWzExNi4zMjMyMDEsIDM5Ljk3ODM4NV0sIFsxMTYuMzEzOTY2LCAzOS45NzU1NTJdLCBbMTE2LjMxMTUsIDM5Ljk3NTU2N10sIFsxMTYuMzEzOTE4LCAzOS45Nzk2OTldLCBbMTE2LjMyMTk3MywgMzkuOTc5NjU0XSwgWzExNi4zMjg2ODksIDM5Ljk3NDQ5OF0sIFsxMTYuMzMwMjY4LCAzOS45NzM3MTFdLCBbMTE2LjMyNzQxNiwgMzkuOTc3NDIzXSwgWzExNi4zMjY1MzQsIDM5Ljk3OTcyNV0sIFsxMTYuMzI2ODExLCAzOS45Nzk3MDldLCBbMTE2LjMyNzM2NiwgMzkuOTgxODEyXSwgWzExNi4zMjY4NzMsIDM5Ljk4OTQ4MV0sIFsxMTYuMzE4MjgzLCAzOS45OTEwOF0sIFsxMTYuMzE2NTI5LCAzOS45OTEwNzRdLCBbMTE2LjMwOTI3MywgMzkuOTk2NjRdLCBbMTE2LjMxMjg2MywgNDAuMDA3MDRdLCBbMTE2LjMxMDczNywgNDAuMDEzMTQ1XSwgWzExNi4zMDU3MDksIDQwLjAxNDE3NV0sIFsxMTYuMzExODcsIDQwLjAxNDE2XSwgWzExNi4zMTMxMjYsIDQwLjAwNTQyNl0sIFsxMTYuMzA5ODIyLCAzOS45OTEyOTRdLCBbMTE2LjMyMTI0LCAzOS45OTE3MjVdLCBbMTE2LjMyNzAyMiwgMzkuOTg3NzkyXSwgWzExNi4zMjY5OTgsIDM5Ljk4NTY2Nl0sIFsxMTYuMzI3Mjg5LCAzOS45NzY5MDZdLCBbMTE2LjMzMzA3NywgMzkuOTc0ODQzXSwgWzExNi4zMzIxODgsIDM5Ljk3NDE2OV0sIFsxMTYuMzMzMjA0LCAzOS45NzQ1NjFdLCBbMTE2LjMzMjQ2NSwgMzkuOTczNzk5XSwgWzExNi4zMzE1MDcsIDM5Ljk3NDgyOF0sIFsxMTYuMzI3MzMxLCAzOS45ODE4OTVdLCBbMTE2LjMyNjc0OSwgMzkuOTkyOTA5XSwgWzExNi4zMjE5NDcsIDQwLjAwMTMzNl0sIFsxMTYuMzE2Mzc0LCA0MC4wMDkxOTJdLCBbMTE2LjMwNjQxMywgNDAuMDEzNTg2XSwgWzExNi4zMDY2OTYsIDQwLjAxMzkxNl0sIFsxMTYuMzA2NTIyLCA0MC4wMTM3ODRdLCBbMTE2LjMwNjU0NywgNDAuMDEzNzg5XSwgWzExNi4zMDY1NTUsIDQwLjAxMzc5MV0sIFsxMTYuMzA2NTM1LCA0MC4wMTM3OTNdLCBbMTE2LjMwNjQ4NiwgNDAuMDEzNzc5XSwgWzExNi4zMDY1NjQsIDQwLjAxMzgyNl0sIFsxMTYuMzA2NTA3LCA0MC4wMTM3MThdLCBbMTE2LjMwNjQ3OSwgNDAuMDEzOF0sIFsxMTYuMzA2NTg1LCA0MC4wMTM4NTFdLCBbMTE2LjMwNjUxMSwgNDAuMDEzNzI3XSwgWzExNi4zMDY1MzMsIDQwLjAxMzY5OF0sIFsxMTYuMzA2NDIxLCA0MC4wMTM3ODFdLCBbMTE2LjMwNjQ4NSwgNDAuMDEzNzNdLCBbMTE2LjMwNjUwNiwgNDAuMDEzNjE1XSwgWzExNi4zMDY1MzUsIDQwLjAxMzc2M10sIFsxMTYuMzA2NDcsIDQwLjAxMzkzNF0sIFsxMTYuMzA2NiwgNDAuMDEzNzZdLCBbMTE2LjMwNjU1MiwgNDAuMDEzNzkyXSwgWzExNi4zMDY0NzUsIDQwLjAxMzc0OF0sIFsxMTYuMzA2NTcxLCA0MC4wMTM4MzJdLCBbMTE2LjMwNjUyMywgNDAuMDEzODA0XSwgWzExNi4zMDY2MDQsIDQwLjAxMzgxN10sIFsxMTYuMzA2NTUzLCA0MC4wMTM3OTFdLCBbMTE2LjMwNjU1OCwgNDAuMDEzODA3XSwgWzExNi4zMDY0NzgsIDQwLjAxMzg0NV0sIFsxMTYuMzA2NTk0LCA0MC4wMTM3MzVdLCBbMTE2LjMwNjUxNywgNDAuMDEzODE4XSwgWzExNi4zMDY1NDEsIDQwLjAxMzY3N10sIFsxMTYuMzA2NTEzLCA0MC4wMTM3MzNdLCBbMTE2LjMwNjUxOCwgNDAuMDEzNzkxXSwgWzExNi4zMDY0OTcsIDQwLjAxMzgwOF0sIFsxMTYuMzA2NTM0LCA0MC4wMTM4MzRdLCBbMTE2LjMwNjUyLCA0MC4wMTM4MV0sIFsxMTYuMzA2NTI5LCA0MC4wMTM4MTFdLCBbMTE2LjMwNjQ5MywgNDAuMDEzNzk0XSwgWzExNi4zMDY0OSwgNDAuMDEzNzg4XSwgWzExNi4zMDU3MTIsIDQwLjAxMzg4N10sIFsxMTYuMzE0MzIyLCA0MC4wMDk1NjVdLCBbMTE2LjMyMTU4NywgNDAuMDAzMTldLCBbMTE2LjMyNjQ5NywgMzkuOTk0NjI4XSwgWzExNi4zMjcwNDQsIDM5Ljk4NDk4Ml0sIFsxMTYuMzEyNzgyLCAzOS45NzQ2NDVdLCBbMTE2LjMxODM2NiwgMzkuOTc0OTEyXSwgWzExNi4zMjcxNjgsIDM5Ljk3Nzk3XSwgWzExNi4zMjc0MjgsIDM5Ljk4NDgzNl0sIFsxMTYuMzI2NjkzLCAzOS45OTUyNl0sIFsxMTYuMzIxNDA5LCA0MC4wMDQ1ODRdLCBbMTE2LjMxMjY1MiwgNDAuMDEwMTIxXSwgWzExNi4zMDY0NTcsIDQwLjAxMzc0NV0sIFsxMTYuMzA5MTQyLCA0MC4wMTMyNTFdLCBbMTE2LjMxNzc2MiwgNDAuMDA3ODc2XSwgWzExNi4zMjMwNCwgMzkuOTk5Nzc0XSwgWzExNi4zMjY4NDIsIDM5Ljk5MjU2XSwgWzExNi4zMjcxMjEsIDM5Ljk4MzI5Nl0sIFsxMTYuMzI1MTAzLCAzOS45NzkwMV0sIFsxMTYuMzI3MTQsIDM5Ljk3OTI5N10sIFsxMTYuMzI5MTMyLCAzOS45ODI4MjFdLCBbMTE2LjMyNzc2MiwgMzkuOTgzNTk1XSwgWzExNi4zMjg4MDIsIDM5Ljk4MTczN10sIFsxMTYuMzI3MTM4LCAzOS45NzgzMDldLCBbMTE2LjMyNzU1OCwgMzkuOTcyNV0sIFsxMTYuMzI4MTc4LCAzOS45NjIzMzZdLCBbMTE2LjMyOTI2MywgMzkuOTUzMDgxXSwgWzExNi4zMzE2ODYsIDM5Ljk1MTExN10sIFsxMTYuMzMyMTgzLCAzOS45NTAyMzddLCBbMTE2LjMyODk5NywgMzkuOTU3NzkyXSwgWzExNi4zMjgxOTEsIDM5Ljk2NzM2MV0sIFsxMTYuMzI3MzMsIDM5Ljk3NjczNV0sIFsxMTYuMzI4MDY1LCAzOS45ODQ3NDRdLCBbMTE2LjMzMDA0NCwgMzkuOTk2MDk4XSwgWzExNi4zMjM4MzksIDQwLjAwNDE1Nl0sIFsxMTYuMzE2NzM2LCA0MC4wMDkwM10sIFsxMTYuMzE2NTA4LCA0MC4wMDkwODJdLCBbMTE2LjMxNjQ3OSwgNDAuMDA5MTc5XSwgWzExNi4zMTI3NTcsIDQwLjAwOTgzOF0sIFsxMTYuMzA2NTcxLCA0MC4wMTM4MTZdLCBbMTE2LjMwNTY0MywgNDAuMDEzOTg3XSwgWzExNi4zMTE4MDUsIDQwLjAxMzYxM10sIFsxMTYuMzEyNjQyLCA0MC4wMDgyMThdLCBbMTE2LjMwODk5NywgMzkuOTk4ODY4XSwgWzExNi4zMTAwMTIsIDM5Ljk4OTAwNl0sIFsxMTYuMzA5NzU5LCAzOS45ODQ4ODVdLCBbMTE2LjMxMDI1MSwgMzkuOTgzNzM3XSwgWzExNi4zMTIxNDcsIDM5Ljk3MjcxMV0sIFsxMTYuMzE2NjEyLCAzOS45NjU2Ml0sIFsxMTYuMzMzNzUyLCAzOS45NjYyMjldLCBbMTE2LjM1MDg4LCAzOS45NjY0NjZdLCBbMTE2LjM2MjA4OCwgMzkuOTY2MjE3XSwgWzExNi4zNjM5OTgsIDM5Ljk2MDQ4OV0sIFsxMTYuMzU3MzYsIDM5Ljk1OTQxXSwgWzExNi4zNjEyMiwgMzkuOTYwMzQ5XSwgWzExNi4zNjQ1MjIsIDM5Ljk1OTkxMl0sIFsxMTYuMzY0NjExLCAzOS45NjEwNTZdLCBbMTE2LjM2MzgxNCwgMzkuOTY1MjE2XSwgWzExNi4zNjA1NDIsIDM5Ljk2NjE2NV0sIFsxMTYuMzU4OTkzLCAzOS45NjY1MzddLCBbMTE2LjM1OTExNiwgMzkuOTY2NTkyXSwgWzExNi4zNTkwMjcsIDM5Ljk2NjUzNF0sIFsxMTYuMzQ2MzQsIDM5Ljk2NjQxN10sIFsxMTYuMzMwNTUsIDM5Ljk2NjMwMV0sIFsxMTYuMzE1NzA1LCAzOS45NjYwNDddLCBbMTE2LjMxMDkwMiwgMzkuOTc2MjQ4XSwgWzExNi4zMTA3NDcsIDM5Ljk4MDM3NF0sIFsxMTYuMzEwMTY5LCAzOS45ODYzOThdLCBbMTE2LjMxNzk1NSwgMzkuOTkxMDQxXSwgWzExNi4zMjkyMDQsIDM5Ljk5MTM2Nl0sIFsxMTYuMzMwNzYsIDM5Ljk5NzM5N10sIFsxMTYuMzI4MjI0LCA0MC4wMDkyNDFdLCBbMTE2LjMxNDc3NSwgNDAuMDExODI5XSwgWzExNi4zMDkwNzgsIDQwLjAxNjQ4OV0sIFsxMTYuMzA2NDE5LCA0MC4wMTM3NzFdLCBbMTE2LjMwNjc3OSwgNDAuMDEzMzldLCBbMTE2LjMxMTY0NSwgNDAuMDE0Njk4XSwgWzExNi4zMDk5NDksIDQwLjAwNDUwOF0sIFsxMTYuMzA5MTc0LCAzOS45OTM0NTRdLCBbMTE2LjMxMDEwNiwgMzkuOTg1MjcxXSwgWzExNi4zMTA0NTgsIDM5Ljk3NzQ3M10sIFsxMTYuMzEzMjAyLCAzOS45NzAxNTVdLCBbMTE2LjMxNjEwMiwgMzkuOTYyMzU2XSwgWzExNi4zMTc0NjEsIDM5Ljk1MjQ1Nl0sIFsxMTYuMzE4NzksIDM5Ljk0MzA3XSwgWzExNi4zMjM4MzEsIDM5LjkzNzAxOF0sIFsxMTYuMzMyMjcsIDM5LjkzNjQ5Ml0sIFsxMTYuMzMwOTA1LCAzOS45MzY1NDddLCBbMTE2LjMxOTI2NCwgMzkuOTQwNjU5XSwgWzExNi4zMTc5NTUsIDM5Ljk1MTA0N10sIFsxMTYuMzE2MTU0LCAzOS45NjMxMjhdLCBbMTE2LjMxMzQ1NywgMzkuOTY5OTE2XSwgWzExNi4zMTA0NjgsIDM5Ljk3ODA0N10sIFsxMTYuMzEwMjU0LCAzOS45ODUwNDRdLCBbMTE2LjMwOTM0MiwgMzkuOTk2MDMxXSwgWzExNi4zMTI5MDUsIDQwLjAwNjUwNF0sIFsxMTYuMzExNzI3LCA0MC4wMTMzOTldLCBbMTE2LjMwNjM3NSwgNDAuMDEzOTQ3XSwgWzExNi4zMDU4OTMsIDQwLjAxNTg4NV0sIFsxMTYuMzExNzA5LCA0MC4wMTQ2MzhdLCBbMTE2LjMxOTA2MiwgNDAuMDEyMDM2XSwgWzExNi4zMzA2ODIsIDQwLjAwNTcyM10sIFsxMTYuMzMwNjQ3LCAzOS45OTE3NDJdLCBbMTE2LjMyNjY4OCwgMzkuOTg5MTk0XSwgWzExNi4zMjcxNDUsIDM5Ljk4MTg3OV0sIFsxMTYuMzI3Mjc0LCAzOS45ODA5NTldLCBbMTE2LjMyNzE5OSwgMzkuOTg1MTI3XSwgWzExNi4zMjg1MjgsIDM5Ljk5MTk1Nl0sIFsxMTYuMzExMjUyLCA0MC4wMTMyNTFdLCBbMTE2LjMxNzUwNiwgNDAuMDA3NjM0XSwgWzExNi4zMjMxNzQsIDM5Ljk5OTY1MV0sIFsxMTYuMzI2NjI3LCAzOS45OTA1OTRdLCBbMTE2LjMyNzA5NSwgMzkuOTgxMzA5XSwgWzExNi4zMjUxNzcsIDM5Ljk3ODkxNV0sIFsxMTYuMzI4Nzk2LCAzOS45NzY1MTddLCBbMTE2LjMxNDA2NCwgMzkuOTc0OTU2XSwgWzExNi4zMTM2NzgsIDM5Ljk3NDcyM10sIFsxMTYuMzI2NDExLCAzOS45NzU0NjRdLCBbMTE2LjMyNzQyLCAzOS45ODIzNzldLCBbMTE2LjMyNjU5NSwgMzkuOTkyOTk2XSwgWzExNi4zMjE3MjgsIDQwLjAwMTY5MV0sIFsxMTYuMzE1ODg0LCA0MC4wMDk2MTRdLCBbMTE2LjMwNzA3NSwgNDAuMDEzMjAyXSwgWzExNi4zMTAyMzIsIDQwLjAxNjM5MV0sIFsxMTYuMzE1MDU5LCA0MC4wMDk1OTddLCBbMTE2LjMyMTQ5LCA0MC4wMDI3NTRdLCBbMTE2LjMyNjQxMSwgMzkuOTk0MjY2XSwgWzExNi4zMjY5NjQsIDM5Ljk4MzA3Nl0sIFsxMTYuMzI4MTMyLCAzOS45Nzc2NzldLCBbMTE2LjMyNjI4MSwgMzkuOTc3NzY4XSwgWzExNi4zMjcwNzcsIDM5Ljk3Nzk1OF0sIFsxMTYuMzI2Mzg0LCAzOS45ODg1MDNdLCBbMTE2LjMyNTc3NCwgMzkuOTk4NTc5XSwgWzExNi4zMTc4OTYsIDQwLjAwNDk0Nl0sIFsxMTYuMzExOTgyLCA0MC4wMTE4ODNdLCBbMTE2LjMwNzY5NSwgNDAuMDEzMDU5XSwgWzExNi4zMTU0NDYsIDQwLjAwOTU0OF0sIFsxMTYuMzIxNjcsIDQwLjAwMjExMV0sIFsxMTYuMzI2NDc3LCAzOS45OTM3MjddLCBbMTE2LjMyNjkyLCAzOS45ODQ0OV0sIFsxMTYuMzI1MTksIDM5Ljk3ODQwNV0sIFsxMTYuMzI3MTEyLCAzOS45NzkxMjFdLCBbMTE2LjMyNzMzNywgMzkuOTgxNjMzXSwgWzExNi4zMjc0NDgsIDM5Ljk4MTczN10sIFsxMTYuMzI3Mzc3LCAzOS45ODE2MzhdLCBbMTE2LjMyNjg0MywgMzkuOTkxMDc1XSwgWzExNi4zMTIxMSwgMzkuOTkxMDc1XSwgWzExNi4zMDkyMTQsIDM5Ljk5NjQwNl0sIFsxMTYuMzEyODA1LCA0MC4wMDczOV0sIFsxMTYuMzA5MDQ0LCA0MC4wMTMxNzFdLCBbMTE2LjMwNjU3NCwgNDAuMDEzNzUyXSwgWzExNi4zMDg4OTMsIDQwLjAxNjQxMV0sIFsxMTYuMzE2NTE5LCA0MC4wMTE4NjFdLCBbMTE2LjMyODY4MSwgNDAuMDA4Njg2XSwgWzExNi4zMzEwMDgsIDM5Ljk5NzgwNF0sIFsxMTYuMzI3MzI5LCAzOS45OTE0NThdLCBbMTE2LjMyNjY5NSwgMzkuOTkxMTIyXSwgWzExNi4zMjcyODEsIDM5Ljk4MjAzOF0sIFsxMTYuMzI5NDk5LCAzOS45ODM1MjRdLCBbMTE2LjMyOTQ0MSwgMzkuOTgzMjQxXSwgWzExNi4zMjkzMzcsIDM5Ljk4MzM3NV0sIFsxMTYuMzI5MzY2LCAzOS45ODMzOTVdLCBbMTE2LjMyOTM4NiwgMzkuOTgzNDQxXSwgWzExNi4zMjkzOTQsIDM5Ljk4MzM5OV0sIFsxMTYuMzI5NDExLCAzOS45ODMzOF0sIFsxMTYuMzI3MzgsIDM5Ljk4MTc2MV0sIFsxMTYuMzI3NTE2LCAzOS45ODA4NjhdLCBbMTE2LjMyODE0OSwgMzkuOTgzNDIxXSwgWzExNi4zMjgxOTMsIDM5Ljk4MzEwOF0sIFsxMTYuMzI4MjYzLCAzOS45ODI2MjldLCBbMTE2LjMyNzI1MiwgMzkuOTgxNzM5XSwgWzExNi4zMjY4OCwgMzkuOTg4ODc4XSwgWzExNi4zMzE0NTQsIDM5Ljk5MTQxXSwgWzExNi4zMjk4MjIsIDQwLjAwODU1Nl0sIFsxMTYuMzE3MzI4LCA0MC4wMjM0MzddLCBbMTE2LjMxMDQxLCA0MC4wMzc2MzddLCBbMTE2LjMwMDM5LCA0MC4wNTEwMTFdLCBbMTE2LjMwNDkxNiwgNDAuMDY5ODddLCBbMTE2LjMyNDI3NywgNDAuMDY5NTU2XSwgWzExNi4zMzQwMjksIDQwLjA2OTg2NV0sIFsxMTYuMzQxMDM1LCA0MC4wNzQ0NzNdLCBbMTE2LjM0MTY3NSwgNDAuMDc2MDUzXSwgWzExNi4zNDE2MTEsIDQwLjA3NjA1NV0sIFsxMTYuMzQxNjY5LCA0MC4wNzU5ODJdLCBbMTE2LjM0MTY3NywgNDAuMDc1OTU2XSwgWzExNi4zNDE2NywgNDAuMDc1OTM2XSwgWzExNi4zNDE2NjUsIDQwLjA3NTk0N10sIFsxMTYuMzQxNjU3LCA0MC4wNzU5NjFdLCBbMTE2LjM0MTY2MywgNDAuMDc1OThdLCBbMTE2LjM0MTY4MiwgNDAuMDc1OTgzXSwgWzExNi4zNDE2MzMsIDQwLjA3NTcwM10sIFsxMTYuMzM5MjE3LCA0MC4wNzQwODldLCBbMTE2LjMzMjYyNSwgNDAuMDY5OTM0XSwgWzExNi4zMjkzMTEsIDQwLjA2OTU0XSwgWzExNi4zMDk5MTcsIDQwLjA2OTcxXSwgWzExNi4yOTg5MjksIDQwLjA1NDEwOF0sIFsxMTYuMzA3NDQ4LCA0MC4wNDA4OTFdLCBbMTE2LjMxMzU0MywgNDAuMDMxNzg2XSwgWzExNi4zMDQwNjYsIDQwLjAzNTE4M10sIFsxMTYuMzA3NjEyLCA0MC4wMjQxMjRdLCBbMTE2LjMxMTAwMiwgNDAuMDE1NTYyXSwgWzExNi4zMDYwNTEsIDQwLjAxNTk0OV0sIFsxMTYuMzA2NDc1LCA0MC4wMTM4NjNdLCBbMTE2LjMwNzg5MSwgNDAuMDE2MjJdLCBbMTE2LjMxMTMzNSwgNDAuMDE1MDE3XSwgWzExNi4zMTI0NzIsIDQwLjAwODY4NF0sIFsxMTYuMzA4OTEyLCAzOS45OTkwMTVdLCBbMTE2LjMxMzM2LCAzOS45OTA3OTNdLCBbMTE2LjMyNzE5MSwgMzkuOTkxMzFdLCBbMTE2LjMzODY5OSwgMzkuOTkxNTQ0XSwgWzExNi4zNDY4NDMsIDM5Ljk4OTcyOF0sIFsxMTYuMzQ3NDcyLCAzOS45ODgwMzJdLCBbMTE2LjM0NzYxNCwgMzkuOTg2NDFdLCBbMTE2LjM0NzQ3MywgMzkuOTg2OTE1XSwgWzExNi4zNDgzNzUsIDM5Ljk4NzIwMl0sIFsxMTYuMzQ3ODg0LCAzOS45ODY4MTVdLCBbMTE2LjM0NzYwMywgMzkuOTg2Nzk5XSwgWzExNi4zNDc2MjIsIDM5Ljk4NjMwOV0sIFsxMTYuMzQ4MDUxLCAzOS45ODc1ODZdLCBbMTE2LjM0ODMwOCwgMzkuOTg2MTgyXSwgWzExNi4zNDc0NTgsIDM5Ljk4Nzk0Ml0sIFsxMTYuMzQwNTk2LCAzOS45OTE5NzRdLCBbMTE2LjMyODE3OSwgMzkuOTkxNzkyXSwgWzExNi4zMTQ4ODksIDM5Ljk5MTMzN10sIFsxMTYuMzA5MDIzLCAzOS45OTkwNTVdLCBbMTE2LjMxMjU0OSwgNDAuMDA4ODU2XSwgWzExNi4zMTA1MzgsIDQwLjAxNTkxMl0sIFsxMTYuMzA1NDU3LCA0MC4wMTU2OF0sIFsxMTYuMzA2NDE4LCA0MC4wMTM4MTldLCBbMTE2LjMwNjA0MSwgNDAuMDE0MDg4XSwgWzExNi4zMDg5NzcsIDQwLjAxNjQyXSwgWzExNi4zMTIxMDUsIDQwLjAxMTUxNV0sIFsxMTYuMzI3MDM4LCA0MC4wMTAxMjJdLCBbMTE2LjMzMDkyNiwgMzkuOTk5MDg4XSwgWzExNi4zMjgwODcsIDM5Ljk5MTMxNF0sIFsxMTYuMzIyMDM2LCAzOS45OTEwNTRdLCBbMTE2LjMyNzE0OCwgMzkuOTg1NDc2XSwgWzExNi4zMjczNjUsIDM5Ljk3Nzk0OF0sIFsxMTYuMzI2ODAzLCAzOS45ODAyNDJdLCBbMTE2LjMyOTI4MiwgMzkuOTgyOTMxXSwgWzExNi4zMjg0NTYsIDM5Ljk4MzMzOF0sIFsxMTYuMzI4ODE5LCAzOS45ODE1NzhdLCBbMTE2LjMyNzcsIDM5Ljk4MTQ4Nl0sIFsxMTYuMzI3NjEyLCAzOS45ODcwNzddLCBbMTE2LjMyODQxOCwgMzkuOTkxNjRdLCBbMTE2LjMyNDg0MywgMzkuOTk4NzcxXSwgWzExNi4zMjUzNzMsIDM5Ljk5Nzk5XSwgWzExNi4zMjUxODQsIDM5Ljk5ODM3OV0sIFsxMTYuMzI0MDM0LCAzOS45OTgwMTRdLCBbMTE2LjMyNDkwOSwgMzkuOTk4MzQyXSwgWzExNi4zMjQ1NjIsIDM5Ljk5ODMzXSwgWzExNi4zMjU4MjQsIDM5Ljk5ODc1Nl0sIFsxMTYuMzI1MTk4LCAzOS45OTg2MDddLCBbMTE2LjMyNDkwNSwgMzkuOTk4NDRdLCBbMTE2LjMyNTQzOSwgMzkuOTk4NDc1XSwgWzExNi4zMjUwNDcsIDM5Ljk5ODY1NV0sIFsxMTYuMzI1MTQxLCAzOS45OTg2NjddLCBbMTE2LjMyNTI0NCwgMzkuOTk4NDM4XSwgWzExNi4zMjUxOTQsIDM5Ljk5ODU0N10sIFsxMTYuMzI0ODI2LCAzOS45OTgzMDVdLCBbMTE2LjMyMTc1LCA0MC4wMDEwOTldLCBbMTE2LjMxODIxNCwgNDAuMDA0NjU3XSwgWzExNi4zMTY1MzksIDQwLjAwODc3OV0sIFsxMTYuMzE2MzY2LCA0MC4wMDg5MzRdLCBbMTE2LjMxMTk2NywgNDAuMDExNDg0XSwgWzExNi4zMDYyNjUsIDQwLjAxMzY2M10sIFsxMTYuMzA2NzE2LCA0MC4wMTYwMjldLCBbMTE2LjMxMTY2NCwgNDAuMDE0MjE0XSwgWzExNi4zMjI3MDMsIDQwLjAxMTg4Nl0sIFsxMTYuMzMwODA5LCA0MC4wMDI1ODldLCBbMTE2LjMzMTIyOSwgMzkuOTkzNzVdLCBbMTE2LjMyMzc1LCAzOS45OTE1MjJdLCBbMTE2LjMyNzA1MSwgMzkuOTg1NTI5XSwgWzExNi4zMjcyNTYsIDM5Ljk3ODFdLCBbMTE2LjMyNzQxMywgMzkuOTgxNTQ0XSwgWzExNi4zMjcyMTcsIDM5Ljk4MTgwMl0sIFsxMTYuMzI2ODA5LCAzOS45OTEwMzFdLCBbMTE2LjMxMTI5NywgMzkuOTkwOTkzXSwgWzExNi4zMDkwNjEsIDM5Ljk5ODUyOV0sIFsxMTYuMzEyNjQ4LCA0MC4wMDgyNDldLCBbMTE2LjMwOTI0MywgNDAuMDEzMTc2XSwgWzExNi4zMDYxNjYsIDQwLjAxNDEyMl0sIFsxMTYuMzA5OTMzLCA0MC4wMTY1NTFdLCBbMTE2LjMxNjc0MSwgNDAuMDExOTMzXSwgWzExNi4zMjkyODksIDQwLjAwODE4Nl0sIFsxMTYuMzMxMDE1LCAzOS45OTY4ODVdLCBbMTE2LjMyMjE4OSwgMzkuOTkxNDIyXSwgWzExNi4zMjY3OTIsIDM5Ljk4ODY2NV0sIFsxMTYuMzI3MzIyLCAzOS45ODE3N10sIFsxMTYuMzI3NTQyLCAzOS45NzUwMl0sIFsxMTYuMzI4MjA4LCAzOS45NjQ1NDVdLCBbMTE2LjMyOTU2MiwgMzkuOTUzMTc1XSwgWzExNi4zMzE3NjMsIDM5Ljk1MTIxOF0sIFsxMTYuMzMxMTc3LCAzOS45NDk5OTZdLCBbMTE2LjMyOTMzMSwgMzkuOTU2MzM3XSwgWzExNi4zMjgyMDUsIDM5Ljk2NTc2OF0sIFsxMTYuMzI3NzQ4LCAzOS45NzUyMjldLCBbMTE2LjMyNzMyLCAzOS45ODM4NjFdLCBbMTE2LjMyMzIyLCAzOS45OTE2OTRdLCBbMTE2LjMwOTc3NSwgMzkuOTkyMjc1XSwgWzExNi4zMDksIDQwLjAwMDk4NV0sIFsxMTYuMzEyMTksIDQwLjAxMTYzOV0sIFsxMTYuMzA1NjMzLCA0MC4wMTQwMzddLCBbMTE2LjMwNjQ5OCwgNDAuMDEzNzc0XSwgWzExNi4zMDY0NTIsIDQwLjAxMzgwNV0sIFsxMTYuMzA2NTIsIDQwLjAxMzgzN10sIFsxMTYuMzI3MjU3LCAzOS45ODE3NzddLCBbMTE2LjMyNjg0OSwgMzkuOTkwODIxXSwgWzExNi4zMTIyNzQsIDM5Ljk5MDk2M10sIFsxMTYuMzA4OTg3LCA0MC4wMDA5NzddLCBbMTE2LjMxMjEyOSwgNDAuMDExOTQyXSwgWzExNi4zMDcxOCwgNDAuMDEzMDYzXSwgWzExNi4zMDYzMTEsIDQwLjAxNDA0NF0sIFsxMTYuMzA5OTY2LCA0MC4wMTY2MjVdLCBbMTE2LjMxODYzOSwgNDAuMDExNzNdLCBbMTE2LjMzMDU5NiwgNDAuMDA1NzE3XSwgWzExNi4zMzEwOCwgMzkuOTkyODI2XSwgWzExNi4zMjIxNzYsIDM5Ljk5MTQ2OF0sIFsxMTYuMzI2NjU5LCAzOS45ODc0NjddLCBbMTE2LjMyNzYwOSwgMzkuOTgxMDIxXSwgWzExNi4zMjczODQsIDM5Ljk4MDAyNF0sIFsxMTYuMzI2Njc1LCAzOS45OTA5NDRdLCBbMTE2LjMyMzI3LCA0MC4wMDAzOTddLCBbMTE2LjMyMTYwNSwgNDAuMDAyMzg0XSwgWzExNi4zMTYyNTMsIDQwLjAwOTM5MV0sIFsxMTYuMzExOTM2LCA0MC4wMTE5NDldLCBbMTE2LjMwNjMwMSwgNDAuMDEzNjg1XSwgWzExNi4zMTE5MDIsIDQwLjAxMjE4OF0sIFsxMTYuMzE4MTU5LCA0MC4wMDQ2OTddLCBbMTE2LjMyNTAxLCAzOS45OTc3MzRdLCBbMTE2LjMyNjc1NiwgMzkuOTg2NjU3XSwgWzExNi4zMjY5MTQsIDM5Ljk4MTQzNl0sIFsxMTYuMzI2NDYsIDM5Ljk5NTc4NV0sIFsxMTYuMzIxNDUxLCA0MC4wMDQxODJdLCBbMTE2LjMxMzU2NSwgNDAuMDA5NTM4XSwgWzExNi4zMDU1MywgNDAuMDE1ODhdLCBbMTE2LjMxMTIyOCwgNDAuMDEzMTg4XSwgWzExNi4zMTc3MjMsIDQwLjAwNTc4Nl0sIFsxMTYuMzI1NzExLCAzOS45OTk1MTFdLCBbMTE2LjMyNjY5MSwgMzkuOTg4MTU1XSwgWzExNi4zMjcxNCwgMzkuOTc4MTMyXSwgWzExNi4zMjY4MDIsIDM5Ljk4NzAyOV0sIFsxMTYuMzI2NTUyLCAzOS45OTgyNTNdLCBbMTE2LjMxODQ4NywgNDAuMDA0NzYxXSwgWzExNi4zMTIwMjksIDQwLjAxMTg4NF0sIFsxMTYuMzA2MzgzLCA0MC4wMTM4MDJdLCBbMTE2LjMxMjQyMSwgNDAuMDExMjU5XSwgWzExNi4zMTg1NzIsIDQwLjAwNDcxOV0sIFsxMTYuMzI2MjQsIDM5Ljk5ODMwNF0sIFsxMTYuMzI2NzE5LCAzOS45ODgxMTVdLCBbMTE2LjMyNzE0NywgMzkuOTc3ODM1XSwgWzExNi4zMTc0OTksIDM5Ljk3NDQ3OF0sIFsxMTYuMzEyODMyLCAzOS45NzU0ODhdLCBbMTE2LjMyMjQ5MiwgMzkuOTc1Mjc0XSwgWzExNi4zMjcwMjEsIDM5Ljk4MTI2NF0sIFsxMTYuMzI2MzkzLCAzOS45OTE5MjldLCBbMTE2LjMyMTkzMSwgNDAuMDAwMDJdLCBbMTE2LjMxNzY3OSwgNDAuMDA5MDFdLCBbMTE2LjMwOTQ2MiwgNDAuMDEzMTc5XSwgWzExNi4zMDYzODQsIDQwLjAxMzkwOV0sIFsxMTYuMzEyNDk5LCA0MC4wMTEyNDddLCBbMTE2LjMyMTI0NCwgNDAuMDA4MDk0XSwgWzExNi4zMjQ0ODYsIDQwLjAwMjczN10sIFsxMTYuMzI2NTUsIDM5Ljk5MTczN10sIFsxMTYuMzI3MTI5LCAzOS45ODAwMjRdLCBbMTE2LjMyNjkyNSwgMzkuOTgxNDczXSwgWzExNi4zMjgwNjcsIDM5Ljk4Mjg1OV0sIFsxMTYuMzI3MDI4LCAzOS45Nzk0MThdLCBbMTE2LjMyNjcxOSwgMzkuOTg5OTUzXSwgWzExNi4zMjQ0NTgsIDM5Ljk5OTk4OF0sIFsxMTYuMzE3NTcsIDQwLjAwNjg4Nl0sIFsxMTYuMzEwNzAxLCA0MC4wMTMyMl0sIFsxMTYuMzEwODg1LCA0MC4wMTMxOTRdLCBbMTE2LjMxNzc4NywgNDAuMDA1MzE3XSwgWzExNi4zMjU4MzksIDM5Ljk5OTM0OF0sIFsxMTYuMzMxMDc1LCAzOS45OTE2NzhdLCBbMTE2LjMzMzYwNCwgMzkuOTc1OTE3XSwgWzExNi4zMzg4MTIsIDM5Ljk2NDM4Ml0sIFsxMTYuMzQ1NDE0LCAzOS45NDgwMjJdLCBbMTE2LjM0NzUzMiwgMzkuOTM5NDMxXSwgWzExNi40MDk3MzIsIDM5LjkwNzg0Nl0sIFsxMTYuNDA5NjYzLCAzOS45MDY2MTJdLCBbMTE2LjQwODU5NiwgMzkuOTEzMzQ2XSwgWzExNi40MDk0NTMsIDM5LjkxMDE4OV0sIFsxMTYuNDA5NDg4LCAzOS45MDc1NDNdLCBbMTE2LjQwOTY2NywgMzkuOTA4ODI0XSwgWzExNi40MDkyOTQsIDM5LjkwOTU5OV0sIFsxMTYuNDA5ODE3LCAzOS45MDgzNDFdLCBbMTE2LjQwOTMzOCwgMzkuOTA3NjMxXSwgWzExNi40MDk0NiwgMzkuOTA4Mjg3XSwgWzExNi40MDk0MTQsIDM5LjkwODM2Nl0sIFsxMTYuNDExNTExLCAzOS45MDgxNDRdLCBbMTE2LjM0NzQ3NCwgMzkuOTQwOTk0XSwgWzExNi4zNDM1MzEsIDM5Ljk1MzU0Ml0sIFsxMTYuMzM4LCAzOS45Njg3MTJdLCBbMTE2LjMzMjQ5LCAzOS45ODI2MjJdLCBbMTE2LjMyOTY0MywgMzkuOTkxNjgxXSwgWzExNi4zMjk2MjEsIDM5Ljk5MTg5M10sIFsxMTYuMzI2ODM1LCAzOS45ODcyMDZdLCBbMTE2LjMxODE5NCwgMzkuOTczNTMxXSwgWzExNi4zMjYyNzYsIDM5Ljk3ODE3XSwgWzExNi4zMjE2OTYsIDM5Ljk3ODMwNF0sIFsxMTYuMzI2NDQ1LCAzOS45NzkwMDZdLCBbMTE2LjMyNjYyOCwgMzkuOTg1MzA4XSwgWzExNi4zMjY0MzIsIDM5Ljk5Njk2NF0sIFsxMTYuMzIyNjY3LCA0MC4wMDg2OTVdLCBbMTE2LjMxODIxMSwgNDAuMDA2NTUzXSwgWzExNi4zMTA3OTcsIDQwLjAxMzIzMV0sIFsxMTYuMzA1NjM4LCA0MC4wMTQ3NzhdLCBbMTE2LjMxMTUyNywgNDAuMDE0ODM2XSwgWzExNi4zMjA3NTIsIDQwLjAxMTk5Nl0sIFsxMTYuMzMwODAyLCA0MC4wMDQxOF0sIFsxMTYuMzMxMjY5LCAzOS45OTM3OF0sIFsxMTYuMzI2ODg0LCAzOS45OTQwODFdLCBbMTE2LjMyNTU5OSwgMzkuOTk4NDEzXSwgWzExNi4zMjc0MTIsIDM5Ljk5Nzc0Ml0sIFsxMTYuMzI1NzQzLCAzOS45OTg1Ml0sIFsxMTYuMzI2NDY3LCAzOS45OTc4MDZdLCBbMTE2LjMyNjgxNiwgMzkuOTk0MDI2XSwgWzExNi4zMjY4NDUsIDM5Ljk5MTU0NV0sIFsxMTYuMzExMzg4LCAzOS45OTA5OThdLCBbMTE2LjMwODkzMywgNDAuMDAxMjc2XSwgWzExNi4zMTIxNzQsIDQwLjAxMTkzMl0sIFsxMTYuMzA4NDAxLCA0MC4wMTMyM10sIFsxMTYuMzA3MzQ5LCA0MC4wMTMwMDhdLCBbMTE2LjMxNjE1MywgNDAuMDA5Mzk5XSwgWzExNi4zMjE3MjUsIDQwLjAwMTIwOF0sIFsxMTYuMzI2NTAzLCAzOS45OTI1NTldLCBbMTE2LjMyNjk3NywgMzkuOTgzMjldLCBbMTE2LjMyNzI3LCAzOS45Nzk3MDldLCBbMTE2LjMyNzc1MSwgMzkuOTgxNjAyXSwgWzExNi4zMjY5NzUsIDM5Ljk5MTM2MV0sIFsxMTYuMzIxODQ4LCAzOS45OTk5OTRdLCBbMTE2LjMxNzQxOSwgNDAuMDA5MTA3XSwgWzExNi4zMDczNzMsIDQwLjAxMzA0OV0sIFsxMTYuMzEwOTEsIDQwLjAxNTQ2MV0sIFsxMTYuMzEyMDMsIDQwLjAxMTg3Nl0sIFsxMTYuMzI2NzkxLCA0MC4wMTA0OTNdLCBbMTE2LjMzMTAxMiwgMzkuOTk4MjI0XSwgWzExNi4zMjgwODUsIDM5Ljk5MTc3MV0sIFsxMTYuMzI1NzAyLCAzOS45OTE3NjJdLCBbMTE2LjMyNzMwNiwgMzkuOTgyOTg0XSwgWzExNi4zMjc4NCwgMzkuOTc1OTU5XSwgWzExNi4zMzUyODIsIDM5Ljk2NjA5MV0sIFsxMTYuMzUzNTE3LCAzOS45NjYzNTNdLCBbMTE2LjM3NDk2LCAzOS45NjY4MDNdLCBbMTE2LjM5MzM1MiwgMzkuOTY3MjZdLCBbMTE2LjQwMzY0NSwgMzkuOTY3NTc2XSwgWzExNi40MjM2MzQsIDM5Ljk2ODAyMl0sIFsxMTYuNDM1ODM5LCAzOS45NjQzMl0sIFsxMTYuNDM5NjQ3LCAzOS45NjA1NjJdLCBbMTE2LjQyODM4LCAzOS45NTgyNThdLCBbMTE2LjQxODcyMiwgMzkuOTYzNDAzXSwgWzExNi40MTA1NiwgMzkuOTY3OTM1XSwgWzExNi4zOTAyLCAzOS45NjcyODhdLCBbMTE2LjM3MDgwNCwgMzkuOTY2NzM2XSwgWzExNi4zNTI5MjIsIDM5Ljk2NjM5OV0sIFsxMTYuMzM0MTM3LCAzOS45NjY0OF0sIFsxMTYuMzI3NTQ2LCAzOS45NzQyMDRdLCBbMTE2LjMyNzQwMSwgMzkuOTc4NDI3XSwgWzExNi4zMjc5OTUsIDM5Ljk2ODQ3N10sIFsxMTYuMzQwMDMzLCAzOS45NjYxODhdLCBbMTE2LjM2MDc4MywgMzkuOTY2NDc4XSwgWzExNi4zNzg3MzksIDM5Ljk2Njc5OV0sIFsxMTYuNDAwMTI2LCAzOS45Njc1MTZdLCBbMTE2LjQyMDc3NiwgMzkuOTY4MDE1XSwgWzExNi40Mzk2MDEsIDM5Ljk2MTg0NF0sIFsxMTYuNDM4MTEzLCAzOS45NjA1OTddLCBbMTE2LjQ0MDMxOSwgMzkuOTYxMDFdLCBbMTE2LjQ0MzU0MywgMzkuOTU4OTkzXSwgWzExNi40NDAyNDQsIDM5Ljk2MDU1M10sIFsxMTYuNDM5Njg0LCAzOS45NjEwMDhdLCBbMTE2LjQzODg5OCwgMzkuOTYxNTU2XSwgWzExNi40Mzg5NjcsIDM5Ljk2MTMwMV0sIFsxMTYuNDM4ODI2LCAzOS45NjE3NzldLCBbMTE2LjQzODA4MiwgMzkuOTYyNDEyXSwgWzExNi40MzcwODQsIDM5Ljk2MTgxOF0sIFsxMTYuNDM2MzExLCAzOS45NjEyNDRdLCBbMTE2LjQzNTc2MiwgMzkuOTYxMTU0XSwgWzExNi40MzY4NjQsIDM5Ljk2MDc3N10sIFsxMTYuNDM4MTIzLCAzOS45NjA3NjRdLCBbMTE2LjQ0MDIwNywgMzkuOTYxMzk2XSwgWzExNi40MzMxNDIsIDM5Ljk2NjY4N10sIFsxMTYuNDE2MDUxLCAzOS45NjgxODZdLCBbMTE2LjQwNDg0OCwgMzkuOTY3NzA0XSwgWzExNi4zODg4ODEsIDM5Ljk2NzIzNV0sIFsxMTYuMzc0ODQ2LCAzOS45Njk1MjFdLCBbMTE2LjM2Njc2LCAzOS45NzUzNjZdLCBbMTE2LjM1MjkxLCAzOS45NzUzOTJdLCBbMTE2LjMzODExNiwgMzkuOTc1Mzk1XSwgWzExNi4zMjc2NTIsIDM5Ljk3NTMzNV0sIFsxMTYuMzI3MzY4LCAzOS45Nzk1MjVdLCBbMTE2LjMyNzA4LCAzOS45ODE4MDFdLCBbMTE2LjMyNjk3NiwgMzkuOTgyNjYzXSwgWzExNi4zMjQ0NjksIDM5Ljk5MTQwMl0sIFsxMTYuMzA5NzIzLCAzOS45OTIyXSwgWzExNi4zMDg5MywgMzkuOTk5ODYxXSwgWzExNi4zMTIyMDYsIDQwLjAxMDg5NF0sIFsxMTYuMzA4NDQ4LCA0MC4wMTY0ODZdLCBbMTE2LjMwNTU5MiwgNDAuMDE0NjhdLCBbMTE2LjMxMDEyLCA0MC4wMTY2MDJdLCBbMTE2LjMxOTY2NSwgNDAuMDExOTY1XSwgWzExNi4zMzA3NSwgNDAuMDA1MDAxXSwgWzExNi4zMzExNDYsIDM5Ljk5NTVdLCBbMTE2LjMyNDcyNCwgMzkuOTkxNDc5XSwgWzExNi4zMjY3OCwgMzkuOTg5NTkyXSwgWzExNi4zMjcwODcsIDM5Ljk3OTgzNV0sIFsxMTYuMzI3NjUsIDM5Ljk3NzEwNl0sIFsxMTYuMzIyNDU3LCAzOS45NzUxODldLCBbMTE2LjMxMjIyOSwgMzkuOTc3MDY4XSwgWzExNi4zMDcyOTcsIDM5Ljk4MDM0MV0sIFsxMTYuMzA4ODcxLCAzOS45ODcxMDNdLCBbMTE2LjMwOTUsIDM5Ljk5NjIyNV0sIFsxMTYuMzEyOTUsIDQwLjAwNjcwNl0sIFsxMTYuMzEwNzkyLCA0MC4wMTU2OTddLCBbMTE2LjMwNTU0LCA0MC4wMTU3NzddLCBbMTE2LjMwNTQ4MSwgNDAuMDE1NzhdLCBbMTE2LjMwNTY5MSwgNDAuMDE0MDc4XSwgWzExNi4zMDU5MjEsIDQwLjAxNDA5Ml0sIFsxMTYuMzA1ODgzLCA0MC4wMTQwNzddLCBbMTE2LjMwNzA2NywgNDAuMDEzODddLCBbMTE2LjMwOTUxMSwgNDAuMDE2NTIxXSwgWzExNi4zMTIwNDIsIDQwLjAxMTk0M10sIFsxMTYuMzI1NjM3LCA0MC4wMTE1MzNdLCBbMTE2LjMzMDkxOSwgNDAuMDAwMjc2XSwgWzExNi4zMjg2OTksIDM5Ljk5MTZdLCBbMTE2LjMyMTkxOCwgMzkuOTkxMDc3XSwgWzExNi4zMjY4MzIsIDM5Ljk4NjI1OV0sIFsxMTYuMzI3MzA3LCAzOS45Nzc0NDldLCBbMTE2LjMyODExMSwgMzkuOTgxNjUyXSwgWzExNi4zMjcyOTIsIDM5Ljk4MjA1N10sIFsxMTYuMzI2ODgxLCAzOS45OTA5MTldLCBbMTE2LjMxMjIxMSwgMzkuOTkwOTA0XSwgWzExNi4zMDY2MzIsIDM5Ljk5ODUwN10sIFsxMTYuMzA4Nzc1LCA0MC4wMDE1MjFdLCBbMTE2LjMxMjU5OSwgNDAuMDA4NzldLCBbMTE2LjMwNzk3OSwgNDAuMDEzMDYzXSwgWzExNi4zMDU1NzUsIDQwLjAxNTczOV0sIFsxMTYuMzEyMDg0LCA0MC4wMTE5NjhdLCBbMTE2LjMyMzk1NSwgNDAuMDExODY1XSwgWzExNi4zMzA4ODMsIDQwLjAwMTM4XSwgWzExNi4zMjg5MjYsIDM5Ljk5MTY0N10sIFsxMTYuMzIyMDE2LCAzOS45OTExNzhdLCBbMTE2LjMyNzQyNSwgMzkuOTg1NjUyXSwgWzExNi4zMjc0NTcsIDM5Ljk3NzYwOV0sIFsxMTYuMzI1MzE1LCAzOS45Nzg4NTFdLCBbMTE2LjMyNjUxMiwgMzkuOTc4MjAyXSwgWzExNi4zMjc3MjEsIDM5Ljk3NDA0N10sIFsxMTYuMzI4MTExLCAzOS45Njk2NTFdLCBbMTE2LjMyNDAxOCwgMzkuOTcyNDY1XSwgWzExNi4zMTg2MzEsIDM5Ljk3NDY4NV0sIFsxMTYuMzE5Mjc2LCAzOS45NzQ5Nl0sIFsxMTYuMzI5MDA0LCAzOS45NzUwODldLCBbMTE2LjMzMDQxNCwgMzkuOTc0ODddLCBbMTE2LjMyNzQzNCwgMzkuOTc5OTk1XSwgWzExNi4zMjY5MjUsIDM5Ljk4ODc5XSwgWzExNi4zMTgwMjQsIDM5Ljk5MTI0MV0sIFsxMTYuMzA5MzU4LCAzOS45OTU3NjldLCBbMTE2LjMxMTM1OSwgNDAuMDA0ODcyXSwgWzExNi4zMTEwMywgNDAuMDEzMjE1XSwgWzExNi4zMDY0NjcsIDQwLjAxMzc3OV0sIFsxMTYuMzExMTU3LCA0MC4wMTMyMjhdLCBbMTE2LjMxMjQ2MywgNDAuMDEwNDQzXSwgWzExNi4zMDg5OTYsIDQwLjAwMDI3OV0sIFsxMTYuMzA5MTE2LCAzOS45OTU0MDFdLCBbMTE2LjMwOTMxLCAzOS45OTM0N10sIFsxMTYuMzE1OTM4LCAzOS45OTEwNTVdLCBbMTE2LjMyODAwOCwgMzkuOTkxNTY2XSwgWzExNi4zMzkzNTMsIDM5Ljk5MTYxMV0sIFsxMTYuMzQ1NDc0LCAzOS45OTE5MzJdLCBbMTE2LjM0NzM1NywgMzkuOTgyODYxXSwgWzExNi4zNDI2OTYsIDM5Ljk3OTkyXSwgWzExNi4zNDE5MTYsIDM5Ljk4MzMwNF0sIFsxMTYuMzQyOTY4LCAzOS45Nzk1NTNdLCBbMTE2LjM0Mzc5NiwgMzkuOTc4MTc5XSwgWzExNi4zNDM4MzEsIDM5Ljk3ODMwM10sIFsxMTYuMzQzNTY5LCAzOS45NzgxMzldLCBbMTE2LjM0MzQ2OSwgMzkuOTc4NDMyXSwgWzExNi4zNDM0NTYsIDM5Ljk3ODU3OV0sIFsxMTYuMzQzNjc1LCAzOS45NzgzMDNdLCBbMTE2LjM0Mzc0MiwgMzkuOTc4MDQ3XSwgWzExNi4zNDM2MzMsIDM5Ljk3Nzg5NV0sIFsxMTYuMzQ0NTUyLCAzOS45NzgyODFdLCBbMTE2LjM0NDM2OSwgMzkuOTc4MTgzXSwgWzExNi4zNDU1MjQsIDM5Ljk3OTk5OF0sIFsxMTYuMzQ3NjA1LCAzOS45ODM5NDddLCBbMTE2LjM0NTYzMiwgMzkuOTkxOTc2XSwgWzExNi4zMzE5MTIsIDM5Ljk5MTU0Nl0sIFsxMTYuMzE4ODAxLCAzOS45OTExMzddLCBbMTE2LjMwOTE3OCwgMzkuOTk2MTEzXSwgWzExNi4zMDg5NzEsIDQwLjAwMzE3OV0sIFsxMTYuMzEyMTQ3LCA0MC4wMTI0MTldLCBbMTE2LjMxMTU2OSwgNDAuMDE0MDk5XSwgWzExNi4zMTE2NDksIDQwLjAxNDA4OF0sIFsxMTYuMzA1Nzg5LCA0MC4wMTQxMTddLCBbMTE2LjMwNjU2MiwgNDAuMDEzODg1XSwgWzExNi4zMDY1NTQsIDQwLjAxMzg5XSwgWzExNi4zMDY1NCwgNDAuMDEzODddLCBbMTE2LjMwNjUxOCwgNDAuMDEzODU4XSwgWzExNi4zMDY0OTQsIDQwLjAxMzg0Nl0sIFsxMTYuMzA2NDg4LCA0MC4wMTM4NTVdLCBbMTE2LjMwNjQ2OSwgNDAuMDEzODQ3XSwgWzExNi4zMDY0NTcsIDQwLjAxMzgyNF0sIFsxMTYuMzA2NDQ1LCA0MC4wMTM4MDZdLCBbMTE2LjMwNjQ1NSwgNDAuMDEzODA2XSwgWzExNi4zMDY0NCwgNDAuMDEzODA0XSwgWzExNi4zMDY0OTEsIDQwLjAxMzgwMl0sIFsxMTYuMzA2NDY3LCA0MC4wMTM4MTJdLCBbMTE2LjMwNjUwNCwgNDAuMDEzODE4XSwgWzExNi4zMDY1MDQsIDQwLjAxMzgwN10sIFsxMTYuMzA2NTA4LCA0MC4wMTM3OTldLCBbMTE2LjMwNjU0MiwgNDAuMDEzNzg5XSwgWzExNi4zMDY1NDgsIDQwLjAxMzc4OV0sIFsxMTYuMzA2NTE3LCA0MC4wMTM3ODRdLCBbMTE2LjMwNjUwNiwgNDAuMDEzNzc3XSwgWzExNi4zMDY1MDQsIDQwLjAxMzc5MV0sIFsxMTYuMzA2NDg3LCA0MC4wMTM3OTFdLCBbMTE2LjMwNjQ2NCwgNDAuMDEzODAzXSwgWzExNi4zMDY0NTYsIDQwLjAxMzgxXSwgWzExNi4zMDY0NzMsIDQwLjAxMzc5OV0sIFsxMTYuMzA2NDg4LCA0MC4wMTM3OTVdLCBbMTE2LjMwNjUwNiwgNDAuMDEzNzk0XSwgWzExNi4zMDY1MjksIDQwLjAxMzc3NF0sIFsxMTYuMzA2NTA5LCA0MC4wMTM3ODZdLCBbMTE2LjMwNjQ5NiwgNDAuMDEzNzk3XSwgWzExNi4zMDY1MjIsIDQwLjAxMzc4NV0sIFsxMTYuMzA2NTQ5LCA0MC4wMTM3ODldLCBbMTE2LjMwNjUyLCA0MC4wMTM3OTRdLCBbMTE2LjMwNjQ5MywgNDAuMDEzODA2XSwgWzExNi4zMDY0OTUsIDQwLjAxMzc5N10sIFsxMTYuMzA2NDU4LCA0MC4wMTM3ODldLCBbMTE2LjMwODcwMywgNDAuMDEzMTI3XSwgWzExNi4zMTc2NzMsIDQwLjAwODEwMl0sIFsxMTYuMzIyOTcyLCAzOS45OTk2NjVdLCBbMTE2LjMyNjQ5NiwgMzkuOTkwNjkyXSwgWzExNi4zMjY5MzksIDM5Ljk3ODkxOV0sIFsxMTYuMzI3MTYsIDM5Ljk3OTQyNF0sIFsxMTYuMzI3MTc5LCAzOS45ODc5MjddLCBbMTE2LjMyNjc1OCwgMzkuOTk4ODQ2XSwgWzExNi4zMDgyMDcsIDQwLjAxMzA1M10sIFsxMTYuMzE3NTk3LCA0MC4wMDg2OTRdLCBbMTE2LjMyMTg5NCwgMzkuOTk5ODhdLCBbMTE2LjMyNjU1MSwgMzkuOTkxNTM1XSwgWzExNi4zMjcxMzEsIDM5Ljk4MTg0NF1dLCAidHlwZSI6ICJMaW5lU3RyaW5nIn0sICJpZCI6ICIwIiwgInR5cGUiOiAiRmVhdHVyZSJ9XSwgInR5cGUiOiAiRmVhdHVyZUNvbGxlY3Rpb24ifSk7CiAgICAgICAgCiAgICAKICAgICAgICAgICAgdmFyIG1hcmtlcl82NmQyZTYzY2RlZGQ0NjQwYTJiZWJiNmVjMmZlMDhmMiA9IEwubWFya2VyKAogICAgICAgICAgICAgICAgWzM5Ljk4NDA5NCwgMTE2LjMxOTIzNl0sCiAgICAgICAgICAgICAgICB7fQogICAgICAgICAgICApLmFkZFRvKG1hcF9hNjhlODkwODA2Yzg0ODY4YWY1YmU0MDExM2JhNjE2Myk7CiAgICAgICAgCiAgICAKICAgICAgICAgICAgdmFyIGljb25fNzljNzRlMWQ1ZGMwNDFlNWEwMWQxODUyZGIwNDJmNWYgPSBMLkF3ZXNvbWVNYXJrZXJzLmljb24oCiAgICAgICAgICAgICAgICB7ImV4dHJhQ2xhc3NlcyI6ICJmYS1yb3RhdGUtMCIsICJpY29uIjogImluZm8tc2lnbiIsICJpY29uQ29sb3IiOiAid2hpdGUiLCAibWFya2VyQ29sb3IiOiAiZ3JlZW4iLCAicHJlZml4IjogImdseXBoaWNvbiJ9CiAgICAgICAgICAgICk7CiAgICAgICAgICAgIG1hcmtlcl82NmQyZTYzY2RlZGQ0NjQwYTJiZWJiNmVjMmZlMDhmMi5zZXRJY29uKGljb25fNzljNzRlMWQ1ZGMwNDFlNWEwMWQxODUyZGIwNDJmNWYpOwogICAgICAgIAogICAgCiAgICAgICAgdmFyIHBvcHVwXzY0ZWFhYWUzODE2MTQ4YTQ4NWZhOTFhMDYwNDdlNTExID0gTC5wb3B1cCh7Im1heFdpZHRoIjogMzAwfSk7CgogICAgICAgIAogICAgICAgICAgICB2YXIgaHRtbF9kZDgzY2E4OTA3Mjk0YjM2ODdkYzEyYTZmOWZhMDU1YiA9ICQoYDxkaXYgaWQ9Imh0bWxfZGQ4M2NhODkwNzI5NGIzNjg3ZGMxMmE2ZjlmYTA1NWIiIHN0eWxlPSJ3aWR0aDogMTAwLjAlOyBoZWlnaHQ6IDEwMC4wJTsiPjxpPlN0YXJ0PC9pPjxCUj4yMDA4LzEwLzIzIDA1OjUzPEJSPkNvb3JkOiA8YSBocmVmPSJodHRwczovL3d3dy5nb29nbGUuY28udWsvbWFwcy9wbGFjZS8zOS45ODQwOTQsMTE2LjMxOTIzNiIgdGFyZ2V0PSJfYmxhbmsiPjM5Ljk4NDEsIDExNi4zMTkyPC9hPjwvZGl2PmApWzBdOwogICAgICAgICAgICBwb3B1cF82NGVhYWFlMzgxNjE0OGE0ODVmYTkxYTA2MDQ3ZTUxMS5zZXRDb250ZW50KGh0bWxfZGQ4M2NhODkwNzI5NGIzNjg3ZGMxMmE2ZjlmYTA1NWIpOwogICAgICAgIAoKICAgICAgICBtYXJrZXJfNjZkMmU2M2NkZWRkNDY0MGEyYmViYjZlYzJmZTA4ZjIuYmluZFBvcHVwKHBvcHVwXzY0ZWFhYWUzODE2MTQ4YTQ4NWZhOTFhMDYwNDdlNTExKQogICAgICAgIDsKCiAgICAgICAgCiAgICAKICAgIAogICAgICAgICAgICB2YXIgbWFya2VyXzY2MTFlMjk3YzA5NzQ1N2FhYmFiMDg1YTIyYjVkZmU1ID0gTC5tYXJrZXIoCiAgICAgICAgICAgICAgICBbMzkuOTgxODQ0LCAxMTYuMzI3MTMxMDAwMDAwMDFdLAogICAgICAgICAgICAgICAge30KICAgICAgICAgICAgKS5hZGRUbyhtYXBfYTY4ZTg5MDgwNmM4NDg2OGFmNWJlNDAxMTNiYTYxNjMpOwogICAgICAgIAogICAgCiAgICAgICAgICAgIHZhciBpY29uXzNhNmEwMDk4MTEwZDQ2Mzk4ZTFlYzFkMTc0ODUyNzRlID0gTC5Bd2Vzb21lTWFya2Vycy5pY29uKAogICAgICAgICAgICAgICAgeyJleHRyYUNsYXNzZXMiOiAiZmEtcm90YXRlLTAiLCAiaWNvbiI6ICJpbmZvLXNpZ24iLCAiaWNvbkNvbG9yIjogIndoaXRlIiwgIm1hcmtlckNvbG9yIjogInJlZCIsICJwcmVmaXgiOiAiZ2x5cGhpY29uIn0KICAgICAgICAgICAgKTsKICAgICAgICAgICAgbWFya2VyXzY2MTFlMjk3YzA5NzQ1N2FhYmFiMDg1YTIyYjVkZmU1LnNldEljb24oaWNvbl8zYTZhMDA5ODExMGQ0NjM5OGUxZWMxZDE3NDg1Mjc0ZSk7CiAgICAgICAgCiAgICAKICAgICAgICB2YXIgcG9wdXBfZjg2MDE4ZWE2MTY4NDYyZTk3YTllMzIzMzZjYzc3M2QgPSBMLnBvcHVwKHsibWF4V2lkdGgiOiAzMDB9KTsKCiAgICAgICAgCiAgICAgICAgICAgIHZhciBodG1sXzE0MDM4Yzc4YWFlMDQ1YWJhZjk0YjY2ZjJkOWY2NjliID0gJChgPGRpdiBpZD0iaHRtbF8xNDAzOGM3OGFhZTA0NWFiYWY5NGI2NmYyZDlmNjY5YiIgc3R5bGU9IndpZHRoOiAxMDAuMCU7IGhlaWdodDogMTAwLjAlOyI+PGk+RW5kPC9pPjxCUj4yMDA4LzEyLzE1IDAwOjMxPEJSPkNvb3JkOiA8YSBocmVmPSJodHRwczovL3d3dy5nb29nbGUuY28udWsvbWFwcy9wbGFjZS8zOS45Nzc4Nzg5OTk5OTk5OTQsMTE2LjMyNjYyOCIgdGFyZ2V0PSJfYmxhbmsiPjM5Ljk3NzksIDExNi4zMjY2PC9hPjwvZGl2PmApWzBdOwogICAgICAgICAgICBwb3B1cF9mODYwMThlYTYxNjg0NjJlOTdhOWUzMjMzNmNjNzczZC5zZXRDb250ZW50KGh0bWxfMTQwMzhjNzhhYWUwNDVhYmFmOTRiNjZmMmQ5ZjY2OWIpOwogICAgICAgIAoKICAgICAgICBtYXJrZXJfNjYxMWUyOTdjMDk3NDU3YWFiYWIwODVhMjJiNWRmZTUuYmluZFBvcHVwKHBvcHVwX2Y4NjAxOGVhNjE2ODQ2MmU5N2E5ZTMyMzM2Y2M3NzNkKQogICAgICAgIDsKCiAgICAgICAgCiAgICAKICAgIAogICAgICAgIGZ1bmN0aW9uIGdlb19qc29uX2VhYjZlYWU3YWYzODQ2NzI5ZDU3NTMzMGU3ZTY2MGM5X3N0eWxlcihmZWF0dXJlKSB7CiAgICAgICAgICAgIHN3aXRjaChmZWF0dXJlLmlkKSB7CiAgICAgICAgICAgICAgICBkZWZhdWx0OgogICAgICAgICAgICAgICAgICAgIHJldHVybiB7ImNvbG9yIjogIiM4MDAwMDAiLCAib3BhY2l0eSI6IDAuOSwgIndlaWdodCI6IDN9OwogICAgICAgICAgICB9CiAgICAgICAgfQogICAgICAgIGZ1bmN0aW9uIGdlb19qc29uX2VhYjZlYWU3YWYzODQ2NzI5ZDU3NTMzMGU3ZTY2MGM5X29uRWFjaEZlYXR1cmUoZmVhdHVyZSwgbGF5ZXIpIHsKICAgICAgICAgICAgbGF5ZXIub24oewogICAgICAgICAgICAgICAgY2xpY2s6IGZ1bmN0aW9uKGUpIHsKICAgICAgICAgICAgICAgICAgICBtYXBfYTY4ZTg5MDgwNmM4NDg2OGFmNWJlNDAxMTNiYTYxNjMuZml0Qm91bmRzKGUudGFyZ2V0LmdldEJvdW5kcygpKTsKICAgICAgICAgICAgICAgIH0KICAgICAgICAgICAgfSk7CiAgICAgICAgfTsKICAgICAgICB2YXIgZ2VvX2pzb25fZWFiNmVhZTdhZjM4NDY3MjlkNTc1MzMwZTdlNjYwYzkgPSBMLmdlb0pzb24obnVsbCwgewogICAgICAgICAgICAgICAgb25FYWNoRmVhdHVyZTogZ2VvX2pzb25fZWFiNmVhZTdhZjM4NDY3MjlkNTc1MzMwZTdlNjYwYzlfb25FYWNoRmVhdHVyZSwKICAgICAgICAgICAgCiAgICAgICAgICAgICAgICBzdHlsZTogZ2VvX2pzb25fZWFiNmVhZTdhZjM4NDY3MjlkNTc1MzMwZTdlNjYwYzlfc3R5bGVyLAogICAgICAgIH0pLmFkZFRvKG1hcF9hNjhlODkwODA2Yzg0ODY4YWY1YmU0MDExM2JhNjE2Myk7CiAgICAgICAgICAgIGdlb19qc29uX2VhYjZlYWU3YWYzODQ2NzI5ZDU3NTMzMGU3ZTY2MGM5LmFkZERhdGEoeyJmZWF0dXJlcyI6IFt7Imdlb21ldHJ5IjogeyJjb29yZGluYXRlcyI6IFtbMTE2LjMyMTMzNywgNDAuMDA0MTU1XSwgWzExNi4zMjY1NzMsIDM5Ljk5NDMwOF0sIFsxMTYuMzI3MTA5LCAzOS45Nzk1OV0sIFsxMTYuMzI3OTY4LCAzOS45NjYxOTFdLCBbMTE2LjM0NjE0NiwgMzkuOTY2MDczXSwgWzExNi4zNTcyNTEsIDM5Ljk2MTc0Nl0sIFsxMTYuMzYwNjc5LCAzOS45NTg5NThdLCBbMTE2LjM2MDc1NSwgMzkuOTU4ODU5XSwgWzExNi4zNjA0NDQsIDM5Ljk1ODI5Nl0sIFsxMTYuMzU2NjkyLCAzOS45NTgwMDddLCBbMTE2LjM1NjU2MiwgMzkuOTU3OTA4XSwgWzExNi4zNTY2NDEsIDM5Ljk1Nzc1XSwgWzExNi4zNTY2MTYsIDM5Ljk1Nzk4NF0sIFsxMTYuMzU2NzA0LCAzOS45NTc2OTldLCBbMTE2LjM1NjY1LCAzOS45NTgwMDNdLCBbMTE2LjM1NjUzNywgMzkuOTU3MjUxXSwgWzExNi4zNTYzNTgsIDM5Ljk1NzQzNl0sIFsxMTYuMzU2Nzk0LCAzOS45NTY4MDldLCBbMTE2LjM1NjY1MywgMzkuOTU3MjAxXSwgWzExNi4zNTY2LCAzOS45NTcyODFdLCBbMTE2LjM1NjQ1OSwgMzkuOTU2NjAyXSwgWzExNi4zNTY0NjksIDM5Ljk1Nzc4OV0sIFsxMTYuMzU2NTM5LCAzOS45NTcwMjVdLCBbMTE2LjM1NzE2OCwgMzkuOTU3ODQ1XSwgWzExNi4zNTY1ODEsIDM5Ljk1NzAzNl0sIFsxMTYuMzU3MDgyLCAzOS45NTc4OV0sIFsxMTYuMzU2Njg3LCAzOS45NTcyOTRdLCBbMTE2LjM2MDU0NSwgMzkuOTU3MTY5XSwgWzExNi4zNjAyNjksIDM5Ljk1OTk5NF0sIFsxMTYuMzU2OSwgMzkuOTYxNDM0XSwgWzExNi4zNTQzNjcsIDM5Ljk2Mzc2M10sIFsxMTYuMzQ5NzE0LCAzOS45NjM2NDJdLCBbMTE2LjM0ODMzMywgMzkuOTczNTY3XSwgWzExNi4zNDE4NjgsIDM5Ljk3NDgyMl0sIFsxMTYuMzM5MzUxLCAzOS45NzY2OTFdLCBbMTE2LjMzNjE4NywgMzkuOTc2NTE3XSwgWzExNi4zMzcxNjEsIDM5Ljk3NjIwMl0sIFsxMTYuMzM0NDU0LCAzOS45ODgyMTRdLCBbMTE2LjMyNjcxMiwgMzkuOTk1Njk0XSwgWzExNi4zMjQxLCA0MC4wMDg3NzZdLCBbMTE2LjMyNDc1NCwgNDAuMDAwMjg5XSwgWzExNi4zMjIzOTEsIDQwLjAwNDMyOF0sIFsxMTYuMzIxMzQsIDQwLjAwNTUzNF0sIFsxMTYuMzIzNjIsIDQwLjAwOTU2XSwgWzExNi4zMTk3MjIsIDQwLjAwNjU5Nl0sIFsxMTYuMzI2MjYsIDM5Ljk5NzU4NF0sIFsxMTYuMzI2ODAxLCAzOS45ODU2NjddLCBbMTE2LjMzMjQ3OCwgMzkuOTc0OTMyXSwgWzExNi4zMzc2MDcsIDM5Ljk3NzIxMl0sIFsxMTYuMzM2MTQ0LCAzOS45NzY2NDJdLCBbMTE2LjMzNDY3NCwgMzkuOTg0ODM3XSwgWzExNi4zMjY4MTEsIDM5Ljk5NTAzNF0sIFsxMTYuMzI1MjQ0LCA0MC4wMDEyMzVdLCBbMTE2LjMyMTUxMSwgNDAuMDExMjA4XSwgWzExNi4zMjY3MjUsIDM5Ljk5NTk3NV0sIFsxMTYuMzI2ODQsIDQwLjAwMDIzNl0sIFsxMTYuMzI2OTc4LCA0MC4wMDA1OTJdLCBbMTE2LjMyNjkzMSwgNDAuMDAwNjc1XSwgWzExNi4zMjY5MzQsIDQwLjAwMDQzN10sIFsxMTYuMzI3MDA3LCA0MC4wMDA2Nl0sIFsxMTYuMzI2OTM2LCA0MC4wMDA3NTVdLCBbMTE2LjMyNjk3MiwgNDAuMDAwODIzXSwgWzExNi4zMjY5NzQsIDQwLjAwMDc4Ml0sIFsxMTYuMzI2OTg2LCA0MC4wMDA3MzNdLCBbMTE2LjMyNzAyNCwgNDAuMDAwNjY0XSwgWzExNi4zMjY5NDUsIDQwLjAwMDU4N10sIFsxMTYuMzI3MDk1LCA0MC4wMDA3NDRdLCBbMTE2LjMyNjY4NCwgNDAuMDAwMzhdLCBbMTE2LjMyNjg2MSwgNDAuMDAwNTA1XSwgWzExNi4zMjY4OSwgNDAuMDAwNTUzXSwgWzExNi4zMjcxNDUsIDM5Ljk5MTcwMV0sIFsxMTYuMzMxNDE0LCAzOS45ODkzODNdLCBbMTE2LjM0NjUxMSwgMzkuOTQwMjgxXSwgWzExNi4yMDI0NTIsIDM5LjkwNjM1NV0sIFsxMTYuMTgzMTgzLCAzOS45MDYyN10sIFsxMTYuMTg2NDM1LCAzOS45MDc0MjNdLCBbMTE2LjE4NjU2NiwgMzkuOTA3MjUzXSwgWzExNi4xODcwODcsIDM5LjkwNjMzXSwgWzExNi4xOTM4NTQsIDM5LjkwNjMwMV0sIFsxMTYuMjAwMzY4LCAzOS45MDYzMjNdLCBbMTE2LjM0NTg0LCAzOS45NDM1MDldLCBbMTE2LjMzMTcsIDM5Ljk5MTU2OV0sIFsxMTYuMzI2MzQ4LCAzOS45OTUzOTRdLCBbMTE2LjMyMTA3NCwgNDAuMDExODM5XSwgWzExNi4zMjEwNjgsIDQwLjAxMTU5MV0sIFsxMTYuMzIxMTA0LCA0MC4wMTE4NDFdLCBbMTE2LjMyMTM4NiwgNDAuMDExNjE0XSwgWzExNi4zMjExNjQsIDQwLjAxMTc3XSwgWzExNi4zMjEwODksIDQwLjAxMjAzOV0sIFsxMTYuMzIxMDExLCA0MC4wMTE3NzVdLCBbMTE2LjMyMDYwOSwgNDAuMDEyMDg4XSwgWzExNi4zMjEyNDksIDQwLjAxMTQ4Nl0sIFsxMTYuMzIwNjAzLCA0MC4wMTE1OThdLCBbMTE2LjMyMTIxMiwgNDAuMDExNjU3XSwgWzExNi4zMjExNjQsIDQwLjAxMTUyXSwgWzExNi4zMjEyMjIsIDQwLjAxMTUzMl0sIFsxMTYuMzIxMjU0LCA0MC4wMTE1MzRdLCBbMTE2LjMyMTM4LCA0MC4wMTE0ODNdLCBbMTE2LjMyMTEyMiwgNDAuMDExNDRdLCBbMTE2LjMyMTA5LCA0MC4wMTE1NjRdLCBbMTE2LjMyMTAzOSwgNDAuMDExNDU4XSwgWzExNi4zMjEyNDcsIDQwLjAxMTkyOV0sIFsxMTYuMzIxMDMsIDQwLjAxMTMzNF0sIFsxMTYuMzIwOTYsIDQwLjAxMTI4N10sIFsxMTYuMzE3MzgsIDQwLjAwOTkxXSwgWzExNi4zMTg4MTIsIDQwLjAxMDgxNl0sIFsxMTYuMzIwNDA1LCA0MC4wMTEzOTZdLCBbMTE2LjMyMTQ0OSwgNDAuMDExMzk0XSwgWzExNi4zMjE2MjksIDQwLjAxMTc2NV0sIFsxMTYuMzIxNjc5LCA0MC4wMTE0NTFdLCBbMTE2LjMyMTk3LCA0MC4wMTAyNzZdLCBbMTE2LjMyMjgzMywgNDAuMDAzMzc0XSwgWzExNi4zMjQ1NDUsIDQwLjAwMTMxNV0sIFsxMTYuMzIwMTQyLCA0MC4wMDk0NTddLCBbMTE2LjMxOTkwMiwgNDAuMDA5MjI1XSwgWzExNi4zMTk5MjMsIDQwLjAwOTM0XSwgWzExNi4zMjQyOCwgNDAuMDA0MDldLCBbMTE2LjMyNjUwNiwgNDAuMDAxMjE4XSwgWzExNi4zMjM4NTksIDQwLjAwNjY3OF0sIFsxMTYuMzI4MjIxLCA0MC4wMDA1NTJdLCBbMTE2LjMyNjc0NSwgNDAuMDAwNjI2XSwgWzExNi4zMjY5ODIsIDQwLjAwMDUzMl0sIFsxMTYuMzI2MjExLCA0MC4wMDAyOF0sIFsxMTYuMzI2OTUzLCA0MC4wMDA0NTFdLCBbMTE2LjMyNjkzOSwgNDAuMDAwNDYyXSwgWzExNi4zMjY5NzksIDQwLjAwMDY1M10sIFsxMTYuMzI3MDQ3LCA0MC4wMDA3OTFdLCBbMTE2LjMyNjk1NSwgNDAuMDAwNTE4XSwgWzExNi4zMjY5NDYsIDQwLjAwMDQzNV0sIFsxMTYuMzI3MjE1LCA0MC4wMDAzMzZdLCBbMTE2LjMyNjkxLCA0MC4wMDA3NTddLCBbMTE2LjMyNTE1LCA0MC4wMDIzOTldLCBbMTE2LjMyNzE4NSwgMzkuOTk5OTc3XSwgWzExNi4zMzM5NDcsIDM5Ljk5MTU3NF0sIFsxMTYuMzQxMzI2LCAzOS45Nzc4ODFdLCBbMTE2LjM0MTkwNywgMzkuOTc3NDM5XSwgWzExNi4zNDE0MzUsIDM5Ljk3ODA3Ml0sIFsxMTYuMzQxMTg2LCAzOS45Nzc1MTRdLCBbMTE2LjM0MTYyNywgMzkuOTc4NjYxXSwgWzExNi4zNDEyOSwgMzkuOTc4MDgxXSwgWzExNi4zMzc0NzQsIDM5Ljk3NjgyNF0sIFsxMTYuMzM0OTY4LCAzOS45Nzg4OV0sIFsxMTYuMzI5NTk0LCAzOS45OTE1NTNdLCBbMTE2LjMyNzA0LCA0MC4wMDAyMzFdLCBbMTE2LjMyNjg5OCwgNDAuMDAwMjQ0XSwgWzExNi4zMjQ0MzEsIDQwLjAwMTYwMl0sIFsxMTYuMzI0NDE0LCA0MC4wMDUyMjldLCBbMTE2LjMyNDU3NywgNDAuMDAwNTIxXSwgWzExNi4zMjE3OTQsIDQwLjAxMTM0M10sIFsxMTYuMzIxMDIzLCA0MC4wMTEyMjJdLCBbMTE2LjMyMTE1NSwgNDAuMDExNjM3XSwgWzExNi4zMjEyNDksIDQwLjAxMTkzXSwgWzExNi4zMjExNzIsIDQwLjAxMTY2N10sIFsxMTYuMzIxMjQ5LCA0MC4wMTE0M10sIFsxMTYuMzIxMDMyLCA0MC4wMTE3Nl0sIFsxMTYuMzIxMDk5LCA0MC4wMTE1Nl0sIFsxMTYuMzIxMDQ5LCA0MC4wMTE5NDldLCBbMTE2LjMyMTE2MiwgNDAuMDExNjQ3XSwgWzExNi4zMjEwOTgsIDQwLjAxMTU0XSwgWzExNi4zMjExOTIsIDQwLjAxMTM0OV0sIFsxMTYuMzIxMDY2LCA0MC4wMTIyMjFdLCBbMTE2LjMyMTE5MSwgNDAuMDExNzEzXSwgWzExNi4zMjEyNjYsIDQwLjAxMTY4NF0sIFsxMTYuMzIxMjY4LCA0MC4wMTE3MzJdLCBbMTE2LjMyNDE1NywgNDAuMDA3MzQ5XSwgWzExNi4zMjc0MTQsIDM5Ljk5OTkxMV0sIFsxMTYuMzI2NDcyLCAzOS45OTM3MDZdLCBbMTE2LjMzNDgxNSwgMzkuOTg0NjgzXSwgWzExNi4zNDE5NjMsIDM5Ljk3NzYwNF0sIFsxMTYuMzQxNjU0LCAzOS45NzgwOTNdLCBbMTE2LjM0MTY1NSwgMzkuOTc4MTg1XSwgWzExNi4zNDE3NjgsIDM5Ljk3OTYxM10sIFsxMTYuMzM5NTQ4LCAzOS45Nzk3ODFdLCBbMTE2LjM0MTAxOSwgMzkuOTc5ODY4XSwgWzExNi4zMzgwOCwgMzkuOTgwNDA0XSwgWzExNi4zMzgyNDQsIDM5Ljk4MTQxN10sIFsxMTYuMzM4MjEyLCAzOS45ODEwNTddLCBbMTE2LjMzODg3NywgMzkuOTc5OTg0XSwgWzExNi4zMzk0MjQsIDM5Ljk3OTkwMl0sIFsxMTYuMzQxNTM3LCAzOS45Nzc5NzhdLCBbMTE2LjMzOTMxNiwgMzkuOTc2OTMzXSwgWzExNi4zMzUwNTUsIDM5Ljk3ODEyNl0sIFsxMTYuMzMwMjA0LCAzOS45OTE2Nl0sIFsxMTYuMzI3Njk4LCA0MC4wMDA1MDhdLCBbMTE2LjMyNDMxMiwgNDAuMDA0MjQ5XSwgWzExNi4zMjE5NTUsIDQwLjAxMDczOF0sIFsxMTYuMzI0MTE4LCA0MC4wMDc2NTZdLCBbMTE2LjMyNzQxNCwgNDAuMDAwMDE4XSwgWzExNi4zMjkwODcsIDQwLjAwMTQ1MV0sIFsxMTYuMzI3MDcsIDM5Ljk5OTg4M10sIFsxMTYuMzIyMzQ2LCA0MC4wMDQyNzldLCBbMTE2LjMyMjQ1LCA0MC4wMDQyNTZdLCBbMTE2LjMyNTI2OSwgNDAuMDEyNTg4XSwgWzExNi4zMjEzMjYsIDQwLjAxMTI5MV0sIFsxMTYuMzIwODAzLCA0MC4wMTIzNDZdLCBbMTE2LjMyMDg3OSwgNDAuMDEyMTM5XSwgWzExNi4zMjMxMzMsIDQwLjAxMTk3N10sIFsxMTYuMzIxMDI0LCA0MC4wMTE3MjhdLCBbMTE2LjMyMTA1MywgNDAuMDExMTk2XSwgWzExNi4zMjExMywgNDAuMDEyMl0sIFsxMTYuMzIwNDMzLCA0MC4wMDgzNDJdLCBbMTE2LjMyMDkxMywgNDAuMDEwNDg1XSwgWzExNi4zMTI0MjMsIDQwLjAwMDQyN10sIFsxMTYuMzA4ODY0LCAzOS45OTY3MThdLCBbMTE2LjMwOTI4MSwgMzkuOTkzMDA0XSwgWzExNi4zMTAwNjMsIDM5Ljk4NjI2OV0sIFsxMTYuMzEwMjA2LCAzOS45ODMwNTVdLCBbMTE2LjMxMzQ5NCwgMzkuOTY5NDI5XSwgWzExNi4zMDMzNjgsIDM5Ljk1MDM4NV0sIFsxMTYuMzAzNjMxLCAzOS45NDU5MzldLCBbMTE2LjMwMDYzMywgMzkuOTIzMDMyXSwgWzExNi4yOTQzMzYsIDM5LjkyMjgxN10sIFsxMTYuMzE5OTY3LCAzOS45MzA3MDhdLCBbMTE2LjM0ODAzMiwgMzkuOTMxMTQ3XSwgWzExNi4zNDg5MzMsIDM5Ljk1NTM3Nl0sIFsxMTYuMzQ3NjE1LCAzOS45ODE3MTFdLCBbMTE2LjMzMTM0NywgMzkuOTkxNjIyXSwgWzExNi4zMDkzMjEsIDM5Ljk5NjA0MV0sIFsxMTYuMzEyNjUzLCAzOS45OTg5MzRdLCBbMTE2LjMyMDUxNCwgNDAuMDA5Mjg4XSwgWzExNi4zMTk3NTMsIDQwLjAwOTI3Nl0sIFsxMTYuMzIwMDY4LCA0MC4wMDk3MTddLCBbMTE2LjMyMTE1NCwgNDAuMDExNDU0XSwgWzExNi4zMjEwODcsIDQwLjAxMTYxM10sIFsxMTYuMzIxMTA5LCA0MC4wMTE5NjldLCBbMTE2LjMyMTA3MSwgNDAuMDExNTk5XSwgWzExNi4zMjEwNzUsIDQwLjAxMTUwNV0sIFsxMTYuMzIxMzE1LCA0MC4wMTE0MTVdLCBbMTE2LjMyMTIwOSwgNDAuMDExNzA4XSwgWzExNi4zMjEzOCwgNDAuMDExMDYzXSwgWzExNi4zMjEzMjcsIDQwLjAxMjA0Nl0sIFsxMTYuMzIxMjI1LCA0MC4wMTE0MzJdLCBbMTE2LjMyMTM0NywgNDAuMDEwOTkyXSwgWzExNi4zMjE3NDcsIDQwLjAxMTEwMV0sIFsxMTYuMzE4ODczLCA0MC4wMTIwMjRdLCBbMTE2LjMyMTYwMiwgNDAuMDExNjAxXSwgWzExNi4zMjExNDMsIDQwLjAxMTcwOF0sIFsxMTYuMzIxMTIzLCA0MC4wMTE0NjVdLCBbMTE2LjMyMTczOCwgNDAuMDExMzZdLCBbMTE2LjMyMjg2NSwgNDAuMDA5NDY5XSwgWzExNi4zMjY0OTYsIDM5Ljk5NTUzXSwgWzExNi4zMjY2MjQsIDM5Ljk4OTI4Ml0sIFsxMTYuMzMwNzM2LCAzOS45NzQ4NjldLCBbMTE2LjMzNzc3LCAzOS45NzcxNTRdLCBbMTE2LjMzNjcyNSwgMzkuOTc2NTY2XSwgWzExNi4zMzY3OTMsIDM5Ljk3NjkyM10sIFsxMTYuMzM4MTM1LCAzOS45NzYyODJdLCBbMTE2LjMzNzQ4NiwgMzkuOTc2NTQzXSwgWzExNi4zMzcxLCAzOS45NzY1NzFdLCBbMTE2LjMzNDk1OSwgMzkuOTc5MDkyXSwgWzExNi4zMzQzOCwgMzkuOTkwNDE3XSwgWzExNi4zMjY2MzMsIDM5Ljk5ODk1NV0sIFsxMTYuMzIxODgyLCA0MC4wMTA3NjNdLCBbMTE2LjMyNDM0NiwgNDAuMDA0MTg3XSwgWzExNi4zMjE3LCA0MC4wMTIxMDddLCBbMTE2LjMyMjM4OSwgNDAuMDEwNjA4XSwgWzExNi4zMjE3ODksIDQwLjAxMDc1Ml0sIFsxMTYuMzIxNzY3LCA0MC4wMTQ3MDhdLCBbMTE2LjMyMTQxOSwgNDAuMDEzNF0sIFsxMTYuMzIxMjQsIDQwLjAxMzA4M10sIFsxMTYuMzIwOTQsIDQwLjAxMjE4XSwgWzExNi4zMjA5ODIsIDQwLjAxMjU1NV0sIFsxMTYuMzIwODk4LCA0MC4wMTIyNzNdLCBbMTE2LjMyMTAwMywgNDAuMDEyNzQ3XSwgWzExNi4zMjEwMTEsIDQwLjAxMzYxMl0sIFsxMTYuMzIxMjI4LCA0MC4wMTMyNzZdLCBbMTE2LjMyMDg0MywgNDAuMDEyMzEzXSwgWzExNi4zMjExNDMsIDQwLjAxMTczM10sIFsxMTYuMzIwOTA4LCA0MC4wMTE3MTNdLCBbMTE2LjMyMDg2NSwgNDAuMDExOTMxXSwgWzExNi4zMjA4MDQsIDQwLjAxMDc4XSwgWzExNi4zMjEyMjgsIDQwLjAxMTQzNl0sIFsxMTYuMzIxMDcsIDQwLjAxMTA3Nl0sIFsxMTYuMzIyNDg1LCA0MC4wMTAwMzJdLCBbMTE2LjMyODA5OSwgNDAuMDAwMjIyXSwgWzExNi4zMjY5NjUsIDQwLjAwMDZdLCBbMTE2LjMyNjY5MSwgNDAuMDAwNDk5XSwgWzExNi4zMjY1NTUsIDQwLjAwMDIwNl0sIFsxMTYuMzI2OTk1LCA0MC4wMDAzMjhdLCBbMTE2LjMyNzAzOSwgNDAuMDAwNzA5XSwgWzExNi4zMjY4MjQsIDQwLjAwMDQ1NF0sIFsxMTYuMzI3MDMyLCA0MC4wMDA1MzhdLCBbMTE2LjMyNzE1NSwgNDAuMDAwNjZdLCBbMTE2LjMyNzIwNywgNDAuMDAwNjFdLCBbMTE2LjMyNzAwNCwgMzkuOTk5NTkyXSwgWzExNi4zMjIwMTEsIDQwLjAwNDMzMV0sIFsxMTYuMzIyNDE4LCA0MC4wMDM5NDRdLCBbMTE2LjMyNzA1MywgNDAuMDAwNTA4XSwgWzExNi4zMjY4MTEsIDQwLjAwMDYwOV0sIFsxMTYuMzI2OTMsIDQwLjAwMDUwN10sIFsxMTYuMzMwMTE1LCA0MC4wMDcxMDRdLCBbMTE2LjMzMTIwNywgMzkuOTkzOTUzXSwgWzExNi4zMzQ1MSwgMzkuOTgyNzg4XSwgWzExNi4zMzc4MTYsIDM5Ljk3NzE2OF0sIFsxMTYuMzM0ODI4LCAzOS45Nzk5OV0sIFsxMTYuMzI2ODQyLCAzOS45OTM3MTNdLCBbMTE2LjMyNDk0OCwgMzkuOTk5OTQ5XSwgWzExNi4zMjE3OTksIDQwLjAxMDcxNV0sIFsxMTYuMzI2NzI1LCAzOS45OTcxMjVdLCBbMTE2LjMyNDQxOCwgNDAuMDA0MjIzXSwgWzExNi4zMjU3OTgsIDM5Ljk5ODQxNF0sIFsxMTYuMzIyMDQyLCA0MC4wMTA1MzRdLCBbMTE2LjMyMjYyMywgNDAuMDEwNzk1XSwgWzExNi4zMjI2MywgNDAuMDEwODY5XSwgWzExNi4zMjMyMjUsIDQwLjAxMDc0Ml0sIFsxMTYuMzI3MTQzLCAzOS45ODU0MDFdLCBbMTE2LjMzMDEwNSwgMzkuOTc1MDcyXSwgWzExNi4zMzg1OTUsIDM5Ljk3NzE0NF0sIFsxMTYuMzM2ODIxLCAzOS45NzY0NjRdLCBbMTE2LjMzNjkxOCwgMzkuOTc2NDI5XSwgWzExNi4zMzQyNzEsIDM5Ljk5MDk5M10sIFsxMTYuMzI3NjYxLCA0MC4wMDAzNDJdLCBbMTE2LjMyMTUyOCwgNDAuMDEwODA5XSwgWzExNi4zMjkwOTYsIDM5Ljk5MTI4NV0sIFsxMTYuMzI0NDQzLCA0MC4wMDYzN10sIFsxMTYuMzI0NjE0LCA0MC4wMDExNzJdLCBbMTE2LjMzNDM0MiwgMzkuOTg4OTU0XSwgWzExNi4zMzY3ODYsIDM5Ljk3NjU4NF0sIFsxMTYuMzM0NTMyLCAzOS45ODM4NTJdLCBbMTE2LjMyNjk0LCAzOS45OTUxNDZdLCBbMTE2LjMyMTk2MSwgNDAuMDA2NDU5XSwgWzExNi4zMjczMzIsIDM5Ljk5OTgyNV0sIFsxMTYuMzI2OTkxLCAzOS45OTIyNjldLCBbMTE2LjMyNjg4NCwgMzkuOTk5ODAyXSwgWzExNi4zMjE3NCwgNDAuMDEwOTVdLCBbMTE2LjMyMDk4OSwgNDAuMDEzNTExXSwgWzExNi4zMjEwODEsIDQwLjAxMTMxNl0sIFsxMTYuMzIwOTksIDQwLjAxMjAzOF0sIFsxMTYuMzIxMTI0LCA0MC4wMTE3MTVdLCBbMTE2LjMyMTE3LCA0MC4wMTE2NjFdLCBbMTE2LjMyMTIyMSwgNDAuMDExMzY4XSwgWzExNi4zMjExMDEsIDQwLjAxMTk3NV0sIFsxMTYuMzIxNTIsIDQwLjAxMjAxN10sIFsxMTYuMzIxMTQ3LCA0MC4wMTE0OTZdLCBbMTE2LjMyMjExMSwgNDAuMDAzNzgzXSwgWzExNi4zMjQ1OTQsIDQwLjAwMTgzOV0sIFsxMTYuMzIwNTY5LCA0MC4wMDkyMDNdLCBbMTE2LjMyNDE4NCwgNDAuMDA2OTkxXSwgWzExNi4zMjIxNjksIDQwLjAwNDIxNV0sIFsxMTYuMzI0NjUyLCAzOS45OTk5NjRdLCBbMTE2LjMyMjE0NCwgNDAuMDAzNTY4XSwgWzExNi4zMjE4ODQsIDQwLjAwMzY5Nl0sIFsxMTYuMzIxNzc2LCA0MC4wMDkzMzRdLCBbMTE2LjMyMTAyLCA0MC4wMTE2OTVdLCBbMTE2LjMyMTIzNCwgNDAuMDExNjMyXSwgWzExNi4zMjEyMzUsIDQwLjAxMTU5N10sIFsxMTYuMzIwOTgxLCA0MC4wMTE0OTddLCBbMTE2LjMyMTE3MSwgNDAuMDExNTU4XSwgWzExNi4zMjEwOTEsIDQwLjAxMTEyOV0sIFsxMTYuMzIxMTc3LCA0MC4wMTIxNjhdLCBbMTE2LjMyNTY4OSwgMzkuOTk5OTExXSwgWzExNi4zMjc0MjIsIDM5Ljk5OTg5N10sIFsxMTYuMzI2ODE5LCA0MC4wMDAyOTddLCBbMTE2LjMyNjgzNCwgMzkuOTkzNDMxXSwgWzExNi4zMzUxOTMsIDM5Ljk3NzQzN10sIFsxMTYuMzQ4NjQ4LCAzOS45NjY3OTddLCBbMTE2LjM2MDEzNCwgMzkuOTYxNTUzXSwgWzExNi4zNjE0MTYsIDM5Ljk2MTEwOV0sIFsxMTYuMzU3OTE2LCAzOS45NTc2MDVdLCBbMTE2LjM1NjU0OSwgMzkuOTU3OTA5XSwgWzExNi4zNTU3MzQsIDM5Ljk1ODE5M10sIFsxMTYuMzU0NzM3LCAzOS45NjIwMjNdLCBbMTE2LjM0OTQwMSwgMzkuOTYzOTE4XSwgWzExNi4zNDUxNzMsIDM5Ljk3NTQyNF0sIFsxMTYuMzQwMTAxLCAzOS45Nzc5NzNdLCBbMTE2LjMzODc4OCwgMzkuOTc5ODA5XSwgWzExNi4zNDA2MDgsIDM5Ljk3Nzk4Nl0sIFsxMTYuMzM5MDgyLCAzOS45NzY4NTFdLCBbMTE2LjMzNzMyNCwgMzkuOTc1ODg5XSwgWzExNi4zMzY3MDIsIDM5Ljk3NjM0Ml0sIFsxMTYuMzM0ODk2LCAzOS45Nzk0ODRdLCBbMTE2LjMyODUxMiwgMzkuOTkxNjU2XSwgWzExNi4zMjMzMzIsIDQwLjAwMzQzMV0sIFsxMTYuMzI3NDM0LCAzOS45OTk5NzRdLCBbMTE2LjMyMjI0NywgNDAuMDA5ODMxXSwgWzExNi4zMTcwNjYsIDQwLjAwNTU3XSwgWzExNi4zMTYwOTEsIDQwLjAwNTQ1OV0sIFsxMTYuMzI1NjAyLCAzOS45OTk2OTVdLCBbMTE2LjMyMjA5NywgNDAuMDEwMzddLCBbMTE2LjMxNjA4NCwgMzkuOTk5MThdLCBbMTE2LjMwOTE1NCwgMzkuOTk2NzUxXSwgWzExNi4zMTAxOSwgMzkuOTg0ODQ0XSwgWzExNi4zMTM4ODIsIDM5Ljk2ODQzXSwgWzExNi4zMDMzNzEsIDM5Ljk0NjcyXSwgWzExNi4zMDM4MTEsIDM5LjkzNTk0Nl0sIFsxMTYuMjkzODc4LCAzOS45MjI4MzZdLCBbMTE2LjMwNDgwNywgMzkuOTIyNjA0XSwgWzExNi4zMjA3MTUsIDM5LjkzMTI1MV0sIFsxMTYuMzQ2ODg4LCAzOS45MzEwNDRdLCBbMTE2LjM0ODgwNCwgMzkuOTYwNzk5XSwgWzExNi4zNDc0NTQsIDM5Ljk4NjQ4M10sIFsxMTYuMzEwODg2LCAzOS45OTA5MzJdLCBbMTE2LjMxMDEwMywgMzkuOTk5MDk1XSwgWzExNi4zMTg2MzIsIDQwLjAwNDkzNl0sIFsxMTYuMzIxNDg0LCA0MC4wMTA5MDJdLCBbMTE2LjMyNTg2MiwgMzkuOTk3OTE4XSwgWzExNi4zMzE5MTksIDM5Ljk5MDM5Nl0sIFsxMTYuMzMzMDI3LCAzOS45OTEzMTZdLCBbMTE2LjMzNDU0LCAzOS45ODIxMzNdLCBbMTE2LjMzODEyOCwgMzkuOTc3MjQ1XSwgWzExNi4zMzUxODYsIDM5Ljk3NzcwNl0sIFsxMTYuMzMxMTEyLCAzOS45OTE2NzRdLCBbMTE2LjMyNzM3NSwgNDAuMDAwMTg1XSwgWzExNi4zMjc0MzEsIDQwLjAwMDQ2OF0sIFsxMTYuMzI2NzQzLCA0MC4wMDA1NjldLCBbMTE2LjMyNjgyMywgNDAuMDAwNThdLCBbMTE2LjMyNDk0NCwgNDAuMDA0MzEyXSwgWzExNi4zMjcwMjcsIDQwLjAwMDU0Nl0sIFsxMTYuMzI3MTc3LCA0MC4wMDAwMzldLCBbMTE2LjMyMTc4NywgNDAuMDEwMjE1XSwgWzExNi4zMjY4MzksIDM5Ljk5MTcwMV0sIFsxMTYuMzM3NjY1LCAzOS45ODM4NDFdLCBbMTE2LjM0MjA1MywgMzkuOTc3NzJdLCBbMTE2LjM0MjI2NywgMzkuOTc4ODg3XSwgWzExNi4zNDIzMzcsIDM5Ljk3ODMwOV0sIFsxMTYuMzQwMDE2LCAzOS45Nzc5NTddLCBbMTE2LjMzNzI1MSwgMzkuOTc2NjgyXSwgWzExNi4zMzc5ODEsIDM5Ljk3NjY0Nl0sIFsxMTYuMzM0MSwgMzkuOTkwNDgzXSwgWzExNi4zMjczNywgMzkuOTk5ODk4XSwgWzExNi4zMjM3ODUsIDQwLjAwOTUyOF0sIFsxMTYuMzIwODM4LCA0MC4wMTA5NjFdLCBbMTE2LjMyMTAwNCwgNDAuMDExMzgyXSwgWzExNi4zMTk5MywgNDAuMDExMjA3XSwgWzExNi4zMjExNSwgNDAuMDExNDM5XSwgWzExNi4zMTg3NTgsIDQwLjAxMjEwMV0sIFsxMTYuMzIxMTQ1LCA0MC4wMTE0NTZdLCBbMTE2LjMyMDgyNCwgNDAuMDExNjAyXSwgWzExNi4zMjA5MjMsIDQwLjAxMDY1NV0sIFsxMTYuMzIxMzMyLCA0MC4wMTIxMjhdLCBbMTE2LjMyMTIxNiwgNDAuMDExNTY4XSwgWzExNi4zMjA5MiwgNDAuMDEwOTM1XSwgWzExNi4zMjExLCA0MC4wMTEzMDRdLCBbMTE2LjMyNDY5LCA0MC4wMDA3MjhdLCBbMTE2LjMyMjIwMywgNDAuMDA5OTI3XSwgWzExNi4zMjQ3NzgsIDM5Ljk5OTc1OF0sIFsxMTYuMzI4MzMzLCAzOS45OTIxMzddLCBbMTE2LjMyNjgxNiwgMzkuOTk5MjQ3XSwgWzExNi4zMjczMDksIDM5Ljk5MjUwN10sIFsxMTYuMzI3MzIxLCA0MC4wMDAxMzVdLCBbMTE2LjMyMTcwNSwgNDAuMDEwNTkyXSwgWzExNi4zMjU1ODgsIDM5Ljk5OTk3XSwgWzExNi4zMjM5ODksIDQwLjAwOTUzOF0sIFsxMTYuMzI0NDU3LCA0MC4wMDE3NjddLCBbMTE2LjMyNzEzNCwgMzkuOTk5ODIxXSwgWzExNi4zMjQyODksIDQwLjAwNzE0OF0sIFsxMTYuMzIxNjEzLCA0MC4wMTA2ODJdLCBbMTE2LjMyNDQwNywgNDAuMDAzMTI2XSwgWzExNi4zMjY0MiwgMzkuOTkyMDI2XSwgWzExNi4zMjYxMTksIDM5Ljk3OTQwNF0sIFsxMTYuMzM3MTQ5LCAzOS45NzQ5OTJdLCBbMTE2LjMzODMxMiwgMzkuOTc3Mjc0XSwgWzExNi4zMzQ5NTQsIDM5Ljk3ODcyOV0sIFsxMTYuMzMwNDIsIDM5Ljk5MTYyNV0sIFsxMTYuMzI0NDc4LCA0MC4wMDE3MTVdLCBbMTE2LjMyMTYwNSwgNDAuMDExNjJdLCBbMTE2LjMyNzE4MywgNDAuMDAwMzEzXSwgWzExNi4zMjY4MDksIDQwLjAwMTEyNV0sIFsxMTYuMzI2NTAxLCAzOS45OTI0MjZdLCBbMTE2LjMzNDgwNSwgMzkuOTc5OF0sIFsxMTYuMzQ2ODA5LCAzOS45Njg5MDFdLCBbMTE2LjM1NjU5OSwgMzkuOTU2NjQ3XSwgWzExNi4zNTgxMjQsIDM5Ljk1ODI1NF0sIFsxMTYuMzU4MDAyLCAzOS45NTgxNjFdLCBbMTE2LjM2MTMwMiwgMzkuOTU4MzY2XSwgWzExNi4zNjEzMjcsIDM5Ljk1OTM3MV0sIFsxMTYuMzYxNTgzLCAzOS45NTkyNjZdLCBbMTE2LjM2MTM0MiwgMzkuOTU5MzU3XSwgWzExNi4zNjE0NzIsIDM5Ljk1OTIzMl0sIFsxMTYuMzYxNTgyLCAzOS45NTkzOV0sIFsxMTYuMzYxNzA1LCAzOS45NTk0NzddLCBbMTE2LjM2MTc3OSwgMzkuOTYwMDE3XSwgWzExNi4zNjE5MTgsIDM5Ljk1OTQ5N10sIFsxMTYuMzYxNjQ2LCAzOS45NTkxMjFdLCBbMTE2LjM2MTUzNiwgMzkuOTU5MDY3XSwgWzExNi4zNjE0ODYsIDM5Ljk1ODk4Ml0sIFsxMTYuMzYxNDcsIDM5Ljk1OTA5Nl0sIFsxMTYuMzYxNDgyLCAzOS45NTk1MDJdLCBbMTE2LjM0MTgxNSwgMzkuOTc1MjU5XSwgWzExNi4zMzk0MjcsIDM5Ljk3NTg2OV0sIFsxMTYuMzM3Mzc4LCAzOS45NzY1MThdLCBbMTE2LjMzNzA5NywgMzkuOTc2NjVdLCBbMTE2LjMzNDUyOCwgMzkuOTgxNjA0XSwgWzExNi4zMjY4ODcsIDM5Ljk5NDUyMl0sIFsxMTYuMzI0ODAxLCA0MC4wMDAxOThdLCBbMTE2LjMyNzAwNSwgMzkuOTk0MTM4XSwgWzExNi4zMjcxOTQsIDM5Ljk5OTc1XSwgWzExNi4zMjEzMDQsIDQwLjAwODMyOF0sIFsxMTYuMzIyMTQ5LCA0MC4wMTEwMDJdLCBbMTE2LjMyNDIzMSwgNDAuMDAzNTk2XSwgWzExNi4zMjcxOCwgMzkuOTk0MTE0XSwgWzExNi4zMTQzNTQsIDM5Ljk5MTg1OV0sIFsxMTYuMzAzMzg0LCAzOS45ODgxMDJdLCBbMTE2LjMwMDMwNCwgMzkuOTgzMjQ3XSwgWzExNi4yOTc1MjYsIDM5Ljk4NjU3NF0sIFsxMTYuMzAwMDAyLCAzOS45ODE4MjldLCBbMTE2LjI5OTQ2NiwgMzkuOTgzMDI2XSwgWzExNi4zMDc1NzcsIDM5Ljk4Mzc5Ml0sIFsxMTYuMzIzOTQ0LCAzOS45ODQzMTRdLCBbMTE2LjMzNzg4MiwgMzkuOTg0MjhdLCBbMTE2LjM0MTQxNSwgMzkuOTc5OTUzXSwgWzExNi4zMzgzNzIsIDM5Ljk3NzIzNV0sIFsxMTYuMzM2MjM2LCAzOS45NzY2MTNdLCBbMTE2LjMzNDUwOSwgMzkuOTg0Mjc5XSwgWzExNi4zMjY3ODEsIDM5Ljk5Mzk5M10sIFsxMTYuMzI2ODkyLCA0MC4wMDAzMjRdLCBbMTE2LjMyNjk4OCwgNDAuMDAwNzUyXSwgWzExNi4zMjY4MSwgNDAuMDAwMzMxXSwgWzExNi4zMjY4ODEsIDQwLjAwMDc1Ml0sIFsxMTYuMzI2OTM1LCA0MC4wMDAzODhdLCBbMTE2LjMyNjk5NiwgNDAuMDAwNTA5XSwgWzExNi4zMjc2MjcsIDQwLjAwMDU4Ml0sIFsxMTYuMzI3NDM5LCA0MC4wMDA0OThdLCBbMTE2LjMyNjc5MiwgNDAuMDAwNTUzXSwgWzExNi4zMjcyNTUsIDQwLjAwMDY3OV0sIFsxMTYuMzI3MDUyLCA0MC4wMDA0NDNdLCBbMTE2LjMyNzI0MSwgNDAuMDAwNjg0XSwgWzExNi4zMjM4MzEsIDM5Ljk5OTUxXSwgWzExNi4zMjY5MDEsIDQwLjAwMDY2NF0sIFsxMTYuMzI3MTI1LCA0MC4wMDA4MzddLCBbMTE2LjMyNzEzNywgNDAuMDAxMTM5XSwgWzExNi4zMjgyNDYsIDQwLjAwMDkyNV0sIFsxMTYuMzI2ODA0LCA0MC4wMDA1MTddLCBbMTE2LjMyNjg5MSwgNDAuMDAwNjUzXSwgWzExNi4zMjc1MTQsIDQwLjAwMDcxMl0sIFsxMTYuMzI2NjkyLCA0MC4wMDA1Ml0sIFsxMTYuMzI2NTA1LCA0MC4wMDA0MzldLCBbMTE2LjMyNjkwNCwgNDAuMDAwNDc4XSwgWzExNi4zMjcwMzMsIDQwLjAwMDU1N10sIFsxMTYuMzI3MTQ5LCA0MC4wMDA1MzNdLCBbMTE2LjMyNjgwMiwgNDAuMDAwNjUyXSwgWzExNi4zMjE2ODQsIDQwLjAxMDY0NF0sIFsxMTYuMzIxMSwgNDAuMDExODFdLCBbMTE2LjMyMTAwNCwgNDAuMDExMzA4XSwgWzExNi4zMjA5OTIsIDQwLjAxMTM0OV0sIFsxMTYuMzIxMDk3LCA0MC4wMTEwMDFdLCBbMTE2LjMyMTE3MywgNDAuMDExMzU0XSwgWzExNi4zMjExNjYsIDQwLjAxMTYwOF0sIFsxMTYuMzIxMjIyLCA0MC4wMTE2NDRdLCBbMTE2LjMyMTExNiwgNDAuMDExMzA3XSwgWzExNi4zMjExMDksIDQwLjAxMTQ5Ml0sIFsxMTYuMzIxMzU5LCA0MC4wMTIwOTddLCBbMTE2LjMyMTExMSwgNDAuMDExMzE2XSwgWzExNi4zMjEwNzUsIDQwLjAxMTEzOF0sIFsxMTYuMzIwODksIDQwLjAxMTQ5NV0sIFsxMTYuMzIxMjMxLCA0MC4wMTE0MDNdLCBbMTE2LjMyMTEwMSwgNDAuMDEwNzczXSwgWzExNi4zMjA5NzUsIDQwLjAxMTI1XSwgWzExNi4zMjEyNCwgNDAuMDExMzczXSwgWzExNi4zMjQyNjEsIDQwLjAwNDgzXSwgWzExNi4zMjQ4ODgsIDM5Ljk5OTk1Ml0sIFsxMTYuMzA5ODQ2LCAzOS45OTkwMDFdLCBbMTE2LjMwOTg4NCwgMzkuOTg2NDAyXSwgWzExNi4zMTIyNTIsIDM5Ljk3MjQ4MV0sIFsxMTYuMzE4Mzg0LCAzOS45NDY3M10sIFsxMTYuMzE3MTMsIDM5Ljk1NTE5Nl0sIFsxMTYuMzExMzI0LCAzOS45NzUzMTNdLCBbMTE2LjMxMDMwMiwgMzkuOTg0MTQ4XSwgWzExNi4zMDkxOTUsIDM5Ljk5NzU4XSwgWzExNi4zMTcyNjksIDM5Ljk5OTEzOF0sIFsxMTYuMzI1MjIzLCA0MC4wMDEyODZdLCBbMTE2LjMyMjY4LCA0MC4wMTA4NThdLCBbMTE2LjMyMTIwNCwgNDAuMDExNzk0XSwgWzExNi4zMjcxMTQsIDM5Ljk5OTgxOV0sIFsxMTYuMzI3MDExLCA0MC4wMDA0OTNdLCBbMTE2LjMyNzQ3NCwgNDAuMDAwNjc2XSwgWzExNi4zMjcwNzEsIDQwLjAwMDY1Nl0sIFsxMTYuMzI3MTA2LCA0MC4wMDA2M10sIFsxMTYuMzI2NzAxLCA0MC4wMDA1MzVdLCBbMTE2LjMyNjY0NSwgNDAuMDAxMDcyXSwgWzExNi4zMjM4MjQsIDQwLjAwMzldLCBbMTE2LjMyMjM0NywgNDAuMDA5NjM4XSwgWzExNi4zMjU5OTEsIDM5Ljk5ODk0MV0sIFsxMTYuMzI1NjY3LCAzOS45OTM3MDRdLCBbMTE2LjMzMzE1OCwgNDAuMDA0Nzc2XSwgWzExNi4zMjg4MTgsIDQwLjAwMDIzM10sIFsxMTYuMzI3NDUxLCAzOS45OTk4MzNdLCBbMTE2LjMzMTcwMywgMzkuOTkxNDY1XSwgWzExNi4zMzc5NjMsIDM5Ljk3NTI0Ml0sIFsxMTYuMzQ2OTEzLCAzOS45NjQwMTddLCBbMTE2LjM2MDMzMSwgMzkuOTU2NTcyXSwgWzExNi4zNTk4OTksIDM5Ljk2MzY1NF0sIFsxMTYuMzYwMDM5LCAzOS45NjM3MzddLCBbMTE2LjM1OTg0NSwgMzkuOTYzNjYzXSwgWzExNi4zNTk4NzYsIDM5Ljk2MTQyMl0sIFsxMTYuMzY0NjU4LCAzOS45NTU3NTldLCBbMTE2LjM2MDg3OCwgMzkuOTU3MzU0XSwgWzExNi4zNTY0NTUsIDM5Ljk1OTg1XSwgWzExNi4zNTA2NiwgMzkuOTY0MDI0XSwgWzExNi4zNDgyODMsIDM5Ljk3MjEyMl0sIFsxMTYuMzQxMTQ2LCAzOS45NzU2NzhdLCBbMTE2LjMzNzU2OCwgMzkuOTc2OTg2XSwgWzExNi4zMzc0NzMsIDM5Ljk3NjgzM10sIFsxMTYuMzMyMDQxLCAzOS45OTIwNTZdLCBbMTE2LjMyNzUwNywgMzkuOTk5OTE5XSwgWzExMy41NDkyMjIsIDIyLjIxODg3MV0sIFsxMTMuNTQ5MzQ3LCAyMi4yMTczOTNdLCBbMTEzLjU0OTQyMywgMjIuMjE2MDY2XSwgWzExMy41NDkxOCwgMjIuMjE0Nzk0XSwgWzExMy41NTQ5NTUsIDIyLjE2MjQxXSwgWzExMy41NTM1NzUsIDIyLjE2MjMwM10sIFsxMTMuNTUzNTcsIDIyLjE2MjUxM10sIFsxMTMuNTUzNTAzLCAyMi4xNjIzMzldLCBbMTEzLjU1MzY5OCwgMjIuMTYyMjMzXSwgWzExMy41NTQ4MDgsIDIyLjE2MjQ3XSwgWzExMy41NTk4NjQsIDIyLjE1MDA5OV0sIFsxMTMuNTYzNjI2LCAyMi4xNDg1NzVdLCBbMTEzLjU1ODkxNCwgMjIuMTQ5NzM2XSwgWzExMy41NTQxNjUsIDIyLjE1MTMyMV0sIFsxMTMuNTUxNDU0LCAyMi4xNTM3MDVdLCBbMTEzLjU1NDUyLCAyMi4xNTc3ODddLCBbMTEzLjU1MzczLCAyMi4xNjAxOV0sIFsxMTMuNTUyODgzLCAyMi4xNjI1M10sIFsxMTMuNTUzMTQsIDIyLjE2MjM3OF0sIFsxMTMuNTUzMTU2LCAyMi4xNjIzM10sIFsxMTMuNTUyOTcsIDIyLjE2MjM4XSwgWzExMy41NTMwNDQsIDIyLjE2MjI4N10sIFsxMTMuNTUzMDM0LCAyMi4xNjIyNThdLCBbMTEzLjU1MzIzNiwgMjIuMTYyMjI4XSwgWzExMy41NTI2NzYsIDIyLjE2MjMwMV0sIFsxMTMuNTUzMjQxLCAyMi4xNjIwMjVdLCBbMTEzLjU1MjgyNSwgMjIuMTYyMzU0XSwgWzExMy41NTMwMTgsIDIyLjE2MjQ1MV0sIFsxMTMuNTUyOTQ5LCAyMi4xNjIzNTVdLCBbMTEzLjU1Mjk0OCwgMjIuMTYyMzA3XSwgWzExMy41NTI5OTUsIDIyLjE2MjQ1N10sIFsxMTMuNTUyOTI5LCAyMi4xNjI0NzFdLCBbMTEzLjU1MzA0LCAyMi4xNjIyOTddLCBbMTEzLjU1MzA1MiwgMjIuMTYyMzcyXSwgWzExMy41NTMzMiwgMjIuMTYyMDI5XSwgWzExMy41NTMyMzIsIDIyLjE2MjI4N10sIFsxMTMuNTUzMTc4LCAyMi4xNjIxMjFdLCBbMTEzLjU1Mjk0NCwgMjIuMTYyMzc4XSwgWzExMy41NTMxODYsIDIyLjE2Mjk4Nl0sIFsxMTMuNTUyOTYxLCAyMi4xNjIzMzFdLCBbMTEzLjU1MjcxNywgMjIuMTYyMzczXSwgWzExMy41NTMxMjUsIDIyLjE2MjIwOV0sIFsxMTMuNTUzMDQ2LCAyMi4xNjIzNDJdLCBbMTEzLjU1MjgyNywgMjIuMTYyNTU1XSwgWzExMy41NTMyOCwgMjIuMTYyMjQ4XSwgWzExMy41NTMxNjIsIDIyLjE2MjI4OV0sIFsxMTMuNTUzMDAzLCAyMi4xNjI0MzldLCBbMTEzLjU1MzM4OCwgMjIuMTYyMzcyXSwgWzExMy41NTI4NTUsIDIyLjE2MjMwNV0sIFsxMTMuNTUzMTUxLCAyMi4xNjI0MjZdLCBbMTE2LjMyMTk0NCwgNDAuMDA2MTM1XSwgWzExNi4zMjE5OTcsIDQwLjAwNzAzMV0sIFsxMTYuMzI0NTkzLCA0MC4wMDA1NjhdLCBbMTE2LjMyNDA1MSwgNDAuMDA2ODEyXSwgWzExNi4zMjY3OTgsIDQwLjAwMDMzNl0sIFsxMTYuMzEyNjgyLCAzOS45ODQ1NzJdLCBbMTE2LjI2OTE0OCwgMzkuOTI1Nzk2XSwgWzExNi4yNzg2OTgsIDM5Ljg0MTY0OV0sIFsxMTYuMjgwNTAyLCAzOS44MzQ5MDhdLCBbMTE2LjI2OTkzNiwgMzkuODgwMDM2XSwgWzExNi4yNjkxMTYsIDM5LjkyODg1N10sIFsxMTYuMjkzNzU5LCAzOS45ODM1ODNdLCBbMTE2LjMwMzUwMywgMzkuOTgzODUzXSwgWzExNi4zMTMwMDcsIDM5Ljk4Mzk5M10sIFsxMTYuMzI3NTE0LCAzOS45OTYzMjddLCBbMTE2LjMyNDMyNiwgNDAuMDA2MjMzXSwgWzExNi4zMjQ3MjYsIDM5Ljk5OTg2M10sIFsxMTYuMzMzOTYzLCAzOS45OTAwOTNdLCBbMTE2LjMzMjIwNiwgMzkuOTkxODYzXSwgWzExNi4zMjczMjIsIDQwLjAwMDcwMl0sIFsxMTYuMzI2NjI1LCAzOS45OTU1NTJdLCBbMTE2LjMyOTA3MywgMzkuOTk2MDA4XSwgWzExNi4zMjkwNDEsIDM5Ljk5NTk1M10sIFsxMTYuMzI4MTg5LCAzOS45OTU0NjZdLCBbMTE2LjMzMTg5NSwgMzkuOTkyMDQ3XSwgWzExNi4zMjY0MiwgMzkuOTkyODVdLCBbMTE2LjMyNjc3NCwgMzkuOTk3NTQ2XSwgWzExNi4zMjY1NTQsIDQwLjAwNDQ4N10sIFsxMTYuMzI3MDE2LCA0MC4wMDAzNDNdLCBbMTE2LjMyNzAxMywgNDAuMDAwNzQyXSwgWzExNi4zMjY2NzYsIDQwLjAwMDE1M10sIFsxMTYuMzI3MDI4LCA0MC4wMDA3OTNdLCBbMTE2LjMyNjg1MywgNDAuMDAwNTY2XSwgWzExNi4zMjY5MDIsIDQwLjAwMDU0Nl0sIFsxMTYuMzI3MDI4LCA0MC4wMDA5MjldLCBbMTE2LjMyNjY4NSwgNDAuMDAwMzcxXSwgWzExNi4zMjY3NywgNDAuMDAwNDAyXSwgWzExNi4zMjcwMDYsIDQwLjAwMDg4NF0sIFsxMTYuMzI2NTY0LCAzOS45OTk0NTVdLCBbMTE2LjMyNjkyNywgNDAuMDAwNzM3XSwgWzExNi4zMjY3MzQsIDQwLjAwMDU4Ml0sIFsxMTYuMzI2NjA1LCAzOS45OTk3NjFdLCBbMTE2LjMyNjczMywgMzkuOTk1Mjk3XSwgWzExNi4zMjY3MjEsIDM5Ljk5ODI4Ml0sIFsxMTYuMzI3MDY3LCA0MC4wMDA1NTldLCBbMTE2LjMyNzA3NCwgNDAuMDAwNzA2XSwgWzExNi4zMjczNDIsIDM5Ljk5OTk2MV0sIFsxMTYuMzI2OTQ0LCA0MC4wMDA0MzVdLCBbMTE2LjMyNzA0OCwgNDAuMDAwNzY0XSwgWzExNi4zMjY4OTYsIDQwLjAwMDU2NV0sIFsxMTYuMzI2NzkzLCA0MC4wMDA0MjFdLCBbMTE2LjMyNDMzOSwgNDAuMDAyMTY4XSwgWzExNi4zMjM5OTQsIDQwLjAwOTM3Nl0sIFsxMTYuMzE5ODg4LCA0MC4wMTE0NzNdLCBbMTE2LjMyMTE1NywgNDAuMDExNDddLCBbMTE2LjMyMTE3NywgNDAuMDExNzMzXSwgWzExNi4zMjE1LCA0MC4wMTE0MV0sIFsxMTYuMzIxMjUsIDQwLjAxMTQxN10sIFsxMTYuMzIxMDksIDQwLjAxMTQ0N10sIFsxMTYuMzIxMTIxLCA0MC4wMTIxNjZdLCBbMTE2LjMyMTA0MywgNDAuMDExNTA4XSwgWzExNi4zMjEwMzQsIDQwLjAxMTUxOF0sIFsxMTYuMzIwNzUzLCA0MC4wMTA3NzhdLCBbMTE2LjMyMTA3NSwgNDAuMDExNDY4XSwgWzExNi4zMjEwOCwgNDAuMDExMDIzXSwgWzExNi4zMjEyMzQsIDQwLjAxMTQzNF0sIFsxMTYuMzIxMTQyLCA0MC4wMTE0XSwgWzExNi4zMjExMjMsIDQwLjAxMTQwNF0sIFsxMTYuMzIxMDgzLCA0MC4wMTE2NzhdLCBbMTE2LjMyMTQyOCwgNDAuMDExNjExXSwgWzExNi4zMjEwNjksIDQwLjAxMTM4MV0sIFsxMTYuMzIxMTA1LCA0MC4wMTE2MTNdLCBbMTE2LjMyMTA3NCwgNDAuMDExNjFdLCBbMTE2LjMyMTA4NiwgNDAuMDExNDM1XSwgWzExNi4zMjExOTMsIDQwLjAxMTI5OF0sIFsxMTYuMzIxMTc5LCA0MC4wMTEyOTNdLCBbMTE2LjMyMTE3MSwgNDAuMDExMzFdLCBbMTE2LjMyMTA4MiwgNDAuMDEzMzkyXSwgWzExNi4zMjExNDgsIDQwLjAxMDg5MV0sIFsxMTYuMzIxMTMxLCA0MC4wMTEwNjddLCBbMTE2LjMyMTA5OSwgNDAuMDExODJdLCBbMTE2LjMyMTAzMSwgNDAuMDExNTQzXSwgWzExNi4zMjEwODEsIDQwLjAxMTY5XSwgWzExNi4zMjEwMjIsIDQwLjAxMTZdLCBbMTE2LjMyMTA4NiwgNDAuMDExNTQ5XSwgWzExNi4zMjExNDMsIDQwLjAxMDg4Nl0sIFsxMTYuMzIxMTkzLCA0MC4wMTE0MDJdLCBbMTE2LjMyMTE1OCwgNDAuMDExNjkzXSwgWzExNi4zMjA5OTcsIDQwLjAxMTcwNF0sIFsxMTYuMzIxMDQzLCA0MC4wMTE0NTldLCBbMTE2LjMyMDk1OSwgNDAuMDExNDMxXSwgWzExNi4zMjY5OCwgNDAuMDAwNTYyXSwgWzExNi4zMjcwMDIsIDQwLjAwMDU5M10sIFsxMTYuMzI2ODk0LCA0MC4wMDA4MzldLCBbMTE2LjMyNjc1MywgNDAuMDAxMTEyXSwgWzExNi4zMjY3NjYsIDQwLjAwMDIyOV0sIFsxMTYuMzI2ODU4LCA0MC4wMDA1MDddLCBbMTE2LjMyNjg0OCwgMzkuOTk5OTczXSwgWzExNi4zMjY5NjYsIDQwLjAwMDY5NV0sIFsxMTYuMzI2ODU5LCA0MC4wMDA3NTZdLCBbMTE2LjMyNjk1NCwgNDAuMDAwNjc1XSwgWzExNi4zMjY3NSwgNDAuMDAwMjcyXSwgWzExNi4zMjY5NTMsIDQwLjAwMDU3OV0sIFsxMTYuMzI2Njg5LCA0MC4wMDAyNTNdLCBbMTE2LjMyODIwOSwgNDAuMDAyNzM1XSwgWzExNi4zMjYzOTcsIDM5Ljk5ODgxNF0sIFsxMTYuMzI2ODAxLCA0MC4wMDA0ODFdLCBbMTE2LjMyNjgzMiwgNDAuMDAwNDg3XSwgWzExNi4zMjY4NTIsIDQwLjAwMDUyOF0sIFsxMTYuMzI2OTc0LCA0MC4wMDA1Ml0sIFsxMTYuMzI2OTYsIDQwLjAwMDU5N10sIFsxMTYuMzI2Nzk4LCA0MC4wMDA2NDJdLCBbMTE2LjMyNjk0NywgNDAuMDAwNjI5XSwgWzExNi4zMjY5NzUsIDQwLjAwMDc1M10sIFsxMTYuMzI2ODk2LCA0MC4wMDA2NjZdLCBbMTE2LjMyNjkyNiwgNDAuMDAwNjFdLCBbMTE2LjMyNjk5OCwgNDAuMDAwOV0sIFsxMTYuMzI2OTI1LCA0MC4wMDA2MjVdLCBbMTE2LjMyNjU5NywgMzkuOTk5MzE1XSwgWzExNi4zMjY5NDcsIDQwLjAwMDQ5Nl0sIFsxMTYuMzI2ODU5LCA0MC4wMDA1M10sIFsxMTYuMzI2ODg5LCA0MC4wMDA1MzhdLCBbMTE2LjMyNjgwOCwgNDAuMDAwNTU3XSwgWzExNi4zMjcwMTksIDQwLjAwMDY0OF0sIFsxMTYuMzI2MjUsIDQwLjAwMTAwNl0sIFsxMTYuMzI2NjQyLCAzOS45OTgzODhdLCBbMTE2LjMyNjc4NiwgMzkuOTk0OTg0XSwgWzExNi4zMjc0MDQsIDM5Ljk5OTQwM10sIFsxMTYuMzI3MzEsIDQwLjAwMTA2XSwgWzExNi4zMjcwMzksIDQwLjAwMDMwNF0sIFsxMTYuMzI2OTc0LCA0MC4wMDAyMThdLCBbMTE2LjMyNjk5NCwgNDAuMDAwNTc3XSwgWzExNi4zMjY4OTQsIDQwLjAwMDQ4XSwgWzExNi4zMjY5MjQsIDQwLjAwMDU0Nl0sIFsxMTYuMzI2OTcsIDQwLjAwMDUyNl0sIFsxMTYuMzI2NTgzLCA0MC4wMDAzMDFdLCBbMTE2LjMyNjY1LCA0MC4wMDEzNV0sIFsxMTYuMzI2ODEzLCA0MC4wMDE0MjVdLCBbMTE2LjMyNjk2NCwgNDAuMDAxNjgyXSwgWzExNi4zMjY4MTQsIDQwLjAwMDY3Nl0sIFsxMTYuMzI3MjA0LCA0MC4wMDE2OTJdLCBbMTE2LjMyNzQxMSwgNDAuMDAxOTcxXSwgWzExNi4zMjY4NDMsIDQwLjAwMDUxOF0sIFsxMTYuMzI2ODcsIDQwLjAwMDQ5NV0sIFsxMTYuMzI2ODg3LCA0MC4wMDA0MzRdLCBbMTE2LjMyNjgzMywgNDAuMDAwMzY4XSwgWzExNi4zMjY5OTQsIDQwLjAwMDQ3XSwgWzExNi4zMjY3OTcsIDQwLjAwMDM3M10sIFsxMTYuMzI2NTA1LCAzOS45OTk4MTZdLCBbMTE2LjMyNDMzMSwgNDAuMDA0NDM4XSwgWzExNi4zMjI2OTIsIDQwLjAwOTY5M10sIFsxMTYuMzIwMDgyLCA0MC4wMTE4NjldLCBbMTE2LjMyMTI3OSwgNDAuMDExNjE3XSwgWzExNi4zMjEyMDQsIDQwLjAxMTQxOV0sIFsxMTYuMzIxMTg0LCA0MC4wMTE3NTFdLCBbMTE2LjMyMDk3NiwgNDAuMDExMDQ4XSwgWzExNi4zMjExODEsIDQwLjAxMTY1M10sIFsxMTYuMzIxMjU2LCA0MC4wMTE3MDZdLCBbMTE2LjMyMTA1NiwgNDAuMDEwOTQ3XSwgWzExNi4zMjA4NTMsIDQwLjAxMDc0OF0sIFsxMTYuMzIxMzg2LCA0MC4wMTEzMDFdLCBbMTE2LjMyNjA4NywgNDAuMDEyODk5XSwgWzExNi4zMjA5NDgsIDQwLjAxMTY4M10sIFsxMTYuMzIxMjY5LCA0MC4wMTE5NzZdLCBbMTE2LjMyMTA1NiwgNDAuMDExNDQ3XSwgWzExNi4zMjEyMzksIDQwLjAxMTEzOV0sIFsxMTYuMzIxMTc1LCA0MC4wMTA4NjVdLCBbMTE2LjMyMTQxLCA0MC4wMTE3ODVdLCBbMTE2LjMyMTYxNiwgNDAuMDExNTczXSwgWzExNi4zMjE0NDgsIDQwLjAxMTk2OV0sIFsxMTYuMzIxNjMxLCA0MC4wMTE1NTRdLCBbMTE2LjMyMTEwMiwgNDAuMDExNTUzXSwgWzExNi4zMjA5MjQsIDQwLjAxMTc5Nl0sIFsxMTYuMzIxMzA2LCA0MC4wMTEzODNdLCBbMTE2LjMyMTQzOSwgNDAuMDExNTMyXSwgWzExNi4zMjAyNDcsIDQwLjAwNzQ3NF0sIFsxMTYuMzIyODY5LCA0MC4wMTEwMDVdLCBbMTE2LjMyMzkyOCwgNDAuMDA0ODU3XSwgWzExNi4zMjY5MTgsIDQwLjAwMDQxNl0sIFsxMTYuMzI0NDE2LCA0MC4wMDI5MTJdLCBbMTE2LjMyMzk4OCwgNDAuMDA5NDQ0XSwgWzExNi4zMjExNjUsIDQwLjAxMTU1MV0sIFsxMTYuMzIwOTM0LCA0MC4wMTEwNzRdLCBbMTE2LjMyMTAxMiwgNDAuMDExMjM3XSwgWzExNi4zMjEwMjksIDQwLjAxMTQ3XSwgWzExNi4zMjA5NzcsIDQwLjAxMTg4OF0sIFsxMTYuMzIxMTExLCA0MC4wMTEzMTVdLCBbMTE2LjMyMTI1NCwgNDAuMDExMzI4XSwgWzExNi4zMjE1NywgNDAuMDEwNjUzXSwgWzExNi4zMjE5MjIsIDQwLjAwNzg1M10sIFsxMTYuMzIxNTM5LCA0MC4wMTAwNDNdLCBbMTE2LjMyMTUxMywgNDAuMDA5NTc4XSwgWzExNi4zMjE0NCwgNDAuMDExMjIxXSwgWzExNi4zMjA2NjUsIDQwLjAwOTQyOF0sIFsxMTYuMzIxMDcsIDQwLjAxMTYwM10sIFsxMTYuMzIxMTc3LCA0MC4wMTE4MzZdLCBbMTE2LjMyMTMyOCwgNDAuMDExNTg0XSwgWzExNi4zMjExMDMsIDQwLjAxMTYyNF0sIFsxMTYuMzIxMTIxLCA0MC4wMTE0ODVdLCBbMTE2LjMyMTAyNSwgNDAuMDExNjU0XSwgWzExNi4zMjEyNiwgNDAuMDExMjgxXSwgWzExNi4zMjExNTksIDQwLjAxMTczMl0sIFsxMTYuMzIxNDkzLCA0MC4wMTA3NV0sIFsxMTYuMzE0MzI5LCA0MC4wMTMwODNdLCBbMTE2LjMyMDg4NCwgNDAuMDEyMTY1XSwgWzExNi4zMjE2MTgsIDQwLjAxMTE5N10sIFsxMTYuMzI2NTQ4LCAzOS45OTU5M10sIFsxMTYuMzI4OTkyLCAzOS45OTE2MjVdLCBbMTE2LjMzNDE4NiwgMzkuOTg5ODI3XSwgWzExNi4zMzQ1MTIsIDM5Ljk4MjU5Nl0sIFsxMTYuMzM3NTYyLCAzOS45NzczMV0sIFsxMTYuMzM2NzcyLCAzOS45NzY0MzddLCBbMTE2LjMzNjQ1LCAzOS45NzY4NzRdLCBbMTE2LjMzNjYwNywgMzkuOTc2NjgyXSwgWzExNi4zMzY1MTUsIDM5Ljk3NzA0N10sIFsxMTYuMzM2MDQ3LCAzOS45NzY1MDRdLCBbMTE2LjMzNjUxNywgMzkuOTc1NzgzXSwgWzExNi4zMzYwMTksIDM5Ljk3NjE0NF0sIFsxMTYuMzM1NzU0LCAzOS45NzYyMzddLCBbMTE2LjMzNDgzLCAzOS45NzM4Nl0sIFsxMTYuMzM1MDE5LCAzOS45NzQxMzldLCBbMTE2LjMzNTIyOCwgMzkuOTc0MjldLCBbMTE2LjMzNTA0OSwgMzkuOTc0NDQzXSwgWzExNi4zMzM1MjIsIDM5Ljk3MjkzNF0sIFsxMTYuMzM1NTA5LCAzOS45NzUxOTRdLCBbMTE2LjM0MTE0NywgMzkuOTgwNTU1XSwgWzExNi4zNDA3MjIsIDM5Ljk3OTg5MV0sIFsxMTYuMzQwNDY3LCAzOS45Nzk1MTNdLCBbMTE2LjMzOTE5NywgMzkuOTc4MDVdLCBbMTE2LjMzOTA5MSwgMzkuOTc3ODk5XSwgWzExNi4zMzExMTgsIDM5Ljk3MzIwMl0sIFsxMTYuMzM0MjUyLCAzOS45NzgwNTNdLCBbMTE2LjMzNTg1MywgMzkuOTc1MTYyXSwgWzExNi4zMzQ4ODEsIDM5Ljk3MjI1XSwgWzExNi4zMzYwMjgsIDM5Ljk3NTQzMl0sIFsxMTYuMzM1OTcxLCAzOS45NzU1NTNdLCBbMTE2LjMzNjExNCwgMzkuOTc2MTldLCBbMTE2LjMzNjE5NywgMzkuOTc2MTcyXSwgWzExNi4zMzYyMzYsIDM5Ljk3NjI0OV0sIFsxMTYuMzM2MjAzLCAzOS45NzYxODhdLCBbMTE2LjMzNjMzNSwgMzkuOTc2MjUyXSwgWzExNi4zMzU3MSwgMzkuOTc2MjE4XSwgWzExNi4zMzYxOTQsIDM5Ljk3NjI1Ml0sIFsxMTYuMzM1OTE0LCAzOS45NzYwNjNdLCBbMTE2LjMzNTUzOSwgMzkuOTc1ODk0XSwgWzExNi4zMzYxNTMsIDM5Ljk3NjA0N10sIFsxMTYuMzM1NTY5LCAzOS45NzU3NjZdLCBbMTE2LjMzNjA4NCwgMzkuOTc2MTEyXSwgWzExNi4zMzYwNDEsIDM5Ljk3NjAxNV0sIFsxMTYuMzM2MzQ1LCAzOS45NzU5MDhdLCBbMTE2LjMzNTU4MywgMzkuOTc2MzM5XSwgWzExNi4zMzYxMzUsIDM5Ljk3NjAyNl0sIFsxMTYuMzM1OTg2LCAzOS45NzU3NzldLCBbMTE2LjMzNjA5MywgMzkuOTc2MjE1XSwgWzExNi4zMzY0MDEsIDM5Ljk3NjI0M10sIFsxMTYuMzM2MjExLCAzOS45NzYxOTJdLCBbMTE2LjMzNzE2OSwgMzkuOTc2ODJdLCBbMTE2LjMzNjU2MywgMzkuOTc2NDM5XSwgWzExNi4zMzYxMDYsIDM5Ljk3NjIzNF0sIFsxMTYuMzM1ODQ4LCAzOS45NzYxNzVdLCBbMTE2LjMzNjIwMSwgMzkuOTc2MjM3XSwgWzExNi4zMzY1NjMsIDM5Ljk3NTI0Nl0sIFsxMTYuMzM4OTU1LCAzOS45NjQyNDRdLCBbMTE2LjM0NTY4MywgMzkuOTQ4Nzc4XSwgWzExNi4zNDU5NjcsIDM5Ljk0MDEyXSwgWzExNi41NzM5NiwgMzkuOTA5MzM4XSwgWzExNi41NDk3MjYsIDM5LjkwODM1OF0sIFsxMTYuNTI1NjY5LCAzOS45MDg0NDddLCBbMTE2LjUwMjM2NCwgMzkuOTA2NzE3XSwgWzExNi40Nzk2MTMsIDM5LjkwNjkwOV0sIFsxMTYuNDYxODYyLCAzOS45MDddLCBbMTE2LjQ1MzcyNiwgMzkuOTA3MzM2XSwgWzExNi40NDQyMDIsIDM5LjkwNzA2N10sIFsxMTYuNDM0NzksIDM5LjkwNzAxMl0sIFsxMTYuNDI5NDMyLCAzOS45MDcwMzFdLCBbMTE2LjQyNTI2MSwgMzkuOTAzMjUyXSwgWzExNi40MTk1NjcsIDM5LjkwMzIyNV0sIFsxMTYuMzI2NTY1LCAzOS45OTUwODddLCBbMTE2LjMyNDU5OCwgNDAuMDAwMTg2XSwgWzExNi4zMjQzNjYsIDQwLjAwNTQzNl0sIFsxMTYuMzIyMTQxLCA0MC4wMDkzMjRdLCBbMTE2LjMyMTE2MywgNDAuMDEwNzgxXSwgWzExNi4zMjQwMSwgNDAuMDA4MzY2XSwgWzExNi4zMjQ1MTQsIDQwLjAwMjk3NV0sIFsxMTYuMzI1ODUsIDM5Ljk5OTAzXSwgWzExNi4zMjYzNDksIDM5Ljk5NDAyM10sIFsxMTYuMzI5Mzc5LCAzOS45OTE1OTldLCBbMTE2LjMzNDI0NywgMzkuOTg5MzU1XSwgWzExNi4zMzQ0MDQsIDM5Ljk4NDAxM10sIFsxMTYuMzM1MDUyLCAzOS45Nzg1MV0sIFsxMTYuMzM1MjQ0LCAzOS45Nzc1MzhdLCBbMTE2LjMzNDUxNCwgMzkuOTg0MzNdLCBbMTE2LjMzNDA5LCAzOS45OTE1MzddLCBbMTE2LjMyNjkzNSwgMzkuOTkxODMyXSwgWzExNi4zMjY1NjUsIDM5Ljk5ODY5OV0sIFsxMTYuMzI3MTMzLCA0MC4wMDA4MzJdLCBbMTE2LjMyNjk3OSwgNDAuMDAwNDgzXSwgWzExNi4zMjY0NjgsIDM5Ljk5NTYxNF0sIFsxMjEuMTU1Mjk1LCA0MS4xMDc2MzFdLCBbMTIxLjE1MTg4MywgNDEuMTA5NDczXSwgWzEyMS4xNDQ2MDQsIDQxLjExMzIwNV0sIFsxMjEuMTM2OTQzLCA0MS4xMTQwNzRdLCBbMTIxLjEyODA1MywgNDEuMTE0NzM4XSwgWzEyMS4xMjIwNjcsIDQxLjExNjI1XSwgWzEyMS4xNTI1OTIsIDQxLjEwODMzMl0sIFsxMjEuMTU0NDU3LCA0MS4xMDczNzddLCBbMTIxLjE0NjU2NSwgNDEuMTA1NDY1XSwgWzEyMS4xMzYxNzcsIDQxLjEwNTI2NV0sIFsxMjEuMTI3NTMyLCA0MS4xMDQ3NDVdLCBbMTIxLjExNjg5LCA0MS4xMDg5NjRdLCBbMTIxLjExMTc3NiwgNDEuMTE0MDA0XSwgWzEyMS4xMTE2OTMsIDQxLjEyMTM3XSwgWzEyMS4xMTE2ODUsIDQxLjEyOTY2NF0sIFsxMjEuMTExNDg5LCA0MS4xMjg5NDZdLCBbMTIxLjExMTM1OSwgNDEuMTIyMjEyXSwgWzEyMS4xMTE4NiwgNDEuMTEwNzY2XSwgWzEyMS4xMjA3NDksIDQxLjExMDYyNl0sIFsxMjEuMTI2MTI1LCA0MS4xMDgwNjZdLCBbMTIxLjEzNDEyNCwgNDEuMTA1Mjg5XSwgWzExNi4zMTY2NDEsIDQwLjAwMzMzNV0sIFsxMTYuMzI3NTEsIDQwLjAwMDAyMl0sIFsxMTYuMzI1NjM3LCAzOS45OTk4MzFdLCBbMTE2LjMyMTU2NCwgNDAuMDA0OTM1XSwgWzExNi4zMjQ0MDksIDQwLjAwMDczOV0sIFsxMTYuMzI2NTAyLCAzOS45OTE1OTldLCBbMTE2LjMzMTcwOCwgMzkuOTkxNDU0XSwgWzExNi4zMjg5MjEsIDM5Ljk5MTc2NF0sIFsxMTYuMzI4MTkxLCAzOS45OTU4NzRdLCBbMTE2LjMyOTgyNywgMzkuOTk2NjA4XSwgWzExNi4zMjg0NCwgMzkuOTk1NDM4XSwgWzExNi4zMjc5MiwgMzkuOTk1MjU3XSwgWzExNi4zMjg2MDcsIDM5Ljk5NTk5Ml0sIFsxMTYuMzI4NjE2LCAzOS45OTUzOTFdLCBbMTE2LjMyMTgyMywgNDAuMDAxMTk2XSwgWzExNi4zMjIyMTQsIDQwLjAwNTQ4XSwgWzExNi4zMjQ5ODUsIDM5Ljk5OTc5NV0sIFsxMTYuMzI1MDgxLCA0MC4wMDc4M10sIFsxMTYuMzI0NDIxLCA0MC4wMDMyMDVdLCBbMTE2LjMyMzY5LCA0MC4wMDcwOTldLCBbMTE2LjMyNDEzOCwgNDAuMDA3NDM4XSwgWzExNi4zMjE5OTcsIDQwLjAwMDcwM10sIFsxMTYuMzIwNTg5LCA0MC4wMDQ5MzFdLCBbMTE2LjMxNjg3NCwgNDAuMDA5MTE3XSwgWzExNi4zMjY2MTYsIDQwLjAwMTc5OV0sIFsxMTYuMzI0NDQsIDQwLjAwNjQxMV0sIFsxMTYuMzIxNDQsIDQwLjAxMTAzXSwgWzExNi4zMjI2LCA0MC4wMDk3NDddLCBbMTE2LjMyMDI2MSwgNDAuMDA5NjE4XSwgWzExNi4zMzQzODMsIDM5Ljk4OTAyOF0sIFsxMTYuMzI2MTMsIDQwLjAwMjI2N10sIFsxMTYuMzIyNDY0LCA0MC4wMDkxNzddLCBbMTE2LjMyNDQ0NywgNDAuMDAwMzY5XSwgWzExNi4zMjc2NTcsIDM5Ljk5MDY2Ml0sIFsxMTYuMzMyOTgxLCAzOS45OTEzODddLCBbMTE2LjMxODQ1NCwgNDAuMDAzMTE1XSwgWzExNi4zMjUyNzcsIDQwLjAwMTIwN11dLCAidHlwZSI6ICJMaW5lU3RyaW5nIn0sICJpZCI6ICIwIiwgInR5cGUiOiAiRmVhdHVyZSJ9XSwgInR5cGUiOiAiRmVhdHVyZUNvbGxlY3Rpb24ifSk7CiAgICAgICAgCiAgICAKICAgICAgICAgICAgdmFyIG1hcmtlcl8zNmIwODBjMGM3YmI0MmI3YjQ0OTA5YzlhZmEzY2RhNCA9IEwubWFya2VyKAogICAgICAgICAgICAgICAgWzQwLjAwNDE1NSwgMTE2LjMyMTMzNzAwMDAwMDAxXSwKICAgICAgICAgICAgICAgIHt9CiAgICAgICAgICAgICkuYWRkVG8obWFwX2E2OGU4OTA4MDZjODQ4NjhhZjViZTQwMTEzYmE2MTYzKTsKICAgICAgICAKICAgIAogICAgICAgICAgICB2YXIgaWNvbl9iZjZmMzE1NDEwMjA0ZDU5YWUyY2Q0OWQ3MGY2YzZhYSA9IEwuQXdlc29tZU1hcmtlcnMuaWNvbigKICAgICAgICAgICAgICAgIHsiZXh0cmFDbGFzc2VzIjogImZhLXJvdGF0ZS0wIiwgImljb24iOiAiaW5mby1zaWduIiwgImljb25Db2xvciI6ICJ3aGl0ZSIsICJtYXJrZXJDb2xvciI6ICJncmVlbiIsICJwcmVmaXgiOiAiZ2x5cGhpY29uIn0KICAgICAgICAgICAgKTsKICAgICAgICAgICAgbWFya2VyXzM2YjA4MGMwYzdiYjQyYjdiNDQ5MDljOWFmYTNjZGE0LnNldEljb24oaWNvbl9iZjZmMzE1NDEwMjA0ZDU5YWUyY2Q0OWQ3MGY2YzZhYSk7CiAgICAgICAgCiAgICAKICAgICAgICB2YXIgcG9wdXBfYjIyNDNkYzhlYWRmNDM3YThiZTY5N2JmMDFhN2NmNWUgPSBMLnBvcHVwKHsibWF4V2lkdGgiOiAzMDB9KTsKCiAgICAgICAgCiAgICAgICAgICAgIHZhciBodG1sXzZiOTdjZjliY2QxNTRhYjdhMjk0YjYzM2VjYzIwZGRlID0gJChgPGRpdiBpZD0iaHRtbF82Yjk3Y2Y5YmNkMTU0YWI3YTI5NGI2MzNlY2MyMGRkZSIgc3R5bGU9IndpZHRoOiAxMDAuMCU7IGhlaWdodDogMTAwLjAlOyI+PGk+U3RhcnQ8L2k+PEJSPjIwMDgvMTAvMjQgMDQ6MTI8QlI+Q29vcmQ6IDxhIGhyZWY9Imh0dHBzOi8vd3d3Lmdvb2dsZS5jby51ay9tYXBzL3BsYWNlLzQwLjAwNDE1NSwxMTYuMzIxMzM3MDAwMDAwMDEiIHRhcmdldD0iX2JsYW5rIj40MC4wMDQyLCAxMTYuMzIxMzwvYT48L2Rpdj5gKVswXTsKICAgICAgICAgICAgcG9wdXBfYjIyNDNkYzhlYWRmNDM3YThiZTY5N2JmMDFhN2NmNWUuc2V0Q29udGVudChodG1sXzZiOTdjZjliY2QxNTRhYjdhMjk0YjYzM2VjYzIwZGRlKTsKICAgICAgICAKCiAgICAgICAgbWFya2VyXzM2YjA4MGMwYzdiYjQyYjdiNDQ5MDljOWFmYTNjZGE0LmJpbmRQb3B1cChwb3B1cF9iMjI0M2RjOGVhZGY0MzdhOGJlNjk3YmYwMWE3Y2Y1ZSkKICAgICAgICA7CgogICAgICAgIAogICAgCiAgICAKICAgICAgICAgICAgdmFyIG1hcmtlcl82YjgyYjQ2YWFhMmM0MGIzYTQyZDI4MTNjZDM1Mzk3MCA9IEwubWFya2VyKAogICAgICAgICAgICAgICAgWzQwLjAwMTIwNywgMTE2LjMyNTI3N10sCiAgICAgICAgICAgICAgICB7fQogICAgICAgICAgICApLmFkZFRvKG1hcF9hNjhlODkwODA2Yzg0ODY4YWY1YmU0MDExM2JhNjE2Myk7CiAgICAgICAgCiAgICAKICAgICAgICAgICAgdmFyIGljb25fMGEwOTExZjhkNTY4NDY5Njg4NmQzNWU0MWYwNGM4ZWUgPSBMLkF3ZXNvbWVNYXJrZXJzLmljb24oCiAgICAgICAgICAgICAgICB7ImV4dHJhQ2xhc3NlcyI6ICJmYS1yb3RhdGUtMCIsICJpY29uIjogImluZm8tc2lnbiIsICJpY29uQ29sb3IiOiAid2hpdGUiLCAibWFya2VyQ29sb3IiOiAicmVkIiwgInByZWZpeCI6ICJnbHlwaGljb24ifQogICAgICAgICAgICApOwogICAgICAgICAgICBtYXJrZXJfNmI4MmI0NmFhYTJjNDBiM2E0MmQyODEzY2QzNTM5NzAuc2V0SWNvbihpY29uXzBhMDkxMWY4ZDU2ODQ2OTY4ODZkMzVlNDFmMDRjOGVlKTsKICAgICAgICAKICAgIAogICAgICAgIHZhciBwb3B1cF83NjRlOGYxMTBhODI0MjA2ODY1Y2M0ZTlkNmMxY2JiNSA9IEwucG9wdXAoeyJtYXhXaWR0aCI6IDMwMH0pOwoKICAgICAgICAKICAgICAgICAgICAgdmFyIGh0bWxfZTE2ZDI0NDNlOGNkNGZkYjhjOGIyNDJjYWY3NGYzMGUgPSAkKGA8ZGl2IGlkPSJodG1sX2UxNmQyNDQzZThjZDRmZGI4YzhiMjQyY2FmNzRmMzBlIiBzdHlsZT0id2lkdGg6IDEwMC4wJTsgaGVpZ2h0OiAxMDAuMCU7Ij48aT5FbmQ8L2k+PEJSPjIwMDkvMDMvMTkgMDU6NDY8QlI+Q29vcmQ6IDxhIGhyZWY9Imh0dHBzOi8vd3d3Lmdvb2dsZS5jby51ay9tYXBzL3BsYWNlLzM5Ljk5OTk3ODAwMDAwMDAwNiwxMTYuMzI3NDYwMDAwMDAwMDIiIHRhcmdldD0iX2JsYW5rIj40MC4wLCAxMTYuMzI3NTwvYT48L2Rpdj5gKVswXTsKICAgICAgICAgICAgcG9wdXBfNzY0ZThmMTEwYTgyNDIwNjg2NWNjNGU5ZDZjMWNiYjUuc2V0Q29udGVudChodG1sX2UxNmQyNDQzZThjZDRmZGI4YzhiMjQyY2FmNzRmMzBlKTsKICAgICAgICAKCiAgICAgICAgbWFya2VyXzZiODJiNDZhYWEyYzQwYjNhNDJkMjgxM2NkMzUzOTcwLmJpbmRQb3B1cChwb3B1cF83NjRlOGYxMTBhODI0MjA2ODY1Y2M0ZTlkNmMxY2JiNSkKICAgICAgICA7CgogICAgICAgIAogICAgCjwvc2NyaXB0Pg==\" style=\"position:absolute;width:100%;height:100%;left:0;top:0;border:none !important;\" allowfullscreen webkitallowfullscreen mozallowfullscreen></iframe></div></div>"
      ],
      "text/plain": [
       "<folium.folium.Map at 0x7f94cf0eda58>"
      ]
     },
     "execution_count": 26,
     "metadata": {},
     "output_type": "execute_result"
    }
   ],
   "source": [
    "tdf.plot_trajectory(zoom=12, weight=3, opacity=0.9, tiles='Stamen Toner')\n"
   ]
  },
  {
   "cell_type": "markdown",
   "metadata": {
    "slideshow": {
     "slide_type": "slide"
    }
   },
   "source": [
    "# FlowDataFrame\n",
    "\n",
    "A `FlowDataFrame` is a Pandas DataFrame that contains information regarding fluxes of mobility between places. There is no limit in the number of columns it can contain. \n",
    "\n",
    "A `FlowDataFrame` must have the following **columns**:\n",
    "\n",
    "- `origin`: ID of tile of origin\n",
    "- `destination`: ID of tile of destination\n",
    "- `flow`: number of people travelling between from the origin to the destination\n",
    "\n",
    "<!-- NOTE: `FlowDataFrame` is a dataframe way of having Origin-Destination Matrix. -->"
   ]
  },
  {
   "cell_type": "markdown",
   "metadata": {
    "slideshow": {
     "slide_type": "subslide"
    }
   },
   "source": [
    "### Tessellation\n",
    "\n",
    "A fundamental attribute of the `FlowDataFrame` object is the `tessellation`, which contains the geometries associated to each origin/destination ID in the dataframe.\n",
    "\n",
    "A tessellation is a geopandas `GeoDataFrame` that defines the tiles or locations in the `FlowDataFrame`. \n",
    "\n",
    "The `FlowDataFrame` constructor requires to specify a tessellation containing the geometry of all the tiles, origins and destinations, in the rows of the `FlowDataFrame`. "
   ]
  },
  {
   "cell_type": "markdown",
   "metadata": {
    "slideshow": {
     "slide_type": "subslide"
    }
   },
   "source": [
    "## Construction of a `tessellation`\n",
    "\n",
    "The `tessellation` can be created from:\n",
    "\n",
    "- the name of the area of interest, e.g. `\"Florence, Italy\"`\n",
    "- a GeoPandas `GeoDataFrame` with Points or Polygons\n",
    "\n",
    "There are two types (at the moment!) of tessellations: voronoi and squared.\n",
    "\n",
    "They are built by the so called `TessellationTiler` object. The object has been designed to allow the possibility to easily add further tessellation tilers (check the code for additional information). "
   ]
  },
  {
   "cell_type": "code",
   "execution_count": 28,
   "metadata": {
    "slideshow": {
     "slide_type": "skip"
    }
   },
   "outputs": [
    {
     "ename": "ReadTimeout",
     "evalue": "HTTPSConnectionPool(host='nominatim.openstreetmap.org', port=443): Read timed out. (read timeout=30)",
     "output_type": "error",
     "traceback": [
      "\u001b[0;31m---------------------------------------------------------------------------\u001b[0m",
      "\u001b[0;31mtimeout\u001b[0m                                   Traceback (most recent call last)",
      "\u001b[0;32m~/anaconda3/envs/test/lib/python3.7/site-packages/urllib3-1.25.6-py3.7.egg/urllib3/connectionpool.py\u001b[0m in \u001b[0;36m_make_request\u001b[0;34m(self, conn, method, url, timeout, chunked, **httplib_request_kw)\u001b[0m\n\u001b[1;32m    375\u001b[0m         \u001b[0;32mtry\u001b[0m\u001b[0;34m:\u001b[0m\u001b[0;34m\u001b[0m\u001b[0;34m\u001b[0m\u001b[0m\n\u001b[0;32m--> 376\u001b[0;31m             \u001b[0mself\u001b[0m\u001b[0;34m.\u001b[0m\u001b[0m_validate_conn\u001b[0m\u001b[0;34m(\u001b[0m\u001b[0mconn\u001b[0m\u001b[0;34m)\u001b[0m\u001b[0;34m\u001b[0m\u001b[0;34m\u001b[0m\u001b[0m\n\u001b[0m\u001b[1;32m    377\u001b[0m         \u001b[0;32mexcept\u001b[0m \u001b[0;34m(\u001b[0m\u001b[0mSocketTimeout\u001b[0m\u001b[0;34m,\u001b[0m \u001b[0mBaseSSLError\u001b[0m\u001b[0;34m)\u001b[0m \u001b[0;32mas\u001b[0m \u001b[0me\u001b[0m\u001b[0;34m:\u001b[0m\u001b[0;34m\u001b[0m\u001b[0;34m\u001b[0m\u001b[0m\n",
      "\u001b[0;32m~/anaconda3/envs/test/lib/python3.7/site-packages/urllib3-1.25.6-py3.7.egg/urllib3/connectionpool.py\u001b[0m in \u001b[0;36m_validate_conn\u001b[0;34m(self, conn)\u001b[0m\n\u001b[1;32m    993\u001b[0m         \u001b[0;32mif\u001b[0m \u001b[0;32mnot\u001b[0m \u001b[0mgetattr\u001b[0m\u001b[0;34m(\u001b[0m\u001b[0mconn\u001b[0m\u001b[0;34m,\u001b[0m \u001b[0;34m\"sock\"\u001b[0m\u001b[0;34m,\u001b[0m \u001b[0;32mNone\u001b[0m\u001b[0;34m)\u001b[0m\u001b[0;34m:\u001b[0m  \u001b[0;31m# AppEngine might not have  `.sock`\u001b[0m\u001b[0;34m\u001b[0m\u001b[0;34m\u001b[0m\u001b[0m\n\u001b[0;32m--> 994\u001b[0;31m             \u001b[0mconn\u001b[0m\u001b[0;34m.\u001b[0m\u001b[0mconnect\u001b[0m\u001b[0;34m(\u001b[0m\u001b[0;34m)\u001b[0m\u001b[0;34m\u001b[0m\u001b[0;34m\u001b[0m\u001b[0m\n\u001b[0m\u001b[1;32m    995\u001b[0m \u001b[0;34m\u001b[0m\u001b[0m\n",
      "\u001b[0;32m~/anaconda3/envs/test/lib/python3.7/site-packages/urllib3-1.25.6-py3.7.egg/urllib3/connection.py\u001b[0m in \u001b[0;36mconnect\u001b[0;34m(self)\u001b[0m\n\u001b[1;32m    393\u001b[0m             \u001b[0mserver_hostname\u001b[0m\u001b[0;34m=\u001b[0m\u001b[0mserver_hostname\u001b[0m\u001b[0;34m,\u001b[0m\u001b[0;34m\u001b[0m\u001b[0;34m\u001b[0m\u001b[0m\n\u001b[0;32m--> 394\u001b[0;31m             \u001b[0mssl_context\u001b[0m\u001b[0;34m=\u001b[0m\u001b[0mcontext\u001b[0m\u001b[0;34m,\u001b[0m\u001b[0;34m\u001b[0m\u001b[0;34m\u001b[0m\u001b[0m\n\u001b[0m\u001b[1;32m    395\u001b[0m         )\n",
      "\u001b[0;32m~/anaconda3/envs/test/lib/python3.7/site-packages/urllib3-1.25.6-py3.7.egg/urllib3/util/ssl_.py\u001b[0m in \u001b[0;36mssl_wrap_socket\u001b[0;34m(sock, keyfile, certfile, cert_reqs, ca_certs, server_hostname, ssl_version, ciphers, ssl_context, ca_cert_dir, key_password)\u001b[0m\n\u001b[1;32m    369\u001b[0m         \u001b[0;32mif\u001b[0m \u001b[0mHAS_SNI\u001b[0m \u001b[0;32mand\u001b[0m \u001b[0mserver_hostname\u001b[0m \u001b[0;32mis\u001b[0m \u001b[0;32mnot\u001b[0m \u001b[0;32mNone\u001b[0m\u001b[0;34m:\u001b[0m\u001b[0;34m\u001b[0m\u001b[0;34m\u001b[0m\u001b[0m\n\u001b[0;32m--> 370\u001b[0;31m             \u001b[0;32mreturn\u001b[0m \u001b[0mcontext\u001b[0m\u001b[0;34m.\u001b[0m\u001b[0mwrap_socket\u001b[0m\u001b[0;34m(\u001b[0m\u001b[0msock\u001b[0m\u001b[0;34m,\u001b[0m \u001b[0mserver_hostname\u001b[0m\u001b[0;34m=\u001b[0m\u001b[0mserver_hostname\u001b[0m\u001b[0;34m)\u001b[0m\u001b[0;34m\u001b[0m\u001b[0;34m\u001b[0m\u001b[0m\n\u001b[0m\u001b[1;32m    371\u001b[0m \u001b[0;34m\u001b[0m\u001b[0m\n",
      "\u001b[0;32m~/anaconda3/envs/test/lib/python3.7/ssl.py\u001b[0m in \u001b[0;36mwrap_socket\u001b[0;34m(self, sock, server_side, do_handshake_on_connect, suppress_ragged_eofs, server_hostname, session)\u001b[0m\n\u001b[1;32m    411\u001b[0m             \u001b[0mcontext\u001b[0m\u001b[0;34m=\u001b[0m\u001b[0mself\u001b[0m\u001b[0;34m,\u001b[0m\u001b[0;34m\u001b[0m\u001b[0;34m\u001b[0m\u001b[0m\n\u001b[0;32m--> 412\u001b[0;31m             \u001b[0msession\u001b[0m\u001b[0;34m=\u001b[0m\u001b[0msession\u001b[0m\u001b[0;34m\u001b[0m\u001b[0;34m\u001b[0m\u001b[0m\n\u001b[0m\u001b[1;32m    413\u001b[0m         )\n",
      "\u001b[0;32m~/anaconda3/envs/test/lib/python3.7/ssl.py\u001b[0m in \u001b[0;36m_create\u001b[0;34m(cls, sock, server_side, do_handshake_on_connect, suppress_ragged_eofs, server_hostname, context, session)\u001b[0m\n\u001b[1;32m    852\u001b[0m                         \u001b[0;32mraise\u001b[0m \u001b[0mValueError\u001b[0m\u001b[0;34m(\u001b[0m\u001b[0;34m\"do_handshake_on_connect should not be specified for non-blocking sockets\"\u001b[0m\u001b[0;34m)\u001b[0m\u001b[0;34m\u001b[0m\u001b[0;34m\u001b[0m\u001b[0m\n\u001b[0;32m--> 853\u001b[0;31m                     \u001b[0mself\u001b[0m\u001b[0;34m.\u001b[0m\u001b[0mdo_handshake\u001b[0m\u001b[0;34m(\u001b[0m\u001b[0;34m)\u001b[0m\u001b[0;34m\u001b[0m\u001b[0;34m\u001b[0m\u001b[0m\n\u001b[0m\u001b[1;32m    854\u001b[0m             \u001b[0;32mexcept\u001b[0m \u001b[0;34m(\u001b[0m\u001b[0mOSError\u001b[0m\u001b[0;34m,\u001b[0m \u001b[0mValueError\u001b[0m\u001b[0;34m)\u001b[0m\u001b[0;34m:\u001b[0m\u001b[0;34m\u001b[0m\u001b[0;34m\u001b[0m\u001b[0m\n",
      "\u001b[0;32m~/anaconda3/envs/test/lib/python3.7/ssl.py\u001b[0m in \u001b[0;36mdo_handshake\u001b[0;34m(self, block)\u001b[0m\n\u001b[1;32m   1116\u001b[0m                 \u001b[0mself\u001b[0m\u001b[0;34m.\u001b[0m\u001b[0msettimeout\u001b[0m\u001b[0;34m(\u001b[0m\u001b[0;32mNone\u001b[0m\u001b[0;34m)\u001b[0m\u001b[0;34m\u001b[0m\u001b[0;34m\u001b[0m\u001b[0m\n\u001b[0;32m-> 1117\u001b[0;31m             \u001b[0mself\u001b[0m\u001b[0;34m.\u001b[0m\u001b[0m_sslobj\u001b[0m\u001b[0;34m.\u001b[0m\u001b[0mdo_handshake\u001b[0m\u001b[0;34m(\u001b[0m\u001b[0;34m)\u001b[0m\u001b[0;34m\u001b[0m\u001b[0;34m\u001b[0m\u001b[0m\n\u001b[0m\u001b[1;32m   1118\u001b[0m         \u001b[0;32mfinally\u001b[0m\u001b[0;34m:\u001b[0m\u001b[0;34m\u001b[0m\u001b[0;34m\u001b[0m\u001b[0m\n",
      "\u001b[0;31mtimeout\u001b[0m: _ssl.c:1039: The handshake operation timed out",
      "\nDuring handling of the above exception, another exception occurred:\n",
      "\u001b[0;31mReadTimeoutError\u001b[0m                          Traceback (most recent call last)",
      "\u001b[0;32m~/anaconda3/envs/test/lib/python3.7/site-packages/requests-2.22.0-py3.7.egg/requests/adapters.py\u001b[0m in \u001b[0;36msend\u001b[0;34m(self, request, stream, timeout, verify, cert, proxies)\u001b[0m\n\u001b[1;32m    448\u001b[0m                     \u001b[0mretries\u001b[0m\u001b[0;34m=\u001b[0m\u001b[0mself\u001b[0m\u001b[0;34m.\u001b[0m\u001b[0mmax_retries\u001b[0m\u001b[0;34m,\u001b[0m\u001b[0;34m\u001b[0m\u001b[0;34m\u001b[0m\u001b[0m\n\u001b[0;32m--> 449\u001b[0;31m                     \u001b[0mtimeout\u001b[0m\u001b[0;34m=\u001b[0m\u001b[0mtimeout\u001b[0m\u001b[0;34m\u001b[0m\u001b[0;34m\u001b[0m\u001b[0m\n\u001b[0m\u001b[1;32m    450\u001b[0m                 )\n",
      "\u001b[0;32m~/anaconda3/envs/test/lib/python3.7/site-packages/urllib3-1.25.6-py3.7.egg/urllib3/connectionpool.py\u001b[0m in \u001b[0;36murlopen\u001b[0;34m(self, method, url, body, headers, retries, redirect, assert_same_host, timeout, pool_timeout, release_conn, chunked, body_pos, **response_kw)\u001b[0m\n\u001b[1;32m    719\u001b[0m             retries = retries.increment(\n\u001b[0;32m--> 720\u001b[0;31m                 \u001b[0mmethod\u001b[0m\u001b[0;34m,\u001b[0m \u001b[0murl\u001b[0m\u001b[0;34m,\u001b[0m \u001b[0merror\u001b[0m\u001b[0;34m=\u001b[0m\u001b[0me\u001b[0m\u001b[0;34m,\u001b[0m \u001b[0m_pool\u001b[0m\u001b[0;34m=\u001b[0m\u001b[0mself\u001b[0m\u001b[0;34m,\u001b[0m \u001b[0m_stacktrace\u001b[0m\u001b[0;34m=\u001b[0m\u001b[0msys\u001b[0m\u001b[0;34m.\u001b[0m\u001b[0mexc_info\u001b[0m\u001b[0;34m(\u001b[0m\u001b[0;34m)\u001b[0m\u001b[0;34m[\u001b[0m\u001b[0;36m2\u001b[0m\u001b[0;34m]\u001b[0m\u001b[0;34m\u001b[0m\u001b[0;34m\u001b[0m\u001b[0m\n\u001b[0m\u001b[1;32m    721\u001b[0m             )\n",
      "\u001b[0;32m~/anaconda3/envs/test/lib/python3.7/site-packages/urllib3-1.25.6-py3.7.egg/urllib3/util/retry.py\u001b[0m in \u001b[0;36mincrement\u001b[0;34m(self, method, url, response, error, _pool, _stacktrace)\u001b[0m\n\u001b[1;32m    399\u001b[0m             \u001b[0;32mif\u001b[0m \u001b[0mread\u001b[0m \u001b[0;32mis\u001b[0m \u001b[0;32mFalse\u001b[0m \u001b[0;32mor\u001b[0m \u001b[0;32mnot\u001b[0m \u001b[0mself\u001b[0m\u001b[0;34m.\u001b[0m\u001b[0m_is_method_retryable\u001b[0m\u001b[0;34m(\u001b[0m\u001b[0mmethod\u001b[0m\u001b[0;34m)\u001b[0m\u001b[0;34m:\u001b[0m\u001b[0;34m\u001b[0m\u001b[0;34m\u001b[0m\u001b[0m\n\u001b[0;32m--> 400\u001b[0;31m                 \u001b[0;32mraise\u001b[0m \u001b[0msix\u001b[0m\u001b[0;34m.\u001b[0m\u001b[0mreraise\u001b[0m\u001b[0;34m(\u001b[0m\u001b[0mtype\u001b[0m\u001b[0;34m(\u001b[0m\u001b[0merror\u001b[0m\u001b[0;34m)\u001b[0m\u001b[0;34m,\u001b[0m \u001b[0merror\u001b[0m\u001b[0;34m,\u001b[0m \u001b[0m_stacktrace\u001b[0m\u001b[0;34m)\u001b[0m\u001b[0;34m\u001b[0m\u001b[0;34m\u001b[0m\u001b[0m\n\u001b[0m\u001b[1;32m    401\u001b[0m             \u001b[0;32melif\u001b[0m \u001b[0mread\u001b[0m \u001b[0;32mis\u001b[0m \u001b[0;32mnot\u001b[0m \u001b[0;32mNone\u001b[0m\u001b[0;34m:\u001b[0m\u001b[0;34m\u001b[0m\u001b[0;34m\u001b[0m\u001b[0m\n",
      "\u001b[0;32m~/anaconda3/envs/test/lib/python3.7/site-packages/urllib3-1.25.6-py3.7.egg/urllib3/packages/six.py\u001b[0m in \u001b[0;36mreraise\u001b[0;34m(tp, value, tb)\u001b[0m\n\u001b[1;32m    734\u001b[0m                 \u001b[0;32mraise\u001b[0m \u001b[0mvalue\u001b[0m\u001b[0;34m.\u001b[0m\u001b[0mwith_traceback\u001b[0m\u001b[0;34m(\u001b[0m\u001b[0mtb\u001b[0m\u001b[0;34m)\u001b[0m\u001b[0;34m\u001b[0m\u001b[0;34m\u001b[0m\u001b[0m\n\u001b[0;32m--> 735\u001b[0;31m             \u001b[0;32mraise\u001b[0m \u001b[0mvalue\u001b[0m\u001b[0;34m\u001b[0m\u001b[0;34m\u001b[0m\u001b[0m\n\u001b[0m\u001b[1;32m    736\u001b[0m         \u001b[0;32mfinally\u001b[0m\u001b[0;34m:\u001b[0m\u001b[0;34m\u001b[0m\u001b[0;34m\u001b[0m\u001b[0m\n",
      "\u001b[0;32m~/anaconda3/envs/test/lib/python3.7/site-packages/urllib3-1.25.6-py3.7.egg/urllib3/connectionpool.py\u001b[0m in \u001b[0;36murlopen\u001b[0;34m(self, method, url, body, headers, retries, redirect, assert_same_host, timeout, pool_timeout, release_conn, chunked, body_pos, **response_kw)\u001b[0m\n\u001b[1;32m    671\u001b[0m                 \u001b[0mheaders\u001b[0m\u001b[0;34m=\u001b[0m\u001b[0mheaders\u001b[0m\u001b[0;34m,\u001b[0m\u001b[0;34m\u001b[0m\u001b[0;34m\u001b[0m\u001b[0m\n\u001b[0;32m--> 672\u001b[0;31m                 \u001b[0mchunked\u001b[0m\u001b[0;34m=\u001b[0m\u001b[0mchunked\u001b[0m\u001b[0;34m,\u001b[0m\u001b[0;34m\u001b[0m\u001b[0;34m\u001b[0m\u001b[0m\n\u001b[0m\u001b[1;32m    673\u001b[0m             )\n",
      "\u001b[0;32m~/anaconda3/envs/test/lib/python3.7/site-packages/urllib3-1.25.6-py3.7.egg/urllib3/connectionpool.py\u001b[0m in \u001b[0;36m_make_request\u001b[0;34m(self, conn, method, url, timeout, chunked, **httplib_request_kw)\u001b[0m\n\u001b[1;32m    378\u001b[0m             \u001b[0;31m# Py2 raises this as a BaseSSLError, Py3 raises it as socket timeout.\u001b[0m\u001b[0;34m\u001b[0m\u001b[0;34m\u001b[0m\u001b[0;34m\u001b[0m\u001b[0m\n\u001b[0;32m--> 379\u001b[0;31m             \u001b[0mself\u001b[0m\u001b[0;34m.\u001b[0m\u001b[0m_raise_timeout\u001b[0m\u001b[0;34m(\u001b[0m\u001b[0merr\u001b[0m\u001b[0;34m=\u001b[0m\u001b[0me\u001b[0m\u001b[0;34m,\u001b[0m \u001b[0murl\u001b[0m\u001b[0;34m=\u001b[0m\u001b[0murl\u001b[0m\u001b[0;34m,\u001b[0m \u001b[0mtimeout_value\u001b[0m\u001b[0;34m=\u001b[0m\u001b[0mconn\u001b[0m\u001b[0;34m.\u001b[0m\u001b[0mtimeout\u001b[0m\u001b[0;34m)\u001b[0m\u001b[0;34m\u001b[0m\u001b[0;34m\u001b[0m\u001b[0m\n\u001b[0m\u001b[1;32m    380\u001b[0m             \u001b[0;32mraise\u001b[0m\u001b[0;34m\u001b[0m\u001b[0;34m\u001b[0m\u001b[0m\n",
      "\u001b[0;32m~/anaconda3/envs/test/lib/python3.7/site-packages/urllib3-1.25.6-py3.7.egg/urllib3/connectionpool.py\u001b[0m in \u001b[0;36m_raise_timeout\u001b[0;34m(self, err, url, timeout_value)\u001b[0m\n\u001b[1;32m    330\u001b[0m             raise ReadTimeoutError(\n\u001b[0;32m--> 331\u001b[0;31m                 \u001b[0mself\u001b[0m\u001b[0;34m,\u001b[0m \u001b[0murl\u001b[0m\u001b[0;34m,\u001b[0m \u001b[0;34m\"Read timed out. (read timeout=%s)\"\u001b[0m \u001b[0;34m%\u001b[0m \u001b[0mtimeout_value\u001b[0m\u001b[0;34m\u001b[0m\u001b[0;34m\u001b[0m\u001b[0m\n\u001b[0m\u001b[1;32m    332\u001b[0m             )\n",
      "\u001b[0;31mReadTimeoutError\u001b[0m: HTTPSConnectionPool(host='nominatim.openstreetmap.org', port=443): Read timed out. (read timeout=30)",
      "\nDuring handling of the above exception, another exception occurred:\n",
      "\u001b[0;31mReadTimeout\u001b[0m                               Traceback (most recent call last)",
      "\u001b[0;32m<ipython-input-28-11f8cac61231>\u001b[0m in \u001b[0;36m<module>\u001b[0;34m\u001b[0m\n\u001b[1;32m      4\u001b[0m \u001b[0;34m\u001b[0m\u001b[0m\n\u001b[1;32m      5\u001b[0m tessellation = tilers.tiler.get(\"squared\", meters=1000, \n\u001b[0;32m----> 6\u001b[0;31m                                 base_shape=\"Rome, Italy\")\n\u001b[0m\u001b[1;32m      7\u001b[0m \u001b[0mtessellation\u001b[0m\u001b[0;34m.\u001b[0m\u001b[0mhead\u001b[0m\u001b[0;34m(\u001b[0m\u001b[0;36m5\u001b[0m\u001b[0;34m)\u001b[0m\u001b[0;34m\u001b[0m\u001b[0;34m\u001b[0m\u001b[0m\n",
      "\u001b[0;32m~/anaconda3/envs/test/lib/python3.7/site-packages/scikit_mobility-1.0-py3.7.egg/skmob/tessellation/tilers.py\u001b[0m in \u001b[0;36mget\u001b[0;34m(self, service_id, **kwargs)\u001b[0m\n\u001b[1;32m     29\u001b[0m     \u001b[0;32mdef\u001b[0m \u001b[0mget\u001b[0m\u001b[0;34m(\u001b[0m\u001b[0mself\u001b[0m\u001b[0;34m,\u001b[0m \u001b[0mservice_id\u001b[0m\u001b[0;34m,\u001b[0m \u001b[0;34m**\u001b[0m\u001b[0mkwargs\u001b[0m\u001b[0;34m)\u001b[0m\u001b[0;34m:\u001b[0m\u001b[0;34m\u001b[0m\u001b[0;34m\u001b[0m\u001b[0m\n\u001b[1;32m     30\u001b[0m \u001b[0;34m\u001b[0m\u001b[0m\n\u001b[0;32m---> 31\u001b[0;31m         \u001b[0;32mreturn\u001b[0m \u001b[0mself\u001b[0m\u001b[0;34m.\u001b[0m\u001b[0mcreate\u001b[0m\u001b[0;34m(\u001b[0m\u001b[0mservice_id\u001b[0m\u001b[0;34m,\u001b[0m \u001b[0;34m**\u001b[0m\u001b[0mkwargs\u001b[0m\u001b[0;34m)\u001b[0m\u001b[0;34m\u001b[0m\u001b[0;34m\u001b[0m\u001b[0m\n\u001b[0m\u001b[1;32m     32\u001b[0m \u001b[0;34m\u001b[0m\u001b[0m\n\u001b[1;32m     33\u001b[0m \u001b[0;34m\u001b[0m\u001b[0m\n",
      "\u001b[0;32m~/anaconda3/envs/test/lib/python3.7/site-packages/scikit_mobility-1.0-py3.7.egg/skmob/tessellation/tilers.py\u001b[0m in \u001b[0;36mcreate\u001b[0;34m(self, key, **kwargs)\u001b[0m\n\u001b[1;32m     25\u001b[0m             \u001b[0;32mraise\u001b[0m \u001b[0mValueError\u001b[0m\u001b[0;34m(\u001b[0m\u001b[0mkey\u001b[0m\u001b[0;34m)\u001b[0m\u001b[0;34m\u001b[0m\u001b[0;34m\u001b[0m\u001b[0m\n\u001b[1;32m     26\u001b[0m \u001b[0;34m\u001b[0m\u001b[0m\n\u001b[0;32m---> 27\u001b[0;31m         \u001b[0;32mreturn\u001b[0m \u001b[0mtiler\u001b[0m\u001b[0;34m(\u001b[0m\u001b[0;34m**\u001b[0m\u001b[0mkwargs\u001b[0m\u001b[0;34m)\u001b[0m\u001b[0;34m\u001b[0m\u001b[0;34m\u001b[0m\u001b[0m\n\u001b[0m\u001b[1;32m     28\u001b[0m \u001b[0;34m\u001b[0m\u001b[0m\n\u001b[1;32m     29\u001b[0m     \u001b[0;32mdef\u001b[0m \u001b[0mget\u001b[0m\u001b[0;34m(\u001b[0m\u001b[0mself\u001b[0m\u001b[0;34m,\u001b[0m \u001b[0mservice_id\u001b[0m\u001b[0;34m,\u001b[0m \u001b[0;34m**\u001b[0m\u001b[0mkwargs\u001b[0m\u001b[0;34m)\u001b[0m\u001b[0;34m:\u001b[0m\u001b[0;34m\u001b[0m\u001b[0;34m\u001b[0m\u001b[0m\n",
      "\u001b[0;32m~/anaconda3/envs/test/lib/python3.7/site-packages/scikit_mobility-1.0-py3.7.egg/skmob/tessellation/tilers.py\u001b[0m in \u001b[0;36m__call__\u001b[0;34m(self, base_shape, meters, crs, window_size)\u001b[0m\n\u001b[1;32m     91\u001b[0m             \u001b[0;32mif\u001b[0m \u001b[0misinstance\u001b[0m\u001b[0;34m(\u001b[0m\u001b[0mbase_shape\u001b[0m\u001b[0;34m,\u001b[0m \u001b[0mstr\u001b[0m\u001b[0;34m)\u001b[0m\u001b[0;34m:\u001b[0m\u001b[0;34m\u001b[0m\u001b[0;34m\u001b[0m\u001b[0m\n\u001b[1;32m     92\u001b[0m                 \u001b[0;31m# Try to obatain the base shape from OSMNX\u001b[0m\u001b[0;34m\u001b[0m\u001b[0;34m\u001b[0m\u001b[0;34m\u001b[0m\u001b[0m\n\u001b[0;32m---> 93\u001b[0;31m                 \u001b[0mbase_shape\u001b[0m \u001b[0;34m=\u001b[0m \u001b[0mutils\u001b[0m\u001b[0;34m.\u001b[0m\u001b[0mbbox_from_name\u001b[0m\u001b[0;34m(\u001b[0m\u001b[0mbase_shape\u001b[0m\u001b[0;34m)\u001b[0m\u001b[0;34m\u001b[0m\u001b[0;34m\u001b[0m\u001b[0m\n\u001b[0m\u001b[1;32m     94\u001b[0m \u001b[0;34m\u001b[0m\u001b[0m\n\u001b[1;32m     95\u001b[0m             \u001b[0;32melif\u001b[0m \u001b[0misinstance\u001b[0m\u001b[0;34m(\u001b[0m\u001b[0mbase_shape\u001b[0m\u001b[0;34m,\u001b[0m \u001b[0mgpd\u001b[0m\u001b[0;34m.\u001b[0m\u001b[0mGeoDataFrame\u001b[0m\u001b[0;34m)\u001b[0m \u001b[0;32mor\u001b[0m \u001b[0misinstance\u001b[0m\u001b[0;34m(\u001b[0m\u001b[0mbase_shape\u001b[0m\u001b[0;34m,\u001b[0m \u001b[0mgpd\u001b[0m\u001b[0;34m.\u001b[0m\u001b[0mGeoSeries\u001b[0m\u001b[0;34m)\u001b[0m\u001b[0;34m:\u001b[0m\u001b[0;34m\u001b[0m\u001b[0;34m\u001b[0m\u001b[0m\n",
      "\u001b[0;32m~/anaconda3/envs/test/lib/python3.7/site-packages/scikit_mobility-1.0-py3.7.egg/skmob/utils/utils.py\u001b[0m in \u001b[0;36mbbox_from_name\u001b[0;34m(area_name, crs)\u001b[0m\n\u001b[1;32m    204\u001b[0m \u001b[0;32mdef\u001b[0m \u001b[0mbbox_from_name\u001b[0m\u001b[0;34m(\u001b[0m\u001b[0marea_name\u001b[0m\u001b[0;34m,\u001b[0m \u001b[0mcrs\u001b[0m\u001b[0;34m=\u001b[0m\u001b[0;32mNone\u001b[0m\u001b[0;34m)\u001b[0m\u001b[0;34m:\u001b[0m\u001b[0;34m\u001b[0m\u001b[0;34m\u001b[0m\u001b[0m\n\u001b[1;32m    205\u001b[0m     \u001b[0;31m# Get the shape by using osmnx, it returns the shape in DEFAULT_CRS\u001b[0m\u001b[0;34m\u001b[0m\u001b[0;34m\u001b[0m\u001b[0;34m\u001b[0m\u001b[0m\n\u001b[0;32m--> 206\u001b[0;31m     \u001b[0mboundary\u001b[0m \u001b[0;34m=\u001b[0m \u001b[0mosmnx\u001b[0m\u001b[0;34m.\u001b[0m\u001b[0mgdf_from_place\u001b[0m\u001b[0;34m(\u001b[0m\u001b[0marea_name\u001b[0m\u001b[0;34m)\u001b[0m\u001b[0;34m\u001b[0m\u001b[0;34m\u001b[0m\u001b[0m\n\u001b[0m\u001b[1;32m    207\u001b[0m \u001b[0;34m\u001b[0m\u001b[0m\n\u001b[1;32m    208\u001b[0m     \u001b[0;32mif\u001b[0m \u001b[0misinstance\u001b[0m\u001b[0;34m(\u001b[0m\u001b[0mboundary\u001b[0m\u001b[0;34m.\u001b[0m\u001b[0mloc\u001b[0m\u001b[0;34m[\u001b[0m\u001b[0;36m0\u001b[0m\u001b[0;34m]\u001b[0m\u001b[0;34m[\u001b[0m\u001b[0;34m'geometry'\u001b[0m\u001b[0;34m]\u001b[0m\u001b[0;34m,\u001b[0m \u001b[0mshapely\u001b[0m\u001b[0;34m.\u001b[0m\u001b[0mgeometry\u001b[0m\u001b[0;34m.\u001b[0m\u001b[0mPoint\u001b[0m\u001b[0;34m)\u001b[0m\u001b[0;34m:\u001b[0m\u001b[0;34m\u001b[0m\u001b[0;34m\u001b[0m\u001b[0m\n",
      "\u001b[0;32m~/anaconda3/envs/test/lib/python3.7/site-packages/osmnx-0.10-py3.7.egg/osmnx/core.py\u001b[0m in \u001b[0;36mgdf_from_place\u001b[0;34m(query, gdf_name, which_result, buffer_dist)\u001b[0m\n\u001b[1;32m    442\u001b[0m \u001b[0;34m\u001b[0m\u001b[0m\n\u001b[1;32m    443\u001b[0m     \u001b[0;31m# get the data from OSM\u001b[0m\u001b[0;34m\u001b[0m\u001b[0;34m\u001b[0m\u001b[0;34m\u001b[0m\u001b[0m\n\u001b[0;32m--> 444\u001b[0;31m     \u001b[0mdata\u001b[0m \u001b[0;34m=\u001b[0m \u001b[0mosm_polygon_download\u001b[0m\u001b[0;34m(\u001b[0m\u001b[0mquery\u001b[0m\u001b[0;34m,\u001b[0m \u001b[0mlimit\u001b[0m\u001b[0;34m=\u001b[0m\u001b[0mwhich_result\u001b[0m\u001b[0;34m)\u001b[0m\u001b[0;34m\u001b[0m\u001b[0;34m\u001b[0m\u001b[0m\n\u001b[0m\u001b[1;32m    445\u001b[0m     \u001b[0;32mif\u001b[0m \u001b[0mlen\u001b[0m\u001b[0;34m(\u001b[0m\u001b[0mdata\u001b[0m\u001b[0;34m)\u001b[0m \u001b[0;34m>=\u001b[0m \u001b[0mwhich_result\u001b[0m\u001b[0;34m:\u001b[0m\u001b[0;34m\u001b[0m\u001b[0;34m\u001b[0m\u001b[0m\n\u001b[1;32m    446\u001b[0m \u001b[0;34m\u001b[0m\u001b[0m\n",
      "\u001b[0;32m~/anaconda3/envs/test/lib/python3.7/site-packages/osmnx-0.10-py3.7.egg/osmnx/core.py\u001b[0m in \u001b[0;36mosm_polygon_download\u001b[0;34m(query, limit, polygon_geojson)\u001b[0m\n\u001b[1;32m    410\u001b[0m \u001b[0;34m\u001b[0m\u001b[0m\n\u001b[1;32m    411\u001b[0m     \u001b[0;31m# request the URL, return the JSON\u001b[0m\u001b[0;34m\u001b[0m\u001b[0;34m\u001b[0m\u001b[0;34m\u001b[0m\u001b[0m\n\u001b[0;32m--> 412\u001b[0;31m     \u001b[0mresponse_json\u001b[0m \u001b[0;34m=\u001b[0m \u001b[0mnominatim_request\u001b[0m\u001b[0;34m(\u001b[0m\u001b[0mparams\u001b[0m\u001b[0;34m=\u001b[0m\u001b[0mparams\u001b[0m\u001b[0;34m,\u001b[0m \u001b[0mtimeout\u001b[0m\u001b[0;34m=\u001b[0m\u001b[0;36m30\u001b[0m\u001b[0;34m)\u001b[0m\u001b[0;34m\u001b[0m\u001b[0;34m\u001b[0m\u001b[0m\n\u001b[0m\u001b[1;32m    413\u001b[0m     \u001b[0;32mreturn\u001b[0m \u001b[0mresponse_json\u001b[0m\u001b[0;34m\u001b[0m\u001b[0;34m\u001b[0m\u001b[0m\n\u001b[1;32m    414\u001b[0m \u001b[0;34m\u001b[0m\u001b[0m\n",
      "\u001b[0;32m~/anaconda3/envs/test/lib/python3.7/site-packages/osmnx-0.10-py3.7.egg/osmnx/core.py\u001b[0m in \u001b[0;36mnominatim_request\u001b[0;34m(params, type, pause_duration, timeout, error_pause_duration)\u001b[0m\n\u001b[1;32m    266\u001b[0m         \u001b[0mstart_time\u001b[0m \u001b[0;34m=\u001b[0m \u001b[0mtime\u001b[0m\u001b[0;34m.\u001b[0m\u001b[0mtime\u001b[0m\u001b[0;34m(\u001b[0m\u001b[0;34m)\u001b[0m\u001b[0;34m\u001b[0m\u001b[0;34m\u001b[0m\u001b[0m\n\u001b[1;32m    267\u001b[0m         \u001b[0mlog\u001b[0m\u001b[0;34m(\u001b[0m\u001b[0;34m'Requesting {} with timeout={}'\u001b[0m\u001b[0;34m.\u001b[0m\u001b[0mformat\u001b[0m\u001b[0;34m(\u001b[0m\u001b[0mprepared_url\u001b[0m\u001b[0;34m,\u001b[0m \u001b[0mtimeout\u001b[0m\u001b[0;34m)\u001b[0m\u001b[0;34m)\u001b[0m\u001b[0;34m\u001b[0m\u001b[0;34m\u001b[0m\u001b[0m\n\u001b[0;32m--> 268\u001b[0;31m         \u001b[0mresponse\u001b[0m \u001b[0;34m=\u001b[0m \u001b[0mrequests\u001b[0m\u001b[0;34m.\u001b[0m\u001b[0mget\u001b[0m\u001b[0;34m(\u001b[0m\u001b[0murl\u001b[0m\u001b[0;34m,\u001b[0m \u001b[0mparams\u001b[0m\u001b[0;34m=\u001b[0m\u001b[0mparams\u001b[0m\u001b[0;34m,\u001b[0m \u001b[0mtimeout\u001b[0m\u001b[0;34m=\u001b[0m\u001b[0mtimeout\u001b[0m\u001b[0;34m,\u001b[0m \u001b[0mheaders\u001b[0m\u001b[0;34m=\u001b[0m\u001b[0mget_http_headers\u001b[0m\u001b[0;34m(\u001b[0m\u001b[0;34m)\u001b[0m\u001b[0;34m)\u001b[0m\u001b[0;34m\u001b[0m\u001b[0;34m\u001b[0m\u001b[0m\n\u001b[0m\u001b[1;32m    269\u001b[0m \u001b[0;34m\u001b[0m\u001b[0m\n\u001b[1;32m    270\u001b[0m         \u001b[0;31m# get the response size and the domain, log result\u001b[0m\u001b[0;34m\u001b[0m\u001b[0;34m\u001b[0m\u001b[0;34m\u001b[0m\u001b[0m\n",
      "\u001b[0;32m~/anaconda3/envs/test/lib/python3.7/site-packages/requests-2.22.0-py3.7.egg/requests/api.py\u001b[0m in \u001b[0;36mget\u001b[0;34m(url, params, **kwargs)\u001b[0m\n\u001b[1;32m     73\u001b[0m \u001b[0;34m\u001b[0m\u001b[0m\n\u001b[1;32m     74\u001b[0m     \u001b[0mkwargs\u001b[0m\u001b[0;34m.\u001b[0m\u001b[0msetdefault\u001b[0m\u001b[0;34m(\u001b[0m\u001b[0;34m'allow_redirects'\u001b[0m\u001b[0;34m,\u001b[0m \u001b[0;32mTrue\u001b[0m\u001b[0;34m)\u001b[0m\u001b[0;34m\u001b[0m\u001b[0;34m\u001b[0m\u001b[0m\n\u001b[0;32m---> 75\u001b[0;31m     \u001b[0;32mreturn\u001b[0m \u001b[0mrequest\u001b[0m\u001b[0;34m(\u001b[0m\u001b[0;34m'get'\u001b[0m\u001b[0;34m,\u001b[0m \u001b[0murl\u001b[0m\u001b[0;34m,\u001b[0m \u001b[0mparams\u001b[0m\u001b[0;34m=\u001b[0m\u001b[0mparams\u001b[0m\u001b[0;34m,\u001b[0m \u001b[0;34m**\u001b[0m\u001b[0mkwargs\u001b[0m\u001b[0;34m)\u001b[0m\u001b[0;34m\u001b[0m\u001b[0;34m\u001b[0m\u001b[0m\n\u001b[0m\u001b[1;32m     76\u001b[0m \u001b[0;34m\u001b[0m\u001b[0m\n\u001b[1;32m     77\u001b[0m \u001b[0;34m\u001b[0m\u001b[0m\n",
      "\u001b[0;32m~/anaconda3/envs/test/lib/python3.7/site-packages/requests-2.22.0-py3.7.egg/requests/api.py\u001b[0m in \u001b[0;36mrequest\u001b[0;34m(method, url, **kwargs)\u001b[0m\n\u001b[1;32m     58\u001b[0m     \u001b[0;31m# cases, and look like a memory leak in others.\u001b[0m\u001b[0;34m\u001b[0m\u001b[0;34m\u001b[0m\u001b[0;34m\u001b[0m\u001b[0m\n\u001b[1;32m     59\u001b[0m     \u001b[0;32mwith\u001b[0m \u001b[0msessions\u001b[0m\u001b[0;34m.\u001b[0m\u001b[0mSession\u001b[0m\u001b[0;34m(\u001b[0m\u001b[0;34m)\u001b[0m \u001b[0;32mas\u001b[0m \u001b[0msession\u001b[0m\u001b[0;34m:\u001b[0m\u001b[0;34m\u001b[0m\u001b[0;34m\u001b[0m\u001b[0m\n\u001b[0;32m---> 60\u001b[0;31m         \u001b[0;32mreturn\u001b[0m \u001b[0msession\u001b[0m\u001b[0;34m.\u001b[0m\u001b[0mrequest\u001b[0m\u001b[0;34m(\u001b[0m\u001b[0mmethod\u001b[0m\u001b[0;34m=\u001b[0m\u001b[0mmethod\u001b[0m\u001b[0;34m,\u001b[0m \u001b[0murl\u001b[0m\u001b[0;34m=\u001b[0m\u001b[0murl\u001b[0m\u001b[0;34m,\u001b[0m \u001b[0;34m**\u001b[0m\u001b[0mkwargs\u001b[0m\u001b[0;34m)\u001b[0m\u001b[0;34m\u001b[0m\u001b[0;34m\u001b[0m\u001b[0m\n\u001b[0m\u001b[1;32m     61\u001b[0m \u001b[0;34m\u001b[0m\u001b[0m\n\u001b[1;32m     62\u001b[0m \u001b[0;34m\u001b[0m\u001b[0m\n",
      "\u001b[0;32m~/anaconda3/envs/test/lib/python3.7/site-packages/requests-2.22.0-py3.7.egg/requests/sessions.py\u001b[0m in \u001b[0;36mrequest\u001b[0;34m(self, method, url, params, data, headers, cookies, files, auth, timeout, allow_redirects, proxies, hooks, stream, verify, cert, json)\u001b[0m\n\u001b[1;32m    531\u001b[0m         }\n\u001b[1;32m    532\u001b[0m         \u001b[0msend_kwargs\u001b[0m\u001b[0;34m.\u001b[0m\u001b[0mupdate\u001b[0m\u001b[0;34m(\u001b[0m\u001b[0msettings\u001b[0m\u001b[0;34m)\u001b[0m\u001b[0;34m\u001b[0m\u001b[0;34m\u001b[0m\u001b[0m\n\u001b[0;32m--> 533\u001b[0;31m         \u001b[0mresp\u001b[0m \u001b[0;34m=\u001b[0m \u001b[0mself\u001b[0m\u001b[0;34m.\u001b[0m\u001b[0msend\u001b[0m\u001b[0;34m(\u001b[0m\u001b[0mprep\u001b[0m\u001b[0;34m,\u001b[0m \u001b[0;34m**\u001b[0m\u001b[0msend_kwargs\u001b[0m\u001b[0;34m)\u001b[0m\u001b[0;34m\u001b[0m\u001b[0;34m\u001b[0m\u001b[0m\n\u001b[0m\u001b[1;32m    534\u001b[0m \u001b[0;34m\u001b[0m\u001b[0m\n\u001b[1;32m    535\u001b[0m         \u001b[0;32mreturn\u001b[0m \u001b[0mresp\u001b[0m\u001b[0;34m\u001b[0m\u001b[0;34m\u001b[0m\u001b[0m\n",
      "\u001b[0;32m~/anaconda3/envs/test/lib/python3.7/site-packages/requests-2.22.0-py3.7.egg/requests/sessions.py\u001b[0m in \u001b[0;36msend\u001b[0;34m(self, request, **kwargs)\u001b[0m\n\u001b[1;32m    644\u001b[0m \u001b[0;34m\u001b[0m\u001b[0m\n\u001b[1;32m    645\u001b[0m         \u001b[0;31m# Send the request\u001b[0m\u001b[0;34m\u001b[0m\u001b[0;34m\u001b[0m\u001b[0;34m\u001b[0m\u001b[0m\n\u001b[0;32m--> 646\u001b[0;31m         \u001b[0mr\u001b[0m \u001b[0;34m=\u001b[0m \u001b[0madapter\u001b[0m\u001b[0;34m.\u001b[0m\u001b[0msend\u001b[0m\u001b[0;34m(\u001b[0m\u001b[0mrequest\u001b[0m\u001b[0;34m,\u001b[0m \u001b[0;34m**\u001b[0m\u001b[0mkwargs\u001b[0m\u001b[0;34m)\u001b[0m\u001b[0;34m\u001b[0m\u001b[0;34m\u001b[0m\u001b[0m\n\u001b[0m\u001b[1;32m    647\u001b[0m \u001b[0;34m\u001b[0m\u001b[0m\n\u001b[1;32m    648\u001b[0m         \u001b[0;31m# Total elapsed time of the request (approximately)\u001b[0m\u001b[0;34m\u001b[0m\u001b[0;34m\u001b[0m\u001b[0;34m\u001b[0m\u001b[0m\n",
      "\u001b[0;32m~/anaconda3/envs/test/lib/python3.7/site-packages/requests-2.22.0-py3.7.egg/requests/adapters.py\u001b[0m in \u001b[0;36msend\u001b[0;34m(self, request, stream, timeout, verify, cert, proxies)\u001b[0m\n\u001b[1;32m    527\u001b[0m                 \u001b[0;32mraise\u001b[0m \u001b[0mSSLError\u001b[0m\u001b[0;34m(\u001b[0m\u001b[0me\u001b[0m\u001b[0;34m,\u001b[0m \u001b[0mrequest\u001b[0m\u001b[0;34m=\u001b[0m\u001b[0mrequest\u001b[0m\u001b[0;34m)\u001b[0m\u001b[0;34m\u001b[0m\u001b[0;34m\u001b[0m\u001b[0m\n\u001b[1;32m    528\u001b[0m             \u001b[0;32melif\u001b[0m \u001b[0misinstance\u001b[0m\u001b[0;34m(\u001b[0m\u001b[0me\u001b[0m\u001b[0;34m,\u001b[0m \u001b[0mReadTimeoutError\u001b[0m\u001b[0;34m)\u001b[0m\u001b[0;34m:\u001b[0m\u001b[0;34m\u001b[0m\u001b[0;34m\u001b[0m\u001b[0m\n\u001b[0;32m--> 529\u001b[0;31m                 \u001b[0;32mraise\u001b[0m \u001b[0mReadTimeout\u001b[0m\u001b[0;34m(\u001b[0m\u001b[0me\u001b[0m\u001b[0;34m,\u001b[0m \u001b[0mrequest\u001b[0m\u001b[0;34m=\u001b[0m\u001b[0mrequest\u001b[0m\u001b[0;34m)\u001b[0m\u001b[0;34m\u001b[0m\u001b[0;34m\u001b[0m\u001b[0m\n\u001b[0m\u001b[1;32m    530\u001b[0m             \u001b[0;32melse\u001b[0m\u001b[0;34m:\u001b[0m\u001b[0;34m\u001b[0m\u001b[0;34m\u001b[0m\u001b[0m\n\u001b[1;32m    531\u001b[0m                 \u001b[0;32mraise\u001b[0m\u001b[0;34m\u001b[0m\u001b[0;34m\u001b[0m\u001b[0m\n",
      "\u001b[0;31mReadTimeout\u001b[0m: HTTPSConnectionPool(host='nominatim.openstreetmap.org', port=443): Read timed out. (read timeout=30)"
     ]
    }
   ],
   "source": [
    "from skmob.tessellation import tilers\n",
    "\n",
    "# Create tessellation from a base shape\n",
    "\n",
    "tessellation = tilers.tiler.get(\"squared\", meters=1000, \n",
    "                                base_shape=\"Rome, Italy\")\n",
    "tessellation.head(5)"
   ]
  },
  {
   "cell_type": "code",
   "execution_count": null,
   "metadata": {
    "slideshow": {
     "slide_type": "skip"
    }
   },
   "outputs": [],
   "source": [
    "tessellation.plot()"
   ]
  },
  {
   "cell_type": "code",
   "execution_count": 29,
   "metadata": {
    "slideshow": {
     "slide_type": "skip"
    }
   },
   "outputs": [
    {
     "ename": "NameError",
     "evalue": "name 'tessellation' is not defined",
     "output_type": "error",
     "traceback": [
      "\u001b[0;31m---------------------------------------------------------------------------\u001b[0m",
      "\u001b[0;31mNameError\u001b[0m                                 Traceback (most recent call last)",
      "\u001b[0;32m<ipython-input-29-83e90db9ba8f>\u001b[0m in \u001b[0;36m<module>\u001b[0;34m\u001b[0m\n\u001b[1;32m      1\u001b[0m \u001b[0;32mfrom\u001b[0m \u001b[0mskmob\u001b[0m\u001b[0;34m.\u001b[0m\u001b[0mutils\u001b[0m \u001b[0;32mimport\u001b[0m \u001b[0mplot\u001b[0m\u001b[0;34m\u001b[0m\u001b[0;34m\u001b[0m\u001b[0m\n\u001b[0;32m----> 2\u001b[0;31m \u001b[0mplot\u001b[0m\u001b[0;34m.\u001b[0m\u001b[0mplot_gdf\u001b[0m\u001b[0;34m(\u001b[0m\u001b[0mtessellation\u001b[0m\u001b[0;34m,\u001b[0m \u001b[0mzoom\u001b[0m\u001b[0;34m=\u001b[0m\u001b[0;36m12\u001b[0m\u001b[0;34m,\u001b[0m \u001b[0mpopup_features\u001b[0m\u001b[0;34m=\u001b[0m\u001b[0;34m[\u001b[0m\u001b[0;34m'tile_ID'\u001b[0m\u001b[0;34m]\u001b[0m\u001b[0;34m)\u001b[0m\u001b[0;34m\u001b[0m\u001b[0;34m\u001b[0m\u001b[0m\n\u001b[0m",
      "\u001b[0;31mNameError\u001b[0m: name 'tessellation' is not defined"
     ]
    }
   ],
   "source": [
    "from skmob.utils import plot\n",
    "plot.plot_gdf(tessellation, zoom=12, popup_features=['tile_ID'])"
   ]
  },
  {
   "cell_type": "code",
   "execution_count": 30,
   "metadata": {
    "slideshow": {
     "slide_type": "subslide"
    }
   },
   "outputs": [
    {
     "data": {
      "text/html": [
       "<div>\n",
       "<style scoped>\n",
       "    .dataframe tbody tr th:only-of-type {\n",
       "        vertical-align: middle;\n",
       "    }\n",
       "\n",
       "    .dataframe tbody tr th {\n",
       "        vertical-align: top;\n",
       "    }\n",
       "\n",
       "    .dataframe thead th {\n",
       "        text-align: right;\n",
       "    }\n",
       "</style>\n",
       "<table border=\"1\" class=\"dataframe\">\n",
       "  <thead>\n",
       "    <tr style=\"text-align: right;\">\n",
       "      <th></th>\n",
       "      <th>lat</th>\n",
       "      <th>lng</th>\n",
       "      <th>datetime</th>\n",
       "      <th>uid</th>\n",
       "      <th>geometry</th>\n",
       "    </tr>\n",
       "  </thead>\n",
       "  <tbody>\n",
       "    <tr>\n",
       "      <th>0</th>\n",
       "      <td>39.984094</td>\n",
       "      <td>116.319236</td>\n",
       "      <td>2008-10-23 05:53:05</td>\n",
       "      <td>1</td>\n",
       "      <td>POINT (116.31924 39.98409)</td>\n",
       "    </tr>\n",
       "    <tr>\n",
       "      <th>1</th>\n",
       "      <td>39.984198</td>\n",
       "      <td>116.319322</td>\n",
       "      <td>2008-10-23 05:53:06</td>\n",
       "      <td>1</td>\n",
       "      <td>POINT (116.31932 39.98420)</td>\n",
       "    </tr>\n",
       "    <tr>\n",
       "      <th>2</th>\n",
       "      <td>39.984224</td>\n",
       "      <td>116.319402</td>\n",
       "      <td>2008-10-23 05:53:11</td>\n",
       "      <td>1</td>\n",
       "      <td>POINT (116.31940 39.98422)</td>\n",
       "    </tr>\n",
       "    <tr>\n",
       "      <th>3</th>\n",
       "      <td>39.984211</td>\n",
       "      <td>116.319389</td>\n",
       "      <td>2008-10-23 05:53:16</td>\n",
       "      <td>1</td>\n",
       "      <td>POINT (116.31939 39.98421)</td>\n",
       "    </tr>\n",
       "    <tr>\n",
       "      <th>4</th>\n",
       "      <td>39.984217</td>\n",
       "      <td>116.319422</td>\n",
       "      <td>2008-10-23 05:53:21</td>\n",
       "      <td>1</td>\n",
       "      <td>POINT (116.31942 39.98422)</td>\n",
       "    </tr>\n",
       "  </tbody>\n",
       "</table>\n",
       "</div>"
      ],
      "text/plain": [
       "         lat         lng            datetime  uid                    geometry\n",
       "0  39.984094  116.319236 2008-10-23 05:53:05    1  POINT (116.31924 39.98409)\n",
       "1  39.984198  116.319322 2008-10-23 05:53:06    1  POINT (116.31932 39.98420)\n",
       "2  39.984224  116.319402 2008-10-23 05:53:11    1  POINT (116.31940 39.98422)\n",
       "3  39.984211  116.319389 2008-10-23 05:53:16    1  POINT (116.31939 39.98421)\n",
       "4  39.984217  116.319422 2008-10-23 05:53:21    1  POINT (116.31942 39.98422)"
      ]
     },
     "execution_count": 30,
     "metadata": {},
     "output_type": "execute_result"
    }
   ],
   "source": [
    "# From a bounding box that contains all the points present in the dataframe\n",
    "\n",
    "tdf = skmob.TrajDataFrame.from_file('./data/geolife_sample.txt.gz', sep=',')\n",
    "gdf = tdf.to_geodataframe() \n",
    "gdf.head()"
   ]
  },
  {
   "cell_type": "code",
   "execution_count": 31,
   "metadata": {
    "slideshow": {
     "slide_type": "subslide"
    }
   },
   "outputs": [],
   "source": [
    "from skmob.tessellation import tilers\n",
    "tessellation = tilers.tiler.get(\"squared\", base_shape=gdf, meters=10000)\n",
    "\n",
    "# NOTE: It accepts also geodataframe with list of polygons"
   ]
  },
  {
   "cell_type": "code",
   "execution_count": 32,
   "metadata": {
    "slideshow": {
     "slide_type": "-"
    }
   },
   "outputs": [
    {
     "data": {
      "text/html": [
       "<div>\n",
       "<style scoped>\n",
       "    .dataframe tbody tr th:only-of-type {\n",
       "        vertical-align: middle;\n",
       "    }\n",
       "\n",
       "    .dataframe tbody tr th {\n",
       "        vertical-align: top;\n",
       "    }\n",
       "\n",
       "    .dataframe thead th {\n",
       "        text-align: right;\n",
       "    }\n",
       "</style>\n",
       "<table border=\"1\" class=\"dataframe\">\n",
       "  <thead>\n",
       "    <tr style=\"text-align: right;\">\n",
       "      <th></th>\n",
       "      <th>tile_ID</th>\n",
       "      <th>geometry</th>\n",
       "    </tr>\n",
       "  </thead>\n",
       "  <tbody>\n",
       "    <tr>\n",
       "      <th>0</th>\n",
       "      <td>0</td>\n",
       "      <td>POLYGON ((113.54884 22.14758, 113.54884 22.230...</td>\n",
       "    </tr>\n",
       "    <tr>\n",
       "      <th>1</th>\n",
       "      <td>1</td>\n",
       "      <td>POLYGON ((113.54884 22.23076, 113.54884 22.313...</td>\n",
       "    </tr>\n",
       "    <tr>\n",
       "      <th>2</th>\n",
       "      <td>2</td>\n",
       "      <td>POLYGON ((113.54884 22.31389, 113.54884 22.396...</td>\n",
       "    </tr>\n",
       "    <tr>\n",
       "      <th>3</th>\n",
       "      <td>3</td>\n",
       "      <td>POLYGON ((113.54884 22.39697, 113.54884 22.480...</td>\n",
       "    </tr>\n",
       "    <tr>\n",
       "      <th>4</th>\n",
       "      <td>4</td>\n",
       "      <td>POLYGON ((113.54884 22.48000, 113.54884 22.562...</td>\n",
       "    </tr>\n",
       "  </tbody>\n",
       "</table>\n",
       "</div>"
      ],
      "text/plain": [
       "  tile_ID                                           geometry\n",
       "0       0  POLYGON ((113.54884 22.14758, 113.54884 22.230...\n",
       "1       1  POLYGON ((113.54884 22.23076, 113.54884 22.313...\n",
       "2       2  POLYGON ((113.54884 22.31389, 113.54884 22.396...\n",
       "3       3  POLYGON ((113.54884 22.39697, 113.54884 22.480...\n",
       "4       4  POLYGON ((113.54884 22.48000, 113.54884 22.562..."
      ]
     },
     "execution_count": 32,
     "metadata": {},
     "output_type": "execute_result"
    }
   ],
   "source": [
    "tessellation.head()"
   ]
  },
  {
   "cell_type": "markdown",
   "metadata": {
    "slideshow": {
     "slide_type": "subslide"
    }
   },
   "source": [
    "## Construction of a `FlowDataFrame`\n",
    "\n",
    "The `FlowDataFrame` can be created from:\n",
    "\n",
    "- a python list or a numpy array\n",
    "- a pandas `DataFrame`\n",
    "- a python dictionary\n"
   ]
  },
  {
   "cell_type": "markdown",
   "metadata": {
    "slideshow": {
     "slide_type": "subslide"
    }
   },
   "source": [
    "It supports the input data format:\n",
    "    \n",
    "- `origin`, `destination`, `flow`, `datetime` (optional)\n",
    "\n",
    "NOTE: the field `tessellation` is mandatory. In the case the tessellation doesn't have the field tile_ID, the name of this column must be specified with the argument `tile_id`."
   ]
  },
  {
   "cell_type": "markdown",
   "metadata": {
    "slideshow": {
     "slide_type": "skip"
    }
   },
   "source": [
    "### From `list`"
   ]
  },
  {
   "cell_type": "code",
   "execution_count": 33,
   "metadata": {
    "slideshow": {
     "slide_type": "skip"
    }
   },
   "outputs": [
    {
     "data": {
      "text/html": [
       "<div>\n",
       "<style scoped>\n",
       "    .dataframe tbody tr th:only-of-type {\n",
       "        vertical-align: middle;\n",
       "    }\n",
       "\n",
       "    .dataframe tbody tr th {\n",
       "        vertical-align: top;\n",
       "    }\n",
       "\n",
       "    .dataframe thead th {\n",
       "        text-align: right;\n",
       "    }\n",
       "</style>\n",
       "<table border=\"1\" class=\"dataframe\">\n",
       "  <thead>\n",
       "    <tr style=\"text-align: right;\">\n",
       "      <th></th>\n",
       "      <th>flow_value</th>\n",
       "      <th>origin_id</th>\n",
       "      <th>destination_id</th>\n",
       "      <th>datetime</th>\n",
       "    </tr>\n",
       "  </thead>\n",
       "  <tbody>\n",
       "    <tr>\n",
       "      <th>0</th>\n",
       "      <td>10</td>\n",
       "      <td>1</td>\n",
       "      <td>10</td>\n",
       "      <td>2008-10-23 13:53:05</td>\n",
       "    </tr>\n",
       "    <tr>\n",
       "      <th>1</th>\n",
       "      <td>16</td>\n",
       "      <td>23</td>\n",
       "      <td>45</td>\n",
       "      <td>2008-10-23 13:53:06</td>\n",
       "    </tr>\n",
       "    <tr>\n",
       "      <th>2</th>\n",
       "      <td>1</td>\n",
       "      <td>11</td>\n",
       "      <td>45</td>\n",
       "      <td>2008-10-23 13:53:11</td>\n",
       "    </tr>\n",
       "  </tbody>\n",
       "</table>\n",
       "</div>"
      ],
      "text/plain": [
       "   flow_value  origin_id  destination_id             datetime\n",
       "0          10          1              10  2008-10-23 13:53:05\n",
       "1          16         23              45  2008-10-23 13:53:06\n",
       "2           1         11              45  2008-10-23 13:53:11"
      ]
     },
     "execution_count": 33,
     "metadata": {},
     "output_type": "execute_result"
    }
   ],
   "source": [
    "# From a list\n",
    "\n",
    "data_list = [[10, 1, 10, '2008-10-23 13:53:05'],\n",
    "             [16, 23, 45, '2008-10-23 13:53:06'],\n",
    "             [1, 11, 45, '2008-10-23 13:53:11']]\n",
    "\n",
    "df = pd.DataFrame(data_list, columns=['flow_value', \n",
    "                  'origin_id', 'destination_id', 'datetime'])\n",
    "df"
   ]
  },
  {
   "cell_type": "code",
   "execution_count": 34,
   "metadata": {
    "slideshow": {
     "slide_type": "skip"
    }
   },
   "outputs": [
    {
     "data": {
      "text/html": [
       "<div>\n",
       "<style scoped>\n",
       "    .dataframe tbody tr th:only-of-type {\n",
       "        vertical-align: middle;\n",
       "    }\n",
       "\n",
       "    .dataframe tbody tr th {\n",
       "        vertical-align: top;\n",
       "    }\n",
       "\n",
       "    .dataframe thead th {\n",
       "        text-align: right;\n",
       "    }\n",
       "</style>\n",
       "<table border=\"1\" class=\"dataframe\">\n",
       "  <thead>\n",
       "    <tr style=\"text-align: right;\">\n",
       "      <th></th>\n",
       "      <th>flow</th>\n",
       "      <th>origin</th>\n",
       "      <th>destination</th>\n",
       "      <th>datetime</th>\n",
       "    </tr>\n",
       "  </thead>\n",
       "  <tbody>\n",
       "    <tr>\n",
       "      <th>0</th>\n",
       "      <td>10</td>\n",
       "      <td>1</td>\n",
       "      <td>10</td>\n",
       "      <td>2008-10-23 13:53:05</td>\n",
       "    </tr>\n",
       "    <tr>\n",
       "      <th>1</th>\n",
       "      <td>16</td>\n",
       "      <td>23</td>\n",
       "      <td>45</td>\n",
       "      <td>2008-10-23 13:53:06</td>\n",
       "    </tr>\n",
       "    <tr>\n",
       "      <th>2</th>\n",
       "      <td>1</td>\n",
       "      <td>11</td>\n",
       "      <td>45</td>\n",
       "      <td>2008-10-23 13:53:11</td>\n",
       "    </tr>\n",
       "  </tbody>\n",
       "</table>\n",
       "</div>"
      ],
      "text/plain": [
       "   flow origin destination             datetime\n",
       "0    10      1          10  2008-10-23 13:53:05\n",
       "1    16     23          45  2008-10-23 13:53:06\n",
       "2     1     11          45  2008-10-23 13:53:11"
      ]
     },
     "execution_count": 34,
     "metadata": {},
     "output_type": "execute_result"
    }
   ],
   "source": [
    "fdf = skmob.FlowDataFrame(df, origin='origin_id', destination='destination_id', \n",
    "                          tessellation=tessellation, \n",
    "                          flow='flow_value')\n",
    "fdf"
   ]
  },
  {
   "cell_type": "code",
   "execution_count": 35,
   "metadata": {
    "slideshow": {
     "slide_type": "skip"
    }
   },
   "outputs": [
    {
     "name": "stderr",
     "output_type": "stream",
     "text": [
      "/home/darshan/anaconda3/envs/test/lib/python3.7/site-packages/scikit_mobility-1.0-py3.7.egg/skmob/core/flowdataframe.py:122: FutureWarning: `item` has been deprecated and will be removed in a future version\n"
     ]
    },
    {
     "data": {
      "text/plain": [
       "10"
      ]
     },
     "execution_count": 35,
     "metadata": {},
     "output_type": "execute_result"
    }
   ],
   "source": [
    "# to access to the single flow\n",
    "fdf.get_flow(\"1\",\"10\")"
   ]
  },
  {
   "cell_type": "code",
   "execution_count": 36,
   "metadata": {
    "slideshow": {
     "slide_type": "skip"
    }
   },
   "outputs": [
    {
     "name": "stderr",
     "output_type": "stream",
     "text": [
      "/home/darshan/anaconda3/envs/test/lib/python3.7/site-packages/scikit_mobility-1.0-py3.7.egg/skmob/core/flowdataframe.py:144: FutureWarning: `item` has been deprecated and will be removed in a future version\n",
      "/home/darshan/anaconda3/envs/test/lib/python3.7/site-packages/scikit_mobility-1.0-py3.7.egg/skmob/core/flowdataframe.py:145: FutureWarning: `item` has been deprecated and will be removed in a future version\n"
     ]
    },
    {
     "data": {
      "text/plain": [
       "array([[0., 0., 0., ..., 0., 0., 0.],\n",
       "       [0., 0., 0., ..., 0., 0., 0.],\n",
       "       [0., 0., 0., ..., 0., 0., 0.],\n",
       "       ...,\n",
       "       [0., 0., 0., ..., 0., 0., 0.],\n",
       "       [0., 0., 0., ..., 0., 0., 0.],\n",
       "       [0., 0., 0., ..., 0., 0., 0.]])"
      ]
     },
     "execution_count": 36,
     "metadata": {},
     "output_type": "execute_result"
    }
   ],
   "source": [
    "# TrajDataFrame can be converted into a sparse matrix of shape (len(tessellation), len(tessellation))\n",
    "fdf.to_matrix()"
   ]
  },
  {
   "cell_type": "markdown",
   "metadata": {
    "slideshow": {
     "slide_type": "subslide"
    }
   },
   "source": [
    "### From `file`\n",
    "\n",
    "FlowDataFrame  has its own method `from_file` to construct the object from an input csv file.\n",
    "\n",
    "It supports two different data format for the flows:\n",
    "    \n",
    "- `origin`, `destination`, `flow`, `datetime` (optional)\n",
    "- `origin_lat`, `origin_lng`, `destination_lat`, `destination_lng`, `flow`, `datetime` (optional)\n"
   ]
  },
  {
   "cell_type": "code",
   "execution_count": 37,
   "metadata": {
    "slideshow": {
     "slide_type": "subslide"
    }
   },
   "outputs": [],
   "source": [
    "import geopandas as gpd"
   ]
  },
  {
   "cell_type": "code",
   "execution_count": 38,
   "metadata": {
    "slideshow": {
     "slide_type": "fragment"
    }
   },
   "outputs": [],
   "source": [
    "tessellation = gpd.GeoDataFrame.from_file(\"data/NY_counties_2011.geojson\")\n",
    "\n",
    "fdf = skmob.FlowDataFrame.from_file(\"data/NY_commuting_flows_2011.csv\",\n",
    "                                    tessellation=tessellation, tile_id='tile_id', sep=\",\")"
   ]
  },
  {
   "cell_type": "code",
   "execution_count": 39,
   "metadata": {},
   "outputs": [
    {
     "data": {
      "text/html": [
       "<div>\n",
       "<style scoped>\n",
       "    .dataframe tbody tr th:only-of-type {\n",
       "        vertical-align: middle;\n",
       "    }\n",
       "\n",
       "    .dataframe tbody tr th {\n",
       "        vertical-align: top;\n",
       "    }\n",
       "\n",
       "    .dataframe thead th {\n",
       "        text-align: right;\n",
       "    }\n",
       "</style>\n",
       "<table border=\"1\" class=\"dataframe\">\n",
       "  <thead>\n",
       "    <tr style=\"text-align: right;\">\n",
       "      <th></th>\n",
       "      <th>flow</th>\n",
       "      <th>origin</th>\n",
       "      <th>destination</th>\n",
       "    </tr>\n",
       "  </thead>\n",
       "  <tbody>\n",
       "    <tr>\n",
       "      <th>0</th>\n",
       "      <td>121606</td>\n",
       "      <td>36001</td>\n",
       "      <td>36001</td>\n",
       "    </tr>\n",
       "    <tr>\n",
       "      <th>1</th>\n",
       "      <td>5</td>\n",
       "      <td>36001</td>\n",
       "      <td>36005</td>\n",
       "    </tr>\n",
       "    <tr>\n",
       "      <th>2</th>\n",
       "      <td>29</td>\n",
       "      <td>36001</td>\n",
       "      <td>36007</td>\n",
       "    </tr>\n",
       "  </tbody>\n",
       "</table>\n",
       "</div>"
      ],
      "text/plain": [
       "     flow origin destination\n",
       "0  121606  36001       36001\n",
       "1       5  36001       36005\n",
       "2      29  36001       36007"
      ]
     },
     "execution_count": 39,
     "metadata": {},
     "output_type": "execute_result"
    }
   ],
   "source": [
    "fdf.head(3)"
   ]
  },
  {
   "cell_type": "code",
   "execution_count": 40,
   "metadata": {
    "slideshow": {
     "slide_type": "subslide"
    }
   },
   "outputs": [
    {
     "data": {
      "text/plain": [
       "flow            int64\n",
       "origin         object\n",
       "destination    object\n",
       "dtype: object"
      ]
     },
     "execution_count": 40,
     "metadata": {},
     "output_type": "execute_result"
    }
   ],
   "source": [
    "fdf.dtypes"
   ]
  },
  {
   "cell_type": "code",
   "execution_count": 41,
   "metadata": {},
   "outputs": [
    {
     "data": {
      "text/html": [
       "<div>\n",
       "<style scoped>\n",
       "    .dataframe tbody tr th:only-of-type {\n",
       "        vertical-align: middle;\n",
       "    }\n",
       "\n",
       "    .dataframe tbody tr th {\n",
       "        vertical-align: top;\n",
       "    }\n",
       "\n",
       "    .dataframe thead th {\n",
       "        text-align: right;\n",
       "    }\n",
       "</style>\n",
       "<table border=\"1\" class=\"dataframe\">\n",
       "  <thead>\n",
       "    <tr style=\"text-align: right;\">\n",
       "      <th></th>\n",
       "      <th>tile_ID</th>\n",
       "      <th>population</th>\n",
       "      <th>geometry</th>\n",
       "    </tr>\n",
       "  </thead>\n",
       "  <tbody>\n",
       "    <tr>\n",
       "      <th>0</th>\n",
       "      <td>36019</td>\n",
       "      <td>81716</td>\n",
       "      <td>POLYGON ((-74.00667 44.88602, -74.02739 44.995...</td>\n",
       "    </tr>\n",
       "    <tr>\n",
       "      <th>1</th>\n",
       "      <td>36101</td>\n",
       "      <td>99145</td>\n",
       "      <td>POLYGON ((-77.09975 42.27421, -77.09966 42.272...</td>\n",
       "    </tr>\n",
       "    <tr>\n",
       "      <th>2</th>\n",
       "      <td>36107</td>\n",
       "      <td>50872</td>\n",
       "      <td>POLYGON ((-76.25015 42.29668, -76.24914 42.302...</td>\n",
       "    </tr>\n",
       "  </tbody>\n",
       "</table>\n",
       "</div>"
      ],
      "text/plain": [
       "  tile_ID  population                                           geometry\n",
       "0   36019       81716  POLYGON ((-74.00667 44.88602, -74.02739 44.995...\n",
       "1   36101       99145  POLYGON ((-77.09975 42.27421, -77.09966 42.272...\n",
       "2   36107       50872  POLYGON ((-76.25015 42.29668, -76.24914 42.302..."
      ]
     },
     "execution_count": 41,
     "metadata": {},
     "output_type": "execute_result"
    }
   ],
   "source": [
    "fdf.tessellation[:3]"
   ]
  },
  {
   "cell_type": "code",
   "execution_count": 42,
   "metadata": {
    "slideshow": {
     "slide_type": "subslide"
    }
   },
   "outputs": [
    {
     "data": {
      "text/html": [
       "<div>\n",
       "<style scoped>\n",
       "    .dataframe tbody tr th:only-of-type {\n",
       "        vertical-align: middle;\n",
       "    }\n",
       "\n",
       "    .dataframe tbody tr th {\n",
       "        vertical-align: top;\n",
       "    }\n",
       "\n",
       "    .dataframe thead th {\n",
       "        text-align: right;\n",
       "    }\n",
       "</style>\n",
       "<table border=\"1\" class=\"dataframe\">\n",
       "  <thead>\n",
       "    <tr style=\"text-align: right;\">\n",
       "      <th></th>\n",
       "      <th>flow</th>\n",
       "      <th>origin</th>\n",
       "      <th>destination</th>\n",
       "    </tr>\n",
       "  </thead>\n",
       "  <tbody>\n",
       "    <tr>\n",
       "      <th>0</th>\n",
       "      <td>121606</td>\n",
       "      <td>36001</td>\n",
       "      <td>36001</td>\n",
       "    </tr>\n",
       "    <tr>\n",
       "      <th>1</th>\n",
       "      <td>5</td>\n",
       "      <td>36001</td>\n",
       "      <td>36005</td>\n",
       "    </tr>\n",
       "    <tr>\n",
       "      <th>2</th>\n",
       "      <td>29</td>\n",
       "      <td>36001</td>\n",
       "      <td>36007</td>\n",
       "    </tr>\n",
       "    <tr>\n",
       "      <th>3</th>\n",
       "      <td>11</td>\n",
       "      <td>36001</td>\n",
       "      <td>36017</td>\n",
       "    </tr>\n",
       "    <tr>\n",
       "      <th>4</th>\n",
       "      <td>30</td>\n",
       "      <td>36001</td>\n",
       "      <td>36019</td>\n",
       "    </tr>\n",
       "  </tbody>\n",
       "</table>\n",
       "</div>"
      ],
      "text/plain": [
       "     flow origin destination\n",
       "0  121606  36001       36001\n",
       "1       5  36001       36005\n",
       "2      29  36001       36007\n",
       "3      11  36001       36017\n",
       "4      30  36001       36019"
      ]
     },
     "execution_count": 42,
     "metadata": {},
     "output_type": "execute_result"
    }
   ],
   "source": [
    "fdf.head()"
   ]
  },
  {
   "cell_type": "code",
   "execution_count": 43,
   "metadata": {
    "slideshow": {
     "slide_type": "-"
    }
   },
   "outputs": [
    {
     "data": {
      "text/plain": [
       "<matplotlib.axes._subplots.AxesSubplot at 0x7f94ccafb5f8>"
      ]
     },
     "execution_count": 43,
     "metadata": {},
     "output_type": "execute_result"
    },
    {
     "data": {
      "image/png": "[encoded data removed]",
      "text/plain": [
       "<Figure size 432x288 with 1 Axes>"
      ]
     },
     "metadata": {
      "needs_background": "light"
     },
     "output_type": "display_data"
    }
   ],
   "source": [
    "tessellation.plot()"
   ]
  },
  {
   "cell_type": "markdown",
   "metadata": {
    "slideshow": {
     "slide_type": "subslide"
    }
   },
   "source": [
    "## Plot tessellation"
   ]
  },
  {
   "cell_type": "code",
   "execution_count": 44,
   "metadata": {},
   "outputs": [
    {
     "data": {
      "text/html": [
       "<div style=\"width:100%;\"><div style=\"position:relative;width:100%;height:0;padding-bottom:60%;\"><iframe src=\"data:text/html;charset=utf-8;base64,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\" style=\"position:absolute;width:100%;height:100%;left:0;top:0;border:none !important;\" allowfullscreen webkitallowfullscreen mozallowfullscreen></iframe></div></div>"
      ],
      "text/plain": [
       "<folium.folium.Map at 0x7f94cc86e438>"
      ]
     },
     "execution_count": 44,
     "metadata": {},
     "output_type": "execute_result"
    }
   ],
   "source": [
    "fdf.plot_tessellation(popup_features=['tile_ID', 'population'])"
   ]
  },
  {
   "cell_type": "markdown",
   "metadata": {
    "slideshow": {
     "slide_type": "subslide"
    }
   },
   "source": [
    "## Plot flows"
   ]
  },
  {
   "cell_type": "code",
   "execution_count": 46,
   "metadata": {},
   "outputs": [
    {
     "name": "stderr",
     "output_type": "stream",
     "text": [
      "/home/darshan/anaconda3/envs/test/lib/python3.7/site-packages/scikit_mobility-1.0-py3.7.egg/skmob/core/flowdataframe.py:137: FutureWarning: `item` has been deprecated and will be removed in a future version\n",
      "  return self.tessellation[self.tessellation[constants.TILE_ID] == tile_id].geometry.item()\n"
     ]
    },
    {
     "ename": "AttributeError",
     "evalue": "'GeometryArray' object has no attribute 'item'",
     "output_type": "error",
     "traceback": [
      "\u001b[0;31m---------------------------------------------------------------------------\u001b[0m",
      "\u001b[0;31mAttributeError\u001b[0m                            Traceback (most recent call last)",
      "\u001b[0;32m<ipython-input-46-67d05cb3fb96>\u001b[0m in \u001b[0;36m<module>\u001b[0;34m\u001b[0m\n\u001b[0;32m----> 1\u001b[0;31m \u001b[0mfdf\u001b[0m\u001b[0;34m.\u001b[0m\u001b[0mplot_flows\u001b[0m\u001b[0;34m(\u001b[0m\u001b[0mflow_color\u001b[0m\u001b[0;34m=\u001b[0m\u001b[0;34m'green'\u001b[0m\u001b[0;34m)\u001b[0m\u001b[0;34m\u001b[0m\u001b[0;34m\u001b[0m\u001b[0m\n\u001b[0m",
      "\u001b[0;32m~/anaconda3/envs/test/lib/python3.7/site-packages/scikit_mobility-1.0-py3.7.egg/skmob/core/flowdataframe.py\u001b[0m in \u001b[0;36mplot_flows\u001b[0;34m(self, map_f, min_flow, tiles, zoom, flow_color, opacity, flow_weight, flow_exp, style_function, flow_popup, num_od_popup, tile_popup, radius_origin_point, color_origin_point)\u001b[0m\n\u001b[1;32m    415\u001b[0m                                \u001b[0mstyle_function\u001b[0m\u001b[0;34m=\u001b[0m\u001b[0mstyle_function\u001b[0m\u001b[0;34m,\u001b[0m \u001b[0mflow_popup\u001b[0m\u001b[0;34m=\u001b[0m\u001b[0mflow_popup\u001b[0m\u001b[0;34m,\u001b[0m \u001b[0mnum_od_popup\u001b[0m\u001b[0;34m=\u001b[0m\u001b[0mnum_od_popup\u001b[0m\u001b[0;34m,\u001b[0m\u001b[0;34m\u001b[0m\u001b[0;34m\u001b[0m\u001b[0m\n\u001b[1;32m    416\u001b[0m                                \u001b[0mtile_popup\u001b[0m\u001b[0;34m=\u001b[0m\u001b[0mtile_popup\u001b[0m\u001b[0;34m,\u001b[0m \u001b[0mradius_origin_point\u001b[0m\u001b[0;34m=\u001b[0m\u001b[0mradius_origin_point\u001b[0m\u001b[0;34m,\u001b[0m\u001b[0;34m\u001b[0m\u001b[0;34m\u001b[0m\u001b[0m\n\u001b[0;32m--> 417\u001b[0;31m                                color_origin_point=color_origin_point)\n\u001b[0m\u001b[1;32m    418\u001b[0m \u001b[0;34m\u001b[0m\u001b[0m\n\u001b[1;32m    419\u001b[0m     def plot_tessellation(self, map_osm=None, maxitems=-1, style_func_args={}, popup_features=[constants.TILE_ID],\n",
      "\u001b[0;32m~/anaconda3/envs/test/lib/python3.7/site-packages/scikit_mobility-1.0-py3.7.egg/skmob/utils/plot.py\u001b[0m in \u001b[0;36mplot_flows\u001b[0;34m(fdf, map_f, min_flow, tiles, zoom, flow_color, opacity, flow_weight, flow_exp, style_function, flow_popup, num_od_popup, tile_popup, radius_origin_point, color_origin_point)\u001b[0m\n\u001b[1;32m    376\u001b[0m     \u001b[0;32mfor\u001b[0m \u001b[0mO\u001b[0m\u001b[0;34m,\u001b[0m \u001b[0mOD\u001b[0m \u001b[0;32min\u001b[0m \u001b[0mO_groups\u001b[0m\u001b[0;34m:\u001b[0m\u001b[0;34m\u001b[0m\u001b[0;34m\u001b[0m\u001b[0m\n\u001b[1;32m    377\u001b[0m \u001b[0;34m\u001b[0m\u001b[0m\n\u001b[0;32m--> 378\u001b[0;31m         \u001b[0mgeom\u001b[0m \u001b[0;34m=\u001b[0m \u001b[0mfdf\u001b[0m\u001b[0;34m.\u001b[0m\u001b[0mget_geometry\u001b[0m\u001b[0;34m(\u001b[0m\u001b[0mO\u001b[0m\u001b[0;34m)\u001b[0m\u001b[0;34m\u001b[0m\u001b[0;34m\u001b[0m\u001b[0m\n\u001b[0m\u001b[1;32m    379\u001b[0m         \u001b[0mlonO\u001b[0m\u001b[0;34m,\u001b[0m \u001b[0mlatO\u001b[0m \u001b[0;34m=\u001b[0m \u001b[0mutils\u001b[0m\u001b[0;34m.\u001b[0m\u001b[0mget_geom_centroid\u001b[0m\u001b[0;34m(\u001b[0m\u001b[0mgeom\u001b[0m\u001b[0;34m)\u001b[0m\u001b[0;34m\u001b[0m\u001b[0;34m\u001b[0m\u001b[0m\n\u001b[1;32m    380\u001b[0m \u001b[0;34m\u001b[0m\u001b[0m\n",
      "\u001b[0;32m~/anaconda3/envs/test/lib/python3.7/site-packages/scikit_mobility-1.0-py3.7.egg/skmob/core/flowdataframe.py\u001b[0m in \u001b[0;36mget_geometry\u001b[0;34m(self, tile_id)\u001b[0m\n\u001b[1;32m    135\u001b[0m             \u001b[0;32mraise\u001b[0m \u001b[0mValueError\u001b[0m\u001b[0;34m(\u001b[0m\u001b[0;34m\"tile_id \\\"%s\\\" is not in the tessellation.\"\u001b[0m \u001b[0;34m%\u001b[0m \u001b[0mtile_id\u001b[0m\u001b[0;34m)\u001b[0m\u001b[0;34m\u001b[0m\u001b[0;34m\u001b[0m\u001b[0m\n\u001b[1;32m    136\u001b[0m \u001b[0;34m\u001b[0m\u001b[0m\n\u001b[0;32m--> 137\u001b[0;31m         \u001b[0;32mreturn\u001b[0m \u001b[0mself\u001b[0m\u001b[0;34m.\u001b[0m\u001b[0mtessellation\u001b[0m\u001b[0;34m[\u001b[0m\u001b[0mself\u001b[0m\u001b[0;34m.\u001b[0m\u001b[0mtessellation\u001b[0m\u001b[0;34m[\u001b[0m\u001b[0mconstants\u001b[0m\u001b[0;34m.\u001b[0m\u001b[0mTILE_ID\u001b[0m\u001b[0;34m]\u001b[0m \u001b[0;34m==\u001b[0m \u001b[0mtile_id\u001b[0m\u001b[0;34m]\u001b[0m\u001b[0;34m.\u001b[0m\u001b[0mgeometry\u001b[0m\u001b[0;34m.\u001b[0m\u001b[0mitem\u001b[0m\u001b[0;34m(\u001b[0m\u001b[0;34m)\u001b[0m\u001b[0;34m\u001b[0m\u001b[0;34m\u001b[0m\u001b[0m\n\u001b[0m\u001b[1;32m    138\u001b[0m \u001b[0;34m\u001b[0m\u001b[0m\n\u001b[1;32m    139\u001b[0m     \u001b[0;32mdef\u001b[0m \u001b[0mto_matrix\u001b[0m\u001b[0;34m(\u001b[0m\u001b[0mself\u001b[0m\u001b[0;34m)\u001b[0m\u001b[0;34m:\u001b[0m\u001b[0;34m\u001b[0m\u001b[0;34m\u001b[0m\u001b[0m\n",
      "\u001b[0;32m~/anaconda3/envs/test/lib/python3.7/site-packages/pandas/core/base.py\u001b[0m in \u001b[0;36mitem\u001b[0;34m(self)\u001b[0m\n\u001b[1;32m    738\u001b[0m             \u001b[0mstacklevel\u001b[0m\u001b[0;34m=\u001b[0m\u001b[0;36m2\u001b[0m\u001b[0;34m,\u001b[0m\u001b[0;34m\u001b[0m\u001b[0;34m\u001b[0m\u001b[0m\n\u001b[1;32m    739\u001b[0m         )\n\u001b[0;32m--> 740\u001b[0;31m         \u001b[0;32mreturn\u001b[0m \u001b[0mself\u001b[0m\u001b[0;34m.\u001b[0m\u001b[0mvalues\u001b[0m\u001b[0;34m.\u001b[0m\u001b[0mitem\u001b[0m\u001b[0;34m(\u001b[0m\u001b[0;34m)\u001b[0m\u001b[0;34m\u001b[0m\u001b[0;34m\u001b[0m\u001b[0m\n\u001b[0m\u001b[1;32m    741\u001b[0m \u001b[0;34m\u001b[0m\u001b[0m\n\u001b[1;32m    742\u001b[0m     \u001b[0;34m@\u001b[0m\u001b[0mproperty\u001b[0m\u001b[0;34m\u001b[0m\u001b[0;34m\u001b[0m\u001b[0m\n",
      "\u001b[0;31mAttributeError\u001b[0m: 'GeometryArray' object has no attribute 'item'"
     ]
    }
   ],
   "source": [
    "fdf.plot_flows(flow_color='green')"
   ]
  },
  {
   "cell_type": "code",
   "execution_count": 48,
   "metadata": {
    "slideshow": {
     "slide_type": "subslide"
    }
   },
   "outputs": [
    {
     "name": "stderr",
     "output_type": "stream",
     "text": [
      "/home/darshan/anaconda3/envs/test/lib/python3.7/site-packages/scikit_mobility-1.0-py3.7.egg/skmob/core/flowdataframe.py:137: FutureWarning: `item` has been deprecated and will be removed in a future version\n",
      "  return self.tessellation[self.tessellation[constants.TILE_ID] == tile_id].geometry.item()\n"
     ]
    },
    {
     "ename": "AttributeError",
     "evalue": "'GeometryArray' object has no attribute 'item'",
     "output_type": "error",
     "traceback": [
      "\u001b[0;31m---------------------------------------------------------------------------\u001b[0m",
      "\u001b[0;31mAttributeError\u001b[0m                            Traceback (most recent call last)",
      "\u001b[0;32m<ipython-input-48-4c8ed43edbe8>\u001b[0m in \u001b[0;36m<module>\u001b[0;34m\u001b[0m\n\u001b[1;32m      2\u001b[0m                               style_func_args={'color':'blue', 'fillColor':'blue'})\n\u001b[1;32m      3\u001b[0m \u001b[0;34m\u001b[0m\u001b[0m\n\u001b[0;32m----> 4\u001b[0;31m \u001b[0mfdf\u001b[0m\u001b[0;34m[\u001b[0m\u001b[0mfdf\u001b[0m\u001b[0;34m[\u001b[0m\u001b[0;34m'origin'\u001b[0m\u001b[0;34m]\u001b[0m \u001b[0;34m==\u001b[0m \u001b[0;34m'36061'\u001b[0m\u001b[0;34m]\u001b[0m\u001b[0;34m.\u001b[0m\u001b[0mplot_flows\u001b[0m\u001b[0;34m(\u001b[0m\u001b[0mmap_f\u001b[0m\u001b[0;34m=\u001b[0m\u001b[0mmap_f\u001b[0m\u001b[0;34m,\u001b[0m \u001b[0mflow_exp\u001b[0m\u001b[0;34m=\u001b[0m\u001b[0;36m0.\u001b[0m\u001b[0;34m,\u001b[0m \u001b[0mflow_popup\u001b[0m\u001b[0;34m=\u001b[0m\u001b[0;32mTrue\u001b[0m\u001b[0;34m)\u001b[0m\u001b[0;34m\u001b[0m\u001b[0;34m\u001b[0m\u001b[0m\n\u001b[0m",
      "\u001b[0;32m~/anaconda3/envs/test/lib/python3.7/site-packages/scikit_mobility-1.0-py3.7.egg/skmob/core/flowdataframe.py\u001b[0m in \u001b[0;36mplot_flows\u001b[0;34m(self, map_f, min_flow, tiles, zoom, flow_color, opacity, flow_weight, flow_exp, style_function, flow_popup, num_od_popup, tile_popup, radius_origin_point, color_origin_point)\u001b[0m\n\u001b[1;32m    415\u001b[0m                                \u001b[0mstyle_function\u001b[0m\u001b[0;34m=\u001b[0m\u001b[0mstyle_function\u001b[0m\u001b[0;34m,\u001b[0m \u001b[0mflow_popup\u001b[0m\u001b[0;34m=\u001b[0m\u001b[0mflow_popup\u001b[0m\u001b[0;34m,\u001b[0m \u001b[0mnum_od_popup\u001b[0m\u001b[0;34m=\u001b[0m\u001b[0mnum_od_popup\u001b[0m\u001b[0;34m,\u001b[0m\u001b[0;34m\u001b[0m\u001b[0;34m\u001b[0m\u001b[0m\n\u001b[1;32m    416\u001b[0m                                \u001b[0mtile_popup\u001b[0m\u001b[0;34m=\u001b[0m\u001b[0mtile_popup\u001b[0m\u001b[0;34m,\u001b[0m \u001b[0mradius_origin_point\u001b[0m\u001b[0;34m=\u001b[0m\u001b[0mradius_origin_point\u001b[0m\u001b[0;34m,\u001b[0m\u001b[0;34m\u001b[0m\u001b[0;34m\u001b[0m\u001b[0m\n\u001b[0;32m--> 417\u001b[0;31m                                color_origin_point=color_origin_point)\n\u001b[0m\u001b[1;32m    418\u001b[0m \u001b[0;34m\u001b[0m\u001b[0m\n\u001b[1;32m    419\u001b[0m     def plot_tessellation(self, map_osm=None, maxitems=-1, style_func_args={}, popup_features=[constants.TILE_ID],\n",
      "\u001b[0;32m~/anaconda3/envs/test/lib/python3.7/site-packages/scikit_mobility-1.0-py3.7.egg/skmob/utils/plot.py\u001b[0m in \u001b[0;36mplot_flows\u001b[0;34m(fdf, map_f, min_flow, tiles, zoom, flow_color, opacity, flow_weight, flow_exp, style_function, flow_popup, num_od_popup, tile_popup, radius_origin_point, color_origin_point)\u001b[0m\n\u001b[1;32m    376\u001b[0m     \u001b[0;32mfor\u001b[0m \u001b[0mO\u001b[0m\u001b[0;34m,\u001b[0m \u001b[0mOD\u001b[0m \u001b[0;32min\u001b[0m \u001b[0mO_groups\u001b[0m\u001b[0;34m:\u001b[0m\u001b[0;34m\u001b[0m\u001b[0;34m\u001b[0m\u001b[0m\n\u001b[1;32m    377\u001b[0m \u001b[0;34m\u001b[0m\u001b[0m\n\u001b[0;32m--> 378\u001b[0;31m         \u001b[0mgeom\u001b[0m \u001b[0;34m=\u001b[0m \u001b[0mfdf\u001b[0m\u001b[0;34m.\u001b[0m\u001b[0mget_geometry\u001b[0m\u001b[0;34m(\u001b[0m\u001b[0mO\u001b[0m\u001b[0;34m)\u001b[0m\u001b[0;34m\u001b[0m\u001b[0;34m\u001b[0m\u001b[0m\n\u001b[0m\u001b[1;32m    379\u001b[0m         \u001b[0mlonO\u001b[0m\u001b[0;34m,\u001b[0m \u001b[0mlatO\u001b[0m \u001b[0;34m=\u001b[0m \u001b[0mutils\u001b[0m\u001b[0;34m.\u001b[0m\u001b[0mget_geom_centroid\u001b[0m\u001b[0;34m(\u001b[0m\u001b[0mgeom\u001b[0m\u001b[0;34m)\u001b[0m\u001b[0;34m\u001b[0m\u001b[0;34m\u001b[0m\u001b[0m\n\u001b[1;32m    380\u001b[0m \u001b[0;34m\u001b[0m\u001b[0m\n",
      "\u001b[0;32m~/anaconda3/envs/test/lib/python3.7/site-packages/scikit_mobility-1.0-py3.7.egg/skmob/core/flowdataframe.py\u001b[0m in \u001b[0;36mget_geometry\u001b[0;34m(self, tile_id)\u001b[0m\n\u001b[1;32m    135\u001b[0m             \u001b[0;32mraise\u001b[0m \u001b[0mValueError\u001b[0m\u001b[0;34m(\u001b[0m\u001b[0;34m\"tile_id \\\"%s\\\" is not in the tessellation.\"\u001b[0m \u001b[0;34m%\u001b[0m \u001b[0mtile_id\u001b[0m\u001b[0;34m)\u001b[0m\u001b[0;34m\u001b[0m\u001b[0;34m\u001b[0m\u001b[0m\n\u001b[1;32m    136\u001b[0m \u001b[0;34m\u001b[0m\u001b[0m\n\u001b[0;32m--> 137\u001b[0;31m         \u001b[0;32mreturn\u001b[0m \u001b[0mself\u001b[0m\u001b[0;34m.\u001b[0m\u001b[0mtessellation\u001b[0m\u001b[0;34m[\u001b[0m\u001b[0mself\u001b[0m\u001b[0;34m.\u001b[0m\u001b[0mtessellation\u001b[0m\u001b[0;34m[\u001b[0m\u001b[0mconstants\u001b[0m\u001b[0;34m.\u001b[0m\u001b[0mTILE_ID\u001b[0m\u001b[0;34m]\u001b[0m \u001b[0;34m==\u001b[0m \u001b[0mtile_id\u001b[0m\u001b[0;34m]\u001b[0m\u001b[0;34m.\u001b[0m\u001b[0mgeometry\u001b[0m\u001b[0;34m.\u001b[0m\u001b[0mitem\u001b[0m\u001b[0;34m(\u001b[0m\u001b[0;34m)\u001b[0m\u001b[0;34m\u001b[0m\u001b[0;34m\u001b[0m\u001b[0m\n\u001b[0m\u001b[1;32m    138\u001b[0m \u001b[0;34m\u001b[0m\u001b[0m\n\u001b[1;32m    139\u001b[0m     \u001b[0;32mdef\u001b[0m \u001b[0mto_matrix\u001b[0m\u001b[0;34m(\u001b[0m\u001b[0mself\u001b[0m\u001b[0;34m)\u001b[0m\u001b[0;34m:\u001b[0m\u001b[0;34m\u001b[0m\u001b[0;34m\u001b[0m\u001b[0m\n",
      "\u001b[0;32m~/anaconda3/envs/test/lib/python3.7/site-packages/pandas/core/base.py\u001b[0m in \u001b[0;36mitem\u001b[0;34m(self)\u001b[0m\n\u001b[1;32m    738\u001b[0m             \u001b[0mstacklevel\u001b[0m\u001b[0;34m=\u001b[0m\u001b[0;36m2\u001b[0m\u001b[0;34m,\u001b[0m\u001b[0;34m\u001b[0m\u001b[0;34m\u001b[0m\u001b[0m\n\u001b[1;32m    739\u001b[0m         )\n\u001b[0;32m--> 740\u001b[0;31m         \u001b[0;32mreturn\u001b[0m \u001b[0mself\u001b[0m\u001b[0;34m.\u001b[0m\u001b[0mvalues\u001b[0m\u001b[0;34m.\u001b[0m\u001b[0mitem\u001b[0m\u001b[0;34m(\u001b[0m\u001b[0;34m)\u001b[0m\u001b[0;34m\u001b[0m\u001b[0;34m\u001b[0m\u001b[0m\n\u001b[0m\u001b[1;32m    741\u001b[0m \u001b[0;34m\u001b[0m\u001b[0m\n\u001b[1;32m    742\u001b[0m     \u001b[0;34m@\u001b[0m\u001b[0mproperty\u001b[0m\u001b[0;34m\u001b[0m\u001b[0;34m\u001b[0m\u001b[0m\n",
      "\u001b[0;31mAttributeError\u001b[0m: 'GeometryArray' object has no attribute 'item'"
     ]
    }
   ],
   "source": [
    "map_f = fdf.plot_tessellation(popup_features=['tile_ID', 'population'], \n",
    "                              style_func_args={'color':'blue', 'fillColor':'blue'})\n",
    "\n",
    "fdf[fdf['origin'] == '36061'].plot_flows(map_f=map_f, flow_exp=0., flow_popup=True)\n"
   ]
  },
  {
   "cell_type": "markdown",
   "metadata": {
    "slideshow": {
     "slide_type": "subslide"
    }
   },
   "source": [
    "#### Alternative format"
   ]
  },
  {
   "cell_type": "code",
   "execution_count": 49,
   "metadata": {
    "slideshow": {
     "slide_type": "fragment"
    }
   },
   "outputs": [
    {
     "data": {
      "text/html": [
       "<div>\n",
       "<style scoped>\n",
       "    .dataframe tbody tr th:only-of-type {\n",
       "        vertical-align: middle;\n",
       "    }\n",
       "\n",
       "    .dataframe tbody tr th {\n",
       "        vertical-align: top;\n",
       "    }\n",
       "\n",
       "    .dataframe thead th {\n",
       "        text-align: right;\n",
       "    }\n",
       "</style>\n",
       "<table border=\"1\" class=\"dataframe\">\n",
       "  <thead>\n",
       "    <tr style=\"text-align: right;\">\n",
       "      <th></th>\n",
       "      <th>origin_lat</th>\n",
       "      <th>origin_lng</th>\n",
       "      <th>destination_lat</th>\n",
       "      <th>destination_lng</th>\n",
       "      <th>flow</th>\n",
       "    </tr>\n",
       "  </thead>\n",
       "  <tbody>\n",
       "    <tr>\n",
       "      <th>0</th>\n",
       "      <td>42.554151</td>\n",
       "      <td>-71.103398</td>\n",
       "      <td>42.553818</td>\n",
       "      <td>-71.102749</td>\n",
       "      <td>1</td>\n",
       "    </tr>\n",
       "    <tr>\n",
       "      <th>1</th>\n",
       "      <td>42.463658</td>\n",
       "      <td>-70.945966</td>\n",
       "      <td>42.463580</td>\n",
       "      <td>-70.945903</td>\n",
       "      <td>1</td>\n",
       "    </tr>\n",
       "    <tr>\n",
       "      <th>2</th>\n",
       "      <td>42.463552</td>\n",
       "      <td>-70.945845</td>\n",
       "      <td>42.463561</td>\n",
       "      <td>-70.945911</td>\n",
       "      <td>1</td>\n",
       "    </tr>\n",
       "    <tr>\n",
       "      <th>3</th>\n",
       "      <td>42.116042</td>\n",
       "      <td>-71.462125</td>\n",
       "      <td>42.116698</td>\n",
       "      <td>-71.461800</td>\n",
       "      <td>1</td>\n",
       "    </tr>\n",
       "    <tr>\n",
       "      <th>4</th>\n",
       "      <td>42.388193</td>\n",
       "      <td>-71.039085</td>\n",
       "      <td>42.388191</td>\n",
       "      <td>-71.039177</td>\n",
       "      <td>1</td>\n",
       "    </tr>\n",
       "  </tbody>\n",
       "</table>\n",
       "</div>"
      ],
      "text/plain": [
       "   origin_lat  origin_lng  destination_lat  destination_lng  flow\n",
       "0   42.554151  -71.103398        42.553818       -71.102749     1\n",
       "1   42.463658  -70.945966        42.463580       -70.945903     1\n",
       "2   42.463552  -70.945845        42.463561       -70.945911     1\n",
       "3   42.116042  -71.462125        42.116698       -71.461800     1\n",
       "4   42.388193  -71.039085        42.388191       -71.039177     1"
      ]
     },
     "execution_count": 49,
     "metadata": {},
     "output_type": "execute_result"
    }
   ],
   "source": [
    "# Flows can be provided also with an expanded format\n",
    "\n",
    "df = pd.read_csv(\"data/expanded_flow.csv\", sep=\",\")\n",
    "df.head()"
   ]
  },
  {
   "cell_type": "markdown",
   "metadata": {
    "slideshow": {
     "slide_type": "subslide"
    }
   },
   "source": [
    "When the arguments `origin_lat`, `origin_lng`, `destination_lat`, `destination_lng` are set, `from_file` loads file with the expanded format and collapse each row into a format `origin`, `destination`.\n",
    "\n",
    "If tessellation is None, it is imputed from the data as a Voronoi Tessellation that is then automatically added to the `FlowDataFrame`. NOTE: it can be slow when the Voronoi tessellation is big (> 100 points)"
   ]
  },
  {
   "cell_type": "code",
   "execution_count": 50,
   "metadata": {
    "slideshow": {
     "slide_type": "subslide"
    }
   },
   "outputs": [],
   "source": [
    "fdf = skmob.FlowDataFrame.from_file(\"data/expanded_flow.csv\", origin_lat='origin_lat', \n",
    "                                    origin_lng='origin_lng', destination_lat='destination_lat', \n",
    "                                    destination_lng='destination_lng', \n",
    "                                    flow='flow', sep=\",\")"
   ]
  },
  {
   "cell_type": "code",
   "execution_count": 51,
   "metadata": {
    "slideshow": {
     "slide_type": "-"
    }
   },
   "outputs": [
    {
     "data": {
      "text/html": [
       "<div>\n",
       "<style scoped>\n",
       "    .dataframe tbody tr th:only-of-type {\n",
       "        vertical-align: middle;\n",
       "    }\n",
       "\n",
       "    .dataframe tbody tr th {\n",
       "        vertical-align: top;\n",
       "    }\n",
       "\n",
       "    .dataframe thead th {\n",
       "        text-align: right;\n",
       "    }\n",
       "</style>\n",
       "<table border=\"1\" class=\"dataframe\">\n",
       "  <thead>\n",
       "    <tr style=\"text-align: right;\">\n",
       "      <th></th>\n",
       "      <th>flow</th>\n",
       "      <th>origin</th>\n",
       "      <th>destination</th>\n",
       "    </tr>\n",
       "  </thead>\n",
       "  <tbody>\n",
       "    <tr>\n",
       "      <th>0</th>\n",
       "      <td>1</td>\n",
       "      <td>0</td>\n",
       "      <td>150</td>\n",
       "    </tr>\n",
       "    <tr>\n",
       "      <th>1</th>\n",
       "      <td>1</td>\n",
       "      <td>1</td>\n",
       "      <td>151</td>\n",
       "    </tr>\n",
       "    <tr>\n",
       "      <th>2</th>\n",
       "      <td>1</td>\n",
       "      <td>2</td>\n",
       "      <td>68</td>\n",
       "    </tr>\n",
       "    <tr>\n",
       "      <th>3</th>\n",
       "      <td>1</td>\n",
       "      <td>3</td>\n",
       "      <td>152</td>\n",
       "    </tr>\n",
       "    <tr>\n",
       "      <th>4</th>\n",
       "      <td>1</td>\n",
       "      <td>4</td>\n",
       "      <td>153</td>\n",
       "    </tr>\n",
       "  </tbody>\n",
       "</table>\n",
       "</div>"
      ],
      "text/plain": [
       "   flow origin destination\n",
       "0     1      0         150\n",
       "1     1      1         151\n",
       "2     1      2          68\n",
       "3     1      3         152\n",
       "4     1      4         153"
      ]
     },
     "execution_count": 51,
     "metadata": {},
     "output_type": "execute_result"
    }
   ],
   "source": [
    "fdf.head()"
   ]
  },
  {
   "cell_type": "code",
   "execution_count": 52,
   "metadata": {
    "slideshow": {
     "slide_type": "-"
    }
   },
   "outputs": [
    {
     "data": {
      "text/html": [
       "<div>\n",
       "<style scoped>\n",
       "    .dataframe tbody tr th:only-of-type {\n",
       "        vertical-align: middle;\n",
       "    }\n",
       "\n",
       "    .dataframe tbody tr th {\n",
       "        vertical-align: top;\n",
       "    }\n",
       "\n",
       "    .dataframe thead th {\n",
       "        text-align: right;\n",
       "    }\n",
       "</style>\n",
       "<table border=\"1\" class=\"dataframe\">\n",
       "  <thead>\n",
       "    <tr style=\"text-align: right;\">\n",
       "      <th></th>\n",
       "      <th>tile_ID</th>\n",
       "      <th>geometry</th>\n",
       "    </tr>\n",
       "  </thead>\n",
       "  <tbody>\n",
       "    <tr>\n",
       "      <th>0</th>\n",
       "      <td>0</td>\n",
       "      <td>POINT (-71.10340 42.55415)</td>\n",
       "    </tr>\n",
       "    <tr>\n",
       "      <th>1</th>\n",
       "      <td>1</td>\n",
       "      <td>POINT (-70.94597 42.46366)</td>\n",
       "    </tr>\n",
       "    <tr>\n",
       "      <th>2</th>\n",
       "      <td>2</td>\n",
       "      <td>POINT (-70.94584 42.46355)</td>\n",
       "    </tr>\n",
       "    <tr>\n",
       "      <th>3</th>\n",
       "      <td>3</td>\n",
       "      <td>POINT (-71.46213 42.11604)</td>\n",
       "    </tr>\n",
       "    <tr>\n",
       "      <th>4</th>\n",
       "      <td>4</td>\n",
       "      <td>POINT (-71.03909 42.38819)</td>\n",
       "    </tr>\n",
       "  </tbody>\n",
       "</table>\n",
       "</div>"
      ],
      "text/plain": [
       "  tile_ID                    geometry\n",
       "0       0  POINT (-71.10340 42.55415)\n",
       "1       1  POINT (-70.94597 42.46366)\n",
       "2       2  POINT (-70.94584 42.46355)\n",
       "3       3  POINT (-71.46213 42.11604)\n",
       "4       4  POINT (-71.03909 42.38819)"
      ]
     },
     "execution_count": 52,
     "metadata": {},
     "output_type": "execute_result"
    }
   ],
   "source": [
    "fdf.tessellation.head()"
   ]
  },
  {
   "cell_type": "markdown",
   "metadata": {
    "slideshow": {
     "slide_type": "skip"
    }
   },
   "source": [
    "A common operation when dealing with mobility data is the construction of Origin-Destination Matrix. \n",
    "`TrajDataFrame` provides the method `to_flowdataframe` that build a OD Matrix (`FlowDataFrame`) using the trajectories. This function automatically compute the flows between places."
   ]
  },
  {
   "cell_type": "code",
   "execution_count": 55,
   "metadata": {
    "slideshow": {
     "slide_type": "skip"
    }
   },
   "outputs": [
    {
     "ename": "ConnectTimeout",
     "evalue": "HTTPSConnectionPool(host='nominatim.openstreetmap.org', port=443): Max retries exceeded with url: /search?format=json&limit=1&dedupe=0&polygon_geojson=1&q=Beijing%2C+China (Caused by ConnectTimeoutError(<urllib3.connection.VerifiedHTTPSConnection object at 0x7f94ccd6c978>, 'Connection to nominatim.openstreetmap.org timed out. (connect timeout=30)'))",
     "output_type": "error",
     "traceback": [
      "\u001b[0;31m---------------------------------------------------------------------------\u001b[0m",
      "\u001b[0;31mtimeout\u001b[0m                                   Traceback (most recent call last)",
      "\u001b[0;32m~/anaconda3/envs/test/lib/python3.7/site-packages/urllib3-1.25.6-py3.7.egg/urllib3/connection.py\u001b[0m in \u001b[0;36m_new_conn\u001b[0;34m(self)\u001b[0m\n\u001b[1;32m    156\u001b[0m             conn = connection.create_connection(\n\u001b[0;32m--> 157\u001b[0;31m                 \u001b[0;34m(\u001b[0m\u001b[0mself\u001b[0m\u001b[0;34m.\u001b[0m\u001b[0m_dns_host\u001b[0m\u001b[0;34m,\u001b[0m \u001b[0mself\u001b[0m\u001b[0;34m.\u001b[0m\u001b[0mport\u001b[0m\u001b[0;34m)\u001b[0m\u001b[0;34m,\u001b[0m \u001b[0mself\u001b[0m\u001b[0;34m.\u001b[0m\u001b[0mtimeout\u001b[0m\u001b[0;34m,\u001b[0m \u001b[0;34m**\u001b[0m\u001b[0mextra_kw\u001b[0m\u001b[0;34m\u001b[0m\u001b[0;34m\u001b[0m\u001b[0m\n\u001b[0m\u001b[1;32m    158\u001b[0m             )\n",
      "\u001b[0;32m~/anaconda3/envs/test/lib/python3.7/site-packages/urllib3-1.25.6-py3.7.egg/urllib3/util/connection.py\u001b[0m in \u001b[0;36mcreate_connection\u001b[0;34m(address, timeout, source_address, socket_options)\u001b[0m\n\u001b[1;32m     83\u001b[0m     \u001b[0;32mif\u001b[0m \u001b[0merr\u001b[0m \u001b[0;32mis\u001b[0m \u001b[0;32mnot\u001b[0m \u001b[0;32mNone\u001b[0m\u001b[0;34m:\u001b[0m\u001b[0;34m\u001b[0m\u001b[0;34m\u001b[0m\u001b[0m\n\u001b[0;32m---> 84\u001b[0;31m         \u001b[0;32mraise\u001b[0m \u001b[0merr\u001b[0m\u001b[0;34m\u001b[0m\u001b[0;34m\u001b[0m\u001b[0m\n\u001b[0m\u001b[1;32m     85\u001b[0m \u001b[0;34m\u001b[0m\u001b[0m\n",
      "\u001b[0;32m~/anaconda3/envs/test/lib/python3.7/site-packages/urllib3-1.25.6-py3.7.egg/urllib3/util/connection.py\u001b[0m in \u001b[0;36mcreate_connection\u001b[0;34m(address, timeout, source_address, socket_options)\u001b[0m\n\u001b[1;32m     73\u001b[0m                 \u001b[0msock\u001b[0m\u001b[0;34m.\u001b[0m\u001b[0mbind\u001b[0m\u001b[0;34m(\u001b[0m\u001b[0msource_address\u001b[0m\u001b[0;34m)\u001b[0m\u001b[0;34m\u001b[0m\u001b[0;34m\u001b[0m\u001b[0m\n\u001b[0;32m---> 74\u001b[0;31m             \u001b[0msock\u001b[0m\u001b[0;34m.\u001b[0m\u001b[0mconnect\u001b[0m\u001b[0;34m(\u001b[0m\u001b[0msa\u001b[0m\u001b[0;34m)\u001b[0m\u001b[0;34m\u001b[0m\u001b[0;34m\u001b[0m\u001b[0m\n\u001b[0m\u001b[1;32m     75\u001b[0m             \u001b[0;32mreturn\u001b[0m \u001b[0msock\u001b[0m\u001b[0;34m\u001b[0m\u001b[0;34m\u001b[0m\u001b[0m\n",
      "\u001b[0;31mtimeout\u001b[0m: timed out",
      "\nDuring handling of the above exception, another exception occurred:\n",
      "\u001b[0;31mConnectTimeoutError\u001b[0m                       Traceback (most recent call last)",
      "\u001b[0;32m~/anaconda3/envs/test/lib/python3.7/site-packages/urllib3-1.25.6-py3.7.egg/urllib3/connectionpool.py\u001b[0m in \u001b[0;36murlopen\u001b[0;34m(self, method, url, body, headers, retries, redirect, assert_same_host, timeout, pool_timeout, release_conn, chunked, body_pos, **response_kw)\u001b[0m\n\u001b[1;32m    671\u001b[0m                 \u001b[0mheaders\u001b[0m\u001b[0;34m=\u001b[0m\u001b[0mheaders\u001b[0m\u001b[0;34m,\u001b[0m\u001b[0;34m\u001b[0m\u001b[0;34m\u001b[0m\u001b[0m\n\u001b[0;32m--> 672\u001b[0;31m                 \u001b[0mchunked\u001b[0m\u001b[0;34m=\u001b[0m\u001b[0mchunked\u001b[0m\u001b[0;34m,\u001b[0m\u001b[0;34m\u001b[0m\u001b[0;34m\u001b[0m\u001b[0m\n\u001b[0m\u001b[1;32m    673\u001b[0m             )\n",
      "\u001b[0;32m~/anaconda3/envs/test/lib/python3.7/site-packages/urllib3-1.25.6-py3.7.egg/urllib3/connectionpool.py\u001b[0m in \u001b[0;36m_make_request\u001b[0;34m(self, conn, method, url, timeout, chunked, **httplib_request_kw)\u001b[0m\n\u001b[1;32m    375\u001b[0m         \u001b[0;32mtry\u001b[0m\u001b[0;34m:\u001b[0m\u001b[0;34m\u001b[0m\u001b[0;34m\u001b[0m\u001b[0m\n\u001b[0;32m--> 376\u001b[0;31m             \u001b[0mself\u001b[0m\u001b[0;34m.\u001b[0m\u001b[0m_validate_conn\u001b[0m\u001b[0;34m(\u001b[0m\u001b[0mconn\u001b[0m\u001b[0;34m)\u001b[0m\u001b[0;34m\u001b[0m\u001b[0;34m\u001b[0m\u001b[0m\n\u001b[0m\u001b[1;32m    377\u001b[0m         \u001b[0;32mexcept\u001b[0m \u001b[0;34m(\u001b[0m\u001b[0mSocketTimeout\u001b[0m\u001b[0;34m,\u001b[0m \u001b[0mBaseSSLError\u001b[0m\u001b[0;34m)\u001b[0m \u001b[0;32mas\u001b[0m \u001b[0me\u001b[0m\u001b[0;34m:\u001b[0m\u001b[0;34m\u001b[0m\u001b[0;34m\u001b[0m\u001b[0m\n",
      "\u001b[0;32m~/anaconda3/envs/test/lib/python3.7/site-packages/urllib3-1.25.6-py3.7.egg/urllib3/connectionpool.py\u001b[0m in \u001b[0;36m_validate_conn\u001b[0;34m(self, conn)\u001b[0m\n\u001b[1;32m    993\u001b[0m         \u001b[0;32mif\u001b[0m \u001b[0;32mnot\u001b[0m \u001b[0mgetattr\u001b[0m\u001b[0;34m(\u001b[0m\u001b[0mconn\u001b[0m\u001b[0;34m,\u001b[0m \u001b[0;34m\"sock\"\u001b[0m\u001b[0;34m,\u001b[0m \u001b[0;32mNone\u001b[0m\u001b[0;34m)\u001b[0m\u001b[0;34m:\u001b[0m  \u001b[0;31m# AppEngine might not have  `.sock`\u001b[0m\u001b[0;34m\u001b[0m\u001b[0;34m\u001b[0m\u001b[0m\n\u001b[0;32m--> 994\u001b[0;31m             \u001b[0mconn\u001b[0m\u001b[0;34m.\u001b[0m\u001b[0mconnect\u001b[0m\u001b[0;34m(\u001b[0m\u001b[0;34m)\u001b[0m\u001b[0;34m\u001b[0m\u001b[0;34m\u001b[0m\u001b[0m\n\u001b[0m\u001b[1;32m    995\u001b[0m \u001b[0;34m\u001b[0m\u001b[0m\n",
      "\u001b[0;32m~/anaconda3/envs/test/lib/python3.7/site-packages/urllib3-1.25.6-py3.7.egg/urllib3/connection.py\u001b[0m in \u001b[0;36mconnect\u001b[0;34m(self)\u001b[0m\n\u001b[1;32m    333\u001b[0m         \u001b[0;31m# Add certificate verification\u001b[0m\u001b[0;34m\u001b[0m\u001b[0;34m\u001b[0m\u001b[0;34m\u001b[0m\u001b[0m\n\u001b[0;32m--> 334\u001b[0;31m         \u001b[0mconn\u001b[0m \u001b[0;34m=\u001b[0m \u001b[0mself\u001b[0m\u001b[0;34m.\u001b[0m\u001b[0m_new_conn\u001b[0m\u001b[0;34m(\u001b[0m\u001b[0;34m)\u001b[0m\u001b[0;34m\u001b[0m\u001b[0;34m\u001b[0m\u001b[0m\n\u001b[0m\u001b[1;32m    335\u001b[0m         \u001b[0mhostname\u001b[0m \u001b[0;34m=\u001b[0m \u001b[0mself\u001b[0m\u001b[0;34m.\u001b[0m\u001b[0mhost\u001b[0m\u001b[0;34m\u001b[0m\u001b[0;34m\u001b[0m\u001b[0m\n",
      "\u001b[0;32m~/anaconda3/envs/test/lib/python3.7/site-packages/urllib3-1.25.6-py3.7.egg/urllib3/connection.py\u001b[0m in \u001b[0;36m_new_conn\u001b[0;34m(self)\u001b[0m\n\u001b[1;32m    163\u001b[0m                 \u001b[0;34m\"Connection to %s timed out. (connect timeout=%s)\"\u001b[0m\u001b[0;34m\u001b[0m\u001b[0;34m\u001b[0m\u001b[0m\n\u001b[0;32m--> 164\u001b[0;31m                 \u001b[0;34m%\u001b[0m \u001b[0;34m(\u001b[0m\u001b[0mself\u001b[0m\u001b[0;34m.\u001b[0m\u001b[0mhost\u001b[0m\u001b[0;34m,\u001b[0m \u001b[0mself\u001b[0m\u001b[0;34m.\u001b[0m\u001b[0mtimeout\u001b[0m\u001b[0;34m)\u001b[0m\u001b[0;34m,\u001b[0m\u001b[0;34m\u001b[0m\u001b[0;34m\u001b[0m\u001b[0m\n\u001b[0m\u001b[1;32m    165\u001b[0m             )\n",
      "\u001b[0;31mConnectTimeoutError\u001b[0m: (<urllib3.connection.VerifiedHTTPSConnection object at 0x7f94ccd6c978>, 'Connection to nominatim.openstreetmap.org timed out. (connect timeout=30)')",
      "\nDuring handling of the above exception, another exception occurred:\n",
      "\u001b[0;31mMaxRetryError\u001b[0m                             Traceback (most recent call last)",
      "\u001b[0;32m~/anaconda3/envs/test/lib/python3.7/site-packages/requests-2.22.0-py3.7.egg/requests/adapters.py\u001b[0m in \u001b[0;36msend\u001b[0;34m(self, request, stream, timeout, verify, cert, proxies)\u001b[0m\n\u001b[1;32m    448\u001b[0m                     \u001b[0mretries\u001b[0m\u001b[0;34m=\u001b[0m\u001b[0mself\u001b[0m\u001b[0;34m.\u001b[0m\u001b[0mmax_retries\u001b[0m\u001b[0;34m,\u001b[0m\u001b[0;34m\u001b[0m\u001b[0;34m\u001b[0m\u001b[0m\n\u001b[0;32m--> 449\u001b[0;31m                     \u001b[0mtimeout\u001b[0m\u001b[0;34m=\u001b[0m\u001b[0mtimeout\u001b[0m\u001b[0;34m\u001b[0m\u001b[0;34m\u001b[0m\u001b[0m\n\u001b[0m\u001b[1;32m    450\u001b[0m                 )\n",
      "\u001b[0;32m~/anaconda3/envs/test/lib/python3.7/site-packages/urllib3-1.25.6-py3.7.egg/urllib3/connectionpool.py\u001b[0m in \u001b[0;36murlopen\u001b[0;34m(self, method, url, body, headers, retries, redirect, assert_same_host, timeout, pool_timeout, release_conn, chunked, body_pos, **response_kw)\u001b[0m\n\u001b[1;32m    719\u001b[0m             retries = retries.increment(\n\u001b[0;32m--> 720\u001b[0;31m                 \u001b[0mmethod\u001b[0m\u001b[0;34m,\u001b[0m \u001b[0murl\u001b[0m\u001b[0;34m,\u001b[0m \u001b[0merror\u001b[0m\u001b[0;34m=\u001b[0m\u001b[0me\u001b[0m\u001b[0;34m,\u001b[0m \u001b[0m_pool\u001b[0m\u001b[0;34m=\u001b[0m\u001b[0mself\u001b[0m\u001b[0;34m,\u001b[0m \u001b[0m_stacktrace\u001b[0m\u001b[0;34m=\u001b[0m\u001b[0msys\u001b[0m\u001b[0;34m.\u001b[0m\u001b[0mexc_info\u001b[0m\u001b[0;34m(\u001b[0m\u001b[0;34m)\u001b[0m\u001b[0;34m[\u001b[0m\u001b[0;36m2\u001b[0m\u001b[0;34m]\u001b[0m\u001b[0;34m\u001b[0m\u001b[0;34m\u001b[0m\u001b[0m\n\u001b[0m\u001b[1;32m    721\u001b[0m             )\n",
      "\u001b[0;32m~/anaconda3/envs/test/lib/python3.7/site-packages/urllib3-1.25.6-py3.7.egg/urllib3/util/retry.py\u001b[0m in \u001b[0;36mincrement\u001b[0;34m(self, method, url, response, error, _pool, _stacktrace)\u001b[0m\n\u001b[1;32m    435\u001b[0m         \u001b[0;32mif\u001b[0m \u001b[0mnew_retry\u001b[0m\u001b[0;34m.\u001b[0m\u001b[0mis_exhausted\u001b[0m\u001b[0;34m(\u001b[0m\u001b[0;34m)\u001b[0m\u001b[0;34m:\u001b[0m\u001b[0;34m\u001b[0m\u001b[0;34m\u001b[0m\u001b[0m\n\u001b[0;32m--> 436\u001b[0;31m             \u001b[0;32mraise\u001b[0m \u001b[0mMaxRetryError\u001b[0m\u001b[0;34m(\u001b[0m\u001b[0m_pool\u001b[0m\u001b[0;34m,\u001b[0m \u001b[0murl\u001b[0m\u001b[0;34m,\u001b[0m \u001b[0merror\u001b[0m \u001b[0;32mor\u001b[0m \u001b[0mResponseError\u001b[0m\u001b[0;34m(\u001b[0m\u001b[0mcause\u001b[0m\u001b[0;34m)\u001b[0m\u001b[0;34m)\u001b[0m\u001b[0;34m\u001b[0m\u001b[0;34m\u001b[0m\u001b[0m\n\u001b[0m\u001b[1;32m    437\u001b[0m \u001b[0;34m\u001b[0m\u001b[0m\n",
      "\u001b[0;31mMaxRetryError\u001b[0m: HTTPSConnectionPool(host='nominatim.openstreetmap.org', port=443): Max retries exceeded with url: /search?format=json&limit=1&dedupe=0&polygon_geojson=1&q=Beijing%2C+China (Caused by ConnectTimeoutError(<urllib3.connection.VerifiedHTTPSConnection object at 0x7f94ccd6c978>, 'Connection to nominatim.openstreetmap.org timed out. (connect timeout=30)'))",
      "\nDuring handling of the above exception, another exception occurred:\n",
      "\u001b[0;31mConnectTimeout\u001b[0m                            Traceback (most recent call last)",
      "\u001b[0;32m<ipython-input-55-0613d4b7add2>\u001b[0m in \u001b[0;36m<module>\u001b[0;34m\u001b[0m\n\u001b[1;32m      3\u001b[0m \u001b[0;34m\u001b[0m\u001b[0m\n\u001b[1;32m      4\u001b[0m \u001b[0;31m# Build a tessellation over the city\u001b[0m\u001b[0;34m\u001b[0m\u001b[0;34m\u001b[0m\u001b[0;34m\u001b[0m\u001b[0m\n\u001b[0;32m----> 5\u001b[0;31m \u001b[0mtessellation\u001b[0m \u001b[0;34m=\u001b[0m \u001b[0mtilers\u001b[0m\u001b[0;34m.\u001b[0m\u001b[0mtiler\u001b[0m\u001b[0;34m.\u001b[0m\u001b[0mget\u001b[0m\u001b[0;34m(\u001b[0m\u001b[0;34m\"squared\"\u001b[0m\u001b[0;34m,\u001b[0m \u001b[0mbase_shape\u001b[0m\u001b[0;34m=\u001b[0m\u001b[0;34m\"Beijing, China\"\u001b[0m\u001b[0;34m,\u001b[0m \u001b[0mmeters\u001b[0m\u001b[0;34m=\u001b[0m\u001b[0;36m15000\u001b[0m\u001b[0;34m)\u001b[0m\u001b[0;34m\u001b[0m\u001b[0;34m\u001b[0m\u001b[0m\n\u001b[0m",
      "\u001b[0;32m~/anaconda3/envs/test/lib/python3.7/site-packages/scikit_mobility-1.0-py3.7.egg/skmob/tessellation/tilers.py\u001b[0m in \u001b[0;36mget\u001b[0;34m(self, service_id, **kwargs)\u001b[0m\n\u001b[1;32m     29\u001b[0m     \u001b[0;32mdef\u001b[0m \u001b[0mget\u001b[0m\u001b[0;34m(\u001b[0m\u001b[0mself\u001b[0m\u001b[0;34m,\u001b[0m \u001b[0mservice_id\u001b[0m\u001b[0;34m,\u001b[0m \u001b[0;34m**\u001b[0m\u001b[0mkwargs\u001b[0m\u001b[0;34m)\u001b[0m\u001b[0;34m:\u001b[0m\u001b[0;34m\u001b[0m\u001b[0;34m\u001b[0m\u001b[0m\n\u001b[1;32m     30\u001b[0m \u001b[0;34m\u001b[0m\u001b[0m\n\u001b[0;32m---> 31\u001b[0;31m         \u001b[0;32mreturn\u001b[0m \u001b[0mself\u001b[0m\u001b[0;34m.\u001b[0m\u001b[0mcreate\u001b[0m\u001b[0;34m(\u001b[0m\u001b[0mservice_id\u001b[0m\u001b[0;34m,\u001b[0m \u001b[0;34m**\u001b[0m\u001b[0mkwargs\u001b[0m\u001b[0;34m)\u001b[0m\u001b[0;34m\u001b[0m\u001b[0;34m\u001b[0m\u001b[0m\n\u001b[0m\u001b[1;32m     32\u001b[0m \u001b[0;34m\u001b[0m\u001b[0m\n\u001b[1;32m     33\u001b[0m \u001b[0;34m\u001b[0m\u001b[0m\n",
      "\u001b[0;32m~/anaconda3/envs/test/lib/python3.7/site-packages/scikit_mobility-1.0-py3.7.egg/skmob/tessellation/tilers.py\u001b[0m in \u001b[0;36mcreate\u001b[0;34m(self, key, **kwargs)\u001b[0m\n\u001b[1;32m     25\u001b[0m             \u001b[0;32mraise\u001b[0m \u001b[0mValueError\u001b[0m\u001b[0;34m(\u001b[0m\u001b[0mkey\u001b[0m\u001b[0;34m)\u001b[0m\u001b[0;34m\u001b[0m\u001b[0;34m\u001b[0m\u001b[0m\n\u001b[1;32m     26\u001b[0m \u001b[0;34m\u001b[0m\u001b[0m\n\u001b[0;32m---> 27\u001b[0;31m         \u001b[0;32mreturn\u001b[0m \u001b[0mtiler\u001b[0m\u001b[0;34m(\u001b[0m\u001b[0;34m**\u001b[0m\u001b[0mkwargs\u001b[0m\u001b[0;34m)\u001b[0m\u001b[0;34m\u001b[0m\u001b[0;34m\u001b[0m\u001b[0m\n\u001b[0m\u001b[1;32m     28\u001b[0m \u001b[0;34m\u001b[0m\u001b[0m\n\u001b[1;32m     29\u001b[0m     \u001b[0;32mdef\u001b[0m \u001b[0mget\u001b[0m\u001b[0;34m(\u001b[0m\u001b[0mself\u001b[0m\u001b[0;34m,\u001b[0m \u001b[0mservice_id\u001b[0m\u001b[0;34m,\u001b[0m \u001b[0;34m**\u001b[0m\u001b[0mkwargs\u001b[0m\u001b[0;34m)\u001b[0m\u001b[0;34m:\u001b[0m\u001b[0;34m\u001b[0m\u001b[0;34m\u001b[0m\u001b[0m\n",
      "\u001b[0;32m~/anaconda3/envs/test/lib/python3.7/site-packages/scikit_mobility-1.0-py3.7.egg/skmob/tessellation/tilers.py\u001b[0m in \u001b[0;36m__call__\u001b[0;34m(self, base_shape, meters, crs, window_size)\u001b[0m\n\u001b[1;32m     91\u001b[0m             \u001b[0;32mif\u001b[0m \u001b[0misinstance\u001b[0m\u001b[0;34m(\u001b[0m\u001b[0mbase_shape\u001b[0m\u001b[0;34m,\u001b[0m \u001b[0mstr\u001b[0m\u001b[0;34m)\u001b[0m\u001b[0;34m:\u001b[0m\u001b[0;34m\u001b[0m\u001b[0;34m\u001b[0m\u001b[0m\n\u001b[1;32m     92\u001b[0m                 \u001b[0;31m# Try to obatain the base shape from OSMNX\u001b[0m\u001b[0;34m\u001b[0m\u001b[0;34m\u001b[0m\u001b[0;34m\u001b[0m\u001b[0m\n\u001b[0;32m---> 93\u001b[0;31m                 \u001b[0mbase_shape\u001b[0m \u001b[0;34m=\u001b[0m \u001b[0mutils\u001b[0m\u001b[0;34m.\u001b[0m\u001b[0mbbox_from_name\u001b[0m\u001b[0;34m(\u001b[0m\u001b[0mbase_shape\u001b[0m\u001b[0;34m)\u001b[0m\u001b[0;34m\u001b[0m\u001b[0;34m\u001b[0m\u001b[0m\n\u001b[0m\u001b[1;32m     94\u001b[0m \u001b[0;34m\u001b[0m\u001b[0m\n\u001b[1;32m     95\u001b[0m             \u001b[0;32melif\u001b[0m \u001b[0misinstance\u001b[0m\u001b[0;34m(\u001b[0m\u001b[0mbase_shape\u001b[0m\u001b[0;34m,\u001b[0m \u001b[0mgpd\u001b[0m\u001b[0;34m.\u001b[0m\u001b[0mGeoDataFrame\u001b[0m\u001b[0;34m)\u001b[0m \u001b[0;32mor\u001b[0m \u001b[0misinstance\u001b[0m\u001b[0;34m(\u001b[0m\u001b[0mbase_shape\u001b[0m\u001b[0;34m,\u001b[0m \u001b[0mgpd\u001b[0m\u001b[0;34m.\u001b[0m\u001b[0mGeoSeries\u001b[0m\u001b[0;34m)\u001b[0m\u001b[0;34m:\u001b[0m\u001b[0;34m\u001b[0m\u001b[0;34m\u001b[0m\u001b[0m\n",
      "\u001b[0;32m~/anaconda3/envs/test/lib/python3.7/site-packages/scikit_mobility-1.0-py3.7.egg/skmob/utils/utils.py\u001b[0m in \u001b[0;36mbbox_from_name\u001b[0;34m(area_name, crs)\u001b[0m\n\u001b[1;32m    204\u001b[0m \u001b[0;32mdef\u001b[0m \u001b[0mbbox_from_name\u001b[0m\u001b[0;34m(\u001b[0m\u001b[0marea_name\u001b[0m\u001b[0;34m,\u001b[0m \u001b[0mcrs\u001b[0m\u001b[0;34m=\u001b[0m\u001b[0;32mNone\u001b[0m\u001b[0;34m)\u001b[0m\u001b[0;34m:\u001b[0m\u001b[0;34m\u001b[0m\u001b[0;34m\u001b[0m\u001b[0m\n\u001b[1;32m    205\u001b[0m     \u001b[0;31m# Get the shape by using osmnx, it returns the shape in DEFAULT_CRS\u001b[0m\u001b[0;34m\u001b[0m\u001b[0;34m\u001b[0m\u001b[0;34m\u001b[0m\u001b[0m\n\u001b[0;32m--> 206\u001b[0;31m     \u001b[0mboundary\u001b[0m \u001b[0;34m=\u001b[0m \u001b[0mosmnx\u001b[0m\u001b[0;34m.\u001b[0m\u001b[0mgdf_from_place\u001b[0m\u001b[0;34m(\u001b[0m\u001b[0marea_name\u001b[0m\u001b[0;34m)\u001b[0m\u001b[0;34m\u001b[0m\u001b[0;34m\u001b[0m\u001b[0m\n\u001b[0m\u001b[1;32m    207\u001b[0m \u001b[0;34m\u001b[0m\u001b[0m\n\u001b[1;32m    208\u001b[0m     \u001b[0;32mif\u001b[0m \u001b[0misinstance\u001b[0m\u001b[0;34m(\u001b[0m\u001b[0mboundary\u001b[0m\u001b[0;34m.\u001b[0m\u001b[0mloc\u001b[0m\u001b[0;34m[\u001b[0m\u001b[0;36m0\u001b[0m\u001b[0;34m]\u001b[0m\u001b[0;34m[\u001b[0m\u001b[0;34m'geometry'\u001b[0m\u001b[0;34m]\u001b[0m\u001b[0;34m,\u001b[0m \u001b[0mshapely\u001b[0m\u001b[0;34m.\u001b[0m\u001b[0mgeometry\u001b[0m\u001b[0;34m.\u001b[0m\u001b[0mPoint\u001b[0m\u001b[0;34m)\u001b[0m\u001b[0;34m:\u001b[0m\u001b[0;34m\u001b[0m\u001b[0;34m\u001b[0m\u001b[0m\n",
      "\u001b[0;32m~/anaconda3/envs/test/lib/python3.7/site-packages/osmnx-0.10-py3.7.egg/osmnx/core.py\u001b[0m in \u001b[0;36mgdf_from_place\u001b[0;34m(query, gdf_name, which_result, buffer_dist)\u001b[0m\n\u001b[1;32m    442\u001b[0m \u001b[0;34m\u001b[0m\u001b[0m\n\u001b[1;32m    443\u001b[0m     \u001b[0;31m# get the data from OSM\u001b[0m\u001b[0;34m\u001b[0m\u001b[0;34m\u001b[0m\u001b[0;34m\u001b[0m\u001b[0m\n\u001b[0;32m--> 444\u001b[0;31m     \u001b[0mdata\u001b[0m \u001b[0;34m=\u001b[0m \u001b[0mosm_polygon_download\u001b[0m\u001b[0;34m(\u001b[0m\u001b[0mquery\u001b[0m\u001b[0;34m,\u001b[0m \u001b[0mlimit\u001b[0m\u001b[0;34m=\u001b[0m\u001b[0mwhich_result\u001b[0m\u001b[0;34m)\u001b[0m\u001b[0;34m\u001b[0m\u001b[0;34m\u001b[0m\u001b[0m\n\u001b[0m\u001b[1;32m    445\u001b[0m     \u001b[0;32mif\u001b[0m \u001b[0mlen\u001b[0m\u001b[0;34m(\u001b[0m\u001b[0mdata\u001b[0m\u001b[0;34m)\u001b[0m \u001b[0;34m>=\u001b[0m \u001b[0mwhich_result\u001b[0m\u001b[0;34m:\u001b[0m\u001b[0;34m\u001b[0m\u001b[0;34m\u001b[0m\u001b[0m\n\u001b[1;32m    446\u001b[0m \u001b[0;34m\u001b[0m\u001b[0m\n",
      "\u001b[0;32m~/anaconda3/envs/test/lib/python3.7/site-packages/osmnx-0.10-py3.7.egg/osmnx/core.py\u001b[0m in \u001b[0;36mosm_polygon_download\u001b[0;34m(query, limit, polygon_geojson)\u001b[0m\n\u001b[1;32m    410\u001b[0m \u001b[0;34m\u001b[0m\u001b[0m\n\u001b[1;32m    411\u001b[0m     \u001b[0;31m# request the URL, return the JSON\u001b[0m\u001b[0;34m\u001b[0m\u001b[0;34m\u001b[0m\u001b[0;34m\u001b[0m\u001b[0m\n\u001b[0;32m--> 412\u001b[0;31m     \u001b[0mresponse_json\u001b[0m \u001b[0;34m=\u001b[0m \u001b[0mnominatim_request\u001b[0m\u001b[0;34m(\u001b[0m\u001b[0mparams\u001b[0m\u001b[0;34m=\u001b[0m\u001b[0mparams\u001b[0m\u001b[0;34m,\u001b[0m \u001b[0mtimeout\u001b[0m\u001b[0;34m=\u001b[0m\u001b[0;36m30\u001b[0m\u001b[0;34m)\u001b[0m\u001b[0;34m\u001b[0m\u001b[0;34m\u001b[0m\u001b[0m\n\u001b[0m\u001b[1;32m    413\u001b[0m     \u001b[0;32mreturn\u001b[0m \u001b[0mresponse_json\u001b[0m\u001b[0;34m\u001b[0m\u001b[0;34m\u001b[0m\u001b[0m\n\u001b[1;32m    414\u001b[0m \u001b[0;34m\u001b[0m\u001b[0m\n",
      "\u001b[0;32m~/anaconda3/envs/test/lib/python3.7/site-packages/osmnx-0.10-py3.7.egg/osmnx/core.py\u001b[0m in \u001b[0;36mnominatim_request\u001b[0;34m(params, type, pause_duration, timeout, error_pause_duration)\u001b[0m\n\u001b[1;32m    266\u001b[0m         \u001b[0mstart_time\u001b[0m \u001b[0;34m=\u001b[0m \u001b[0mtime\u001b[0m\u001b[0;34m.\u001b[0m\u001b[0mtime\u001b[0m\u001b[0;34m(\u001b[0m\u001b[0;34m)\u001b[0m\u001b[0;34m\u001b[0m\u001b[0;34m\u001b[0m\u001b[0m\n\u001b[1;32m    267\u001b[0m         \u001b[0mlog\u001b[0m\u001b[0;34m(\u001b[0m\u001b[0;34m'Requesting {} with timeout={}'\u001b[0m\u001b[0;34m.\u001b[0m\u001b[0mformat\u001b[0m\u001b[0;34m(\u001b[0m\u001b[0mprepared_url\u001b[0m\u001b[0;34m,\u001b[0m \u001b[0mtimeout\u001b[0m\u001b[0;34m)\u001b[0m\u001b[0;34m)\u001b[0m\u001b[0;34m\u001b[0m\u001b[0;34m\u001b[0m\u001b[0m\n\u001b[0;32m--> 268\u001b[0;31m         \u001b[0mresponse\u001b[0m \u001b[0;34m=\u001b[0m \u001b[0mrequests\u001b[0m\u001b[0;34m.\u001b[0m\u001b[0mget\u001b[0m\u001b[0;34m(\u001b[0m\u001b[0murl\u001b[0m\u001b[0;34m,\u001b[0m \u001b[0mparams\u001b[0m\u001b[0;34m=\u001b[0m\u001b[0mparams\u001b[0m\u001b[0;34m,\u001b[0m \u001b[0mtimeout\u001b[0m\u001b[0;34m=\u001b[0m\u001b[0mtimeout\u001b[0m\u001b[0;34m,\u001b[0m \u001b[0mheaders\u001b[0m\u001b[0;34m=\u001b[0m\u001b[0mget_http_headers\u001b[0m\u001b[0;34m(\u001b[0m\u001b[0;34m)\u001b[0m\u001b[0;34m)\u001b[0m\u001b[0;34m\u001b[0m\u001b[0;34m\u001b[0m\u001b[0m\n\u001b[0m\u001b[1;32m    269\u001b[0m \u001b[0;34m\u001b[0m\u001b[0m\n\u001b[1;32m    270\u001b[0m         \u001b[0;31m# get the response size and the domain, log result\u001b[0m\u001b[0;34m\u001b[0m\u001b[0;34m\u001b[0m\u001b[0;34m\u001b[0m\u001b[0m\n",
      "\u001b[0;32m~/anaconda3/envs/test/lib/python3.7/site-packages/requests-2.22.0-py3.7.egg/requests/api.py\u001b[0m in \u001b[0;36mget\u001b[0;34m(url, params, **kwargs)\u001b[0m\n\u001b[1;32m     73\u001b[0m \u001b[0;34m\u001b[0m\u001b[0m\n\u001b[1;32m     74\u001b[0m     \u001b[0mkwargs\u001b[0m\u001b[0;34m.\u001b[0m\u001b[0msetdefault\u001b[0m\u001b[0;34m(\u001b[0m\u001b[0;34m'allow_redirects'\u001b[0m\u001b[0;34m,\u001b[0m \u001b[0;32mTrue\u001b[0m\u001b[0;34m)\u001b[0m\u001b[0;34m\u001b[0m\u001b[0;34m\u001b[0m\u001b[0m\n\u001b[0;32m---> 75\u001b[0;31m     \u001b[0;32mreturn\u001b[0m \u001b[0mrequest\u001b[0m\u001b[0;34m(\u001b[0m\u001b[0;34m'get'\u001b[0m\u001b[0;34m,\u001b[0m \u001b[0murl\u001b[0m\u001b[0;34m,\u001b[0m \u001b[0mparams\u001b[0m\u001b[0;34m=\u001b[0m\u001b[0mparams\u001b[0m\u001b[0;34m,\u001b[0m \u001b[0;34m**\u001b[0m\u001b[0mkwargs\u001b[0m\u001b[0;34m)\u001b[0m\u001b[0;34m\u001b[0m\u001b[0;34m\u001b[0m\u001b[0m\n\u001b[0m\u001b[1;32m     76\u001b[0m \u001b[0;34m\u001b[0m\u001b[0m\n\u001b[1;32m     77\u001b[0m \u001b[0;34m\u001b[0m\u001b[0m\n",
      "\u001b[0;32m~/anaconda3/envs/test/lib/python3.7/site-packages/requests-2.22.0-py3.7.egg/requests/api.py\u001b[0m in \u001b[0;36mrequest\u001b[0;34m(method, url, **kwargs)\u001b[0m\n\u001b[1;32m     58\u001b[0m     \u001b[0;31m# cases, and look like a memory leak in others.\u001b[0m\u001b[0;34m\u001b[0m\u001b[0;34m\u001b[0m\u001b[0;34m\u001b[0m\u001b[0m\n\u001b[1;32m     59\u001b[0m     \u001b[0;32mwith\u001b[0m \u001b[0msessions\u001b[0m\u001b[0;34m.\u001b[0m\u001b[0mSession\u001b[0m\u001b[0;34m(\u001b[0m\u001b[0;34m)\u001b[0m \u001b[0;32mas\u001b[0m \u001b[0msession\u001b[0m\u001b[0;34m:\u001b[0m\u001b[0;34m\u001b[0m\u001b[0;34m\u001b[0m\u001b[0m\n\u001b[0;32m---> 60\u001b[0;31m         \u001b[0;32mreturn\u001b[0m \u001b[0msession\u001b[0m\u001b[0;34m.\u001b[0m\u001b[0mrequest\u001b[0m\u001b[0;34m(\u001b[0m\u001b[0mmethod\u001b[0m\u001b[0;34m=\u001b[0m\u001b[0mmethod\u001b[0m\u001b[0;34m,\u001b[0m \u001b[0murl\u001b[0m\u001b[0;34m=\u001b[0m\u001b[0murl\u001b[0m\u001b[0;34m,\u001b[0m \u001b[0;34m**\u001b[0m\u001b[0mkwargs\u001b[0m\u001b[0;34m)\u001b[0m\u001b[0;34m\u001b[0m\u001b[0;34m\u001b[0m\u001b[0m\n\u001b[0m\u001b[1;32m     61\u001b[0m \u001b[0;34m\u001b[0m\u001b[0m\n\u001b[1;32m     62\u001b[0m \u001b[0;34m\u001b[0m\u001b[0m\n",
      "\u001b[0;32m~/anaconda3/envs/test/lib/python3.7/site-packages/requests-2.22.0-py3.7.egg/requests/sessions.py\u001b[0m in \u001b[0;36mrequest\u001b[0;34m(self, method, url, params, data, headers, cookies, files, auth, timeout, allow_redirects, proxies, hooks, stream, verify, cert, json)\u001b[0m\n\u001b[1;32m    531\u001b[0m         }\n\u001b[1;32m    532\u001b[0m         \u001b[0msend_kwargs\u001b[0m\u001b[0;34m.\u001b[0m\u001b[0mupdate\u001b[0m\u001b[0;34m(\u001b[0m\u001b[0msettings\u001b[0m\u001b[0;34m)\u001b[0m\u001b[0;34m\u001b[0m\u001b[0;34m\u001b[0m\u001b[0m\n\u001b[0;32m--> 533\u001b[0;31m         \u001b[0mresp\u001b[0m \u001b[0;34m=\u001b[0m \u001b[0mself\u001b[0m\u001b[0;34m.\u001b[0m\u001b[0msend\u001b[0m\u001b[0;34m(\u001b[0m\u001b[0mprep\u001b[0m\u001b[0;34m,\u001b[0m \u001b[0;34m**\u001b[0m\u001b[0msend_kwargs\u001b[0m\u001b[0;34m)\u001b[0m\u001b[0;34m\u001b[0m\u001b[0;34m\u001b[0m\u001b[0m\n\u001b[0m\u001b[1;32m    534\u001b[0m \u001b[0;34m\u001b[0m\u001b[0m\n\u001b[1;32m    535\u001b[0m         \u001b[0;32mreturn\u001b[0m \u001b[0mresp\u001b[0m\u001b[0;34m\u001b[0m\u001b[0;34m\u001b[0m\u001b[0m\n",
      "\u001b[0;32m~/anaconda3/envs/test/lib/python3.7/site-packages/requests-2.22.0-py3.7.egg/requests/sessions.py\u001b[0m in \u001b[0;36msend\u001b[0;34m(self, request, **kwargs)\u001b[0m\n\u001b[1;32m    644\u001b[0m \u001b[0;34m\u001b[0m\u001b[0m\n\u001b[1;32m    645\u001b[0m         \u001b[0;31m# Send the request\u001b[0m\u001b[0;34m\u001b[0m\u001b[0;34m\u001b[0m\u001b[0;34m\u001b[0m\u001b[0m\n\u001b[0;32m--> 646\u001b[0;31m         \u001b[0mr\u001b[0m \u001b[0;34m=\u001b[0m \u001b[0madapter\u001b[0m\u001b[0;34m.\u001b[0m\u001b[0msend\u001b[0m\u001b[0;34m(\u001b[0m\u001b[0mrequest\u001b[0m\u001b[0;34m,\u001b[0m \u001b[0;34m**\u001b[0m\u001b[0mkwargs\u001b[0m\u001b[0;34m)\u001b[0m\u001b[0;34m\u001b[0m\u001b[0;34m\u001b[0m\u001b[0m\n\u001b[0m\u001b[1;32m    647\u001b[0m \u001b[0;34m\u001b[0m\u001b[0m\n\u001b[1;32m    648\u001b[0m         \u001b[0;31m# Total elapsed time of the request (approximately)\u001b[0m\u001b[0;34m\u001b[0m\u001b[0;34m\u001b[0m\u001b[0;34m\u001b[0m\u001b[0m\n",
      "\u001b[0;32m~/anaconda3/envs/test/lib/python3.7/site-packages/requests-2.22.0-py3.7.egg/requests/adapters.py\u001b[0m in \u001b[0;36msend\u001b[0;34m(self, request, stream, timeout, verify, cert, proxies)\u001b[0m\n\u001b[1;32m    502\u001b[0m                 \u001b[0;31m# TODO: Remove this in 3.0.0: see #2811\u001b[0m\u001b[0;34m\u001b[0m\u001b[0;34m\u001b[0m\u001b[0;34m\u001b[0m\u001b[0m\n\u001b[1;32m    503\u001b[0m                 \u001b[0;32mif\u001b[0m \u001b[0;32mnot\u001b[0m \u001b[0misinstance\u001b[0m\u001b[0;34m(\u001b[0m\u001b[0me\u001b[0m\u001b[0;34m.\u001b[0m\u001b[0mreason\u001b[0m\u001b[0;34m,\u001b[0m \u001b[0mNewConnectionError\u001b[0m\u001b[0;34m)\u001b[0m\u001b[0;34m:\u001b[0m\u001b[0;34m\u001b[0m\u001b[0;34m\u001b[0m\u001b[0m\n\u001b[0;32m--> 504\u001b[0;31m                     \u001b[0;32mraise\u001b[0m \u001b[0mConnectTimeout\u001b[0m\u001b[0;34m(\u001b[0m\u001b[0me\u001b[0m\u001b[0;34m,\u001b[0m \u001b[0mrequest\u001b[0m\u001b[0;34m=\u001b[0m\u001b[0mrequest\u001b[0m\u001b[0;34m)\u001b[0m\u001b[0;34m\u001b[0m\u001b[0;34m\u001b[0m\u001b[0m\n\u001b[0m\u001b[1;32m    505\u001b[0m \u001b[0;34m\u001b[0m\u001b[0m\n\u001b[1;32m    506\u001b[0m             \u001b[0;32mif\u001b[0m \u001b[0misinstance\u001b[0m\u001b[0;34m(\u001b[0m\u001b[0me\u001b[0m\u001b[0;34m.\u001b[0m\u001b[0mreason\u001b[0m\u001b[0;34m,\u001b[0m \u001b[0mResponseError\u001b[0m\u001b[0;34m)\u001b[0m\u001b[0;34m:\u001b[0m\u001b[0;34m\u001b[0m\u001b[0;34m\u001b[0m\u001b[0m\n",
      "\u001b[0;31mConnectTimeout\u001b[0m: HTTPSConnectionPool(host='nominatim.openstreetmap.org', port=443): Max retries exceeded with url: /search?format=json&limit=1&dedupe=0&polygon_geojson=1&q=Beijing%2C+China (Caused by ConnectTimeoutError(<urllib3.connection.VerifiedHTTPSConnection object at 0x7f94ccd6c978>, 'Connection to nominatim.openstreetmap.org timed out. (connect timeout=30)'))"
     ]
    }
   ],
   "source": [
    "# Load trajectories (Beijing, China)\n",
    "tdf = skmob.TrajDataFrame.from_file('./data/geolife_sample.txt.gz', sep=',')\n",
    "\n",
    "# Build a tessellation over the city\n",
    "tessellation = tilers.tiler.get(\"squared\", base_shape=\"Beijing, China\", meters=15000)"
   ]
  },
  {
   "cell_type": "code",
   "execution_count": null,
   "metadata": {
    "slideshow": {
     "slide_type": "skip"
    }
   },
   "outputs": [],
   "source": [
    "tessellation.plot()"
   ]
  },
  {
   "cell_type": "code",
   "execution_count": null,
   "metadata": {
    "slideshow": {
     "slide_type": "skip"
    }
   },
   "outputs": [],
   "source": [
    "from skmob.utils import plot\n",
    "\n",
    "plot.plot_gdf(tessellation, popup_features=['tile_ID'])\n"
   ]
  },
  {
   "cell_type": "code",
   "execution_count": null,
   "metadata": {
    "slideshow": {
     "slide_type": "skip"
    }
   },
   "outputs": [],
   "source": [
    "tdf.head(3)"
   ]
  },
  {
   "cell_type": "code",
   "execution_count": null,
   "metadata": {
    "slideshow": {
     "slide_type": "skip"
    }
   },
   "outputs": [],
   "source": [
    "# remove_na enable removing points that are not contained in the tessellation\n",
    "fdf = tdf.to_flowdataframe(tessellation=tessellation, self_loops=True, remove_na=True)"
   ]
  },
  {
   "cell_type": "code",
   "execution_count": null,
   "metadata": {
    "slideshow": {
     "slide_type": "skip"
    }
   },
   "outputs": [],
   "source": [
    "import warnings\n",
    "warnings.filterwarnings('ignore')"
   ]
  }
 ],
 "metadata": {
  "anaconda-cloud": {},
  "celltoolbar": "Slideshow",
  "hide_input": false,
  "kernelspec": {
   "display_name": "Python 3",
   "language": "python",
   "name": "python3"
  },
  "language_info": {
   "codemirror_mode": {
    "name": "ipython",
    "version": 3
   },
   "file_extension": ".py",
   "mimetype": "text/x-python",
   "name": "python",
   "nbconvert_exporter": "python",
   "pygments_lexer": "ipython3",
   "version": "3.7.3"
  },
  "latex_envs": {
   "LaTeX_envs_menu_present": true,
   "autoclose": false,
   "autocomplete": true,
   "bibliofile": "biblio.bib",
   "cite_by": "apalike",
   "current_citInitial": 1,
   "eqLabelWithNumbers": true,
   "eqNumInitial": 1,
   "hotkeys": {
    "equation": "Ctrl-E",
    "itemize": "Ctrl-I"
   },
   "labels_anchors": false,
   "latex_user_defs": false,
   "report_style_numbering": true,
   "user_envs_cfg": false
  }
 },
 "nbformat": 4,
 "nbformat_minor": 1
}
